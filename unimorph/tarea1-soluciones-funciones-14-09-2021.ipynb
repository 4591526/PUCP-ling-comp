{
 "cells": [
  {
   "cell_type": "markdown",
   "id": "da0bd54e",
   "metadata": {},
   "source": [
    "### Algunos experimentos simples con datos de unimorph\n",
    "#### Mini introducción al procesamiento de varias lenguas"
   ]
  },
  {
   "cell_type": "code",
   "execution_count": 45,
   "id": "29e71e42",
   "metadata": {},
   "outputs": [],
   "source": [
    "## archivos en carpeta \"datos\"\n",
    "## ame: Yanesha\n",
    "## cni: Ashaninka\n",
    "## que: Quechua\n",
    "## aym: Aymara\n",
    "\n",
    "## usamos un poco de magia para leer los datos \n",
    "\n",
    "import pandas as pd\n",
    "\n",
    "## noten que especificamos la ruta\n",
    "## ame\n",
    "datos_ame = pd.read_csv('datos/ame', sep='\\t', header=None)\n",
    "datos_ame.columns = ['lemas','inflexiones','códigos']\n",
    "## cni\n",
    "datos_cni = pd.read_csv('datos/cni', sep='\\t', header=None)\n",
    "datos_cni.columns = ['lemas','inflexiones','códigos']\n",
    "## que\n",
    "datos_que = pd.read_csv('datos/que', sep='\\t', header=None)\n",
    "datos_que.columns = ['lemas','inflexiones','códigos']\n",
    "## aym\n",
    "datos_aym = pd.read_csv('datos/aym', sep='\\t', header=None)\n",
    "datos_aym.columns = ['lemas','inflexiones','códigos']\n",
    "\n",
    "## ¿Qué pasa si son muchos archivos? (ya lo veremos)"
   ]
  },
  {
   "cell_type": "code",
   "execution_count": 46,
   "id": "88cb0593",
   "metadata": {},
   "outputs": [],
   "source": [
    "## para simplificar nos quedamos solo con los verbos!\n",
    "\n",
    "## ame\n",
    "datos_ame = datos_ame[datos_ame['códigos'].str.startswith('V')]\n",
    "## cni\n",
    "datos_cni = datos_cni[datos_cni['códigos'].str.startswith('V')]\n",
    "## que\n",
    "datos_que = datos_que[datos_que['códigos'].str.startswith('V')]\n",
    "## aym\n",
    "datos_aym = datos_aym[datos_aym['códigos'].str.startswith('V')]"
   ]
  },
  {
   "cell_type": "code",
   "execution_count": 47,
   "id": "4c0b21b7",
   "metadata": {},
   "outputs": [
    {
     "data": {
      "text/html": [
       "<div>\n",
       "<style scoped>\n",
       "    .dataframe tbody tr th:only-of-type {\n",
       "        vertical-align: middle;\n",
       "    }\n",
       "\n",
       "    .dataframe tbody tr th {\n",
       "        vertical-align: top;\n",
       "    }\n",
       "\n",
       "    .dataframe thead th {\n",
       "        text-align: right;\n",
       "    }\n",
       "</style>\n",
       "<table border=\"1\" class=\"dataframe\">\n",
       "  <thead>\n",
       "    <tr style=\"text-align: right;\">\n",
       "      <th></th>\n",
       "      <th>lemas</th>\n",
       "      <th>inflexiones</th>\n",
       "      <th>códigos</th>\n",
       "    </tr>\n",
       "  </thead>\n",
       "  <tbody>\n",
       "    <tr>\n",
       "      <th>2</th>\n",
       "      <td>a'chenkateñets</td>\n",
       "      <td>a'chenkateñets</td>\n",
       "      <td>V;NFIN</td>\n",
       "    </tr>\n",
       "    <tr>\n",
       "      <th>3</th>\n",
       "      <td>achenkateñets</td>\n",
       "      <td>achenkateñets</td>\n",
       "      <td>V;NFIN</td>\n",
       "    </tr>\n",
       "    <tr>\n",
       "      <th>4</th>\n",
       "      <td>a'chenkateñets</td>\n",
       "      <td>a'chenkateñet</td>\n",
       "      <td>V;NO3P;FIN;REAL</td>\n",
       "    </tr>\n",
       "    <tr>\n",
       "      <th>5</th>\n",
       "      <td>achenkateñets</td>\n",
       "      <td>a'chenkateñet</td>\n",
       "      <td>V;NO3P;FIN;REAL</td>\n",
       "    </tr>\n",
       "    <tr>\n",
       "      <th>6</th>\n",
       "      <td>achenkateñets</td>\n",
       "      <td>a'chenkateñ</td>\n",
       "      <td>V;NO3;FIN;REAL</td>\n",
       "    </tr>\n",
       "    <tr>\n",
       "      <th>...</th>\n",
       "      <td>...</td>\n",
       "      <td>...</td>\n",
       "      <td>...</td>\n",
       "    </tr>\n",
       "    <tr>\n",
       "      <th>3762</th>\n",
       "      <td>yotteñets</td>\n",
       "      <td>seyottena</td>\n",
       "      <td>V;NO2P;FIN;REAL</td>\n",
       "    </tr>\n",
       "    <tr>\n",
       "      <th>3763</th>\n",
       "      <td>yotteñets</td>\n",
       "      <td>yeyottena</td>\n",
       "      <td>V;NO1P;FIN;REAL</td>\n",
       "    </tr>\n",
       "    <tr>\n",
       "      <th>3764</th>\n",
       "      <td>yotteñets</td>\n",
       "      <td>yottena</td>\n",
       "      <td>V;NO3;FIN;REAL</td>\n",
       "    </tr>\n",
       "    <tr>\n",
       "      <th>3765</th>\n",
       "      <td>yotteñets</td>\n",
       "      <td>yotteñets</td>\n",
       "      <td>V;NFIN</td>\n",
       "    </tr>\n",
       "    <tr>\n",
       "      <th>3766</th>\n",
       "      <td>yotteñets</td>\n",
       "      <td>yottenet</td>\n",
       "      <td>V;NO3P;FIN;REAL</td>\n",
       "    </tr>\n",
       "  </tbody>\n",
       "</table>\n",
       "<p>1328 rows × 3 columns</p>\n",
       "</div>"
      ],
      "text/plain": [
       "               lemas     inflexiones          códigos\n",
       "2     a'chenkateñets  a'chenkateñets           V;NFIN\n",
       "3      achenkateñets   achenkateñets           V;NFIN\n",
       "4     a'chenkateñets   a'chenkateñet  V;NO3P;FIN;REAL\n",
       "5      achenkateñets   a'chenkateñet  V;NO3P;FIN;REAL\n",
       "6      achenkateñets     a'chenkateñ   V;NO3;FIN;REAL\n",
       "...              ...             ...              ...\n",
       "3762       yotteñets       seyottena  V;NO2P;FIN;REAL\n",
       "3763       yotteñets       yeyottena  V;NO1P;FIN;REAL\n",
       "3764       yotteñets         yottena   V;NO3;FIN;REAL\n",
       "3765       yotteñets       yotteñets           V;NFIN\n",
       "3766       yotteñets        yottenet  V;NO3P;FIN;REAL\n",
       "\n",
       "[1328 rows x 3 columns]"
      ]
     },
     "execution_count": 47,
     "metadata": {},
     "output_type": "execute_result"
    }
   ],
   "source": [
    "## nuestros datos!!! Cada fila indica una forma original, una inflexión del verbo y las coordenadas de la inflexión.\n",
    "\n",
    "datos_ame"
   ]
  },
  {
   "cell_type": "code",
   "execution_count": 48,
   "id": "32a37f42",
   "metadata": {},
   "outputs": [
    {
     "data": {
      "text/html": [
       "<div>\n",
       "<style scoped>\n",
       "    .dataframe tbody tr th:only-of-type {\n",
       "        vertical-align: middle;\n",
       "    }\n",
       "\n",
       "    .dataframe tbody tr th {\n",
       "        vertical-align: top;\n",
       "    }\n",
       "\n",
       "    .dataframe thead th {\n",
       "        text-align: right;\n",
       "    }\n",
       "</style>\n",
       "<table border=\"1\" class=\"dataframe\">\n",
       "  <thead>\n",
       "    <tr style=\"text-align: right;\">\n",
       "      <th></th>\n",
       "      <th>lemas</th>\n",
       "      <th>inflexiones</th>\n",
       "      <th>códigos</th>\n",
       "    </tr>\n",
       "  </thead>\n",
       "  <tbody>\n",
       "    <tr>\n",
       "      <th>0</th>\n",
       "      <td>aabintaantsi</td>\n",
       "      <td>aabintaantsi</td>\n",
       "      <td>V;NFIN</td>\n",
       "    </tr>\n",
       "    <tr>\n",
       "      <th>1</th>\n",
       "      <td>aabintaantsi</td>\n",
       "      <td>aabintaje</td>\n",
       "      <td>V;NO1PI;PFV;FIN;IRR;LGSPEC2</td>\n",
       "    </tr>\n",
       "    <tr>\n",
       "      <th>2</th>\n",
       "      <td>aabintaantsi</td>\n",
       "      <td>aabintaje</td>\n",
       "      <td>V;NO3F;PFV;FIN;IRR;LGSPEC2</td>\n",
       "    </tr>\n",
       "    <tr>\n",
       "      <th>3</th>\n",
       "      <td>aabintaantsi</td>\n",
       "      <td>aabintaji</td>\n",
       "      <td>V;NO1PI;PFV;FIN;REAL;LGSPEC2</td>\n",
       "    </tr>\n",
       "    <tr>\n",
       "      <th>4</th>\n",
       "      <td>aabintaantsi</td>\n",
       "      <td>aabintaji</td>\n",
       "      <td>V;NO3F;PFV;FIN;REAL;LGSPEC2</td>\n",
       "    </tr>\n",
       "    <tr>\n",
       "      <th>...</th>\n",
       "      <td>...</td>\n",
       "      <td>...</td>\n",
       "      <td>...</td>\n",
       "    </tr>\n",
       "    <tr>\n",
       "      <th>20065</th>\n",
       "      <td>yotaantsi</td>\n",
       "      <td>piyotake</td>\n",
       "      <td>V;NO2;PFV;FIN;IRR;LGSPEC1</td>\n",
       "    </tr>\n",
       "    <tr>\n",
       "      <th>20066</th>\n",
       "      <td>yotaantsi</td>\n",
       "      <td>piyotake</td>\n",
       "      <td>V;NO2;PFV;FIN;REAL;LGSPEC1</td>\n",
       "    </tr>\n",
       "    <tr>\n",
       "      <th>20067</th>\n",
       "      <td>yotaantsi</td>\n",
       "      <td>piyote</td>\n",
       "      <td>V;NO2;FIN;IRR</td>\n",
       "    </tr>\n",
       "    <tr>\n",
       "      <th>20068</th>\n",
       "      <td>yotaantsi</td>\n",
       "      <td>piyoti</td>\n",
       "      <td>V;NO2;FIN;REAL</td>\n",
       "    </tr>\n",
       "    <tr>\n",
       "      <th>20069</th>\n",
       "      <td>yotaantsi</td>\n",
       "      <td>yotaantsi</td>\n",
       "      <td>V;NFIN</td>\n",
       "    </tr>\n",
       "  </tbody>\n",
       "</table>\n",
       "<p>5622 rows × 3 columns</p>\n",
       "</div>"
      ],
      "text/plain": [
       "              lemas   inflexiones                       códigos\n",
       "0      aabintaantsi  aabintaantsi                        V;NFIN\n",
       "1      aabintaantsi     aabintaje   V;NO1PI;PFV;FIN;IRR;LGSPEC2\n",
       "2      aabintaantsi     aabintaje    V;NO3F;PFV;FIN;IRR;LGSPEC2\n",
       "3      aabintaantsi     aabintaji  V;NO1PI;PFV;FIN;REAL;LGSPEC2\n",
       "4      aabintaantsi     aabintaji   V;NO3F;PFV;FIN;REAL;LGSPEC2\n",
       "...             ...           ...                           ...\n",
       "20065     yotaantsi      piyotake     V;NO2;PFV;FIN;IRR;LGSPEC1\n",
       "20066     yotaantsi      piyotake    V;NO2;PFV;FIN;REAL;LGSPEC1\n",
       "20067     yotaantsi        piyote                 V;NO2;FIN;IRR\n",
       "20068     yotaantsi        piyoti                V;NO2;FIN;REAL\n",
       "20069     yotaantsi     yotaantsi                        V;NFIN\n",
       "\n",
       "[5622 rows x 3 columns]"
      ]
     },
     "execution_count": 48,
     "metadata": {},
     "output_type": "execute_result"
    }
   ],
   "source": [
    "datos_cni"
   ]
  },
  {
   "cell_type": "code",
   "execution_count": 49,
   "id": "6cf8b778",
   "metadata": {},
   "outputs": [
    {
     "data": {
      "text/html": [
       "<div>\n",
       "<style scoped>\n",
       "    .dataframe tbody tr th:only-of-type {\n",
       "        vertical-align: middle;\n",
       "    }\n",
       "\n",
       "    .dataframe tbody tr th {\n",
       "        vertical-align: top;\n",
       "    }\n",
       "\n",
       "    .dataframe thead th {\n",
       "        text-align: right;\n",
       "    }\n",
       "</style>\n",
       "<table border=\"1\" class=\"dataframe\">\n",
       "  <thead>\n",
       "    <tr style=\"text-align: right;\">\n",
       "      <th></th>\n",
       "      <th>lemas</th>\n",
       "      <th>inflexiones</th>\n",
       "      <th>códigos</th>\n",
       "    </tr>\n",
       "  </thead>\n",
       "  <tbody>\n",
       "    <tr>\n",
       "      <th>256</th>\n",
       "      <td>achalachiy</td>\n",
       "      <td>achalachichunku</td>\n",
       "      <td>V;IMP;POS;3;PL</td>\n",
       "    </tr>\n",
       "    <tr>\n",
       "      <th>257</th>\n",
       "      <td>achalachiy</td>\n",
       "      <td>achalachichun</td>\n",
       "      <td>V;IMP;POS;3;SG</td>\n",
       "    </tr>\n",
       "    <tr>\n",
       "      <th>258</th>\n",
       "      <td>achalachiy</td>\n",
       "      <td>achalachina</td>\n",
       "      <td>V.PTCP;FUT</td>\n",
       "    </tr>\n",
       "    <tr>\n",
       "      <th>259</th>\n",
       "      <td>achalachiy</td>\n",
       "      <td>achalachinchik</td>\n",
       "      <td>V;PRS;1+INCL;PL</td>\n",
       "    </tr>\n",
       "    <tr>\n",
       "      <th>260</th>\n",
       "      <td>achalachiy</td>\n",
       "      <td>achalachini</td>\n",
       "      <td>V;PRS;1;SG</td>\n",
       "    </tr>\n",
       "    <tr>\n",
       "      <th>...</th>\n",
       "      <td>...</td>\n",
       "      <td>...</td>\n",
       "      <td>...</td>\n",
       "    </tr>\n",
       "    <tr>\n",
       "      <th>179743</th>\n",
       "      <td>yuyay</td>\n",
       "      <td>yuyasunchik</td>\n",
       "      <td>V;FUT;1+INCL;PL</td>\n",
       "    </tr>\n",
       "    <tr>\n",
       "      <th>179744</th>\n",
       "      <td>yuyay</td>\n",
       "      <td>yuyaychik</td>\n",
       "      <td>V;IMP;POS;2;PL</td>\n",
       "    </tr>\n",
       "    <tr>\n",
       "      <th>179763</th>\n",
       "      <td>yuyay</td>\n",
       "      <td>yuyayku</td>\n",
       "      <td>V;PRS;1+EXCL;PL</td>\n",
       "    </tr>\n",
       "    <tr>\n",
       "      <th>180001</th>\n",
       "      <td>yuyay</td>\n",
       "      <td>yuyay</td>\n",
       "      <td>V;IMP;POS;2;SG</td>\n",
       "    </tr>\n",
       "    <tr>\n",
       "      <th>180002</th>\n",
       "      <td>yuyay</td>\n",
       "      <td>yuyay</td>\n",
       "      <td>V;NFIN</td>\n",
       "    </tr>\n",
       "  </tbody>\n",
       "</table>\n",
       "<p>26404 rows × 3 columns</p>\n",
       "</div>"
      ],
      "text/plain": [
       "             lemas      inflexiones          códigos\n",
       "256     achalachiy  achalachichunku   V;IMP;POS;3;PL\n",
       "257     achalachiy    achalachichun   V;IMP;POS;3;SG\n",
       "258     achalachiy      achalachina       V.PTCP;FUT\n",
       "259     achalachiy   achalachinchik  V;PRS;1+INCL;PL\n",
       "260     achalachiy      achalachini       V;PRS;1;SG\n",
       "...            ...              ...              ...\n",
       "179743       yuyay      yuyasunchik  V;FUT;1+INCL;PL\n",
       "179744       yuyay        yuyaychik   V;IMP;POS;2;PL\n",
       "179763       yuyay          yuyayku  V;PRS;1+EXCL;PL\n",
       "180001       yuyay            yuyay   V;IMP;POS;2;SG\n",
       "180002       yuyay            yuyay           V;NFIN\n",
       "\n",
       "[26404 rows x 3 columns]"
      ]
     },
     "execution_count": 49,
     "metadata": {},
     "output_type": "execute_result"
    }
   ],
   "source": [
    "datos_que"
   ]
  },
  {
   "cell_type": "code",
   "execution_count": 50,
   "id": "8b9f6b58",
   "metadata": {},
   "outputs": [
    {
     "data": {
      "text/html": [
       "<div>\n",
       "<style scoped>\n",
       "    .dataframe tbody tr th:only-of-type {\n",
       "        vertical-align: middle;\n",
       "    }\n",
       "\n",
       "    .dataframe tbody tr th {\n",
       "        vertical-align: top;\n",
       "    }\n",
       "\n",
       "    .dataframe thead th {\n",
       "        text-align: right;\n",
       "    }\n",
       "</style>\n",
       "<table border=\"1\" class=\"dataframe\">\n",
       "  <thead>\n",
       "    <tr style=\"text-align: right;\">\n",
       "      <th></th>\n",
       "      <th>lemas</th>\n",
       "      <th>inflexiones</th>\n",
       "      <th>códigos</th>\n",
       "    </tr>\n",
       "  </thead>\n",
       "  <tbody>\n",
       "    <tr>\n",
       "      <th>0</th>\n",
       "      <td>ñach'a</td>\n",
       "      <td>ñach'iriksma</td>\n",
       "      <td>V;CF;PRS/PST+IMMED;1;SG;AC2</td>\n",
       "    </tr>\n",
       "    <tr>\n",
       "      <th>1</th>\n",
       "      <td>ñach'a</td>\n",
       "      <td>ñach'irikta</td>\n",
       "      <td>V;CF;PRS/PST+IMMED;1;SG;AC3</td>\n",
       "    </tr>\n",
       "    <tr>\n",
       "      <th>2</th>\n",
       "      <td>ñach'a</td>\n",
       "      <td>ñach'iriksta</td>\n",
       "      <td>V;CF;PRS/PST+IMMED;1;SG;AC3;FORM2</td>\n",
       "    </tr>\n",
       "    <tr>\n",
       "      <th>3</th>\n",
       "      <td>ñach'a</td>\n",
       "      <td>ñach'sña</td>\n",
       "      <td>V;CF;PRS/PST+IMMED;1+INCL;AC3</td>\n",
       "    </tr>\n",
       "    <tr>\n",
       "      <th>4</th>\n",
       "      <td>ñach'a</td>\n",
       "      <td>ñach'itasma</td>\n",
       "      <td>V;CF;PRS/PST+IMMED;2;SG;AC1</td>\n",
       "    </tr>\n",
       "    <tr>\n",
       "      <th>...</th>\n",
       "      <td>...</td>\n",
       "      <td>...</td>\n",
       "      <td>...</td>\n",
       "    </tr>\n",
       "    <tr>\n",
       "      <th>334937</th>\n",
       "      <td>yupayucha</td>\n",
       "      <td>yupayuchitayitu</td>\n",
       "      <td>V;PST+RMT;3;SG;AC1</td>\n",
       "    </tr>\n",
       "    <tr>\n",
       "      <th>334938</th>\n",
       "      <td>yupayucha</td>\n",
       "      <td>yupayuchataysitu</td>\n",
       "      <td>V;PST+RMT;3;SG;AC1+INCL</td>\n",
       "    </tr>\n",
       "    <tr>\n",
       "      <th>334939</th>\n",
       "      <td>yupayucha</td>\n",
       "      <td>yupayuchataytama</td>\n",
       "      <td>V;PST+RMT;3;SG;AC2</td>\n",
       "    </tr>\n",
       "    <tr>\n",
       "      <th>334940</th>\n",
       "      <td>yupayucha</td>\n",
       "      <td>yupayuchatayna</td>\n",
       "      <td>V;PST+RMT;3;SG;AC3</td>\n",
       "    </tr>\n",
       "    <tr>\n",
       "      <th>334941</th>\n",
       "      <td>yupayucha</td>\n",
       "      <td>yupayuchaña</td>\n",
       "      <td>V.MSDR</td>\n",
       "    </tr>\n",
       "  </tbody>\n",
       "</table>\n",
       "<p>119062 rows × 3 columns</p>\n",
       "</div>"
      ],
      "text/plain": [
       "            lemas       inflexiones                            códigos\n",
       "0          ñach'a      ñach'iriksma        V;CF;PRS/PST+IMMED;1;SG;AC2\n",
       "1          ñach'a       ñach'irikta        V;CF;PRS/PST+IMMED;1;SG;AC3\n",
       "2          ñach'a      ñach'iriksta  V;CF;PRS/PST+IMMED;1;SG;AC3;FORM2\n",
       "3          ñach'a          ñach'sña      V;CF;PRS/PST+IMMED;1+INCL;AC3\n",
       "4          ñach'a       ñach'itasma        V;CF;PRS/PST+IMMED;2;SG;AC1\n",
       "...           ...               ...                                ...\n",
       "334937  yupayucha   yupayuchitayitu                 V;PST+RMT;3;SG;AC1\n",
       "334938  yupayucha  yupayuchataysitu            V;PST+RMT;3;SG;AC1+INCL\n",
       "334939  yupayucha  yupayuchataytama                 V;PST+RMT;3;SG;AC2\n",
       "334940  yupayucha    yupayuchatayna                 V;PST+RMT;3;SG;AC3\n",
       "334941  yupayucha       yupayuchaña                             V.MSDR\n",
       "\n",
       "[119062 rows x 3 columns]"
      ]
     },
     "execution_count": 50,
     "metadata": {},
     "output_type": "execute_result"
    }
   ],
   "source": [
    "datos_aym"
   ]
  },
  {
   "cell_type": "code",
   "execution_count": 51,
   "id": "149e90f4",
   "metadata": {},
   "outputs": [],
   "source": [
    "## definamos conjuntos de lemas, inflexiones y códigos para cada lengua :)\n",
    "\n",
    "#### LEMAS ####\n",
    "## ame\n",
    "lemas_ame = list(datos_ame['lemas'])\n",
    "## cni\n",
    "lemas_cni = list(datos_cni['lemas'])\n",
    "## que\n",
    "lemas_que = list(datos_que['lemas'])\n",
    "## aym\n",
    "lemas_aym = list(datos_aym['lemas'])\n",
    "\n",
    "#### INFLEXIONES ####\n",
    "## ame\n",
    "inflexiones_ame = list(datos_ame['inflexiones'])\n",
    "## cni\n",
    "inflexiones_cni = list(datos_cni['inflexiones'])\n",
    "## que\n",
    "inflexiones_que = list(datos_que['inflexiones'])\n",
    "## aym\n",
    "inflexiones_aym = list(datos_aym['inflexiones'])\n",
    "\n",
    "#### CÓDIGOS ####\n",
    "## ame\n",
    "codigos_ame = list(datos_ame['códigos'])\n",
    "## cni\n",
    "codigos_cni = list(datos_cni['códigos'])\n",
    "## que\n",
    "codigos_que = list(datos_que['códigos'])\n",
    "## aym\n",
    "codigos_aym = list(datos_aym['códigos'])"
   ]
  },
  {
   "cell_type": "markdown",
   "id": "06b53681",
   "metadata": {},
   "source": [
    "Para cada lengua, identifiquemos el conjunto de lemas únicos"
   ]
  },
  {
   "cell_type": "code",
   "execution_count": 58,
   "id": "78d02341",
   "metadata": {},
   "outputs": [
    {
     "name": "stdout",
     "output_type": "stream",
     "text": [
      "La lengua Yanesha tiene 184 lemas verbales distintos etiquetados en Unimorph\n"
     ]
    }
   ],
   "source": [
    "## ame\n",
    "lemas_unicos_ame = []\n",
    "\n",
    "for lema in lemas_ame:\n",
    "    ## si elemento ya está en la lista formas_unicas, entonces no lo guardo\n",
    "    if lema not in lemas_unicos_ame:\n",
    "        lemas_unicos_ame += [lema]\n",
    "\n",
    "## miren el truco!\n",
    "#print('La lengua Yanesha tiene '+str(len(lemas_unicos_ame))+' lemas verbales distintos etiquetados en Unimorph')\n",
    "print('La lengua Yanesha tiene {} lemas verbales distintos etiquetados en Unimorph'.format(len(lemas_unicos_ame)))"
   ]
  },
  {
   "cell_type": "code",
   "execution_count": 59,
   "id": "65c91b5a",
   "metadata": {},
   "outputs": [
    {
     "name": "stdout",
     "output_type": "stream",
     "text": [
      "La lengua Ashaninka tiene 150 lemas verbales distintos etiquetados en Unimorph\n"
     ]
    }
   ],
   "source": [
    "## cni\n",
    "lemas_unicos_cni = []\n",
    "\n",
    "for lema in lemas_cni:\n",
    "    ## si elemento ya está en la lista formas_unicas, entonces no lo guardo\n",
    "    if lema not in lemas_unicos_cni:\n",
    "        lemas_unicos_cni += [lema]\n",
    "\n",
    "## miren el truco!\n",
    "print('La lengua Ashaninka tiene {} lemas verbales distintos etiquetados en Unimorph'.format(len(lemas_unicos_cni)))"
   ]
  },
  {
   "cell_type": "code",
   "execution_count": 60,
   "id": "ab576f63",
   "metadata": {},
   "outputs": [
    {
     "name": "stdout",
     "output_type": "stream",
     "text": [
      "La lengua Quechua tiene 644 lemas verbales distintos etiquetados en Unimorph\n"
     ]
    }
   ],
   "source": [
    "## que\n",
    "lemas_unicos_que = []\n",
    "\n",
    "for lema in lemas_que:\n",
    "    ## si elemento ya está en la lista formas_unicas, entonces no lo guardo\n",
    "    if lema not in lemas_unicos_que:\n",
    "        lemas_unicos_que += [lema]\n",
    "\n",
    "## miren el truco!\n",
    "print('La lengua Quechua tiene {} lemas verbales distintos etiquetados en Unimorph'.format(len(lemas_unicos_que)))"
   ]
  },
  {
   "cell_type": "code",
   "execution_count": 61,
   "id": "58289136",
   "metadata": {},
   "outputs": [
    {
     "name": "stdout",
     "output_type": "stream",
     "text": [
      "La lengua Aymara tiene 2018 lemas verbales distintos etiquetados en Unimorph\n"
     ]
    }
   ],
   "source": [
    "## aym\n",
    "lemas_unicos_aym = []\n",
    "\n",
    "for lema in lemas_aym:\n",
    "    ## si elemento ya está en la lista formas_unicas, entonces no lo guardo\n",
    "    if lema not in lemas_unicos_aym:\n",
    "        lemas_unicos_aym += [lema]\n",
    "\n",
    "## miren el truco!\n",
    "print('La lengua Aymara tiene {} lemas verbales distintos etiquetados en Unimorph'.format(len(lemas_unicos_aym)))"
   ]
  },
  {
   "cell_type": "code",
   "execution_count": 68,
   "id": "c512eca2",
   "metadata": {},
   "outputs": [],
   "source": [
    "## ¿y si queremos automatizar esto? Usemos funciones! es decir, el pedazo de código anterior lo transformamos en una función\n",
    "## reutilizable ¿Cómo lo hacemos?\n",
    "\n",
    "## primero, qué queremos hacer\n",
    "\n",
    "## dada una lista, queremos identificar los lemas únicos. Entonces,\n",
    "\n",
    "## recibimos una lista de lemas\n",
    "## entregamos una lista de lemas únicos\n",
    "\n",
    "def lemas_unicos(lista_lemas):\n",
    "    lista_lemas_unicos = []\n",
    "\n",
    "    for lema in lista_lemas:\n",
    "        ## si elemento ya está en la lista lista_lemas_unicos, entonces no lo guardo\n",
    "        if lema not in lista_lemas_unicos:\n",
    "            lista_lemas_unicos += [lema]\n",
    "    return lista_lemas_unicos"
   ]
  },
  {
   "cell_type": "code",
   "execution_count": 70,
   "id": "1d098076",
   "metadata": {},
   "outputs": [],
   "source": [
    "def amasb(a,b):\n",
    "    return a+b"
   ]
  },
  {
   "cell_type": "code",
   "execution_count": 71,
   "id": "ff4e6783",
   "metadata": {},
   "outputs": [
    {
     "data": {
      "text/plain": [
       "5"
      ]
     },
     "execution_count": 71,
     "metadata": {},
     "output_type": "execute_result"
    }
   ],
   "source": [
    "amasb(2,3)"
   ]
  },
  {
   "cell_type": "code",
   "execution_count": 72,
   "id": "f5973f89",
   "metadata": {},
   "outputs": [
    {
     "data": {
      "text/plain": [
       "2018"
      ]
     },
     "execution_count": 72,
     "metadata": {},
     "output_type": "execute_result"
    }
   ],
   "source": [
    "## probemos!\n",
    "\n",
    "len(lemas_unicos(lemas_aym))"
   ]
  },
  {
   "cell_type": "markdown",
   "id": "00a80a84",
   "metadata": {},
   "source": [
    "Ahora nos preguntamos, para cada lengua, cuántas inflexiones hay en promedio por lema distinto! Es decir, queremos el cuociente entre el número de inflexiones y el número de lemas distintos"
   ]
  },
  {
   "cell_type": "code",
   "execution_count": 74,
   "id": "820f57fe",
   "metadata": {},
   "outputs": [
    {
     "name": "stdout",
     "output_type": "stream",
     "text": [
      "En Unimorph, para la lengua Yanesha existen 7.217391304347826 inflexiones por lema\n",
      "En Unimorph, para la lengua Ashaninka existen 37.48 inflexiones por lema\n",
      "En Unimorph, para la lengua Quechua existen 41.0 inflexiones por lema\n",
      "En Unimorph, para la lengua Aymara existen 59.0 inflexiones por lema\n"
     ]
    }
   ],
   "source": [
    "## por ejemplo!\n",
    "\n",
    "## ame\n",
    "print('En Unimorph, para la lengua Yanesha existen {} inflexiones por lema'.format(len(inflexiones_ame)/len(lemas_unicos_ame)))\n",
    "## cni\n",
    "print('En Unimorph, para la lengua Ashaninka existen {} inflexiones por lema'.format(len(inflexiones_cni)/len(lemas_unicos_cni)))\n",
    "## que\n",
    "print('En Unimorph, para la lengua Quechua existen {} inflexiones por lema'.format(len(inflexiones_que)/len(lemas_unicos_que)))\n",
    "## aym\n",
    "print('En Unimorph, para la lengua Aymara existen {} inflexiones por lema'.format(len(inflexiones_aym)/len(lemas_unicos_aym)))"
   ]
  },
  {
   "cell_type": "markdown",
   "id": "27460afa",
   "metadata": {},
   "source": [
    "Hagamos una función que reciba una lista de inflexiones y una lista de lemas únicos!"
   ]
  },
  {
   "cell_type": "code",
   "execution_count": null,
   "id": "4d8c824e",
   "metadata": {},
   "outputs": [],
   "source": [
    "## quechua\n",
    "## largo de la lista de inflexiones: len(inflexiones_que)\n",
    "## lemas únicos en quechua: \n",
    "### len(lemas_unicos(lemas_que))\n",
    "### \n",
    "\n",
    "#lemas_unicos_que = []\n",
    "#\n",
    "#for lema in lemas_que:\n",
    "#    ## si elemento ya está en la lista formas_unicas, entonces no lo guardo\n",
    "#    if lema not in lemas_unicos_que:\n",
    "#        lemas_unicos_que += [lema]"
   ]
  },
  {
   "cell_type": "code",
   "execution_count": 75,
   "id": "a3693fae",
   "metadata": {},
   "outputs": [],
   "source": [
    "def inflexiones_por_lema(inflexiones,lista_lemas):\n",
    "    ## número de inflexiones\n",
    "    N = len(inflexiones)\n",
    "    ## número de lemas únicos\n",
    "    M = len(lemas_unicos(lista_lemas))\n",
    "    return N/M"
   ]
  },
  {
   "cell_type": "code",
   "execution_count": 79,
   "id": "23d583c8",
   "metadata": {},
   "outputs": [],
   "source": [
    "def inflexiones_por_lema(inflexiones,lista_lemas):\n",
    "    ## número de inflexiones\n",
    "    N = len(inflexiones)\n",
    "    ## número de lemas únicos\n",
    "    lemas_unicos = []\n",
    "\n",
    "    for lema in lista_lemas:\n",
    "    ## si elemento ya está en la lista formas_unicas, entonces no lo guardo\n",
    "        if lema not in lemas_unicos:\n",
    "            lemas_unicos += [lema]\n",
    "    M = len(lemas_unicos)\n",
    "    return N/M"
   ]
  },
  {
   "cell_type": "code",
   "execution_count": 81,
   "id": "20454878",
   "metadata": {},
   "outputs": [
    {
     "name": "stdout",
     "output_type": "stream",
     "text": [
      "59.0\n"
     ]
    }
   ],
   "source": [
    "## número de inflexiones\n",
    "N = len(inflexiones_aym)\n",
    "## número de lemas únicos\n",
    "lemas_unicos_aym = []\n",
    "#\n",
    "for lema in lemas_aym:\n",
    "## si elemento ya está en la lista formas_unicas, entonces no lo guardo\n",
    "    if lema not in lemas_unicos_aym:\n",
    "        lemas_unicos_aym += [lema]\n",
    "M = len(lemas_unicos_aym)\n",
    "print(N/M)"
   ]
  },
  {
   "cell_type": "code",
   "execution_count": 80,
   "id": "dc98918a",
   "metadata": {},
   "outputs": [
    {
     "data": {
      "text/plain": [
       "59.0"
      ]
     },
     "execution_count": 80,
     "metadata": {},
     "output_type": "execute_result"
    }
   ],
   "source": [
    "inflexiones_por_lema(inflexiones_aym,lemas_aym)"
   ]
  },
  {
   "cell_type": "markdown",
   "id": "db13e429",
   "metadata": {},
   "source": [
    "Algunas preguntas importantes!\n",
    "\n",
    "- ¿En promedio, cuántas etiquetas forman los códigos que definen las inflexiones (por ejemplo, \"V;NO2;FIN;REAL\" tiene 4 etiquetas)?\n",
    "- ¿Cuántas etiquetas que indican inflexión son usados por lengua (por ejemplo, V o PL)?"
   ]
  },
  {
   "cell_type": "code",
   "execution_count": null,
   "id": "cc4a4420",
   "metadata": {},
   "outputs": [],
   "source": []
  }
 ],
 "metadata": {
  "kernelspec": {
   "display_name": "Python 3 (ipykernel)",
   "language": "python",
   "name": "python3"
  },
  "language_info": {
   "codemirror_mode": {
    "name": "ipython",
    "version": 3
   },
   "file_extension": ".py",
   "mimetype": "text/x-python",
   "name": "python",
   "nbconvert_exporter": "python",
   "pygments_lexer": "ipython3",
   "version": "3.9.7"
  }
 },
 "nbformat": 4,
 "nbformat_minor": 5
}
