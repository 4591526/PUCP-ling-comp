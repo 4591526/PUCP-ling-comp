{
 "cells": [
  {
   "cell_type": "markdown",
   "id": "da0bd54e",
   "metadata": {},
   "source": [
    "### Algo sobre funciones!"
   ]
  },
  {
   "cell_type": "code",
   "execution_count": 1,
   "id": "29e71e42",
   "metadata": {},
   "outputs": [],
   "source": [
    "## que: Quechua\n",
    "\n",
    "import pandas as pd\n",
    "\n",
    "datos_que = pd.read_csv('datos/que', sep='\\t', header=None)\n",
    "datos_que.columns = ['lemas','inflexiones','códigos']"
   ]
  },
  {
   "cell_type": "code",
   "execution_count": 2,
   "id": "88cb0593",
   "metadata": {},
   "outputs": [],
   "source": [
    "## para simplificar nos quedamos solo con los verbos!\n",
    "\n",
    "## que\n",
    "datos_que = datos_que[datos_que['códigos'].str.startswith('V')]"
   ]
  },
  {
   "cell_type": "code",
   "execution_count": 3,
   "id": "6cf8b778",
   "metadata": {},
   "outputs": [
    {
     "data": {
      "text/html": [
       "<div>\n",
       "<style scoped>\n",
       "    .dataframe tbody tr th:only-of-type {\n",
       "        vertical-align: middle;\n",
       "    }\n",
       "\n",
       "    .dataframe tbody tr th {\n",
       "        vertical-align: top;\n",
       "    }\n",
       "\n",
       "    .dataframe thead th {\n",
       "        text-align: right;\n",
       "    }\n",
       "</style>\n",
       "<table border=\"1\" class=\"dataframe\">\n",
       "  <thead>\n",
       "    <tr style=\"text-align: right;\">\n",
       "      <th></th>\n",
       "      <th>lemas</th>\n",
       "      <th>inflexiones</th>\n",
       "      <th>códigos</th>\n",
       "    </tr>\n",
       "  </thead>\n",
       "  <tbody>\n",
       "    <tr>\n",
       "      <th>256</th>\n",
       "      <td>achalachiy</td>\n",
       "      <td>achalachichunku</td>\n",
       "      <td>V;IMP;POS;3;PL</td>\n",
       "    </tr>\n",
       "    <tr>\n",
       "      <th>257</th>\n",
       "      <td>achalachiy</td>\n",
       "      <td>achalachichun</td>\n",
       "      <td>V;IMP;POS;3;SG</td>\n",
       "    </tr>\n",
       "    <tr>\n",
       "      <th>258</th>\n",
       "      <td>achalachiy</td>\n",
       "      <td>achalachina</td>\n",
       "      <td>V.PTCP;FUT</td>\n",
       "    </tr>\n",
       "    <tr>\n",
       "      <th>259</th>\n",
       "      <td>achalachiy</td>\n",
       "      <td>achalachinchik</td>\n",
       "      <td>V;PRS;1+INCL;PL</td>\n",
       "    </tr>\n",
       "    <tr>\n",
       "      <th>260</th>\n",
       "      <td>achalachiy</td>\n",
       "      <td>achalachini</td>\n",
       "      <td>V;PRS;1;SG</td>\n",
       "    </tr>\n",
       "    <tr>\n",
       "      <th>...</th>\n",
       "      <td>...</td>\n",
       "      <td>...</td>\n",
       "      <td>...</td>\n",
       "    </tr>\n",
       "    <tr>\n",
       "      <th>179743</th>\n",
       "      <td>yuyay</td>\n",
       "      <td>yuyasunchik</td>\n",
       "      <td>V;FUT;1+INCL;PL</td>\n",
       "    </tr>\n",
       "    <tr>\n",
       "      <th>179744</th>\n",
       "      <td>yuyay</td>\n",
       "      <td>yuyaychik</td>\n",
       "      <td>V;IMP;POS;2;PL</td>\n",
       "    </tr>\n",
       "    <tr>\n",
       "      <th>179763</th>\n",
       "      <td>yuyay</td>\n",
       "      <td>yuyayku</td>\n",
       "      <td>V;PRS;1+EXCL;PL</td>\n",
       "    </tr>\n",
       "    <tr>\n",
       "      <th>180001</th>\n",
       "      <td>yuyay</td>\n",
       "      <td>yuyay</td>\n",
       "      <td>V;IMP;POS;2;SG</td>\n",
       "    </tr>\n",
       "    <tr>\n",
       "      <th>180002</th>\n",
       "      <td>yuyay</td>\n",
       "      <td>yuyay</td>\n",
       "      <td>V;NFIN</td>\n",
       "    </tr>\n",
       "  </tbody>\n",
       "</table>\n",
       "<p>26404 rows × 3 columns</p>\n",
       "</div>"
      ],
      "text/plain": [
       "             lemas      inflexiones          códigos\n",
       "256     achalachiy  achalachichunku   V;IMP;POS;3;PL\n",
       "257     achalachiy    achalachichun   V;IMP;POS;3;SG\n",
       "258     achalachiy      achalachina       V.PTCP;FUT\n",
       "259     achalachiy   achalachinchik  V;PRS;1+INCL;PL\n",
       "260     achalachiy      achalachini       V;PRS;1;SG\n",
       "...            ...              ...              ...\n",
       "179743       yuyay      yuyasunchik  V;FUT;1+INCL;PL\n",
       "179744       yuyay        yuyaychik   V;IMP;POS;2;PL\n",
       "179763       yuyay          yuyayku  V;PRS;1+EXCL;PL\n",
       "180001       yuyay            yuyay   V;IMP;POS;2;SG\n",
       "180002       yuyay            yuyay           V;NFIN\n",
       "\n",
       "[26404 rows x 3 columns]"
      ]
     },
     "execution_count": 3,
     "metadata": {},
     "output_type": "execute_result"
    }
   ],
   "source": [
    "datos_que"
   ]
  },
  {
   "cell_type": "code",
   "execution_count": 5,
   "id": "149e90f4",
   "metadata": {},
   "outputs": [],
   "source": [
    "## definamos conjuntos de lemas, inflexiones y códigos :)\n",
    "\n",
    "#### LEMAS ####\n",
    "lemas_que = list(datos_que['lemas'])\n",
    "\n",
    "#### INFLEXIONES ####\n",
    "inflexiones_que = list(datos_que['inflexiones'])\n",
    "\n",
    "#### CÓDIGOS ####\n",
    "codigos_que = list(datos_que['códigos'])"
   ]
  },
  {
   "cell_type": "markdown",
   "id": "06b53681",
   "metadata": {},
   "source": [
    "Datos!"
   ]
  },
  {
   "cell_type": "code",
   "execution_count": 6,
   "id": "78d02341",
   "metadata": {},
   "outputs": [],
   "source": [
    "## recorremos cualquiera de las listas, porque tienen el mismo largo\n",
    "## noten que el ciclo for es \"plano\"\n",
    "\n",
    "datos = [[lemas_que[i],inflexiones_que[i],codigos_que[i]] for i in range(len(lemas_que))]"
   ]
  },
  {
   "cell_type": "code",
   "execution_count": 7,
   "id": "60dc87e4",
   "metadata": {},
   "outputs": [
    {
     "data": {
      "text/plain": [
       "[['achalachiy', 'achalachichunku', 'V;IMP;POS;3;PL'],\n",
       " ['achalachiy', 'achalachichun', 'V;IMP;POS;3;SG'],\n",
       " ['achalachiy', 'achalachina', 'V.PTCP;FUT'],\n",
       " ['achalachiy', 'achalachinchik', 'V;PRS;1+INCL;PL'],\n",
       " ['achalachiy', 'achalachini', 'V;PRS;1;SG']]"
      ]
     },
     "execution_count": 7,
     "metadata": {},
     "output_type": "execute_result"
    }
   ],
   "source": [
    "datos[:5]"
   ]
  },
  {
   "cell_type": "markdown",
   "id": "cd5c6512",
   "metadata": {},
   "source": [
    "Es decir, dado un lema y un código, tenemos una inflexión! ¿Cómo podemos crear una **función** que calcule eso para cualquier par lema, inflexión?"
   ]
  },
  {
   "cell_type": "code",
   "execution_count": 9,
   "id": "e2626592",
   "metadata": {},
   "outputs": [],
   "source": [
    "## guardemos los lemas y los códigos\n",
    "\n",
    "lemas_codigos = [[item[0],item[2]] for item in datos]"
   ]
  },
  {
   "cell_type": "code",
   "execution_count": 12,
   "id": "893398d1",
   "metadata": {},
   "outputs": [
    {
     "data": {
      "text/plain": [
       "[['achalachiy', 'V;IMP;POS;3;PL'],\n",
       " ['achalachiy', 'V;IMP;POS;3;SG'],\n",
       " ['achalachiy', 'V.PTCP;FUT'],\n",
       " ['achalachiy', 'V;PRS;1+INCL;PL'],\n",
       " ['achalachiy', 'V;PRS;1;SG']]"
      ]
     },
     "execution_count": 12,
     "metadata": {},
     "output_type": "execute_result"
    }
   ],
   "source": [
    "lemas_codigos[:5]"
   ]
  },
  {
   "cell_type": "markdown",
   "id": "aa806399",
   "metadata": {},
   "source": [
    "Entonces, si sabemos la posición del par ['achalachiy', 'V.PTCP;FUT'], entonces sabremos en que posición de la lista inflexiones debemos mirar :)"
   ]
  },
  {
   "cell_type": "code",
   "execution_count": 13,
   "id": "7c4d35e4",
   "metadata": {},
   "outputs": [],
   "source": [
    "## inflexión!\n",
    "\n",
    "index = lemas_codigos.index(['achalachiy', 'V.PTCP;FUT'])"
   ]
  },
  {
   "cell_type": "code",
   "execution_count": 15,
   "id": "b4a598ce",
   "metadata": {},
   "outputs": [
    {
     "data": {
      "text/plain": [
       "'achalachina'"
      ]
     },
     "execution_count": 15,
     "metadata": {},
     "output_type": "execute_result"
    }
   ],
   "source": [
    "## solución!\n",
    "\n",
    "inflexiones_que[index]"
   ]
  },
  {
   "cell_type": "markdown",
   "id": "85595484",
   "metadata": {},
   "source": [
    "¿Qué necesitamos para construir la inflexión? En términos lingüísticos: lema + códigos; En términos computacionales: la posición del par ['achalachiy', 'V.PTCP;FUT'] en la lista **inflexiones**"
   ]
  },
  {
   "cell_type": "markdown",
   "id": "fb53d4d7",
   "metadata": {},
   "source": [
    "Construyamos una función. Las funciones en **Python** son un atajo de ciertas instrucciones. Con ellas, podemos reutilizar código, y también transformar problemas grandes en múltiples problemas pequeños, que podemos ir probando. "
   ]
  },
  {
   "cell_type": "code",
   "execution_count": 21,
   "id": "bce42e1c",
   "metadata": {},
   "outputs": [],
   "source": [
    "## una función!\n",
    "\n",
    "## indice: número entero (posición del par que nos interesa inflexionar)\n",
    "## inflexion: string (inflexión que buscamos)\n",
    "def inflexiones_quechua(indice):\n",
    "    ## buscamos en la lista inflexiones\n",
    "    inflexion = inflexiones_que[indice]\n",
    "    return inflexion"
   ]
  },
  {
   "cell_type": "code",
   "execution_count": 22,
   "id": "b6e7c1d8",
   "metadata": {},
   "outputs": [
    {
     "data": {
      "text/plain": [
       "'achalachichunku'"
      ]
     },
     "execution_count": 22,
     "metadata": {},
     "output_type": "execute_result"
    }
   ],
   "source": [
    "## probemos!\n",
    "\n",
    "inflexiones_quechua(0)"
   ]
  },
  {
   "cell_type": "code",
   "execution_count": 25,
   "id": "eaedbce0",
   "metadata": {},
   "outputs": [],
   "source": [
    "## una segunda función: ¿y si entregamos el lema y el código?\n",
    "\n",
    "## lema: string (lema verbal)\n",
    "## codigo: string (combinación de símbolos de inflexión)\n",
    "## inflexion: string (inflexión que buscamos)\n",
    "\n",
    "def inflexiones_quechua2(lema,codigo):\n",
    "    ## nuevamente buscamos el índice \n",
    "    index = lemas_codigos.index([lema, codigo])\n",
    "    ## buscamos en la lista inflexiones\n",
    "    inflexion = inflexiones_que[index]\n",
    "    return inflexion"
   ]
  },
  {
   "cell_type": "code",
   "execution_count": 28,
   "id": "ac1019ee",
   "metadata": {},
   "outputs": [
    {
     "data": {
      "text/plain": [
       "'achalachina'"
      ]
     },
     "execution_count": 28,
     "metadata": {},
     "output_type": "execute_result"
    }
   ],
   "source": [
    "inflexiones_quechua2('achalachiy', 'V.PTCP;FUT')"
   ]
  },
  {
   "cell_type": "code",
   "execution_count": null,
   "id": "091ff3c1",
   "metadata": {},
   "outputs": [],
   "source": []
  }
 ],
 "metadata": {
  "kernelspec": {
   "display_name": "Python 3",
   "language": "python",
   "name": "python3"
  },
  "language_info": {
   "codemirror_mode": {
    "name": "ipython",
    "version": 3
   },
   "file_extension": ".py",
   "mimetype": "text/x-python",
   "name": "python",
   "nbconvert_exporter": "python",
   "pygments_lexer": "ipython3",
   "version": "3.8.8"
  }
 },
 "nbformat": 4,
 "nbformat_minor": 5
}
