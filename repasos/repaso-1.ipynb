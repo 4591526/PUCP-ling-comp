{
 "cells": [
  {
   "cell_type": "markdown",
   "id": "d92e6809",
   "metadata": {},
   "source": [
    "## Repaso (muy breve) de **Python**"
   ]
  },
  {
   "cell_type": "markdown",
   "id": "818cc936",
   "metadata": {},
   "source": [
    "### 1. Elementos básicos"
   ]
  },
  {
   "cell_type": "markdown",
   "id": "bca326d4",
   "metadata": {},
   "source": [
    "En Python, diversas estructuras (números, listas, strings, entre otras) se nombran con **variables** (letras mayúsculas o minúsculas)"
   ]
  },
  {
   "cell_type": "code",
   "execution_count": 11,
   "id": "463b3f89",
   "metadata": {},
   "outputs": [],
   "source": [
    "a = 1"
   ]
  },
  {
   "cell_type": "code",
   "execution_count": 12,
   "id": "5c5e2be4",
   "metadata": {},
   "outputs": [],
   "source": [
    "B = ['a']"
   ]
  },
  {
   "cell_type": "markdown",
   "id": "a85bf13c",
   "metadata": {},
   "source": [
    "Lo crucial en esto es que los nombres (a o B) sirven para llamar a los valores que esos nombres almacenan. Es decir,"
   ]
  },
  {
   "cell_type": "code",
   "execution_count": 13,
   "id": "0019be7a",
   "metadata": {},
   "outputs": [
    {
     "data": {
      "text/plain": [
       "2"
      ]
     },
     "execution_count": 13,
     "metadata": {},
     "output_type": "execute_result"
    }
   ],
   "source": [
    "## Python internamente \"sabe\" que a es una variable número con valor 2:\n",
    "\n",
    "a*2"
   ]
  },
  {
   "cell_type": "code",
   "execution_count": 14,
   "id": "38c4c70e",
   "metadata": {},
   "outputs": [
    {
     "data": {
      "text/plain": [
       "1"
      ]
     },
     "execution_count": 14,
     "metadata": {},
     "output_type": "execute_result"
    }
   ],
   "source": [
    "## o bien, \"sabe\" que B es una lista con un elemento\n",
    "\n",
    "len(B)"
   ]
  },
  {
   "cell_type": "markdown",
   "id": "6ecd9e5c",
   "metadata": {},
   "source": [
    "Esto es importante! Las asignaciones de variables siempre se hacen de **derecha a izquierda**: lo que aparece al lado derecho de **=** se asigna como valor al nombre (o variable) que aparece al lado izquierdo de **=**."
   ]
  },
  {
   "cell_type": "markdown",
   "id": "2cb7ac32",
   "metadata": {},
   "source": [
    "### 2. Estructuras básicas"
   ]
  },
  {
   "cell_type": "markdown",
   "id": "b467b17c",
   "metadata": {},
   "source": [
    "**Python** permite manejar información a través de diversas estructuras predefinidas, que funcionan como las piezas de este juego."
   ]
  },
  {
   "cell_type": "markdown",
   "id": "55851b83",
   "metadata": {},
   "source": [
    "- **números** pueden ser enteros o decimales, y las operaciones clásicas están definidas. "
   ]
  },
  {
   "cell_type": "code",
   "execution_count": 17,
   "id": "262f1a8a",
   "metadata": {},
   "outputs": [
    {
     "data": {
      "text/plain": [
       "(4, 4, 1.0, 6.0)"
      ]
     },
     "execution_count": 17,
     "metadata": {},
     "output_type": "execute_result"
    }
   ],
   "source": [
    "2*2, 2+2, 2/2, 2*(2/2+2)"
   ]
  },
  {
   "cell_type": "markdown",
   "id": "8f9052ab",
   "metadata": {},
   "source": [
    "- **listas** estructuras ordenadas que permiten almacenar cualquier cosa. Podemos acceder a los elementos con un índice"
   ]
  },
  {
   "cell_type": "code",
   "execution_count": 18,
   "id": "2aceea8d",
   "metadata": {},
   "outputs": [],
   "source": [
    "A = ['rojo','verde','azul']"
   ]
  },
  {
   "cell_type": "code",
   "execution_count": 19,
   "id": "28608ce8",
   "metadata": {},
   "outputs": [
    {
     "data": {
      "text/plain": [
       "('rojo', 'verde', 'azul')"
      ]
     },
     "execution_count": 19,
     "metadata": {},
     "output_type": "execute_result"
    }
   ],
   "source": [
    "A[0],A[1],A[2]"
   ]
  },
  {
   "cell_type": "markdown",
   "id": "5ccf6814",
   "metadata": {},
   "source": [
    "el **índice** varía entre 0 y el largo de la lista menos 1!"
   ]
  },
  {
   "cell_type": "code",
   "execution_count": 20,
   "id": "cfcef7de",
   "metadata": {},
   "outputs": [
    {
     "data": {
      "text/plain": [
       "3"
      ]
     },
     "execution_count": 20,
     "metadata": {},
     "output_type": "execute_result"
    }
   ],
   "source": [
    "## largo de la lista\n",
    "\n",
    "len(A)"
   ]
  },
  {
   "cell_type": "markdown",
   "id": "f6ff7010",
   "metadata": {},
   "source": [
    "Podemos añadir elementos a una lista :)"
   ]
  },
  {
   "cell_type": "code",
   "execution_count": 21,
   "id": "f85f2fea",
   "metadata": {},
   "outputs": [],
   "source": [
    "A = A + ['amarillo']"
   ]
  },
  {
   "cell_type": "code",
   "execution_count": 22,
   "id": "f282a7c8",
   "metadata": {},
   "outputs": [
    {
     "data": {
      "text/plain": [
       "['rojo', 'verde', 'azul', 'amarillo']"
      ]
     },
     "execution_count": 22,
     "metadata": {},
     "output_type": "execute_result"
    }
   ],
   "source": [
    "A"
   ]
  },
  {
   "cell_type": "markdown",
   "id": "2b3143d5",
   "metadata": {},
   "source": [
    "Aquí es muy importante recordar que alrededor del signo **+** deben aparecer estructuras del mismo tipo: si queremos agregar un elemento a una lista, lo envolvemos en **[]**. También, debemos notar que la asignación primero resuelve lo que está a la izquierda de **=**, y luego reasigna el nombre **A** a una lista diferente (en forma), pero del mismo nombre (**A**). "
   ]
  },
  {
   "cell_type": "markdown",
   "id": "2671adfd",
   "metadata": {},
   "source": [
    "- **strings** secuencias de caracteres que permiten representar textos o palabras de una lengua. Se definen con comillas simples o dobles"
   ]
  },
  {
   "cell_type": "code",
   "execution_count": 24,
   "id": "68c39e5b",
   "metadata": {},
   "outputs": [],
   "source": [
    "s = 'hola'\n",
    "r = \"chao\""
   ]
  },
  {
   "cell_type": "code",
   "execution_count": 25,
   "id": "fd97759f",
   "metadata": {},
   "outputs": [
    {
     "data": {
      "text/plain": [
       "('hola', 'chao')"
      ]
     },
     "execution_count": 25,
     "metadata": {},
     "output_type": "execute_result"
    }
   ],
   "source": [
    "s, r"
   ]
  },
  {
   "cell_type": "markdown",
   "id": "2213ea58",
   "metadata": {},
   "source": [
    "Los strings (en algún sentido) son **listas!**"
   ]
  },
  {
   "cell_type": "code",
   "execution_count": 27,
   "id": "2e4d2a51",
   "metadata": {},
   "outputs": [
    {
     "data": {
      "text/plain": [
       "(4, 4)"
      ]
     },
     "execution_count": 27,
     "metadata": {},
     "output_type": "execute_result"
    }
   ],
   "source": [
    "len(s),len(r)"
   ]
  },
  {
   "cell_type": "code",
   "execution_count": 28,
   "id": "96dc9191",
   "metadata": {},
   "outputs": [
    {
     "data": {
      "text/plain": [
       "('h', 'o', 'l', 'a')"
      ]
     },
     "execution_count": 28,
     "metadata": {},
     "output_type": "execute_result"
    }
   ],
   "source": [
    "## incluso tienen posiciones a las cuales podemos acceder usando índices\n",
    "\n",
    "s[0],s[1],s[2],s[3]"
   ]
  },
  {
   "cell_type": "markdown",
   "id": "a5ec1bc6",
   "metadata": {},
   "source": [
    "Una función útil es split(), que transforma un string, en una lista de strings identificados según los espacios en blanco"
   ]
  },
  {
   "cell_type": "code",
   "execution_count": 29,
   "id": "ab6f9db3",
   "metadata": {},
   "outputs": [],
   "source": [
    "s = 'hola chao'"
   ]
  },
  {
   "cell_type": "code",
   "execution_count": 30,
   "id": "a4ac1f21",
   "metadata": {},
   "outputs": [
    {
     "data": {
      "text/plain": [
       "['hola', 'chao']"
      ]
     },
     "execution_count": 30,
     "metadata": {},
     "output_type": "execute_result"
    }
   ],
   "source": [
    "s.split()"
   ]
  },
  {
   "cell_type": "markdown",
   "id": "97f552ea",
   "metadata": {},
   "source": [
    "### 3. Iteraciones"
   ]
  },
  {
   "cell_type": "markdown",
   "id": "b8d5874e",
   "metadata": {},
   "source": [
    "En **Python**, como en muchos lenguajes de programación, podemos **iterar**, es decir, realizar tareas una candidad muchas veces grande de veces."
   ]
  },
  {
   "cell_type": "markdown",
   "id": "95211002",
   "metadata": {},
   "source": [
    "La herramienta fundamental para esto son los ciclos **for**. El asunto **fundamental!!!** de esto es los ciclos **for** son una forma de usar las **listas!!!**"
   ]
  },
  {
   "cell_type": "code",
   "execution_count": 36,
   "id": "29bf3160",
   "metadata": {},
   "outputs": [],
   "source": [
    "## Consideremos dos listas!\n",
    "\n",
    "A = ['azul','verde','rojo','amarillo']\n",
    "B = []\n",
    "\n",
    "## y la tarea es copiar los elementos de A en B ¿Cómo lo hacemos?"
   ]
  },
  {
   "cell_type": "markdown",
   "id": "8efeb661",
   "metadata": {},
   "source": [
    "Esencialmente, de **dos formas** equivalentes:\n",
    "\n",
    "o bien, recorremos los **índices** de los elementos de A\n",
    "\n",
    "o bien, recorremos los **elementos** de A"
   ]
  },
  {
   "cell_type": "code",
   "execution_count": 37,
   "id": "8f2c89fb",
   "metadata": {},
   "outputs": [],
   "source": [
    "## forma 1: índices!\n",
    "\n",
    "## recorremos los índices que están en range(len(A)), que son número entre 0 y len(A)-1\n",
    "for i in range(len(A)):\n",
    "    ## en cada paso, agregamos el elemento A[i] a B, con paréntesis []\n",
    "    B = B + [A[i]]"
   ]
  },
  {
   "cell_type": "code",
   "execution_count": 38,
   "id": "029cd6b4",
   "metadata": {},
   "outputs": [
    {
     "data": {
      "text/plain": [
       "['azul', 'verde', 'rojo', 'amarillo']"
      ]
     },
     "execution_count": 38,
     "metadata": {},
     "output_type": "execute_result"
    }
   ],
   "source": [
    "B"
   ]
  },
  {
   "cell_type": "code",
   "execution_count": 39,
   "id": "2d86052b",
   "metadata": {},
   "outputs": [],
   "source": [
    "B = []"
   ]
  },
  {
   "cell_type": "code",
   "execution_count": 40,
   "id": "8d87027f",
   "metadata": {},
   "outputs": [],
   "source": [
    "## forma 2: elementos!\n",
    "## recorremos los elementos de A\n",
    "for item in A:\n",
    "    ## en cada paso, agregamos el elemento item a B\n",
    "    B = B + [item]"
   ]
  },
  {
   "cell_type": "code",
   "execution_count": 41,
   "id": "035bf582",
   "metadata": {},
   "outputs": [
    {
     "data": {
      "text/plain": [
       "['azul', 'verde', 'rojo', 'amarillo']"
      ]
     },
     "execution_count": 41,
     "metadata": {},
     "output_type": "execute_result"
    }
   ],
   "source": [
    "B"
   ]
  },
  {
   "cell_type": "markdown",
   "id": "26c6647a",
   "metadata": {},
   "source": [
    "### 4. Estructuras lógicas"
   ]
  },
  {
   "cell_type": "markdown",
   "id": "c7f11287",
   "metadata": {},
   "source": [
    "En (casi) cualquier lenguaje de programación, hay maneras de expresar condiciones lógicas. Por ejemplo, ¿Qué pasa si solo queremos copiar los elementos de A, que no están contenidos en otra lista C? Usamos **if**"
   ]
  },
  {
   "cell_type": "code",
   "execution_count": 43,
   "id": "5d997c31",
   "metadata": {},
   "outputs": [],
   "source": [
    "A = ['el','gato','persigue','al','perro']\n",
    "C = ['el','al']\n",
    "B = []"
   ]
  },
  {
   "cell_type": "code",
   "execution_count": 44,
   "id": "17939306",
   "metadata": {},
   "outputs": [],
   "source": [
    "## recorremos los elementos de A\n",
    "for item in A:\n",
    "    ## establecemos la condición de que item NO esté en C\n",
    "    if item not in C:\n",
    "        B = B + [item]"
   ]
  },
  {
   "cell_type": "code",
   "execution_count": 45,
   "id": "7da05e04",
   "metadata": {},
   "outputs": [
    {
     "data": {
      "text/plain": [
       "['gato', 'persigue', 'perro']"
      ]
     },
     "execution_count": 45,
     "metadata": {},
     "output_type": "execute_result"
    }
   ],
   "source": [
    "B"
   ]
  },
  {
   "cell_type": "markdown",
   "id": "854e2f06",
   "metadata": {},
   "source": [
    "La condición **if** puede ir unida a otra muy común: **else**. Cuando usamos **if-else** tenemos una secuencia en donde si se cumple la condición del **if** pasa algo, y el cualquier otro caso (**else**) hacemos otra cosa. "
   ]
  },
  {
   "cell_type": "code",
   "execution_count": 46,
   "id": "88740202",
   "metadata": {},
   "outputs": [],
   "source": [
    "B = []"
   ]
  },
  {
   "cell_type": "code",
   "execution_count": 47,
   "id": "bb8ed0a5",
   "metadata": {},
   "outputs": [],
   "source": [
    "## recorremos los elementos de A\n",
    "for item in A:\n",
    "    ## establecemos la condición de que item NO esté en C\n",
    "    if item not in C:\n",
    "        B = B + [item]\n",
    "    else: ## o sea si item SÍ está en C\n",
    "        B = B + ['stopword']"
   ]
  },
  {
   "cell_type": "code",
   "execution_count": 48,
   "id": "327a6479",
   "metadata": {},
   "outputs": [
    {
     "data": {
      "text/plain": [
       "['stopword', 'gato', 'persigue', 'stopword', 'perro']"
      ]
     },
     "execution_count": 48,
     "metadata": {},
     "output_type": "execute_result"
    }
   ],
   "source": [
    "B"
   ]
  },
  {
   "cell_type": "code",
   "execution_count": null,
   "id": "977b082a",
   "metadata": {},
   "outputs": [],
   "source": []
  }
 ],
 "metadata": {
  "kernelspec": {
   "display_name": "Python 3",
   "language": "python",
   "name": "python3"
  },
  "language_info": {
   "codemirror_mode": {
    "name": "ipython",
    "version": 3
   },
   "file_extension": ".py",
   "mimetype": "text/x-python",
   "name": "python",
   "nbconvert_exporter": "python",
   "pygments_lexer": "ipython3",
   "version": "3.8.8"
  }
 },
 "nbformat": 4,
 "nbformat_minor": 5
}
