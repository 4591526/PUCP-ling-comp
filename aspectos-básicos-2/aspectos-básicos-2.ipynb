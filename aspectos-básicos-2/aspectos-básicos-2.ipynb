{
 "cells": [
  {
   "cell_type": "markdown",
   "metadata": {
    "id": "lje0LaD8Ptpw"
   },
   "source": [
    "# **Lingüística computacional 1LIN-11 2021-2**\n",
    "### Roberto Zariquiey Biondi, rzariquiey@pucp.edu.pe \n",
    "### Javier Vera Zúñiga, javier.vera@pucv.cl"
   ]
  },
  {
   "cell_type": "markdown",
   "metadata": {
    "id": "j6JsIVspPtqR"
   },
   "source": [
    "### Diccionarios en **Python!**\n",
    "Además de listas, una idea muy útil es trabajar con **diccionarios.** A **Python** le encantan los diccionarios. Esta estructura se define como esperamos que se defina: existen **keys** (las entradas del diccionario), y **values** (las definiciones). El aspecto **central** es el siguiente: los **diccionarios**, a diferencia de las **listas**, **no están ordenados!!!** Esta es una ventaja: si no asignamos posiciones, entonces no necesitamos un lugar en la memoria para este propósito. Por eso, usemos **diccionarios** cada vez que podamos :)"
   ]
  },
  {
   "cell_type": "code",
   "execution_count": 12,
   "metadata": {
    "executionInfo": {
     "elapsed": 246,
     "status": "ok",
     "timestamp": 1629576326416,
     "user": {
      "displayName": "Javier Maximiliano Vera Zuñiga",
      "photoUrl": "",
      "userId": "16439660197950043005"
     },
     "user_tz": 240
    },
    "id": "QpPbvPU0PtqR"
   },
   "outputs": [],
   "source": [
    "## definamos un diccionario vacío, usamos llaves \"{}\" en vez de \"[]\"\n",
    "\n",
    "D = {}"
   ]
  },
  {
   "cell_type": "code",
   "execution_count": 13,
   "metadata": {
    "colab": {
     "base_uri": "https://localhost:8080/"
    },
    "executionInfo": {
     "elapsed": 226,
     "status": "ok",
     "timestamp": 1629576378046,
     "user": {
      "displayName": "Javier Maximiliano Vera Zuñiga",
      "photoUrl": "",
      "userId": "16439660197950043005"
     },
     "user_tz": 240
    },
    "id": "RkxnuatKPtqR",
    "outputId": "6990f6b6-fd50-41fd-8efa-fdfbf6f8f5ce"
   },
   "outputs": [
    {
     "data": {
      "text/plain": [
       "{}"
      ]
     },
     "execution_count": 13,
     "metadata": {},
     "output_type": "execute_result"
    }
   ],
   "source": [
    "D"
   ]
  },
  {
   "cell_type": "code",
   "execution_count": 14,
   "metadata": {
    "colab": {
     "base_uri": "https://localhost:8080/",
     "height": 134
    },
    "executionInfo": {
     "elapsed": 230,
     "status": "error",
     "timestamp": 1629576365178,
     "user": {
      "displayName": "Javier Maximiliano Vera Zuñiga",
      "photoUrl": "",
      "userId": "16439660197950043005"
     },
     "user_tz": 240
    },
    "id": "YrYz9bQhPtqU",
    "outputId": "5b45096a-2ec7-43a7-ca74-1efe47603a56"
   },
   "outputs": [],
   "source": [
    "## ¿cómo agregamos elementos? Los diccionarios tienen keys y values (como entrada y definición)\n",
    "## los keys pueden ser (típicamente números o nombres). Los values pueden ser cualquier cosa :) Veamos!\n",
    "\n",
    "D = {1:'hola', 2:'chao'}"
   ]
  },
  {
   "cell_type": "code",
   "execution_count": 15,
   "metadata": {
    "colab": {
     "base_uri": "https://localhost:8080/"
    },
    "executionInfo": {
     "elapsed": 293,
     "status": "ok",
     "timestamp": 1629576410003,
     "user": {
      "displayName": "Javier Maximiliano Vera Zuñiga",
      "photoUrl": "",
      "userId": "16439660197950043005"
     },
     "user_tz": 240
    },
    "id": "TbsFd_FlUlh2",
    "outputId": "2ce7370a-0240-4c76-d619-4cd1d6610557"
   },
   "outputs": [
    {
     "data": {
      "text/plain": [
       "[1, 2]"
      ]
     },
     "execution_count": 15,
     "metadata": {},
     "output_type": "execute_result"
    }
   ],
   "source": [
    "## veamos qué hay adentro de D\n",
    "\n",
    "list(D.keys())"
   ]
  },
  {
   "cell_type": "code",
   "execution_count": 16,
   "metadata": {
    "colab": {
     "base_uri": "https://localhost:8080/"
    },
    "executionInfo": {
     "elapsed": 202,
     "status": "ok",
     "timestamp": 1629576424623,
     "user": {
      "displayName": "Javier Maximiliano Vera Zuñiga",
      "photoUrl": "",
      "userId": "16439660197950043005"
     },
     "user_tz": 240
    },
    "id": "kDesbt_sUsa2",
    "outputId": "a22a3260-797a-4c3b-cfa9-bc7648bffc7a"
   },
   "outputs": [
    {
     "data": {
      "text/plain": [
       "['hola', 'chao']"
      ]
     },
     "execution_count": 16,
     "metadata": {},
     "output_type": "execute_result"
    }
   ],
   "source": [
    "list(D.values())"
   ]
  },
  {
   "cell_type": "code",
   "execution_count": 17,
   "metadata": {
    "executionInfo": {
     "elapsed": 210,
     "status": "ok",
     "timestamp": 1629576454027,
     "user": {
      "displayName": "Javier Maximiliano Vera Zuñiga",
      "photoUrl": "",
      "userId": "16439660197950043005"
     },
     "user_tz": 240
    },
    "id": "-fnsYOp0PtqU"
   },
   "outputs": [],
   "source": [
    "## agreguemos un elemento! Es decir, un par key-value\n",
    "\n",
    "D[0]='hola'"
   ]
  },
  {
   "cell_type": "code",
   "execution_count": 18,
   "metadata": {
    "colab": {
     "base_uri": "https://localhost:8080/"
    },
    "executionInfo": {
     "elapsed": 206,
     "status": "ok",
     "timestamp": 1629576461429,
     "user": {
      "displayName": "Javier Maximiliano Vera Zuñiga",
      "photoUrl": "",
      "userId": "16439660197950043005"
     },
     "user_tz": 240
    },
    "id": "xm2M6SalU2mR",
    "outputId": "094e8ed5-44ff-4230-d4ed-f42228f374fc"
   },
   "outputs": [
    {
     "data": {
      "text/plain": [
       "{1: 'hola', 2: 'chao', 0: 'hola'}"
      ]
     },
     "execution_count": 18,
     "metadata": {},
     "output_type": "execute_result"
    }
   ],
   "source": [
    "D"
   ]
  },
  {
   "cell_type": "code",
   "execution_count": 19,
   "metadata": {
    "colab": {
     "base_uri": "https://localhost:8080/"
    },
    "executionInfo": {
     "elapsed": 226,
     "status": "ok",
     "timestamp": 1629576487605,
     "user": {
      "displayName": "Javier Maximiliano Vera Zuñiga",
      "photoUrl": "",
      "userId": "16439660197950043005"
     },
     "user_tz": 240
    },
    "id": "NTv1giKZPtqU",
    "outputId": "a071918c-f4be-433e-a4d6-07b9ba4455ff"
   },
   "outputs": [
    {
     "data": {
      "text/plain": [
       "[1, 2, 0]"
      ]
     },
     "execution_count": 19,
     "metadata": {},
     "output_type": "execute_result"
    }
   ],
   "source": [
    "## ahora, si miramos los keys y los values\n",
    "\n",
    "list(D.keys())"
   ]
  },
  {
   "cell_type": "code",
   "execution_count": 20,
   "metadata": {
    "colab": {
     "base_uri": "https://localhost:8080/"
    },
    "executionInfo": {
     "elapsed": 206,
     "status": "ok",
     "timestamp": 1629576498129,
     "user": {
      "displayName": "Javier Maximiliano Vera Zuñiga",
      "photoUrl": "",
      "userId": "16439660197950043005"
     },
     "user_tz": 240
    },
    "id": "_CBPn8V2PtqV",
    "outputId": "2097f4dd-3831-4fad-d871-ae02cafe5744"
   },
   "outputs": [
    {
     "data": {
      "text/plain": [
       "['hola', 'chao', 'hola']"
      ]
     },
     "execution_count": 20,
     "metadata": {},
     "output_type": "execute_result"
    }
   ],
   "source": [
    "list(D.values())"
   ]
  },
  {
   "cell_type": "code",
   "execution_count": 21,
   "metadata": {
    "colab": {
     "base_uri": "https://localhost:8080/"
    },
    "executionInfo": {
     "elapsed": 212,
     "status": "ok",
     "timestamp": 1629576528561,
     "user": {
      "displayName": "Javier Maximiliano Vera Zuñiga",
      "photoUrl": "",
      "userId": "16439660197950043005"
     },
     "user_tz": 240
    },
    "id": "3TMnP-5gPtqV",
    "outputId": "32c05cab-6e1f-4bb3-ba0a-c38e628f61ad"
   },
   "outputs": [
    {
     "name": "stdout",
     "output_type": "stream",
     "text": [
      "hola\n"
     ]
    }
   ],
   "source": [
    "## los diccionarios (a diferencia de las listas) NO tienen orden, solo entradas!\n",
    "\n",
    "print(D[0])"
   ]
  },
  {
   "cell_type": "code",
   "execution_count": 36,
   "metadata": {
    "id": "tDBl8pVIPtqW"
   },
   "outputs": [],
   "source": [
    "## un diccionario más en serio!\n",
    "## notemos que usamos un ciclo \"for\" en 1 dimensión para la definición de \"D\". Tal como en las listas, podemos definir \"D\"\n",
    "## en 1 dimensión\n",
    "\n",
    "D = {}"
   ]
  },
  {
   "cell_type": "code",
   "execution_count": 37,
   "metadata": {},
   "outputs": [
    {
     "data": {
      "text/plain": [
       "0"
      ]
     },
     "execution_count": 37,
     "metadata": {},
     "output_type": "execute_result"
    }
   ],
   "source": [
    "len(D)"
   ]
  },
  {
   "cell_type": "code",
   "execution_count": 38,
   "metadata": {},
   "outputs": [],
   "source": [
    "for i in range(10):#[0,1,2,3,4,5,6,7,8,9]:\n",
    "    D[i]=i+1"
   ]
  },
  {
   "cell_type": "code",
   "execution_count": 39,
   "metadata": {
    "id": "aezaLeywPtqW",
    "outputId": "81736c27-d94b-4d41-f046-9175b37e8b32"
   },
   "outputs": [
    {
     "data": {
      "text/plain": [
       "{0: 1, 1: 2, 2: 3, 3: 4, 4: 5, 5: 6, 6: 7, 7: 8, 8: 9, 9: 10}"
      ]
     },
     "execution_count": 39,
     "metadata": {},
     "output_type": "execute_result"
    }
   ],
   "source": [
    "D"
   ]
  },
  {
   "cell_type": "code",
   "execution_count": 40,
   "metadata": {
    "id": "khCrFqDfPtqX",
    "outputId": "c86712e9-3be4-4657-ef62-be1a24bad7f4"
   },
   "outputs": [
    {
     "data": {
      "text/plain": [
       "10"
      ]
     },
     "execution_count": 40,
     "metadata": {},
     "output_type": "execute_result"
    }
   ],
   "source": [
    "len(D)"
   ]
  },
  {
   "cell_type": "code",
   "execution_count": 41,
   "metadata": {
    "id": "b9joehR5PtqX"
   },
   "outputs": [],
   "source": [
    "D[0]=1"
   ]
  },
  {
   "cell_type": "code",
   "execution_count": 42,
   "metadata": {
    "id": "ddIFG3M7PtqX",
    "outputId": "7f3f8304-fa88-4cbb-ffcb-511ea8a3b922"
   },
   "outputs": [
    {
     "data": {
      "text/plain": [
       "{0: 1, 1: 2, 2: 3, 3: 4, 4: 5, 5: 6, 6: 7, 7: 8, 8: 9, 9: 10}"
      ]
     },
     "execution_count": 42,
     "metadata": {},
     "output_type": "execute_result"
    }
   ],
   "source": [
    "D"
   ]
  },
  {
   "cell_type": "code",
   "execution_count": 43,
   "metadata": {
    "id": "4uKSxBp8PtqY"
   },
   "outputs": [],
   "source": [
    "D[1]=2"
   ]
  },
  {
   "cell_type": "code",
   "execution_count": 44,
   "metadata": {
    "id": "eZe1SvdnPtqY",
    "outputId": "88e63ad8-8b1a-40d0-b07e-f76fdf2e1594"
   },
   "outputs": [
    {
     "data": {
      "text/plain": [
       "{0: 1, 1: 2, 2: 3, 3: 4, 4: 5, 5: 6, 6: 7, 7: 8, 8: 9, 9: 10}"
      ]
     },
     "execution_count": 44,
     "metadata": {},
     "output_type": "execute_result"
    }
   ],
   "source": [
    "D"
   ]
  },
  {
   "cell_type": "code",
   "execution_count": 46,
   "metadata": {},
   "outputs": [],
   "source": [
    "M = [5]*len(D)"
   ]
  },
  {
   "cell_type": "code",
   "execution_count": 47,
   "metadata": {
    "id": "67Ua8NeBPtqZ"
   },
   "outputs": [],
   "source": [
    "## ¿Qué ocurre?\n",
    "\n",
    "D={0:49355}\n",
    "for i in range(10):\n",
    "    D[i]=M[i]"
   ]
  },
  {
   "cell_type": "code",
   "execution_count": 48,
   "metadata": {
    "id": "GXrXbz2QPtqb",
    "outputId": "ce8985fb-cbba-454a-ae82-9c518a97d86a"
   },
   "outputs": [
    {
     "data": {
      "text/plain": [
       "{0: 5, 1: 5, 2: 5, 3: 5, 4: 5, 5: 5, 6: 5, 7: 5, 8: 5, 9: 5}"
      ]
     },
     "execution_count": 48,
     "metadata": {},
     "output_type": "execute_result"
    }
   ],
   "source": [
    "D"
   ]
  },
  {
   "cell_type": "code",
   "execution_count": 49,
   "metadata": {
    "id": "KFhAp6ckPtqd",
    "outputId": "34556aa1-32c3-425b-bbc0-dc8ffa7c4875"
   },
   "outputs": [
    {
     "data": {
      "text/plain": [
       "5"
      ]
     },
     "execution_count": 49,
     "metadata": {},
     "output_type": "execute_result"
    }
   ],
   "source": [
    "## no es la posición \"5\", sino es que la \"entrada\" o \"key\" 5!!!\n",
    "\n",
    "D[5]"
   ]
  },
  {
   "cell_type": "code",
   "execution_count": 50,
   "metadata": {
    "id": "y3ftwkixPtqd",
    "outputId": "b71f55ad-7c0b-4a59-b958-e7a9b55fb768"
   },
   "outputs": [
    {
     "name": "stdout",
     "output_type": "stream",
     "text": [
      "[0, 1, 2, 3, 4, 5, 6, 7, 8, 9]\n"
     ]
    }
   ],
   "source": [
    "## ¿Cómo extraemos los keys y values?\n",
    "\n",
    "## keys!\n",
    "\n",
    "keys = list(D.keys())\n",
    "print(keys)"
   ]
  },
  {
   "cell_type": "code",
   "execution_count": 51,
   "metadata": {
    "id": "3iW4J-9IPtqe",
    "outputId": "57c056e0-2f90-46ac-e1b4-7f3ef8cde61b"
   },
   "outputs": [
    {
     "name": "stdout",
     "output_type": "stream",
     "text": [
      "[5, 5, 5, 5, 5, 5, 5, 5, 5, 5]\n"
     ]
    }
   ],
   "source": [
    "## values!\n",
    "\n",
    "values = list(D.values())\n",
    "print(values)"
   ]
  },
  {
   "cell_type": "markdown",
   "metadata": {
    "id": "zxKF7Zn0Ptqg"
   },
   "source": [
    "##### ejercicio: contemos las palabras de un texto!"
   ]
  },
  {
   "cell_type": "code",
   "execution_count": 52,
   "metadata": {
    "id": "9xn84sMwPtqg"
   },
   "outputs": [],
   "source": [
    "## texto \n",
    "texto = 'El Mapuche también conocido como mapudungún del autoglotónimo mapudungun lengua de la tierra o araucano es el idioma de los mapuches un pueblo amerindio que habita los actuales países de Chile y Argentina Su número de hablantes activos se estima entre 100000 y 200000 y el número de hablantes pasivos en unas 100000 personas más Ha influido el léxico del español en su área de distribución y a su vez el suyo ha incorporado palabras del español y del quechua No ha sido clasificada satisfactoriamente y por el momento se la considera una lengua aislada'"
   ]
  },
  {
   "cell_type": "code",
   "execution_count": 53,
   "metadata": {
    "id": "tIoWsyIJPtqg"
   },
   "outputs": [],
   "source": [
    "## cosas de deberíamos hacer (simplificando las cosas)\n",
    "## 1. dividir en palabras (el espacio entre dos puntos en blanco)\n",
    "## 2. palabras en minúscula\n",
    "\n",
    "## Queda como lista!!!\n",
    "\n",
    "texto_split = texto.split()"
   ]
  },
  {
   "cell_type": "code",
   "execution_count": 54,
   "metadata": {
    "id": "HowlFwSmPtqh",
    "outputId": "435cf5e1-fa3e-476a-87a1-a71789f0181f"
   },
   "outputs": [
    {
     "data": {
      "text/plain": [
       "['El',\n",
       " 'Mapuche',\n",
       " 'también',\n",
       " 'conocido',\n",
       " 'como',\n",
       " 'mapudungún',\n",
       " 'del',\n",
       " 'autoglotónimo',\n",
       " 'mapudungun',\n",
       " 'lengua',\n",
       " 'de',\n",
       " 'la',\n",
       " 'tierra',\n",
       " 'o',\n",
       " 'araucano',\n",
       " 'es',\n",
       " 'el',\n",
       " 'idioma',\n",
       " 'de',\n",
       " 'los']"
      ]
     },
     "execution_count": 54,
     "metadata": {},
     "output_type": "execute_result"
    }
   ],
   "source": [
    "texto_split[:20]"
   ]
  },
  {
   "cell_type": "code",
   "execution_count": 55,
   "metadata": {
    "id": "DjNY8GvIPtqi",
    "outputId": "1717cef3-048c-4e9b-e24d-485bf59ed89a"
   },
   "outputs": [
    {
     "data": {
      "text/plain": [
       "['El',\n",
       " 'Mapuche',\n",
       " 'también',\n",
       " 'conocido',\n",
       " 'como',\n",
       " 'mapudungún',\n",
       " 'del',\n",
       " 'autoglotónimo',\n",
       " 'mapudungun',\n",
       " 'lengua']"
      ]
     },
     "execution_count": 55,
     "metadata": {},
     "output_type": "execute_result"
    }
   ],
   "source": [
    "## ¿Cómo queda \"text_split\"?\n",
    "\n",
    "texto_split[:10]"
   ]
  },
  {
   "cell_type": "code",
   "execution_count": 56,
   "metadata": {
    "id": "zZeMH3ojPtqj"
   },
   "outputs": [],
   "source": [
    "## veamos dos formas de poner las palabras en minúscula: en una línea o bi-dimensional!!!\n",
    "\n",
    "## 1 línea :)\n",
    "## en cada paso de ciclo, un elemento sucesivo de \"texto_split\" es llamado \"word\" y se agrega a la lista luego de aplicar\n",
    "## \"word.lower()\"\n",
    "\n",
    "texto_split_min = []\n",
    "for word in texto_split:\n",
    "    texto_split_min = texto_split_min + [word.lower()]"
   ]
  },
  {
   "cell_type": "code",
   "execution_count": 57,
   "metadata": {
    "id": "MYtyROWDPtql",
    "outputId": "5a147627-3719-4123-a1d7-b5e76be890b5"
   },
   "outputs": [
    {
     "data": {
      "text/plain": [
       "['el', 'mapuche', 'también', 'conocido', 'como']"
      ]
     },
     "execution_count": 57,
     "metadata": {},
     "output_type": "execute_result"
    }
   ],
   "source": [
    "texto_split_min[:5]"
   ]
  },
  {
   "cell_type": "code",
   "execution_count": 58,
   "metadata": {
    "id": "eC6ocmUmPtql"
   },
   "outputs": [],
   "source": [
    "## más de 1 línea :)\n",
    "## en cada paso del ciclo, un elemento sucesivo de \"texto_split\" es llamado \"palabra\". Luego, \"palabra.lower()\" es agregado a\n",
    "## la lista \"text_split_min\", que se define inicialmente vacía. \n",
    "text_split_min = []\n",
    "for palabra in texto_split:\n",
    "    text_split_min = text_split_min + [palabra.lower()]"
   ]
  },
  {
   "cell_type": "code",
   "execution_count": 59,
   "metadata": {
    "id": "3Lp96WxyPtqm",
    "outputId": "966f6db9-7255-448f-f35a-3bf8c3d410a7"
   },
   "outputs": [
    {
     "data": {
      "text/plain": [
       "['el', 'mapuche', 'también', 'conocido', 'como']"
      ]
     },
     "execution_count": 59,
     "metadata": {},
     "output_type": "execute_result"
    }
   ],
   "source": [
    "text_split_min[:5]"
   ]
  },
  {
   "cell_type": "code",
   "execution_count": 60,
   "metadata": {
    "id": "PAo7RpB_Ptqm"
   },
   "outputs": [],
   "source": [
    "## ¿Y si juntamos todo? :) Usemos funciones!!!\n",
    "\n",
    "## input: T es un string del corpus ...\n",
    "## output: listas de strings en minúscula\n",
    "def preparacion_texto(T):\n",
    "\n",
    "    texto_split = T.split()\n",
    "    texto_preparado = []\n",
    "    for palabra in texto_split:\n",
    "        texto_preparado = texto_preparado + [palabra.lower()]\n",
    "    return texto_preparado"
   ]
  },
  {
   "cell_type": "code",
   "execution_count": 61,
   "metadata": {
    "id": "XyFvYvMhPtqm"
   },
   "outputs": [],
   "source": [
    "A = preparacion_texto(texto)"
   ]
  },
  {
   "cell_type": "code",
   "execution_count": 62,
   "metadata": {
    "id": "OQJHyXkFPtqm",
    "outputId": "768348b8-b301-4935-85d6-92017966cd8c"
   },
   "outputs": [
    {
     "data": {
      "text/plain": [
       "['el',\n",
       " 'mapuche',\n",
       " 'también',\n",
       " 'conocido',\n",
       " 'como',\n",
       " 'mapudungún',\n",
       " 'del',\n",
       " 'autoglotónimo',\n",
       " 'mapudungun',\n",
       " 'lengua',\n",
       " 'de',\n",
       " 'la',\n",
       " 'tierra',\n",
       " 'o',\n",
       " 'araucano',\n",
       " 'es',\n",
       " 'el',\n",
       " 'idioma',\n",
       " 'de',\n",
       " 'los']"
      ]
     },
     "execution_count": 62,
     "metadata": {},
     "output_type": "execute_result"
    }
   ],
   "source": [
    "A[:20]"
   ]
  },
  {
   "cell_type": "markdown",
   "metadata": {
    "id": "AGd39HQePtqn"
   },
   "source": [
    "Desmenucemos un poco la **función** de más arriba. \n",
    "\n",
    "La primera línea\n",
    "```python\n",
    "def preparacion_texto(T):\n",
    "```\n",
    "tiene varios elementos: (1) **def**; (2) **preparacion_texto**; (3) **T**; y (4) **:**.\n",
    "1. **def**: otra palabra coloreada en **jupyter**) que funciona como indicador de que viene una función. \n",
    "2. **preparacion_texto** es el nombre de la función. Con este nombre, podemos reutilizarla más adelante.  \n",
    "3. **T** es el **input** de la función. Pueden ser uno o varios inputs. \n",
    "4. El signo **:** es imprescindible. Además, si apretamos **enter** luego de este signo, el salto de línea aparece automáticamente. \n",
    "\n",
    "La dos líneas siguientes \n",
    "```python\n",
    "texto_split = T.split(' ')\n",
    "texto_preparado = [word.lower() for word in texto_split]\n",
    "```\n",
    "son el cuerpo de la función: separamos por espacios en blanco y podemos en minúsculas. \n",
    "\n",
    "La línea final \n",
    "\n",
    "```python\n",
    "return texto_preparado\n",
    "```\n",
    "\n",
    "entrega el **output**. "
   ]
  },
  {
   "cell_type": "markdown",
   "metadata": {
    "id": "BOfuKu6FPtqn"
   },
   "source": [
    "##### mini-ejercicio 4: implemente funciones que hagan las siguientes cosas\n",
    "\n",
    "1. función **suma**: recibe un entero **n** y suma todos los números menores o iguales a **n**. No use la función **sum** :)\n",
    "2. función **2grama**: recibe un string **T** (un texto) y entrega todos los bigramas, es decir las secuencias de dos palabras sucesivas. \n",
    "3. función **ngrama**: recibe un string **T** (un texto) y entrega todos los ngramas, es decir las secuencias de n palabras sucesivas.  \n",
    "4. función **nostops**: recibe un string **T** (un texto) y una lista **S**. Entrega una lista de palabras que no aparezcan en **S**. \n",
    "5. función **alreves**: recibe un string **T** (un texto) y entrega una lista de strings ordenamos al revés. La última palabra primera, y así sucesivamente. Indicación: pueden usar índices negativos!"
   ]
  },
  {
   "cell_type": "code",
   "execution_count": 63,
   "metadata": {
    "id": "00V1CO-9Ptqn"
   },
   "outputs": [],
   "source": [
    "## usamos la función y le asignamos un nombre!\n",
    "\n",
    "texto = preparacion_texto(texto)"
   ]
  },
  {
   "cell_type": "code",
   "execution_count": 64,
   "metadata": {
    "id": "2lzAzXjtPtqo",
    "outputId": "7e8e13a4-f400-446f-d239-e0d4ecaf3f8e"
   },
   "outputs": [
    {
     "data": {
      "text/plain": [
       "['el',\n",
       " 'mapuche',\n",
       " 'también',\n",
       " 'conocido',\n",
       " 'como',\n",
       " 'mapudungún',\n",
       " 'del',\n",
       " 'autoglotónimo',\n",
       " 'mapudungun',\n",
       " 'lengua']"
      ]
     },
     "execution_count": 64,
     "metadata": {},
     "output_type": "execute_result"
    }
   ],
   "source": [
    "texto[:10]"
   ]
  },
  {
   "cell_type": "code",
   "execution_count": 65,
   "metadata": {
    "id": "WoFjaAecPtqo",
    "outputId": "73351bf5-44f8-41c7-8282-64d1ce6bec4d"
   },
   "outputs": [
    {
     "data": {
      "text/plain": [
       "95"
      ]
     },
     "execution_count": 65,
     "metadata": {},
     "output_type": "execute_result"
    }
   ],
   "source": [
    "len(texto)"
   ]
  },
  {
   "cell_type": "code",
   "execution_count": 66,
   "metadata": {
    "id": "Nt4T-7tXPtqp"
   },
   "outputs": [],
   "source": [
    "## Implementemos una función que identifique las palabras únicas de un texto (los types). \n",
    "\n",
    "## input: T es un string\n",
    "## output: lista de strings no repetidos\n",
    "palabras_unicas = []\n",
    "\n",
    "for palabra in texto:\n",
    "    if palabra not in palabras_unicas:\n",
    "        palabras_unicas = palabras_unicas + [palabra]\n",
    "    "
   ]
  },
  {
   "cell_type": "code",
   "execution_count": 67,
   "metadata": {
    "id": "kYDZ49uPPtqp",
    "outputId": "aeb6f85b-9c87-4274-c26b-4a2b1db7818c"
   },
   "outputs": [
    {
     "data": {
      "text/plain": [
       "64"
      ]
     },
     "execution_count": 67,
     "metadata": {},
     "output_type": "execute_result"
    }
   ],
   "source": [
    "len(palabras_unicas)"
   ]
  },
  {
   "cell_type": "code",
   "execution_count": 68,
   "metadata": {
    "id": "f3DlJGzCPtqp",
    "outputId": "3ba04770-b22e-4557-d77f-3f1d9ce468d8"
   },
   "outputs": [
    {
     "data": {
      "text/plain": [
       "0.6736842105263158"
      ]
     },
     "execution_count": 68,
     "metadata": {},
     "output_type": "execute_result"
    }
   ],
   "source": [
    "len(palabras_unicas)/len(texto)"
   ]
  },
  {
   "cell_type": "markdown",
   "metadata": {
    "id": "TZfi7WiqPtqq"
   },
   "source": [
    "###### mini-ejercicio 5: función diccionario_posiciones\n",
    "Esta **función** recibe un string **T** y entrega un diccionario de palabras únicas **D** (usando la función **conteo**), en donde los **values** son listas que indican las posiciones (en el texto dividido en palabras) en donde aparece cada **key**. Es decir, por ejemplo, \n",
    "\n",
    "```python\n",
    "D['el']\n",
    "```\n",
    "tener la forma\n",
    "\n",
    "```python\n",
    "[1,20]\n",
    "```"
   ]
  },
  {
   "cell_type": "code",
   "execution_count": 69,
   "metadata": {
    "id": "Elh5I5uTPtqr"
   },
   "outputs": [],
   "source": [
    "## ahora contemos palabras\n",
    "## hay muchas formas de hacerlo. Para los sofisticados (busquen \"Counter\" en la librería collections)\n",
    "## usemos una forma que utilice los conceptos que hemos aprendido\n",
    "\n",
    "palabras_unicas = []\n",
    "\n",
    "for palabra in texto:\n",
    "    if palabra not in palabras_unicas:\n",
    "        palabras_unicas += [palabra]"
   ]
  },
  {
   "cell_type": "code",
   "execution_count": 70,
   "metadata": {
    "id": "vbxiMRBIPtqt",
    "outputId": "7cd8a2f3-dcb5-489b-f72a-73dbe55d10a4"
   },
   "outputs": [
    {
     "data": {
      "text/plain": [
       "64"
      ]
     },
     "execution_count": 70,
     "metadata": {},
     "output_type": "execute_result"
    }
   ],
   "source": [
    "len(palabras_unicas)"
   ]
  },
  {
   "cell_type": "code",
   "execution_count": 71,
   "metadata": {
    "id": "KLm41otfPtqu"
   },
   "outputs": [],
   "source": [
    "## otra forma!\n",
    "\n",
    "palabras_unicas = []\n",
    "\n",
    "for palabra in texto:\n",
    "    if palabra not in palabras_unicas:\n",
    "        palabras_unicas.append(palabra)"
   ]
  },
  {
   "cell_type": "code",
   "execution_count": 72,
   "metadata": {
    "id": "cJLd260BPtqw",
    "outputId": "d11284cb-8dcb-4955-9d7e-4dd501803165"
   },
   "outputs": [
    {
     "data": {
      "text/plain": [
       "64"
      ]
     },
     "execution_count": 72,
     "metadata": {},
     "output_type": "execute_result"
    }
   ],
   "source": [
    "len(palabras_unicas)"
   ]
  },
  {
   "cell_type": "code",
   "execution_count": 73,
   "metadata": {
    "id": "frQf9pOFPtqw",
    "outputId": "adab025d-73bc-470a-b509-a9fb5c409861"
   },
   "outputs": [
    {
     "data": {
      "text/plain": [
       "64"
      ]
     },
     "execution_count": 73,
     "metadata": {},
     "output_type": "execute_result"
    }
   ],
   "source": [
    "len(palabras_unicas)"
   ]
  },
  {
   "cell_type": "code",
   "execution_count": 74,
   "metadata": {
    "id": "1tzB2quIPtqw",
    "outputId": "3db4bd1e-2c00-40d5-92eb-985f80586096"
   },
   "outputs": [
    {
     "name": "stdout",
     "output_type": "stream",
     "text": [
      "95\n",
      "64\n"
     ]
    }
   ],
   "source": [
    "## ¿Cuántas palabras?\n",
    "\n",
    "print(len(texto))\n",
    "print(len(palabras_unicas))"
   ]
  },
  {
   "cell_type": "code",
   "execution_count": 75,
   "metadata": {
    "id": "il3OqjYmPtqx"
   },
   "outputs": [],
   "source": [
    "## sigamos! ya que tenemos una manera de identificar las palabras no-repetidas de un texto, queremos definir un diccionario\n",
    "## de frecuencias. Comencemos con uno en donde los values son 0 :)\n",
    "\n",
    "D = {palabra:0 for palabra in palabras_unicas}"
   ]
  },
  {
   "cell_type": "code",
   "execution_count": 76,
   "metadata": {
    "id": "aq4q6Ba_Ptqx",
    "outputId": "8dd77efe-c1be-4b74-e55d-e0398b5cf16f"
   },
   "outputs": [
    {
     "data": {
      "text/plain": [
       "0"
      ]
     },
     "execution_count": 76,
     "metadata": {},
     "output_type": "execute_result"
    }
   ],
   "source": [
    "D['el']"
   ]
  },
  {
   "cell_type": "code",
   "execution_count": 77,
   "metadata": {
    "id": "0tHgt2LGPtqx"
   },
   "outputs": [],
   "source": [
    "## Idea!!! recorrer \"texto\" e ir sumando 1 cada que vez que aparece una palabra\n",
    "\n",
    "for palabra in texto:\n",
    "    \n",
    "    D[palabra] += 1"
   ]
  },
  {
   "cell_type": "code",
   "execution_count": 78,
   "metadata": {
    "id": "ivC4Ej7FPtqy",
    "outputId": "cc74053a-e1e0-4293-86d6-30bf286345eb"
   },
   "outputs": [
    {
     "data": {
      "text/plain": [
       "{'el': 6,\n",
       " 'mapuche': 1,\n",
       " 'también': 1,\n",
       " 'conocido': 1,\n",
       " 'como': 1,\n",
       " 'mapudungún': 1,\n",
       " 'del': 4,\n",
       " 'autoglotónimo': 1,\n",
       " 'mapudungun': 1,\n",
       " 'lengua': 2,\n",
       " 'de': 6,\n",
       " 'la': 2,\n",
       " 'tierra': 1,\n",
       " 'o': 1,\n",
       " 'araucano': 1,\n",
       " 'es': 1,\n",
       " 'idioma': 1,\n",
       " 'los': 2,\n",
       " 'mapuches': 1,\n",
       " 'un': 1,\n",
       " 'pueblo': 1,\n",
       " 'amerindio': 1,\n",
       " 'que': 1,\n",
       " 'habita': 1,\n",
       " 'actuales': 1,\n",
       " 'países': 1,\n",
       " 'chile': 1,\n",
       " 'y': 6,\n",
       " 'argentina': 1,\n",
       " 'su': 3,\n",
       " 'número': 2,\n",
       " 'hablantes': 2,\n",
       " 'activos': 1,\n",
       " 'se': 2,\n",
       " 'estima': 1,\n",
       " 'entre': 1,\n",
       " '100000': 2,\n",
       " '200000': 1,\n",
       " 'pasivos': 1,\n",
       " 'en': 2,\n",
       " 'unas': 1,\n",
       " 'personas': 1,\n",
       " 'más': 1,\n",
       " 'ha': 3,\n",
       " 'influido': 1,\n",
       " 'léxico': 1,\n",
       " 'español': 2,\n",
       " 'área': 1,\n",
       " 'distribución': 1,\n",
       " 'a': 1,\n",
       " 'vez': 1,\n",
       " 'suyo': 1,\n",
       " 'incorporado': 1,\n",
       " 'palabras': 1,\n",
       " 'quechua': 1,\n",
       " 'no': 1,\n",
       " 'sido': 1,\n",
       " 'clasificada': 1,\n",
       " 'satisfactoriamente': 1,\n",
       " 'por': 1,\n",
       " 'momento': 1,\n",
       " 'considera': 1,\n",
       " 'una': 1,\n",
       " 'aislada': 1}"
      ]
     },
     "execution_count": 78,
     "metadata": {},
     "output_type": "execute_result"
    }
   ],
   "source": [
    "D"
   ]
  },
  {
   "cell_type": "code",
   "execution_count": 79,
   "metadata": {
    "id": "T4DweV4PPtqy"
   },
   "outputs": [],
   "source": [
    "## ¿Y si juntamos todo? :) Usemos funciones!!!\n",
    "## ejercicio: crear una función que reciba un texto y entregue el diccionario D :)\n",
    "## otro ejercicio: crear una función que reciba un string y entregue los mismo que la función anterior.\n",
    "## indicación para el otro ejercicio: puede utilizar una función dentro de otra función :)"
   ]
  },
  {
   "cell_type": "code",
   "execution_count": 80,
   "metadata": {
    "id": "DjBl2g5XPtqy"
   },
   "outputs": [],
   "source": [
    "## definamos la función frecuencias :)\n",
    "\n",
    "## input: string T\n",
    "## output: diccionario de frecuencias D\n",
    "def frecuencias(T):\n",
    "    ## dividimos la función en tres partes:\n",
    "    ## 1. parte A: \"T\" es transformado a una lista de strings en minúscula \"texto_preparado\"\n",
    "    ## 2. parte B: identificamos las palabras únicas de \"texto_preparado\" y las guardamos en \"palabras_unicas\"\n",
    "    ## 3. parte C: construimos el diccionario de frecuencia usando los elementos de \"palabras_unicas\" como keys\n",
    "    \n",
    "    ## parte A\n",
    "    #texto_tokenizado = preparacion_texto(T) ## usamos la función previa \"preparacion_texto\"\n",
    "    ## dividimos en palabras\n",
    "    texto_tokenizado = T.split(' ')\n",
    "    ## palabras en minúsculas ## en 2D!!!\n",
    "    texto_tokenizado = [palabra.lower() for palabra in texto_tokenizado if palabra not in list('``!\"#$%&\\¿()*+,-./:;<=>?@[\\\\]_{|}')]\n",
    "    \n",
    "    ## parte B\n",
    "    ## iniciamos con una lista vacía\n",
    "    palabras_unicas = []\n",
    "    ## recorremos el texto_tokenizado\n",
    "    for palabra in texto_tokenizado:\n",
    "        ## si una palabra no está, entonces la agregamos :)\n",
    "        if palabra not in palabras_unicas:\n",
    "            palabras_unicas.append(palabra)\n",
    "    \n",
    "    ## parte C\n",
    "    ## diccionado de frecuencias iniciado con ceros\n",
    "    D = {palabra:0 for palabra in palabras_unicas}\n",
    "    ## recorremos texto_tokenizado y sumamos 1 cada vez que aparece una palabra\n",
    "    for palabra in texto_tokenizado:\n",
    "        D[palabra] += 1\n",
    "    \n",
    "    return D"
   ]
  },
  {
   "cell_type": "code",
   "execution_count": 81,
   "metadata": {
    "id": "Q165qHtHPtqz"
   },
   "outputs": [],
   "source": [
    "texto = 'El Mapuche también conocido como mapudungún del autoglotónimo mapudungun lengua de la tierra o araucano es el idioma de los mapuches un pueblo amerindio que habita los actuales países de Chile y Argentina Su número de hablantes activos se estima entre 100000 y 200000 y el número de hablantes pasivos en unas 100000 personas más Ha influido el léxico del español en su área de distribución y a su vez el suyo ha incorporado palabras del español y del quechua No ha sido clasificada satisfactoriamente y por el momento se la considera una lengua aislada'"
   ]
  },
  {
   "cell_type": "code",
   "execution_count": 82,
   "metadata": {
    "id": "LvAydaWVPtqz"
   },
   "outputs": [],
   "source": [
    "freq_example = frecuencias(texto)"
   ]
  },
  {
   "cell_type": "code",
   "execution_count": 83,
   "metadata": {
    "id": "K7cUBbtLPtqz",
    "outputId": "a87e8be1-572b-4cf7-de06-b92804e5139e"
   },
   "outputs": [
    {
     "data": {
      "text/plain": [
       "{'el': 6,\n",
       " 'mapuche': 1,\n",
       " 'también': 1,\n",
       " 'conocido': 1,\n",
       " 'como': 1,\n",
       " 'mapudungún': 1,\n",
       " 'del': 4,\n",
       " 'autoglotónimo': 1,\n",
       " 'mapudungun': 1,\n",
       " 'lengua': 2,\n",
       " 'de': 6,\n",
       " 'la': 2,\n",
       " 'tierra': 1,\n",
       " 'o': 1,\n",
       " 'araucano': 1,\n",
       " 'es': 1,\n",
       " 'idioma': 1,\n",
       " 'los': 2,\n",
       " 'mapuches': 1,\n",
       " 'un': 1,\n",
       " 'pueblo': 1,\n",
       " 'amerindio': 1,\n",
       " 'que': 1,\n",
       " 'habita': 1,\n",
       " 'actuales': 1,\n",
       " 'países': 1,\n",
       " 'chile': 1,\n",
       " 'y': 6,\n",
       " 'argentina': 1,\n",
       " 'su': 3,\n",
       " 'número': 2,\n",
       " 'hablantes': 2,\n",
       " 'activos': 1,\n",
       " 'se': 2,\n",
       " 'estima': 1,\n",
       " 'entre': 1,\n",
       " '100000': 2,\n",
       " '200000': 1,\n",
       " 'pasivos': 1,\n",
       " 'en': 2,\n",
       " 'unas': 1,\n",
       " 'personas': 1,\n",
       " 'más': 1,\n",
       " 'ha': 3,\n",
       " 'influido': 1,\n",
       " 'léxico': 1,\n",
       " 'español': 2,\n",
       " 'área': 1,\n",
       " 'distribución': 1,\n",
       " 'a': 1,\n",
       " 'vez': 1,\n",
       " 'suyo': 1,\n",
       " 'incorporado': 1,\n",
       " 'palabras': 1,\n",
       " 'quechua': 1,\n",
       " 'no': 1,\n",
       " 'sido': 1,\n",
       " 'clasificada': 1,\n",
       " 'satisfactoriamente': 1,\n",
       " 'por': 1,\n",
       " 'momento': 1,\n",
       " 'considera': 1,\n",
       " 'una': 1,\n",
       " 'aislada': 1}"
      ]
     },
     "execution_count": 83,
     "metadata": {},
     "output_type": "execute_result"
    }
   ],
   "source": [
    "freq_example"
   ]
  },
  {
   "cell_type": "code",
   "execution_count": null,
   "metadata": {
    "id": "G9GOkjiPPtqz"
   },
   "outputs": [],
   "source": []
  },
  {
   "cell_type": "code",
   "execution_count": null,
   "metadata": {
    "id": "_4uYLPGXPtq0"
   },
   "outputs": [],
   "source": []
  }
 ],
 "metadata": {
  "colab": {
   "name": "clase-2.ipynb",
   "provenance": []
  },
  "kernelspec": {
   "display_name": "Python 3",
   "language": "python",
   "name": "python3"
  },
  "language_info": {
   "codemirror_mode": {
    "name": "ipython",
    "version": 3
   },
   "file_extension": ".py",
   "mimetype": "text/x-python",
   "name": "python",
   "nbconvert_exporter": "python",
   "pygments_lexer": "ipython3",
   "version": "3.8.8"
  }
 },
 "nbformat": 4,
 "nbformat_minor": 1
}
