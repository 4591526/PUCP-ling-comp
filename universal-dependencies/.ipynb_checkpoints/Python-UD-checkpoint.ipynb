{
 "cells": [
  {
   "cell_type": "markdown",
   "id": "615baa43",
   "metadata": {},
   "source": [
    "## Universal dependencies!\n",
    "### Notas sobre **Python** y Universal dependencies!"
   ]
  },
  {
   "cell_type": "markdown",
   "id": "f2933495",
   "metadata": {},
   "source": [
    "Un [apunte](https://applied-language-technology.readthedocs.io/en/latest/notebooks/part_iii/05_text_linguistics.html)"
   ]
  },
  {
   "cell_type": "markdown",
   "id": "1ebbf435",
   "metadata": {},
   "source": [
    "Librería [conllu](https://github.com/EmilStenstrom/conllu/)"
   ]
  },
  {
   "cell_type": "code",
   "execution_count": 50,
   "id": "72bbd454",
   "metadata": {},
   "outputs": [
    {
     "name": "stdout",
     "output_type": "stream",
     "text": [
      "Requirement already satisfied: conllu in c:\\users\\jxver\\anaconda3\\lib\\site-packages (4.4.1)\n"
     ]
    }
   ],
   "source": [
    "!pip install conllu"
   ]
  },
  {
   "cell_type": "code",
   "execution_count": 51,
   "id": "5c890d24",
   "metadata": {},
   "outputs": [],
   "source": [
    "import conllu as cll\n",
    "\n",
    "data = \"\"\"\n",
    "# text = The quick brown fox jumps over the lazy dog.\n",
    "1   The     the    DET    DT   Definite=Def|PronType=Art   4   det     _   _\n",
    "2   quick   quick  ADJ    JJ   Degree=Pos                  4   amod    _   _\n",
    "3   brown   brown  ADJ    JJ   Degree=Pos                  4   amod    _   _\n",
    "4   fox     fox    NOUN   NN   Number=Sing                 5   nsubj   _   _\n",
    "5   jumps   jump   VERB   VBZ  Mood=Ind|Number=Sing|Person=3|Tense=Pres|VerbForm=Fin   0   root    _   _\n",
    "6   over    over   ADP    IN   _                           9   case    _   _\n",
    "7   the     the    DET    DT   Definite=Def|PronType=Art   9   det     _   _\n",
    "8   lazy    lazy   ADJ    JJ   Degree=Pos                  9   amod    _   _\n",
    "9   dog     dog    NOUN   NN   Number=Sing                 5   nmod    _   SpaceAfter=No\n",
    "10  .       .      PUNCT  .    _                           5   punct   _   _\n",
    "\n",
    "\"\"\""
   ]
  },
  {
   "cell_type": "code",
   "execution_count": 52,
   "id": "34bf9a04",
   "metadata": {},
   "outputs": [
    {
     "data": {
      "text/plain": [
       "[TokenList<The, quick, brown, fox, jumps, over, the, lazy, dog, .>]"
      ]
     },
     "execution_count": 52,
     "metadata": {},
     "output_type": "execute_result"
    }
   ],
   "source": [
    "sentences = cll.parse(data)\n",
    "sentences"
   ]
  },
  {
   "cell_type": "code",
   "execution_count": 53,
   "id": "f65b0524",
   "metadata": {},
   "outputs": [],
   "source": [
    "## accedemos a la primera oración (la única en este caso!)\n",
    "\n",
    "sentence = sentences[0]"
   ]
  },
  {
   "cell_type": "code",
   "execution_count": 54,
   "id": "9271096f",
   "metadata": {},
   "outputs": [],
   "source": [
    "## sentences funciona como una lista que tiene diccionarios como elementos!\n",
    "\n",
    "token = sentence[0]"
   ]
  },
  {
   "cell_type": "code",
   "execution_count": 55,
   "id": "3d588ab2",
   "metadata": {},
   "outputs": [
    {
     "data": {
      "text/plain": [
       "{'id': 1,\n",
       " 'form': 'The',\n",
       " 'lemma': 'the',\n",
       " 'upos': 'DET',\n",
       " 'xpos': 'DT',\n",
       " 'feats': {'Definite': 'Def', 'PronType': 'Art'},\n",
       " 'head': 4,\n",
       " 'deprel': 'det',\n",
       " 'deps': None,\n",
       " 'misc': None}"
      ]
     },
     "execution_count": 55,
     "metadata": {},
     "output_type": "execute_result"
    }
   ],
   "source": [
    "token"
   ]
  },
  {
   "cell_type": "markdown",
   "id": "b70a4c2e",
   "metadata": {},
   "source": [
    "Paréntesis sobre **diccionarios!** :)"
   ]
  },
  {
   "cell_type": "markdown",
   "id": "d5a97b33",
   "metadata": {},
   "source": [
    "Ahora, volvemos a **UD**"
   ]
  },
  {
   "cell_type": "code",
   "execution_count": 56,
   "id": "ec64c380",
   "metadata": {},
   "outputs": [
    {
     "data": {
      "text/plain": [
       "TokenList<The, quick, brown, fox, jumps, over, the, lazy, dog, .>"
      ]
     },
     "execution_count": 56,
     "metadata": {},
     "output_type": "execute_result"
    }
   ],
   "source": [
    "sentence"
   ]
  },
  {
   "cell_type": "code",
   "execution_count": 57,
   "id": "b85b4d9b",
   "metadata": {},
   "outputs": [
    {
     "data": {
      "text/plain": [
       "TokenList<quick>"
      ]
     },
     "execution_count": 57,
     "metadata": {},
     "output_type": "execute_result"
    }
   ],
   "source": [
    "## ¿Cómo podemos filtrar las oraciones?\n",
    "\n",
    "## x forma\n",
    "sentence.filter(form=\"quick\")"
   ]
  },
  {
   "cell_type": "code",
   "execution_count": 58,
   "id": "a0678992",
   "metadata": {},
   "outputs": [
    {
     "data": {
      "text/plain": [
       "TokenList<jumps>"
      ]
     },
     "execution_count": 58,
     "metadata": {},
     "output_type": "execute_result"
    }
   ],
   "source": [
    "## x upos\n",
    "sentence.filter(upos=\"VERB\")"
   ]
  },
  {
   "cell_type": "code",
   "execution_count": 59,
   "id": "65c296b3",
   "metadata": {},
   "outputs": [],
   "source": [
    "## el verbo!\n",
    "\n",
    "token = sentence[4]"
   ]
  },
  {
   "cell_type": "code",
   "execution_count": 60,
   "id": "ba988751",
   "metadata": {},
   "outputs": [
    {
     "data": {
      "text/plain": [
       "{'id': 5,\n",
       " 'form': 'jumps',\n",
       " 'lemma': 'jump',\n",
       " 'upos': 'VERB',\n",
       " 'xpos': 'VBZ',\n",
       " 'feats': {'Mood': 'Ind',\n",
       "  'Number': 'Sing',\n",
       "  'Person': '3',\n",
       "  'Tense': 'Pres',\n",
       "  'VerbForm': 'Fin'},\n",
       " 'head': 0,\n",
       " 'deprel': 'root',\n",
       " 'deps': None,\n",
       " 'misc': None}"
      ]
     },
     "execution_count": 60,
     "metadata": {},
     "output_type": "execute_result"
    }
   ],
   "source": [
    "token"
   ]
  },
  {
   "cell_type": "code",
   "execution_count": 61,
   "id": "a49e0e64",
   "metadata": {},
   "outputs": [
    {
     "data": {
      "text/plain": [
       "TokenList<quick, brown, lazy>"
      ]
     },
     "execution_count": 61,
     "metadata": {},
     "output_type": "execute_result"
    }
   ],
   "source": [
    "## x rasgo: noten que estamos entrando a un diccionario\n",
    "sentence.filter(feats__Degree=\"Pos\")"
   ]
  },
  {
   "cell_type": "code",
   "execution_count": 62,
   "id": "9e2c8d65",
   "metadata": {},
   "outputs": [],
   "source": [
    "## busquemos las heads!\n",
    "heads = {}\n",
    "\n",
    "for token in sentence.filter(feats__Degree=\"Pos\"):\n",
    "    heads[token['id']]=token['head'] "
   ]
  },
  {
   "cell_type": "code",
   "execution_count": 63,
   "id": "174e9c34",
   "metadata": {},
   "outputs": [
    {
     "data": {
      "text/plain": [
       "{2: 4, 3: 4, 8: 9}"
      ]
     },
     "execution_count": 63,
     "metadata": {},
     "output_type": "execute_result"
    }
   ],
   "source": [
    "heads"
   ]
  },
  {
   "cell_type": "code",
   "execution_count": 64,
   "id": "66e77d32",
   "metadata": {},
   "outputs": [],
   "source": [
    "## busquemos las heads de todas los tokens\n",
    "\n",
    "## busquemos las heads!\n",
    "heads_all = {}\n",
    "\n",
    "for token in sentence:\n",
    "    heads_all[token['id']]=token['head'] "
   ]
  },
  {
   "cell_type": "code",
   "execution_count": 65,
   "id": "c0d43adb",
   "metadata": {},
   "outputs": [
    {
     "data": {
      "text/plain": [
       "{1: 4, 2: 4, 3: 4, 4: 5, 5: 0, 6: 9, 7: 9, 8: 9, 9: 5, 10: 5}"
      ]
     },
     "execution_count": 65,
     "metadata": {},
     "output_type": "execute_result"
    }
   ],
   "source": [
    "heads_all"
   ]
  },
  {
   "cell_type": "code",
   "execution_count": 66,
   "id": "1ae64f5c",
   "metadata": {},
   "outputs": [],
   "source": [
    "## otra forma :)\n",
    "\n",
    "## busquemos las heads!\n",
    "heads_all_form = {}\n",
    "\n",
    "for token in sentence:\n",
    "    heads_all_form[token['id']]=[token['form'],token['head']]"
   ]
  },
  {
   "cell_type": "code",
   "execution_count": 67,
   "id": "7ff96b37",
   "metadata": {},
   "outputs": [
    {
     "data": {
      "text/plain": [
       "{1: ['The', 4],\n",
       " 2: ['quick', 4],\n",
       " 3: ['brown', 4],\n",
       " 4: ['fox', 5],\n",
       " 5: ['jumps', 0],\n",
       " 6: ['over', 9],\n",
       " 7: ['the', 9],\n",
       " 8: ['lazy', 9],\n",
       " 9: ['dog', 5],\n",
       " 10: ['.', 5]}"
      ]
     },
     "execution_count": 67,
     "metadata": {},
     "output_type": "execute_result"
    }
   ],
   "source": [
    "heads_all_form"
   ]
  },
  {
   "cell_type": "code",
   "execution_count": 68,
   "id": "63966baa",
   "metadata": {},
   "outputs": [],
   "source": [
    "## ¿Cómo podemos cambiar los datos?\n",
    "\n",
    "sentence[3][\"form\"] = \"cat\""
   ]
  },
  {
   "cell_type": "code",
   "execution_count": 69,
   "id": "63432779",
   "metadata": {},
   "outputs": [
    {
     "data": {
      "text/plain": [
       "TokenList<The, quick, brown, cat, jumps, over, the, lazy, dog, .>"
      ]
     },
     "execution_count": 69,
     "metadata": {},
     "output_type": "execute_result"
    }
   ],
   "source": [
    "sentence"
   ]
  },
  {
   "cell_type": "code",
   "execution_count": 70,
   "id": "3a4bf53b",
   "metadata": {},
   "outputs": [
    {
     "data": {
      "text/plain": [
       "'# text = The quick brown fox jumps over the lazy dog.\\n1\\tThe\\tthe\\tDET\\tDT\\tDefinite=Def|PronType=Art\\t4\\tdet\\t_\\t_\\n2\\tquick\\tquick\\tADJ\\tJJ\\tDegree=Pos\\t4\\tamod\\t_\\t_\\n3\\tbrown\\tbrown\\tADJ\\tJJ\\tDegree=Pos\\t4\\tamod\\t_\\t_\\n4\\tcat\\tfox\\tNOUN\\tNN\\tNumber=Sing\\t5\\tnsubj\\t_\\t_\\n5\\tjumps\\tjump\\tVERB\\tVBZ\\tMood=Ind|Number=Sing|Person=3|Tense=Pres|VerbForm=Fin\\t0\\troot\\t_\\t_\\n6\\tover\\tover\\tADP\\tIN\\t_\\t9\\tcase\\t_\\t_\\n7\\tthe\\tthe\\tDET\\tDT\\tDefinite=Def|PronType=Art\\t9\\tdet\\t_\\t_\\n8\\tlazy\\tlazy\\tADJ\\tJJ\\tDegree=Pos\\t9\\tamod\\t_\\t_\\n9\\tdog\\tdog\\tNOUN\\tNN\\tNumber=Sing\\t5\\tnmod\\t_\\tSpaceAfter=No\\n10\\t.\\t.\\tPUNCT\\t.\\t_\\t5\\tpunct\\t_\\t_\\n\\n'"
      ]
     },
     "execution_count": 70,
     "metadata": {},
     "output_type": "execute_result"
    }
   ],
   "source": [
    "## ¿Y si queremos volver a fomato conllu?\n",
    "\n",
    "sentence.serialize()"
   ]
  },
  {
   "cell_type": "code",
   "execution_count": 71,
   "id": "8fb3a8be",
   "metadata": {},
   "outputs": [],
   "source": [
    "with open('sentence.conllu', 'w') as f:    \n",
    "    #f.writelines([sentence.serialize() + \"\\n\" for sentence in sentences])\n",
    "    f.writelines(sentence.serialize())"
   ]
  },
  {
   "cell_type": "code",
   "execution_count": 72,
   "id": "248cb924",
   "metadata": {},
   "outputs": [],
   "source": [
    "## ahora, lo volvemos a leer :)\n",
    "\n",
    "from io import open\n",
    "from conllu import parse\n",
    "\n",
    "data_file = open(\"sentence.conllu\", \"r\", encoding=\"utf-8\")\n",
    "data_file = data_file.read()\n",
    "sentences = cll.parse(data_file)"
   ]
  },
  {
   "cell_type": "code",
   "execution_count": 73,
   "id": "1b28b48a",
   "metadata": {},
   "outputs": [
    {
     "data": {
      "text/plain": [
       "TokenList<The, quick, brown, cat, jumps, over, the, lazy, dog, .>"
      ]
     },
     "execution_count": 73,
     "metadata": {},
     "output_type": "execute_result"
    }
   ],
   "source": [
    "sentences[0]"
   ]
  },
  {
   "cell_type": "code",
   "execution_count": 74,
   "id": "7372e57c",
   "metadata": {},
   "outputs": [],
   "source": [
    "## miramos nuevamente el primer token\n",
    "\n",
    "token = sentence[0]"
   ]
  },
  {
   "cell_type": "code",
   "execution_count": 75,
   "id": "8a4bd0b2",
   "metadata": {},
   "outputs": [
    {
     "data": {
      "text/plain": [
       "{'id': 1,\n",
       " 'form': 'The',\n",
       " 'lemma': 'the',\n",
       " 'upos': 'DET',\n",
       " 'xpos': 'DT',\n",
       " 'feats': {'Definite': 'Def', 'PronType': 'Art'},\n",
       " 'head': 4,\n",
       " 'deprel': 'det',\n",
       " 'deps': None,\n",
       " 'misc': None}"
      ]
     },
     "execution_count": 75,
     "metadata": {},
     "output_type": "execute_result"
    }
   ],
   "source": [
    "token"
   ]
  },
  {
   "cell_type": "code",
   "execution_count": null,
   "id": "b004fe70",
   "metadata": {},
   "outputs": [],
   "source": []
  },
  {
   "cell_type": "code",
   "execution_count": null,
   "id": "da4238b8",
   "metadata": {},
   "outputs": [],
   "source": []
  },
  {
   "cell_type": "code",
   "execution_count": null,
   "id": "b3704e0f",
   "metadata": {},
   "outputs": [],
   "source": []
  }
 ],
 "metadata": {
  "kernelspec": {
   "display_name": "Python 3",
   "language": "python",
   "name": "python3"
  },
  "language_info": {
   "codemirror_mode": {
    "name": "ipython",
    "version": 3
   },
   "file_extension": ".py",
   "mimetype": "text/x-python",
   "name": "python",
   "nbconvert_exporter": "python",
   "pygments_lexer": "ipython3",
   "version": "3.8.8"
  }
 },
 "nbformat": 4,
 "nbformat_minor": 5
}
