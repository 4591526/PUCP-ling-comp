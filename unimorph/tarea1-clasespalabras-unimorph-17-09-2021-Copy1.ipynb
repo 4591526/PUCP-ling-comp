{
 "cells": [
  {
   "cell_type": "markdown",
   "id": "da0bd54e",
   "metadata": {},
   "source": [
    "### ¿Cuáles son las clases de palabras cubiertas por Unimorph?"
   ]
  },
  {
   "cell_type": "code",
   "execution_count": 46,
   "id": "29e71e42",
   "metadata": {},
   "outputs": [],
   "source": [
    "## archivos en carpeta \"datos\"\n",
    "## ame: Yanesha\n",
    "\n",
    "## usamos un poco de magia para leer los datos \n",
    "\n",
    "import pandas as pd\n",
    "\n",
    "## noten que especificamos la ruta\n",
    "## ame\n",
    "datos_ame = pd.read_csv('datos/ame', sep='\\t', header=None)\n",
    "datos_ame.columns = ['lemas','inflexiones','códigos']"
   ]
  },
  {
   "cell_type": "code",
   "execution_count": 47,
   "id": "4c0b21b7",
   "metadata": {},
   "outputs": [
    {
     "data": {
      "text/html": [
       "<div>\n",
       "<style scoped>\n",
       "    .dataframe tbody tr th:only-of-type {\n",
       "        vertical-align: middle;\n",
       "    }\n",
       "\n",
       "    .dataframe tbody tr th {\n",
       "        vertical-align: top;\n",
       "    }\n",
       "\n",
       "    .dataframe thead th {\n",
       "        text-align: right;\n",
       "    }\n",
       "</style>\n",
       "<table border=\"1\" class=\"dataframe\">\n",
       "  <thead>\n",
       "    <tr style=\"text-align: right;\">\n",
       "      <th></th>\n",
       "      <th>lemas</th>\n",
       "      <th>inflexiones</th>\n",
       "      <th>códigos</th>\n",
       "    </tr>\n",
       "  </thead>\n",
       "  <tbody>\n",
       "    <tr>\n",
       "      <th>0</th>\n",
       "      <td>ach</td>\n",
       "      <td>achenesha'</td>\n",
       "      <td>N;PL</td>\n",
       "    </tr>\n",
       "    <tr>\n",
       "      <th>1</th>\n",
       "      <td>ach</td>\n",
       "      <td>ach</td>\n",
       "      <td>N</td>\n",
       "    </tr>\n",
       "    <tr>\n",
       "      <th>2</th>\n",
       "      <td>a'chenkateñets</td>\n",
       "      <td>a'chenkateñets</td>\n",
       "      <td>V;NFIN</td>\n",
       "    </tr>\n",
       "    <tr>\n",
       "      <th>3</th>\n",
       "      <td>achenkateñets</td>\n",
       "      <td>achenkateñets</td>\n",
       "      <td>V;NFIN</td>\n",
       "    </tr>\n",
       "    <tr>\n",
       "      <th>4</th>\n",
       "      <td>a'chenkateñets</td>\n",
       "      <td>a'chenkateñet</td>\n",
       "      <td>V;NO3P;FIN;REAL</td>\n",
       "    </tr>\n",
       "    <tr>\n",
       "      <th>...</th>\n",
       "      <td>...</td>\n",
       "      <td>...</td>\n",
       "      <td>...</td>\n",
       "    </tr>\n",
       "    <tr>\n",
       "      <th>3762</th>\n",
       "      <td>yotteñets</td>\n",
       "      <td>seyottena</td>\n",
       "      <td>V;NO2P;FIN;REAL</td>\n",
       "    </tr>\n",
       "    <tr>\n",
       "      <th>3763</th>\n",
       "      <td>yotteñets</td>\n",
       "      <td>yeyottena</td>\n",
       "      <td>V;NO1P;FIN;REAL</td>\n",
       "    </tr>\n",
       "    <tr>\n",
       "      <th>3764</th>\n",
       "      <td>yotteñets</td>\n",
       "      <td>yottena</td>\n",
       "      <td>V;NO3;FIN;REAL</td>\n",
       "    </tr>\n",
       "    <tr>\n",
       "      <th>3765</th>\n",
       "      <td>yotteñets</td>\n",
       "      <td>yotteñets</td>\n",
       "      <td>V;NFIN</td>\n",
       "    </tr>\n",
       "    <tr>\n",
       "      <th>3766</th>\n",
       "      <td>yotteñets</td>\n",
       "      <td>yottenet</td>\n",
       "      <td>V;NO3P;FIN;REAL</td>\n",
       "    </tr>\n",
       "  </tbody>\n",
       "</table>\n",
       "<p>3767 rows × 3 columns</p>\n",
       "</div>"
      ],
      "text/plain": [
       "               lemas     inflexiones          códigos\n",
       "0                ach      achenesha'             N;PL\n",
       "1                ach             ach                N\n",
       "2     a'chenkateñets  a'chenkateñets           V;NFIN\n",
       "3      achenkateñets   achenkateñets           V;NFIN\n",
       "4     a'chenkateñets   a'chenkateñet  V;NO3P;FIN;REAL\n",
       "...              ...             ...              ...\n",
       "3762       yotteñets       seyottena  V;NO2P;FIN;REAL\n",
       "3763       yotteñets       yeyottena  V;NO1P;FIN;REAL\n",
       "3764       yotteñets         yottena   V;NO3;FIN;REAL\n",
       "3765       yotteñets       yotteñets           V;NFIN\n",
       "3766       yotteñets        yottenet  V;NO3P;FIN;REAL\n",
       "\n",
       "[3767 rows x 3 columns]"
      ]
     },
     "execution_count": 47,
     "metadata": {},
     "output_type": "execute_result"
    }
   ],
   "source": [
    "## nuestros datos!!! Cada fila indica una forma original, una inflexión del verbo y las coordenadas de la inflexión.\n",
    "\n",
    "datos_ame"
   ]
  },
  {
   "cell_type": "code",
   "execution_count": 48,
   "id": "149e90f4",
   "metadata": {},
   "outputs": [],
   "source": [
    "## definamos conjuntos de lemas, inflexiones y códigos para cada lengua :)\n",
    "\n",
    "#### LEMAS ####\n",
    "## ame\n",
    "lemas_ame = list(datos_ame['lemas'])\n",
    "\n",
    "#### INFLEXIONES ####\n",
    "## ame\n",
    "inflexiones_ame = list(datos_ame['inflexiones'])\n",
    "\n",
    "#### CÓDIGOS ####\n",
    "## ame\n",
    "codigos_ame = list(datos_ame['códigos'])"
   ]
  },
  {
   "cell_type": "markdown",
   "id": "06b53681",
   "metadata": {},
   "source": [
    "Miremos el conjunto de códigos"
   ]
  },
  {
   "cell_type": "code",
   "execution_count": 49,
   "id": "bbbb7d5f",
   "metadata": {},
   "outputs": [
    {
     "data": {
      "text/plain": [
       "['N;PL',\n",
       " 'N',\n",
       " 'V;NFIN',\n",
       " 'V;NFIN',\n",
       " 'V;NO3P;FIN;REAL',\n",
       " 'V;NO3P;FIN;REAL',\n",
       " 'V;NO3;FIN;REAL',\n",
       " 'V;NO3;FIN;REAL',\n",
       " 'V;NO1;FIN;REAL',\n",
       " 'V;NO1;FIN;REAL']"
      ]
     },
     "execution_count": 49,
     "metadata": {},
     "output_type": "execute_result"
    }
   ],
   "source": [
    "codigos_ame[:10]"
   ]
  },
  {
   "cell_type": "markdown",
   "id": "82624c30",
   "metadata": {},
   "source": [
    "¿Cómo podemos identificar las clases de palabras?\n",
    "1. miramos cada elemento como string. Nos quedamos con el primer carácter, y luego los juntamos en una lista.\n",
    "2. dividimos los strings en listas, nos quedamos con el primer elemento y los juntamos. "
   ]
  },
  {
   "cell_type": "markdown",
   "id": "e8c51a5b",
   "metadata": {},
   "source": [
    "Manera 1. "
   ]
  },
  {
   "cell_type": "code",
   "execution_count": 50,
   "id": "ec2bc00d",
   "metadata": {},
   "outputs": [],
   "source": [
    "## en una lista, caracter_lista, guardamos el primer elemento de cada string\n",
    "\n",
    "caracter_lista = []\n",
    "\n",
    "for string in codigos_ame:\n",
    "    ## los guardamos solo una vez\n",
    "    if string[0] not in caracter_lista:\n",
    "        caracter_lista+=[string[0]]"
   ]
  },
  {
   "cell_type": "code",
   "execution_count": 51,
   "id": "cc4a4420",
   "metadata": {},
   "outputs": [
    {
     "data": {
      "text/plain": [
       "['N', 'V']"
      ]
     },
     "execution_count": 51,
     "metadata": {},
     "output_type": "execute_result"
    }
   ],
   "source": [
    "caracter_lista"
   ]
  },
  {
   "cell_type": "markdown",
   "id": "42c7ce4f",
   "metadata": {},
   "source": [
    "Manera 2. "
   ]
  },
  {
   "cell_type": "code",
   "execution_count": 52,
   "id": "d27a891d",
   "metadata": {},
   "outputs": [],
   "source": [
    "## en una lista, guardamos los strings tokenizados\n",
    "\n",
    "tokens_lista = []\n",
    "\n",
    "for string in codigos_ame:\n",
    "    ## cortamos por \";\"\n",
    "    tokens_lista+=[string.split(';')]"
   ]
  },
  {
   "cell_type": "code",
   "execution_count": 53,
   "id": "ad780055",
   "metadata": {},
   "outputs": [
    {
     "data": {
      "text/plain": [
       "[['N', 'PL'],\n",
       " ['N'],\n",
       " ['V', 'NFIN'],\n",
       " ['V', 'NFIN'],\n",
       " ['V', 'NO3P', 'FIN', 'REAL']]"
      ]
     },
     "execution_count": 53,
     "metadata": {},
     "output_type": "execute_result"
    }
   ],
   "source": [
    "tokens_lista[:5]"
   ]
  },
  {
   "cell_type": "code",
   "execution_count": 54,
   "id": "b6149258",
   "metadata": {},
   "outputs": [],
   "source": [
    "## guardamos el primer elemento de cada lista\n",
    "\n",
    "primer_lista = []\n",
    "\n",
    "for item in tokens_lista:\n",
    "    ## los guardamos solo una vez\n",
    "    if item[0] not in primer_lista:\n",
    "        primer_lista+=[item[0]]"
   ]
  },
  {
   "cell_type": "code",
   "execution_count": 55,
   "id": "db596013",
   "metadata": {},
   "outputs": [
    {
     "data": {
      "text/plain": [
       "['N', 'V']"
      ]
     },
     "execution_count": 55,
     "metadata": {},
     "output_type": "execute_result"
    }
   ],
   "source": [
    "primer_lista"
   ]
  },
  {
   "cell_type": "markdown",
   "id": "fca99449",
   "metadata": {},
   "source": [
    "Para la lengua Yanesha, tenemos información para N y V!!!"
   ]
  },
  {
   "cell_type": "markdown",
   "id": "1c42d63c",
   "metadata": {},
   "source": [
    "Otras preguntas!\n",
    "\n",
    "A. Sobre los códigos\n",
    "\n",
    "1. Construya dos listas: tokens_lista_N y tokens_lista_V. Respectivamente, estas listas guardan los datos para N y V.\n",
    "2. Cuente el número de datos para N y V.\n",
    "3. Determine el número de símbolos de cada ejemplo anotado. Divida la respuesta para N y V.\n",
    "4. Determine el largo promedio de las las codificaciones. Divida la respuesta para N y V.\n",
    "3. ¿Cuántos símbolos distintos se usan para describir las inflexiones? Divida la respuesta para N y V.\n",
    "4. Determine la frecuencia de cada símbolo. Divida la respuesta para N y V.\n",
    "\n",
    "B. Algunos desafíos!\n",
    "\n",
    "1. Construya una lista donde cada elemento sea [lema, inflexión, código]\n",
    "2. Divida la lista anterior, en dos listas, para N y V.\n",
    "3. Calcule, para N y V, el largo de cada elemento de las listas [lema, inflexión, código]. Para lema e inflexión cuente el número de caracteres. Para código, use el número de símbolos separados por \";\".\n",
    "4. Calcule valores promedio para los largos calculados anteriormente. ¿Tiene algún sentido este cálculo?"
   ]
  },
  {
   "cell_type": "code",
   "execution_count": null,
   "id": "38c1429f",
   "metadata": {},
   "outputs": [],
   "source": []
  }
 ],
 "metadata": {
  "kernelspec": {
   "display_name": "Python 3",
   "language": "python",
   "name": "python3"
  },
  "language_info": {
   "codemirror_mode": {
    "name": "ipython",
    "version": 3
   },
   "file_extension": ".py",
   "mimetype": "text/x-python",
   "name": "python",
   "nbconvert_exporter": "python",
   "pygments_lexer": "ipython3",
   "version": "3.8.8"
  }
 },
 "nbformat": 4,
 "nbformat_minor": 5
}
