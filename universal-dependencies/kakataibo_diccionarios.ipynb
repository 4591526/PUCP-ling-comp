{
 "cells": [
  {
   "cell_type": "markdown",
   "id": "615baa43",
   "metadata": {},
   "source": [
    "## Universal dependencies!\n",
    "### **Kakataibo!**"
   ]
  },
  {
   "cell_type": "markdown",
   "id": "b4cbac4f",
   "metadata": {},
   "source": [
    "Librería [conllu](https://github.com/EmilStenstrom/conllu/)"
   ]
  },
  {
   "cell_type": "markdown",
   "id": "481ebb1f",
   "metadata": {},
   "source": [
    "Instrucciones [UD](https://universaldependencies.org/u/overview/simple-syntax.html#intransitive-and-transitive-clauses)"
   ]
  },
  {
   "cell_type": "markdown",
   "id": "7e5f7e9c",
   "metadata": {},
   "source": [
    "[Annotatrix](https://jonorthwash.github.io/ud-annotatrix/server/public/html/annotatrix.html#1)"
   ]
  },
  {
   "cell_type": "code",
   "execution_count": 59,
   "id": "d364b21e",
   "metadata": {},
   "outputs": [
    {
     "name": "stdout",
     "output_type": "stream",
     "text": [
      "Requirement already satisfied: conllu in c:\\users\\jxver\\anaconda3\\lib\\site-packages (4.4.1)\n"
     ]
    },
    {
     "name": "stderr",
     "output_type": "stream",
     "text": [
      "WARNING: You are using pip version 21.2.4; however, version 21.3.1 is available.\n",
      "You should consider upgrading via the 'c:\\users\\jxver\\anaconda3\\python.exe -m pip install --upgrade pip' command.\n"
     ]
    }
   ],
   "source": [
    "!pip install conllu"
   ]
  },
  {
   "cell_type": "code",
   "execution_count": 62,
   "id": "31d838d9",
   "metadata": {},
   "outputs": [],
   "source": [
    "## ahora, lo volvemos a leer :)\n",
    "\n",
    "from io import open\n",
    "from conllu import parse\n",
    "\n",
    "data_k = open(\"ud-annotatrix-corpus-s.conllu\", \"r\", encoding=\"utf-8\")\n",
    "data_k = data_k.read()\n",
    "kakataibo = parse(data_k)"
   ]
  },
  {
   "cell_type": "code",
   "execution_count": 63,
   "id": "0b0f9f1b",
   "metadata": {},
   "outputs": [
    {
     "data": {
      "text/plain": [
       "6"
      ]
     },
     "execution_count": 63,
     "metadata": {},
     "output_type": "execute_result"
    }
   ],
   "source": [
    "len(kakataibo)"
   ]
  },
  {
   "cell_type": "code",
   "execution_count": 66,
   "id": "88ac065a",
   "metadata": {},
   "outputs": [
    {
     "data": {
      "text/plain": [
       "[TokenList<Emilio, ka, =a, mas, xuá, ki, Roberto, =ma, ‘ikën, .>,\n",
       " TokenList<atian, casi, kamabi, nëtë, =n, ka, =is, =a, a, uni, kwan-akë-x-ín, .>,\n",
       " TokenList<paën-xun, ka, =na, ‘ë, =n, ‘atsa, kwëën-i-n, .>,\n",
       " TokenList<nukën, papaokë, =kama, ka, =a, uni, chaxké, siná, uni, ‘i-akë-x-a, .>,\n",
       " TokenList<ka, =nanuna, toxama, upí, bits-tankëxun, taish, a, bits-tankëxun, ka, =nanuna, ‘aru-i-n, .>,\n",
       " TokenList<maru-kin, no-n, buan-akë-x-ín, .>]"
      ]
     },
     "execution_count": 66,
     "metadata": {},
     "output_type": "execute_result"
    }
   ],
   "source": [
    "## lista de objetos TokenList\n",
    "\n",
    "kakataibo"
   ]
  },
  {
   "cell_type": "code",
   "execution_count": 67,
   "id": "48af24d8",
   "metadata": {},
   "outputs": [
    {
     "data": {
      "text/plain": [
       "6"
      ]
     },
     "execution_count": 67,
     "metadata": {},
     "output_type": "execute_result"
    }
   ],
   "source": [
    "## número de oraciones\n",
    "\n",
    "len(kakataibo)"
   ]
  },
  {
   "cell_type": "code",
   "execution_count": 78,
   "id": "0a24d6d6",
   "metadata": {},
   "outputs": [],
   "source": [
    "## ejemplo!\n",
    "\n",
    "sentence = kakataibo[0]"
   ]
  },
  {
   "cell_type": "code",
   "execution_count": 79,
   "id": "2fa97bfa",
   "metadata": {},
   "outputs": [
    {
     "data": {
      "text/plain": [
       "TokenList<Emilio, ka, =a, mas, xuá, ki, Roberto, =ma, ‘ikën, .>"
      ]
     },
     "execution_count": 79,
     "metadata": {},
     "output_type": "execute_result"
    }
   ],
   "source": [
    "sentence"
   ]
  },
  {
   "cell_type": "code",
   "execution_count": 80,
   "id": "b642e86a",
   "metadata": {},
   "outputs": [
    {
     "data": {
      "text/plain": [
       "10"
      ]
     },
     "execution_count": 80,
     "metadata": {},
     "output_type": "execute_result"
    }
   ],
   "source": [
    "## número de tokens\n",
    "\n",
    "len(sentence)"
   ]
  },
  {
   "cell_type": "code",
   "execution_count": 81,
   "id": "095078a4",
   "metadata": {},
   "outputs": [],
   "source": [
    "largos = []\n",
    "\n",
    "for oracion in kakataibo:\n",
    "    largos+=[len(oracion)]"
   ]
  },
  {
   "cell_type": "code",
   "execution_count": 91,
   "id": "ca935bc3",
   "metadata": {},
   "outputs": [
    {
     "data": {
      "text/plain": [
       "[10, 12, 8, 11, 12, 4]"
      ]
     },
     "execution_count": 91,
     "metadata": {},
     "output_type": "execute_result"
    }
   ],
   "source": [
    "largos"
   ]
  },
  {
   "cell_type": "code",
   "execution_count": 87,
   "id": "7f8163b9",
   "metadata": {},
   "outputs": [
    {
     "data": {
      "text/plain": [
       "12"
      ]
     },
     "execution_count": 87,
     "metadata": {},
     "output_type": "execute_result"
    }
   ],
   "source": [
    "import numpy as np\n",
    "\n",
    "np.round(np.max(largos),0)"
   ]
  },
  {
   "cell_type": "code",
   "execution_count": 94,
   "id": "220f6165",
   "metadata": {},
   "outputs": [
    {
     "name": "stdout",
     "output_type": "stream",
     "text": [
      "promedio:  9.5\n",
      "mediana:  10.5\n",
      "máximo:  12\n",
      "mínimo:  4\n",
      "desviación:  2.8136571693556887\n",
      "número de tokens:  57\n"
     ]
    }
   ],
   "source": [
    "print('promedio:  '+str(np.mean(largos)))\n",
    "print('mediana:  '+str(np.median(largos)))\n",
    "print('máximo:  '+str(np.max(largos)))\n",
    "print('mínimo:  '+str(np.min(largos)))\n",
    "print('desviación:  '+str(np.std(largos)))\n",
    "print('número de tokens:  '+str(sum(largos)))"
   ]
  },
  {
   "cell_type": "code",
   "execution_count": 95,
   "id": "25b47ac4",
   "metadata": {},
   "outputs": [],
   "source": [
    "## algunas peros: puntuación; otras medidas (moda, mediana, máximo, mínimo); elementos que separamos antes; detalle (mayúsculas/minúsculas)"
   ]
  },
  {
   "cell_type": "code",
   "execution_count": 96,
   "id": "1e2aed87",
   "metadata": {},
   "outputs": [],
   "source": [
    "## miremos la información que tienen las palabras\n",
    "\n",
    "token = sentence[1]"
   ]
  },
  {
   "cell_type": "code",
   "execution_count": 97,
   "id": "046cf6f5",
   "metadata": {},
   "outputs": [],
   "source": [
    "## es decir, token es una lista"
   ]
  },
  {
   "cell_type": "code",
   "execution_count": 100,
   "id": "5a05bd59",
   "metadata": {},
   "outputs": [
    {
     "data": {
      "text/plain": [
       "{'id': 2,\n",
       " 'form': 'ka',\n",
       " 'lemma': '_',\n",
       " 'upos': 'PART',\n",
       " 'xpos': None,\n",
       " 'feats': None,\n",
       " 'head': 9,\n",
       " 'deprel': 'aux:sgen',\n",
       " 'deps': None,\n",
       " 'misc': {'nar:3': ''}}"
      ]
     },
     "execution_count": 100,
     "metadata": {},
     "output_type": "execute_result"
    }
   ],
   "source": [
    "token"
   ]
  },
  {
   "cell_type": "markdown",
   "id": "20ca195c",
   "metadata": {},
   "source": [
    "Cada palabra en la **lista sentence** es un **diccionario!!! :)**"
   ]
  },
  {
   "cell_type": "code",
   "execution_count": 101,
   "id": "1ef1044b",
   "metadata": {},
   "outputs": [],
   "source": [
    "## veamos qué hay adentro de token\n",
    "\n",
    "keys = list(token.keys())"
   ]
  },
  {
   "cell_type": "code",
   "execution_count": 102,
   "id": "fb9a76ed",
   "metadata": {},
   "outputs": [
    {
     "data": {
      "text/plain": [
       "['id',\n",
       " 'form',\n",
       " 'lemma',\n",
       " 'upos',\n",
       " 'xpos',\n",
       " 'feats',\n",
       " 'head',\n",
       " 'deprel',\n",
       " 'deps',\n",
       " 'misc']"
      ]
     },
     "execution_count": 102,
     "metadata": {},
     "output_type": "execute_result"
    }
   ],
   "source": [
    "keys"
   ]
  },
  {
   "cell_type": "code",
   "execution_count": 103,
   "id": "a28ba0f2",
   "metadata": {},
   "outputs": [],
   "source": [
    "values = list(token.values())"
   ]
  },
  {
   "cell_type": "code",
   "execution_count": 104,
   "id": "8e43e58b",
   "metadata": {},
   "outputs": [
    {
     "data": {
      "text/plain": [
       "[2, 'ka', '_', 'PART', None, None, 9, 'aux:sgen', None, {'nar:3': ''}]"
      ]
     },
     "execution_count": 104,
     "metadata": {},
     "output_type": "execute_result"
    }
   ],
   "source": [
    "values"
   ]
  },
  {
   "cell_type": "markdown",
   "id": "31eda048",
   "metadata": {},
   "source": [
    "La lista **keys** contiene las entradas del diccionario token, de la misma forma en que un diccionario léxico tiene entradas. Los **keys** siempre son distintos. Los **values** son de alguna forma las \"definiciones\" asociadas a los keys. En general, los **keys** son enteros o strings, los **values** pueden ser cualquier cosa: otros diccionarios, listas, números, strings. Veamos algunos asuntos prácticos!"
   ]
  },
  {
   "cell_type": "code",
   "execution_count": 105,
   "id": "2569484c",
   "metadata": {},
   "outputs": [],
   "source": [
    "## los diccionarios tiene largo\n",
    "\n",
    "largo = len(token)"
   ]
  },
  {
   "cell_type": "code",
   "execution_count": 106,
   "id": "2c7bdfbe",
   "metadata": {},
   "outputs": [
    {
     "data": {
      "text/plain": [
       "10"
      ]
     },
     "execution_count": 106,
     "metadata": {},
     "output_type": "execute_result"
    }
   ],
   "source": [
    "largo"
   ]
  },
  {
   "cell_type": "code",
   "execution_count": 107,
   "id": "ad2608cb",
   "metadata": {},
   "outputs": [
    {
     "name": "stdout",
     "output_type": "stream",
     "text": [
      "Emilio 10\n",
      "ka 10\n",
      "=a 10\n",
      "mas 10\n",
      "xuá 10\n",
      "ki 10\n",
      "Roberto 10\n",
      "=ma 10\n",
      "‘ikën 10\n",
      ". 10\n"
     ]
    }
   ],
   "source": [
    "## todos los tokens de sentence\n",
    "\n",
    "for T in sentence:\n",
    "    print(T,len(token))"
   ]
  },
  {
   "cell_type": "code",
   "execution_count": 108,
   "id": "5f7ba8ab",
   "metadata": {},
   "outputs": [],
   "source": [
    "## los diccionarios tienen items (pares key-value)\n",
    "\n",
    "items = list(token.items())"
   ]
  },
  {
   "cell_type": "code",
   "execution_count": 109,
   "id": "888906a7",
   "metadata": {},
   "outputs": [
    {
     "data": {
      "text/plain": [
       "[('id', 2),\n",
       " ('form', 'ka'),\n",
       " ('lemma', '_'),\n",
       " ('upos', 'PART'),\n",
       " ('xpos', None),\n",
       " ('feats', None),\n",
       " ('head', 9),\n",
       " ('deprel', 'aux:sgen'),\n",
       " ('deps', None),\n",
       " ('misc', {'nar:3': ''})]"
      ]
     },
     "execution_count": 109,
     "metadata": {},
     "output_type": "execute_result"
    }
   ],
   "source": [
    "items"
   ]
  },
  {
   "cell_type": "code",
   "execution_count": 110,
   "id": "fa107621",
   "metadata": {},
   "outputs": [],
   "source": [
    "## algo de magia! \n",
    "\n",
    "D = dict(items)"
   ]
  },
  {
   "cell_type": "code",
   "execution_count": 111,
   "id": "c9dfbe78",
   "metadata": {},
   "outputs": [
    {
     "data": {
      "text/plain": [
       "{'id': 2,\n",
       " 'form': 'ka',\n",
       " 'lemma': '_',\n",
       " 'upos': 'PART',\n",
       " 'xpos': None,\n",
       " 'feats': None,\n",
       " 'head': 9,\n",
       " 'deprel': 'aux:sgen',\n",
       " 'deps': None,\n",
       " 'misc': {'nar:3': ''}}"
      ]
     },
     "execution_count": 111,
     "metadata": {},
     "output_type": "execute_result"
    }
   ],
   "source": [
    "D"
   ]
  },
  {
   "cell_type": "markdown",
   "id": "cb009a0e",
   "metadata": {},
   "source": [
    "¿Cómo **accedemos** a los **elementos** (es decir, los valores asociados a los keys) de un **diccionario**?"
   ]
  },
  {
   "cell_type": "code",
   "execution_count": 112,
   "id": "ab0f873e",
   "metadata": {},
   "outputs": [
    {
     "data": {
      "text/plain": [
       "['id',\n",
       " 'form',\n",
       " 'lemma',\n",
       " 'upos',\n",
       " 'xpos',\n",
       " 'feats',\n",
       " 'head',\n",
       " 'deprel',\n",
       " 'deps',\n",
       " 'misc']"
      ]
     },
     "execution_count": 112,
     "metadata": {},
     "output_type": "execute_result"
    }
   ],
   "source": [
    "keys"
   ]
  },
  {
   "cell_type": "code",
   "execution_count": 113,
   "id": "6cada148",
   "metadata": {},
   "outputs": [],
   "source": [
    "## usamos D[key] para cualquier key :)\n",
    "\n",
    "value = token['id']"
   ]
  },
  {
   "cell_type": "code",
   "execution_count": 114,
   "id": "5267c8a3",
   "metadata": {},
   "outputs": [
    {
     "data": {
      "text/plain": [
       "2"
      ]
     },
     "execution_count": 114,
     "metadata": {},
     "output_type": "execute_result"
    }
   ],
   "source": [
    "value"
   ]
  },
  {
   "cell_type": "code",
   "execution_count": 115,
   "id": "858d97a2",
   "metadata": {},
   "outputs": [],
   "source": [
    "value = token['misc']"
   ]
  },
  {
   "cell_type": "code",
   "execution_count": 116,
   "id": "d56d698d",
   "metadata": {},
   "outputs": [
    {
     "data": {
      "text/plain": [
       "{'nar:3': ''}"
      ]
     },
     "execution_count": 116,
     "metadata": {},
     "output_type": "execute_result"
    }
   ],
   "source": [
    "value"
   ]
  },
  {
   "cell_type": "code",
   "execution_count": 117,
   "id": "b71a9fe0",
   "metadata": {},
   "outputs": [],
   "source": [
    "## tal como esperábamos, también podemos acceder usando ciclos \"for\"\n",
    "\n",
    "lista_values = []\n",
    "\n",
    "## recorremos los keys\n",
    "for key in token.keys():\n",
    "    ## accedemos a cada key\n",
    "    value = token[key]\n",
    "    ## guardamos!\n",
    "    lista_values+=[value]"
   ]
  },
  {
   "cell_type": "code",
   "execution_count": 118,
   "id": "1ff8197b",
   "metadata": {},
   "outputs": [
    {
     "data": {
      "text/plain": [
       "[2, 'ka', '_', 'PART', None, None, 9, 'aux:sgen', None, {'nar:3': ''}]"
      ]
     },
     "execution_count": 118,
     "metadata": {},
     "output_type": "execute_result"
    }
   ],
   "source": [
    "lista_values"
   ]
  },
  {
   "cell_type": "code",
   "execution_count": 119,
   "id": "bc6252a4",
   "metadata": {},
   "outputs": [
    {
     "data": {
      "text/plain": [
       "[2, 'ka', '_', 'PART', None, None, 9, 'aux:sgen', None, {'nar:3': ''}]"
      ]
     },
     "execution_count": 119,
     "metadata": {},
     "output_type": "execute_result"
    }
   ],
   "source": [
    "values"
   ]
  },
  {
   "cell_type": "code",
   "execution_count": 120,
   "id": "1736786a",
   "metadata": {},
   "outputs": [],
   "source": [
    "## ¿Qué pasa si uno de los values es también un diccionario?\n",
    "\n",
    "value = token['misc']"
   ]
  },
  {
   "cell_type": "code",
   "execution_count": 122,
   "id": "0e4f776a",
   "metadata": {},
   "outputs": [
    {
     "data": {
      "text/plain": [
       "{'nar:3': ''}"
      ]
     },
     "execution_count": 122,
     "metadata": {},
     "output_type": "execute_result"
    }
   ],
   "source": [
    "value"
   ]
  },
  {
   "cell_type": "code",
   "execution_count": 123,
   "id": "d05f2238",
   "metadata": {},
   "outputs": [],
   "source": [
    "value_value = value['nar:3']"
   ]
  },
  {
   "cell_type": "code",
   "execution_count": 124,
   "id": "a52984fe",
   "metadata": {},
   "outputs": [
    {
     "data": {
      "text/plain": [
       "''"
      ]
     },
     "execution_count": 124,
     "metadata": {},
     "output_type": "execute_result"
    }
   ],
   "source": [
    "value_value"
   ]
  },
  {
   "cell_type": "code",
   "execution_count": 126,
   "id": "ab32f02d",
   "metadata": {},
   "outputs": [],
   "source": [
    "## es decir!\n",
    "\n",
    "value_value = token['misc']['nar:3']"
   ]
  },
  {
   "cell_type": "code",
   "execution_count": 127,
   "id": "6a5b73e8",
   "metadata": {},
   "outputs": [
    {
     "data": {
      "text/plain": [
       "''"
      ]
     },
     "execution_count": 127,
     "metadata": {},
     "output_type": "execute_result"
    }
   ],
   "source": [
    "value_value"
   ]
  },
  {
   "cell_type": "markdown",
   "id": "556d2f58",
   "metadata": {},
   "source": [
    "¿Cómo **creamos** diccionarios?"
   ]
  },
  {
   "cell_type": "code",
   "execution_count": 129,
   "id": "c614fab3",
   "metadata": {},
   "outputs": [
    {
     "data": {
      "text/plain": [
       "'id'"
      ]
     },
     "execution_count": 129,
     "metadata": {},
     "output_type": "execute_result"
    }
   ],
   "source": [
    "items[0][0]"
   ]
  },
  {
   "cell_type": "code",
   "execution_count": 151,
   "id": "035e88f7",
   "metadata": {},
   "outputs": [],
   "source": [
    "D = {}\n",
    "L = []"
   ]
  },
  {
   "cell_type": "code",
   "execution_count": 152,
   "id": "004ffa6f",
   "metadata": {},
   "outputs": [],
   "source": [
    "L += ['a']"
   ]
  },
  {
   "cell_type": "code",
   "execution_count": 153,
   "id": "633a8761",
   "metadata": {},
   "outputs": [
    {
     "data": {
      "text/plain": [
       "['a']"
      ]
     },
     "execution_count": 153,
     "metadata": {},
     "output_type": "execute_result"
    }
   ],
   "source": [
    "L"
   ]
  },
  {
   "cell_type": "code",
   "execution_count": 154,
   "id": "d6556b8c",
   "metadata": {},
   "outputs": [],
   "source": [
    "D[1]='a'"
   ]
  },
  {
   "cell_type": "code",
   "execution_count": 156,
   "id": "1719b06e",
   "metadata": {},
   "outputs": [
    {
     "data": {
      "text/plain": [
       "{1: 'a'}"
      ]
     },
     "execution_count": 156,
     "metadata": {},
     "output_type": "execute_result"
    }
   ],
   "source": [
    "D"
   ]
  },
  {
   "cell_type": "code",
   "execution_count": 157,
   "id": "ce01f0c1",
   "metadata": {},
   "outputs": [
    {
     "name": "stdout",
     "output_type": "stream",
     "text": [
      "('id', 2)\n",
      "('form', 'ka')\n",
      "('lemma', '_')\n",
      "('upos', 'PART')\n",
      "('xpos', None)\n",
      "('feats', None)\n",
      "('head', 9)\n",
      "('deprel', 'aux:sgen')\n",
      "('deps', None)\n",
      "('misc', {'nar:3': ''})\n"
     ]
    }
   ],
   "source": [
    "## diccionario vacío\n",
    "D = {}\n",
    "\n",
    "## recorremos los items\n",
    "for item in items:\n",
    "    print(item)\n",
    "    D[item[0]] = item[1]"
   ]
  },
  {
   "cell_type": "code",
   "execution_count": 158,
   "id": "d5cd7360",
   "metadata": {},
   "outputs": [
    {
     "data": {
      "text/plain": [
       "{'id': 2,\n",
       " 'form': 'ka',\n",
       " 'lemma': '_',\n",
       " 'upos': 'PART',\n",
       " 'xpos': None,\n",
       " 'feats': None,\n",
       " 'head': 9,\n",
       " 'deprel': 'aux:sgen',\n",
       " 'deps': None,\n",
       " 'misc': {'nar:3': ''}}"
      ]
     },
     "execution_count": 158,
     "metadata": {},
     "output_type": "execute_result"
    }
   ],
   "source": [
    "D"
   ]
  },
  {
   "cell_type": "markdown",
   "id": "d664d426",
   "metadata": {},
   "source": [
    "Analicemos ahora la **oración en Kakataibo!**"
   ]
  },
  {
   "cell_type": "code",
   "execution_count": 159,
   "id": "92d0558c",
   "metadata": {},
   "outputs": [],
   "source": [
    "D = {1:'a',2:'b'}"
   ]
  },
  {
   "cell_type": "code",
   "execution_count": 160,
   "id": "fae97cec",
   "metadata": {},
   "outputs": [],
   "source": [
    "D[1]='gato'"
   ]
  },
  {
   "cell_type": "code",
   "execution_count": 161,
   "id": "748b6848",
   "metadata": {},
   "outputs": [
    {
     "data": {
      "text/plain": [
       "{1: 'gato', 2: 'b'}"
      ]
     },
     "execution_count": 161,
     "metadata": {},
     "output_type": "execute_result"
    }
   ],
   "source": [
    "D"
   ]
  },
  {
   "cell_type": "code",
   "execution_count": 162,
   "id": "5810beca",
   "metadata": {},
   "outputs": [
    {
     "data": {
      "text/plain": [
       "TokenList<Uni, chaxké̈, achushi, =bëtan, ka, =na, ‘ë, =n, xubu, ‘ati, ‘ain, .>"
      ]
     },
     "execution_count": 162,
     "metadata": {},
     "output_type": "execute_result"
    }
   ],
   "source": [
    "sentence"
   ]
  },
  {
   "cell_type": "code",
   "execution_count": 163,
   "id": "b660464e",
   "metadata": {},
   "outputs": [
    {
     "data": {
      "text/plain": [
       "{'id': 1,\n",
       " 'form': 'Uni',\n",
       " 'lemma': 'uni',\n",
       " 'upos': 'NOUN',\n",
       " 'xpos': None,\n",
       " 'feats': None,\n",
       " 'head': 10,\n",
       " 'deprel': 'obl',\n",
       " 'deps': None,\n",
       " 'misc': {'man': ''}}"
      ]
     },
     "execution_count": 163,
     "metadata": {},
     "output_type": "execute_result"
    }
   ],
   "source": [
    "sentence[0]"
   ]
  },
  {
   "cell_type": "code",
   "execution_count": 164,
   "id": "b394802e",
   "metadata": {},
   "outputs": [],
   "source": [
    "## hacemos un cambio!\n",
    "\n",
    "sentence[0]['head']=11"
   ]
  },
  {
   "cell_type": "code",
   "execution_count": 165,
   "id": "4c8f2e9a",
   "metadata": {},
   "outputs": [
    {
     "data": {
      "text/plain": [
       "{'id': 1,\n",
       " 'form': 'Uni',\n",
       " 'lemma': 'uni',\n",
       " 'upos': 'NOUN',\n",
       " 'xpos': None,\n",
       " 'feats': None,\n",
       " 'head': 11,\n",
       " 'deprel': 'obl',\n",
       " 'deps': None,\n",
       " 'misc': {'man': ''}}"
      ]
     },
     "execution_count": 165,
     "metadata": {},
     "output_type": "execute_result"
    }
   ],
   "source": [
    "sentence[0]"
   ]
  },
  {
   "cell_type": "code",
   "execution_count": 166,
   "id": "c09f4e8f",
   "metadata": {},
   "outputs": [],
   "source": [
    "with open('kakataibo_v2.conllu', 'w',encoding='utf-8') as f:    \n",
    "    #f.writelines([sentence.serialize() + \"\\n\" for sentence in sentences])\n",
    "    f.writelines(sentence.serialize())"
   ]
  },
  {
   "cell_type": "markdown",
   "id": "6d19fa6f",
   "metadata": {},
   "source": [
    "Un poco sobre la librería para manejar datos UD"
   ]
  },
  {
   "cell_type": "code",
   "execution_count": 167,
   "id": "930e524e",
   "metadata": {},
   "outputs": [],
   "source": [
    "## leemos denuevo los datos :)\n",
    "\n",
    "data_k = open(\"kakataibo.conllu\", \"r\", encoding=\"utf-8\")\n",
    "data_k = data_k.read()\n",
    "kakataibo = parse(data_k)"
   ]
  },
  {
   "cell_type": "code",
   "execution_count": 168,
   "id": "75701acb",
   "metadata": {},
   "outputs": [],
   "source": [
    "## la primera oración, la única!\n",
    "\n",
    "sentence = kakataibo[0]"
   ]
  },
  {
   "cell_type": "code",
   "execution_count": 169,
   "id": "f4686f25",
   "metadata": {},
   "outputs": [
    {
     "data": {
      "text/plain": [
       "TokenList<chaxké̈>"
      ]
     },
     "execution_count": 169,
     "metadata": {},
     "output_type": "execute_result"
    }
   ],
   "source": [
    "## ¿Cómo podemos filtrar las oraciones?\n",
    "\n",
    "## x forma\n",
    "sentence.filter(form='chaxké̈')"
   ]
  },
  {
   "cell_type": "code",
   "execution_count": 170,
   "id": "9246dc60",
   "metadata": {},
   "outputs": [
    {
     "data": {
      "text/plain": [
       "TokenList<‘ati>"
      ]
     },
     "execution_count": 170,
     "metadata": {},
     "output_type": "execute_result"
    }
   ],
   "source": [
    "## x upos\n",
    "sentence.filter(upos='VERB')"
   ]
  },
  {
   "cell_type": "code",
   "execution_count": 171,
   "id": "e020e396",
   "metadata": {},
   "outputs": [
    {
     "data": {
      "text/plain": [
       "TokenList<Uni, xubu>"
      ]
     },
     "execution_count": 171,
     "metadata": {},
     "output_type": "execute_result"
    }
   ],
   "source": [
    "## x upos\n",
    "sentence.filter(upos='NOUN')"
   ]
  },
  {
   "cell_type": "code",
   "execution_count": 172,
   "id": "a349d551",
   "metadata": {},
   "outputs": [
    {
     "data": {
      "text/plain": [
       "{'id': 1,\n",
       " 'form': 'Uni',\n",
       " 'lemma': 'uni',\n",
       " 'upos': 'NOUN',\n",
       " 'xpos': None,\n",
       " 'feats': None,\n",
       " 'head': 10,\n",
       " 'deprel': 'obl',\n",
       " 'deps': None,\n",
       " 'misc': {'man': ''}}"
      ]
     },
     "execution_count": 172,
     "metadata": {},
     "output_type": "execute_result"
    }
   ],
   "source": [
    "sentence[0]"
   ]
  },
  {
   "cell_type": "code",
   "execution_count": 177,
   "id": "19b1c041",
   "metadata": {},
   "outputs": [],
   "source": [
    "heads = {}\n",
    "\n",
    "for token in sentence:\n",
    "    key = token['id']\n",
    "    heads[key]=-1"
   ]
  },
  {
   "cell_type": "code",
   "execution_count": 178,
   "id": "71049b95",
   "metadata": {},
   "outputs": [
    {
     "data": {
      "text/plain": [
       "{1: -1,\n",
       " 2: -1,\n",
       " 3: -1,\n",
       " 4: -1,\n",
       " 5: -1,\n",
       " 6: -1,\n",
       " 7: -1,\n",
       " 8: -1,\n",
       " 9: -1,\n",
       " 10: -1,\n",
       " 11: -1,\n",
       " 12: -1}"
      ]
     },
     "execution_count": 178,
     "metadata": {},
     "output_type": "execute_result"
    }
   ],
   "source": [
    "heads"
   ]
  },
  {
   "cell_type": "code",
   "execution_count": 180,
   "id": "ce32e32b",
   "metadata": {},
   "outputs": [],
   "source": [
    "## solución pendiente!!! :)\n",
    "\n",
    "for i in range(len(sentence)):\n",
    "    heads[sentence[i]['id']]=sentence[i]['head']"
   ]
  },
  {
   "cell_type": "code",
   "execution_count": 181,
   "id": "8c675716",
   "metadata": {},
   "outputs": [
    {
     "data": {
      "text/plain": [
       "{1: 10,\n",
       " 2: 1,\n",
       " 3: 1,\n",
       " 4: 1,\n",
       " 5: 10,\n",
       " 6: 10,\n",
       " 7: 9,\n",
       " 8: 7,\n",
       " 9: 10,\n",
       " 10: 0,\n",
       " 11: 10,\n",
       " 12: 10}"
      ]
     },
     "execution_count": 181,
     "metadata": {},
     "output_type": "execute_result"
    }
   ],
   "source": [
    "heads"
   ]
  },
  {
   "cell_type": "code",
   "execution_count": 173,
   "id": "4f185959",
   "metadata": {},
   "outputs": [],
   "source": [
    "## busquemos las heads!\n",
    "heads = {}\n",
    "\n",
    "for token in sentence:\n",
    "    heads[token['id']]=token['head'] "
   ]
  },
  {
   "cell_type": "code",
   "execution_count": 174,
   "id": "efc03822",
   "metadata": {},
   "outputs": [
    {
     "data": {
      "text/plain": [
       "{1: 10,\n",
       " 2: 1,\n",
       " 3: 1,\n",
       " 4: 1,\n",
       " 5: 10,\n",
       " 6: 10,\n",
       " 7: 9,\n",
       " 8: 7,\n",
       " 9: 10,\n",
       " 10: 0,\n",
       " 11: 10,\n",
       " 12: 10}"
      ]
     },
     "execution_count": 174,
     "metadata": {},
     "output_type": "execute_result"
    }
   ],
   "source": [
    "heads"
   ]
  },
  {
   "cell_type": "code",
   "execution_count": 182,
   "id": "bc8d6398",
   "metadata": {},
   "outputs": [],
   "source": [
    "## otra forma :)\n",
    "\n",
    "## busquemos las heads!\n",
    "heads_form = {}\n",
    "\n",
    "for token in sentence:\n",
    "    heads_form[token['id']]=[token['form'],token['head']]"
   ]
  },
  {
   "cell_type": "code",
   "execution_count": 183,
   "id": "65eb9594",
   "metadata": {},
   "outputs": [
    {
     "data": {
      "text/plain": [
       "{1: ['Uni', 10],\n",
       " 2: ['chaxké̈', 1],\n",
       " 3: ['achushi', 1],\n",
       " 4: ['=bëtan', 1],\n",
       " 5: ['ka', 10],\n",
       " 6: ['=na', 10],\n",
       " 7: ['‘ë', 9],\n",
       " 8: ['=n', 7],\n",
       " 9: ['xubu', 10],\n",
       " 10: ['‘ati', 0],\n",
       " 11: ['‘ain', 10],\n",
       " 12: ['.', 10]}"
      ]
     },
     "execution_count": 183,
     "metadata": {},
     "output_type": "execute_result"
    }
   ],
   "source": [
    "heads_form"
   ]
  },
  {
   "cell_type": "code",
   "execution_count": 223,
   "id": "9e23b129",
   "metadata": {},
   "outputs": [],
   "source": [
    "## otra otra forma!\n",
    "\n",
    "heads_forms2 = {}\n",
    "\n",
    "for token in sentence:\n",
    "    ## mini-tarea: queremos que los values sean las formas de que dependen los keys, y no los id's (tal como está ahora!!!)\n",
    "    if token['head']!=0:\n",
    "        heads_forms2[token['form']]=sentence[token['head']-1]['form']\n",
    "    else:\n",
    "        heads_forms2[token['form']]=token['form']"
   ]
  },
  {
   "cell_type": "code",
   "execution_count": 224,
   "id": "9f60703f",
   "metadata": {},
   "outputs": [
    {
     "data": {
      "text/plain": [
       "{'Uni': '‘ati',\n",
       " 'chaxké̈': 'Uni',\n",
       " 'achushi': 'Uni',\n",
       " '=bëtan': 'Uni',\n",
       " 'ka': '‘ati',\n",
       " '=na': '‘ati',\n",
       " '‘ë': 'xubu',\n",
       " '=n': '‘ë',\n",
       " 'xubu': '‘ati',\n",
       " '‘ati': '‘ati',\n",
       " '‘ain': '‘ati',\n",
       " '.': '‘ati'}"
      ]
     },
     "execution_count": 224,
     "metadata": {},
     "output_type": "execute_result"
    }
   ],
   "source": [
    "heads_forms2"
   ]
  },
  {
   "cell_type": "code",
   "execution_count": 193,
   "id": "6c026bde",
   "metadata": {},
   "outputs": [
    {
     "data": {
      "text/plain": [
       "{'id': 12,\n",
       " 'form': '.',\n",
       " 'lemma': '_',\n",
       " 'upos': 'PUNCT',\n",
       " 'xpos': None,\n",
       " 'feats': None,\n",
       " 'head': 10,\n",
       " 'deprel': 'punct',\n",
       " 'deps': None,\n",
       " 'misc': None}"
      ]
     },
     "execution_count": 193,
     "metadata": {},
     "output_type": "execute_result"
    }
   ],
   "source": [
    "token"
   ]
  },
  {
   "cell_type": "markdown",
   "id": "1260e1e2",
   "metadata": {},
   "source": [
    "## Ejercicios sobre dependencias :)"
   ]
  },
  {
   "cell_type": "markdown",
   "id": "17134e04",
   "metadata": {},
   "source": [
    "Para una **oración**, identifique todos los **tokens** y los **types**. "
   ]
  },
  {
   "cell_type": "code",
   "execution_count": 194,
   "id": "1a37794e",
   "metadata": {},
   "outputs": [
    {
     "data": {
      "text/plain": [
       "TokenList<Uni, chaxké̈, achushi, =bëtan, ka, =na, ‘ë, =n, xubu, ‘ati, ‘ain, .>"
      ]
     },
     "execution_count": 194,
     "metadata": {},
     "output_type": "execute_result"
    }
   ],
   "source": [
    "sentence"
   ]
  },
  {
   "cell_type": "code",
   "execution_count": 214,
   "id": "30805bf1",
   "metadata": {},
   "outputs": [],
   "source": [
    "tokens = []\n",
    "types = []"
   ]
  },
  {
   "cell_type": "code",
   "execution_count": 215,
   "id": "2e85dccd",
   "metadata": {},
   "outputs": [],
   "source": [
    "puntuacion = ['.',',']\n",
    "\n",
    "for d in sentence:\n",
    "    form = d['form']\n",
    "    if form not in puntuacion:\n",
    "        tokens+=[form.lower()]"
   ]
  },
  {
   "cell_type": "code",
   "execution_count": 216,
   "id": "5f37bda1",
   "metadata": {},
   "outputs": [
    {
     "data": {
      "text/plain": [
       "['uni',\n",
       " 'chaxké̈',\n",
       " 'achushi',\n",
       " '=bëtan',\n",
       " 'ka',\n",
       " '=na',\n",
       " '‘ë',\n",
       " '=n',\n",
       " 'xubu',\n",
       " '‘ati',\n",
       " '‘ain']"
      ]
     },
     "execution_count": 216,
     "metadata": {},
     "output_type": "execute_result"
    }
   ],
   "source": [
    "tokens"
   ]
  },
  {
   "cell_type": "code",
   "execution_count": 217,
   "id": "cf8423f7",
   "metadata": {},
   "outputs": [],
   "source": [
    "for palabra in tokens:\n",
    "    if palabra not in types:\n",
    "        types+=[palabra]"
   ]
  },
  {
   "cell_type": "code",
   "execution_count": 218,
   "id": "96292215",
   "metadata": {},
   "outputs": [
    {
     "data": {
      "text/plain": [
       "['uni',\n",
       " 'chaxké̈',\n",
       " 'achushi',\n",
       " '=bëtan',\n",
       " 'ka',\n",
       " '=na',\n",
       " '‘ë',\n",
       " '=n',\n",
       " 'xubu',\n",
       " '‘ati',\n",
       " '‘ain']"
      ]
     },
     "execution_count": 218,
     "metadata": {},
     "output_type": "execute_result"
    }
   ],
   "source": [
    "types"
   ]
  },
  {
   "cell_type": "code",
   "execution_count": 219,
   "id": "3b3c0ad1",
   "metadata": {},
   "outputs": [],
   "source": [
    "types = list(set(tokens))"
   ]
  },
  {
   "cell_type": "code",
   "execution_count": 220,
   "id": "1a762aa4",
   "metadata": {},
   "outputs": [
    {
     "data": {
      "text/plain": [
       "['=bëtan',\n",
       " '‘ë',\n",
       " '‘ain',\n",
       " '=na',\n",
       " 'xubu',\n",
       " '‘ati',\n",
       " '=n',\n",
       " 'uni',\n",
       " 'achushi',\n",
       " 'chaxké̈',\n",
       " 'ka']"
      ]
     },
     "execution_count": 220,
     "metadata": {},
     "output_type": "execute_result"
    }
   ],
   "source": [
    "types"
   ]
  },
  {
   "cell_type": "markdown",
   "id": "c29672f5",
   "metadata": {},
   "source": [
    "Construya un **diccionario {type:frecuencia}** para cada **type** de una oración. "
   ]
  },
  {
   "cell_type": "markdown",
   "id": "d954163e",
   "metadata": {},
   "source": [
    "Ahora para un **conjunto de oraciones (un mini-corpus)** identifique los **tokens** y los **types** usados. "
   ]
  },
  {
   "cell_type": "markdown",
   "id": "9263a4e2",
   "metadata": {},
   "source": [
    "Construya un **diccionario {type:frecuencia}** para cada **type** del corpus. "
   ]
  },
  {
   "cell_type": "markdown",
   "id": "213a11bf",
   "metadata": {},
   "source": [
    "Para una oración, identifique los **POS tags**. Determine su frecuencia."
   ]
  },
  {
   "cell_type": "markdown",
   "id": "3b33fe23",
   "metadata": {},
   "source": [
    "Ahora para un **mini-corpus** identifique los **POS tags**. Determine su **frecuencia** en el corpus.  "
   ]
  },
  {
   "cell_type": "markdown",
   "id": "a17940a6",
   "metadata": {},
   "source": [
    "Identifique el **id** de la raíz y la **forma** asociada."
   ]
  },
  {
   "cell_type": "markdown",
   "id": "5913b240",
   "metadata": {},
   "source": [
    "Calcule las distancias entre **cada token** y la **raiz (head)**. Suponga que el número de tokens es $n$. Si las palabras sucesivas están numeradas desde la palabra 1, luego 2, hasta la palabra $n$, la **distancia** entre dos palabras en posiciones $i$ y $j$ se define como $|i-j|$. "
   ]
  },
  {
   "cell_type": "markdown",
   "id": "9f68453f",
   "metadata": {},
   "source": [
    "Calcule el **largo de dependencias** **promedio**, **máximo** y **mínimo**. "
   ]
  },
  {
   "cell_type": "markdown",
   "id": "3674fd34",
   "metadata": {},
   "source": [
    "[Paper :)](liu-dependencies-2017.pdf)"
   ]
  },
  {
   "cell_type": "markdown",
   "id": "bdf9f3da",
   "metadata": {},
   "source": [
    "[otro paper :)](W19-7911.pdf)"
   ]
  },
  {
   "cell_type": "code",
   "execution_count": null,
   "id": "eaf51c0a",
   "metadata": {},
   "outputs": [],
   "source": []
  }
 ],
 "metadata": {
  "kernelspec": {
   "display_name": "Python 3",
   "language": "python",
   "name": "python3"
  },
  "language_info": {
   "codemirror_mode": {
    "name": "ipython",
    "version": 3
   },
   "file_extension": ".py",
   "mimetype": "text/x-python",
   "name": "python",
   "nbconvert_exporter": "python",
   "pygments_lexer": "ipython3",
   "version": "3.8.8"
  }
 },
 "nbformat": 4,
 "nbformat_minor": 5
}
