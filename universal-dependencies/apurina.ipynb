{
 "cells": [
  {
   "cell_type": "markdown",
   "id": "615baa43",
   "metadata": {},
   "source": [
    "## Universal dependencies!\n",
    "### **Python** y Apurina!"
   ]
  },
  {
   "cell_type": "markdown",
   "id": "0f4f9fb7",
   "metadata": {},
   "source": [
    "Un [apurina](https://github.com/UniversalDependencies/UD_Apurina-UFPA)"
   ]
  },
  {
   "cell_type": "markdown",
   "id": "b4cbac4f",
   "metadata": {},
   "source": [
    "Librería [conllu](https://github.com/EmilStenstrom/conllu/)"
   ]
  },
  {
   "cell_type": "code",
   "execution_count": 1,
   "id": "d364b21e",
   "metadata": {},
   "outputs": [
    {
     "name": "stdout",
     "output_type": "stream",
     "text": [
      "Requirement already satisfied: conllu in c:\\users\\jxver\\anaconda3\\lib\\site-packages (4.4.1)\n"
     ]
    },
    {
     "name": "stderr",
     "output_type": "stream",
     "text": [
      "WARNING: You are using pip version 21.2.4; however, version 21.3 is available.\n",
      "You should consider upgrading via the 'c:\\users\\jxver\\anaconda3\\python.exe -m pip install --upgrade pip' command.\n"
     ]
    }
   ],
   "source": [
    "!pip install conllu"
   ]
  },
  {
   "cell_type": "code",
   "execution_count": 4,
   "id": "1859f9a7",
   "metadata": {},
   "outputs": [],
   "source": [
    "## ahora, lo volvemos a leer :)\n",
    "\n",
    "from io import open\n",
    "from conllu import parse\n",
    "\n",
    "data_apurina = open(\"apu_ufpa-ud-test.conllu\", \"r\", encoding=\"utf-8\")\n",
    "data_apurina = data_apurina.read()\n",
    "apurina = parse(data_apurina)"
   ]
  },
  {
   "cell_type": "code",
   "execution_count": 5,
   "id": "0474fa7f",
   "metadata": {},
   "outputs": [
    {
     "data": {
      "text/plain": [
       "88"
      ]
     },
     "execution_count": 5,
     "metadata": {},
     "output_type": "execute_result"
    }
   ],
   "source": [
    "len(apurina)"
   ]
  },
  {
   "cell_type": "code",
   "execution_count": 10,
   "id": "0c0df0c2",
   "metadata": {},
   "outputs": [
    {
     "data": {
      "text/plain": [
       "[TokenList<Pupỹkary, ithupa, sikasaaky, atamatary, erẽkatxi, .>,\n",
       " TokenList<Yẽrẽkatikinhi, iãkynytikinhi, sããputa, apukary, apy, .>,\n",
       " TokenList<Inhinhiã, ywa, apikumunhi, ysa, iãkynykata, apukary, uky, .>,\n",
       " TokenList<Txamary, aapanhika, kaiãpukury, arẽka, awa, .>,\n",
       " TokenList<Inhinhiã, ĩkana, iie, iãkynytikinhi, sããputa, era, apukary, ymata, .>]"
      ]
     },
     "execution_count": 10,
     "metadata": {},
     "output_type": "execute_result"
    }
   ],
   "source": [
    "## lista de objetos TokenList\n",
    "\n",
    "apurina[:5]"
   ]
  },
  {
   "cell_type": "code",
   "execution_count": 11,
   "id": "aec069e6",
   "metadata": {},
   "outputs": [],
   "source": [
    "## ejemplo!\n",
    "\n",
    "sentence = apurina[10]"
   ]
  },
  {
   "cell_type": "code",
   "execution_count": 12,
   "id": "22e5159d",
   "metadata": {},
   "outputs": [
    {
     "data": {
      "text/plain": [
       "TokenList<Uwa, awary, kaiãapukury, ũimiakury, .>"
      ]
     },
     "execution_count": 12,
     "metadata": {},
     "output_type": "execute_result"
    }
   ],
   "source": [
    "sentence"
   ]
  },
  {
   "cell_type": "code",
   "execution_count": 14,
   "id": "d01932e3",
   "metadata": {},
   "outputs": [],
   "source": [
    "## miremos la información que tienen las palabras\n",
    "\n",
    "token = sentence[0]"
   ]
  },
  {
   "cell_type": "code",
   "execution_count": 15,
   "id": "c8287090",
   "metadata": {},
   "outputs": [
    {
     "data": {
      "text/plain": [
       "{'id': 1,\n",
       " 'form': 'Uwa',\n",
       " 'lemma': 'uwa',\n",
       " 'upos': 'PRON',\n",
       " 'xpos': 'Pron',\n",
       " 'feats': {'Case': 'Nom',\n",
       "  'Gender': 'Fem',\n",
       "  'Number': 'Sing',\n",
       "  'Person': '3',\n",
       "  'PronType': 'Prs'},\n",
       " 'head': 2,\n",
       " 'deprel': 'nsubj',\n",
       " 'deps': None,\n",
       " 'misc': {'gloss[pt]': '3SG.F'}}"
      ]
     },
     "execution_count": 15,
     "metadata": {},
     "output_type": "execute_result"
    }
   ],
   "source": [
    "token"
   ]
  },
  {
   "cell_type": "code",
   "execution_count": 17,
   "id": "535969dc",
   "metadata": {},
   "outputs": [],
   "source": [
    "with open('sentence_apurina.conllu', 'w',encoding='utf-8') as f:    \n",
    "    #f.writelines([sentence.serialize() + \"\\n\" for sentence in sentences])\n",
    "    f.writelines(sentence.serialize())"
   ]
  },
  {
   "cell_type": "code",
   "execution_count": 25,
   "id": "bff3cf29",
   "metadata": {},
   "outputs": [
    {
     "data": {
      "text/plain": [
       "{'id': 4,\n",
       " 'form': 'ũimiakury',\n",
       " 'lemma': 'imi',\n",
       " 'upos': 'NOUN',\n",
       " 'xpos': 'N',\n",
       " 'feats': {'Case': 'Nom',\n",
       "  'Gender': 'Masc',\n",
       "  'Gender[psor]': 'Fem',\n",
       "  'Number': 'Plur',\n",
       "  'Number[psor]': 'Sing'},\n",
       " 'head': 2,\n",
       " 'deprel': 'obj',\n",
       " 'deps': None,\n",
       " 'misc': {'gloss[pt]': '3SG.F-filho.de-pl', 'SpaceAfter': 'No'}}"
      ]
     },
     "execution_count": 25,
     "metadata": {},
     "output_type": "execute_result"
    }
   ],
   "source": [
    "## cambiemos una oración!\n",
    "\n",
    "sentence[3]"
   ]
  },
  {
   "cell_type": "code",
   "execution_count": 26,
   "id": "5f114029",
   "metadata": {},
   "outputs": [
    {
     "data": {
      "text/plain": [
       "'obj'"
      ]
     },
     "execution_count": 26,
     "metadata": {},
     "output_type": "execute_result"
    }
   ],
   "source": [
    "sentence[3]['deprel']"
   ]
  },
  {
   "cell_type": "code",
   "execution_count": 29,
   "id": "1bdf58c6",
   "metadata": {},
   "outputs": [],
   "source": [
    "## hacemos un cambio!\n",
    "\n",
    "sentence[3]['deprel']='iobj'"
   ]
  },
  {
   "cell_type": "code",
   "execution_count": 30,
   "id": "d3c4c6aa",
   "metadata": {},
   "outputs": [],
   "source": [
    "with open('sentence_apurina_v2.conllu', 'w',encoding='utf-8') as f:    \n",
    "    #f.writelines([sentence.serialize() + \"\\n\" for sentence in sentences])\n",
    "    f.writelines(sentence.serialize())"
   ]
  },
  {
   "cell_type": "markdown",
   "id": "5db66964",
   "metadata": {},
   "source": [
    "Un poco sobre la librería para manejar datos UD"
   ]
  },
  {
   "cell_type": "code",
   "execution_count": 31,
   "id": "f4686f25",
   "metadata": {},
   "outputs": [
    {
     "data": {
      "text/plain": [
       "TokenList<ũimiakury>"
      ]
     },
     "execution_count": 31,
     "metadata": {},
     "output_type": "execute_result"
    }
   ],
   "source": [
    "## ¿Cómo podemos filtrar las oraciones?\n",
    "\n",
    "## x forma\n",
    "sentence.filter(form='ũimiakury')"
   ]
  },
  {
   "cell_type": "code",
   "execution_count": 33,
   "id": "9246dc60",
   "metadata": {},
   "outputs": [
    {
     "data": {
      "text/plain": [
       "TokenList<awary>"
      ]
     },
     "execution_count": 33,
     "metadata": {},
     "output_type": "execute_result"
    }
   ],
   "source": [
    "## x upos\n",
    "sentence.filter(upos='VERB')"
   ]
  },
  {
   "cell_type": "code",
   "execution_count": 34,
   "id": "e020e396",
   "metadata": {},
   "outputs": [
    {
     "data": {
      "text/plain": [
       "TokenList<kaiãapukury>"
      ]
     },
     "execution_count": 34,
     "metadata": {},
     "output_type": "execute_result"
    }
   ],
   "source": [
    "## x upos\n",
    "sentence.filter(upos='DET')"
   ]
  },
  {
   "cell_type": "code",
   "execution_count": 60,
   "id": "34b1d2e9",
   "metadata": {},
   "outputs": [
    {
     "data": {
      "text/plain": [
       "{'id': 5,\n",
       " 'form': 'jumps',\n",
       " 'lemma': 'jump',\n",
       " 'upos': 'VERB',\n",
       " 'xpos': 'VBZ',\n",
       " 'feats': {'Mood': 'Ind',\n",
       "  'Number': 'Sing',\n",
       "  'Person': '3',\n",
       "  'Tense': 'Pres',\n",
       "  'VerbForm': 'Fin'},\n",
       " 'head': 0,\n",
       " 'deprel': 'root',\n",
       " 'deps': None,\n",
       " 'misc': None}"
      ]
     },
     "execution_count": 60,
     "metadata": {},
     "output_type": "execute_result"
    }
   ],
   "source": [
    "token"
   ]
  },
  {
   "cell_type": "code",
   "execution_count": 35,
   "id": "7b0afe9c",
   "metadata": {},
   "outputs": [
    {
     "data": {
      "text/plain": [
       "TokenList<Uwa, ũimiakury>"
      ]
     },
     "execution_count": 35,
     "metadata": {},
     "output_type": "execute_result"
    }
   ],
   "source": [
    "## x rasgo: noten que estamos entrando a un diccionario\n",
    "sentence.filter(feats__Case=\"Nom\")"
   ]
  },
  {
   "cell_type": "code",
   "execution_count": 36,
   "id": "4f185959",
   "metadata": {},
   "outputs": [],
   "source": [
    "## busquemos las heads!\n",
    "heads = {}\n",
    "\n",
    "for token in sentence:\n",
    "    heads[token['id']]=token['head'] "
   ]
  },
  {
   "cell_type": "code",
   "execution_count": 37,
   "id": "efc03822",
   "metadata": {},
   "outputs": [
    {
     "data": {
      "text/plain": [
       "{1: 2, 2: 0, 3: 4, 4: 2, 5: 2}"
      ]
     },
     "execution_count": 37,
     "metadata": {},
     "output_type": "execute_result"
    }
   ],
   "source": [
    "heads"
   ]
  },
  {
   "cell_type": "code",
   "execution_count": 38,
   "id": "bc8d6398",
   "metadata": {},
   "outputs": [],
   "source": [
    "## otra forma :)\n",
    "\n",
    "## busquemos las heads!\n",
    "heads_form = {}\n",
    "\n",
    "for token in sentence:\n",
    "    heads_form[token['id']]=[token['form'],token['head']]"
   ]
  },
  {
   "cell_type": "code",
   "execution_count": 40,
   "id": "65eb9594",
   "metadata": {},
   "outputs": [
    {
     "data": {
      "text/plain": [
       "{1: ['Uwa', 2],\n",
       " 2: ['awary', 0],\n",
       " 3: ['kaiãapukury', 4],\n",
       " 4: ['ũimiakury', 2],\n",
       " 5: ['.', 2]}"
      ]
     },
     "execution_count": 40,
     "metadata": {},
     "output_type": "execute_result"
    }
   ],
   "source": [
    "heads_form"
   ]
  },
  {
   "cell_type": "code",
   "execution_count": null,
   "id": "7e6b5bf6",
   "metadata": {},
   "outputs": [],
   "source": []
  }
 ],
 "metadata": {
  "kernelspec": {
   "display_name": "Python 3",
   "language": "python",
   "name": "python3"
  },
  "language_info": {
   "codemirror_mode": {
    "name": "ipython",
    "version": 3
   },
   "file_extension": ".py",
   "mimetype": "text/x-python",
   "name": "python",
   "nbconvert_exporter": "python",
   "pygments_lexer": "ipython3",
   "version": "3.8.8"
  }
 },
 "nbformat": 4,
 "nbformat_minor": 5
}
