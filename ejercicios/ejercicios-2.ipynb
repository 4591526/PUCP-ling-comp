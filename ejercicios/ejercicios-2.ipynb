{
 "cells": [
  {
   "cell_type": "markdown",
   "id": "1e8ee772",
   "metadata": {},
   "source": [
    "## Ejercicios"
   ]
  },
  {
   "cell_type": "markdown",
   "id": "298eecc9",
   "metadata": {},
   "source": [
    "### 1. Listas"
   ]
  },
  {
   "cell_type": "markdown",
   "id": "a65ce1cb",
   "metadata": {},
   "source": [
    "(problema basado en una consulta!) Considere tres listas A, B y C:"
   ]
  },
  {
   "cell_type": "code",
   "execution_count": 7,
   "id": "bde7515e",
   "metadata": {},
   "outputs": [],
   "source": [
    "A = ['verde','rojo', 'azul']\n",
    "B = ['gato','perro','serpiente']\n",
    "C = ['mesa','silla','sillón']"
   ]
  },
  {
   "cell_type": "markdown",
   "id": "c8164f5c",
   "metadata": {},
   "source": [
    "Defina una nueva lista, D, que contenga la concatenación de los elementos respectivos de A, B y C. Por ejemplo,\n",
    "\n",
    "```python:\n",
    "D = ['verde gato mesa', 'rojo perro silla', 'azul serpiente sillón']\n",
    "```\n",
    "Note que incluimos un espacio entre los strings!"
   ]
  },
  {
   "cell_type": "markdown",
   "id": "e6efc204",
   "metadata": {},
   "source": [
    "Pensemos en otra variante. Con las mismas tres listas, defina:\n",
    "    \n",
    "```python:\n",
    "E = ['verde rojo azul', 'gato perro serpiente', 'mesa silla sillón']\n",
    "```"
   ]
  },
  {
   "cell_type": "markdown",
   "id": "411e36f3",
   "metadata": {},
   "source": [
    "Resuma las tres listas en un string, es decir, defina\n",
    "\n",
    "```python:\n",
    "string = 'verde rojo azul gato perro serpiente mesa silla sillón'\n",
    "```"
   ]
  },
  {
   "cell_type": "markdown",
   "id": "1df4a24c",
   "metadata": {},
   "source": [
    "Transforme este string en una lista dividiendo en tokens por espacios en blanco. "
   ]
  },
  {
   "cell_type": "markdown",
   "id": "012244e6",
   "metadata": {},
   "source": [
    "### 2. Ciclos for!"
   ]
  },
  {
   "cell_type": "markdown",
   "id": "ff7f70ce",
   "metadata": {},
   "source": [
    "Considere el siguiente string:"
   ]
  },
  {
   "cell_type": "code",
   "execution_count": 12,
   "id": "0fd047b3",
   "metadata": {},
   "outputs": [],
   "source": [
    "string = 'Sus logros incluyen los primeros estudios sobre el fenómeno de la radiactividad (término que ella misma acuñó), técnicas para el aislamiento de isótopos radiactivos y el descubrimiento de dos elementos'"
   ]
  },
  {
   "cell_type": "markdown",
   "id": "82e9ab8b",
   "metadata": {},
   "source": [
    "Construya una lista, A, que contenga los tokens (como secuencias entre espacios en blanco) en minúscula."
   ]
  },
  {
   "cell_type": "markdown",
   "id": "e1e587fe",
   "metadata": {},
   "source": [
    "Construya otra lista, B, que contenga el largo de cada string de A. Sume todos los elementos de la lista B. "
   ]
  },
  {
   "cell_type": "markdown",
   "id": "113f9316",
   "metadata": {},
   "source": [
    "Construya otra lista, C, que contenga los elementos de A, pero sin repetición (es decir, los types). "
   ]
  },
  {
   "cell_type": "markdown",
   "id": "ec8fc124",
   "metadata": {},
   "source": [
    "Construya otra lista, D, que contenga cuántas veces aparecen los types de C en A. "
   ]
  },
  {
   "cell_type": "code",
   "execution_count": null,
   "id": "5017fc91",
   "metadata": {},
   "outputs": [],
   "source": []
  }
 ],
 "metadata": {
  "kernelspec": {
   "display_name": "Python 3",
   "language": "python",
   "name": "python3"
  },
  "language_info": {
   "codemirror_mode": {
    "name": "ipython",
    "version": 3
   },
   "file_extension": ".py",
   "mimetype": "text/x-python",
   "name": "python",
   "nbconvert_exporter": "python",
   "pygments_lexer": "ipython3",
   "version": "3.8.8"
  }
 },
 "nbformat": 4,
 "nbformat_minor": 5
}
