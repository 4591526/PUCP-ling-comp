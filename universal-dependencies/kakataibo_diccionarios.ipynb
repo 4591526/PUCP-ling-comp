{
 "cells": [
  {
   "cell_type": "markdown",
   "id": "615baa43",
   "metadata": {},
   "source": [
    "## Universal dependencies!\n",
    "### **Kakataibo!**"
   ]
  },
  {
   "cell_type": "markdown",
   "id": "b4cbac4f",
   "metadata": {},
   "source": [
    "Librería [conllu](https://github.com/EmilStenstrom/conllu/)"
   ]
  },
  {
   "cell_type": "markdown",
   "id": "481ebb1f",
   "metadata": {},
   "source": [
    "Instrucciones [UD](https://universaldependencies.org/u/overview/simple-syntax.html#intransitive-and-transitive-clauses)"
   ]
  },
  {
   "cell_type": "markdown",
   "id": "7e5f7e9c",
   "metadata": {},
   "source": [
    "[Annotatrix](https://jonorthwash.github.io/ud-annotatrix/server/public/html/annotatrix.html#1)"
   ]
  },
  {
   "cell_type": "code",
   "execution_count": 1,
   "id": "d364b21e",
   "metadata": {},
   "outputs": [],
   "source": [
    "#!pip install conllu"
   ]
  },
  {
   "cell_type": "code",
   "execution_count": 2,
   "id": "31d838d9",
   "metadata": {},
   "outputs": [],
   "source": [
    "## ahora, lo volvemos a leer :)\n",
    "\n",
    "from io import open\n",
    "from conllu import parse\n",
    "\n",
    "data_k = open(\"ud-annotatrix-corpus-s.conllu\", \"r\", encoding=\"utf-8\")\n",
    "data_k = data_k.read()\n",
    "kakataibo = parse(data_k)"
   ]
  },
  {
   "cell_type": "code",
   "execution_count": 4,
   "id": "0b0f9f1b",
   "metadata": {},
   "outputs": [
    {
     "data": {
      "text/plain": [
       "6"
      ]
     },
     "execution_count": 4,
     "metadata": {},
     "output_type": "execute_result"
    }
   ],
   "source": [
    "len(kakataibo)"
   ]
  },
  {
   "cell_type": "code",
   "execution_count": 5,
   "id": "88ac065a",
   "metadata": {},
   "outputs": [
    {
     "data": {
      "text/plain": [
       "[TokenList<Emilio, ka, =a, mas, xuá, ki, Roberto, =ma, ‘ikën, .>,\n",
       " TokenList<atian, casi, kamabi, nëtë, =n, ka, =is, =a, a, uni, kwan-akë-x-ín, .>,\n",
       " TokenList<paën-xun, ka, =na, ‘ë, =n, ‘atsa, kwëën-i-n, .>,\n",
       " TokenList<nukën, papaokë, =kama, ka, =a, uni, chaxké, siná, uni, ‘i-akë-x-a, .>,\n",
       " TokenList<ka, =nanuna, toxama, upí, bits-tankëxun, taish, a, bits-tankëxun, ka, =nanuna, ‘aru-i-n, .>,\n",
       " TokenList<maru-kin, no-n, buan-akë-x-ín, .>]"
      ]
     },
     "execution_count": 5,
     "metadata": {},
     "output_type": "execute_result"
    }
   ],
   "source": [
    "## lista de objetos TokenList\n",
    "\n",
    "kakataibo"
   ]
  },
  {
   "cell_type": "code",
   "execution_count": 5,
   "id": "48af24d8",
   "metadata": {},
   "outputs": [
    {
     "data": {
      "text/plain": [
       "6"
      ]
     },
     "execution_count": 5,
     "metadata": {},
     "output_type": "execute_result"
    }
   ],
   "source": [
    "## número de oraciones\n",
    "\n",
    "len(kakataibo)"
   ]
  },
  {
   "cell_type": "code",
   "execution_count": 6,
   "id": "0a24d6d6",
   "metadata": {},
   "outputs": [],
   "source": [
    "## ejemplo!\n",
    "\n",
    "sentence = kakataibo[0]"
   ]
  },
  {
   "cell_type": "code",
   "execution_count": 7,
   "id": "2fa97bfa",
   "metadata": {},
   "outputs": [
    {
     "data": {
      "text/plain": [
       "TokenList<Emilio, ka, =a, mas, xuá, ki, Roberto, =ma, ‘ikën, .>"
      ]
     },
     "execution_count": 7,
     "metadata": {},
     "output_type": "execute_result"
    }
   ],
   "source": [
    "sentence"
   ]
  },
  {
   "cell_type": "code",
   "execution_count": 8,
   "id": "b642e86a",
   "metadata": {},
   "outputs": [
    {
     "data": {
      "text/plain": [
       "10"
      ]
     },
     "execution_count": 8,
     "metadata": {},
     "output_type": "execute_result"
    }
   ],
   "source": [
    "## número de tokens\n",
    "\n",
    "len(sentence)"
   ]
  },
  {
   "cell_type": "code",
   "execution_count": 9,
   "id": "095078a4",
   "metadata": {},
   "outputs": [],
   "source": [
    "largos = []\n",
    "\n",
    "for oracion in kakataibo:\n",
    "    largos+=[len(oracion)]"
   ]
  },
  {
   "cell_type": "code",
   "execution_count": 10,
   "id": "ca935bc3",
   "metadata": {},
   "outputs": [
    {
     "data": {
      "text/plain": [
       "[10, 12, 8, 11, 12, 4]"
      ]
     },
     "execution_count": 10,
     "metadata": {},
     "output_type": "execute_result"
    }
   ],
   "source": [
    "largos"
   ]
  },
  {
   "cell_type": "code",
   "execution_count": 11,
   "id": "7f8163b9",
   "metadata": {},
   "outputs": [
    {
     "data": {
      "text/plain": [
       "12"
      ]
     },
     "execution_count": 11,
     "metadata": {},
     "output_type": "execute_result"
    }
   ],
   "source": [
    "import numpy as np\n",
    "\n",
    "np.round(np.max(largos),0)"
   ]
  },
  {
   "cell_type": "code",
   "execution_count": 12,
   "id": "220f6165",
   "metadata": {},
   "outputs": [
    {
     "name": "stdout",
     "output_type": "stream",
     "text": [
      "promedio:  9.5\n",
      "mediana:  10.5\n",
      "máximo:  12\n",
      "mínimo:  4\n",
      "desviación:  2.8136571693556887\n",
      "número de tokens:  57\n"
     ]
    }
   ],
   "source": [
    "print('promedio:  '+str(np.mean(largos)))\n",
    "print('mediana:  '+str(np.median(largos)))\n",
    "print('máximo:  '+str(np.max(largos)))\n",
    "print('mínimo:  '+str(np.min(largos)))\n",
    "print('desviación:  '+str(np.std(largos)))\n",
    "print('número de tokens:  '+str(sum(largos)))"
   ]
  },
  {
   "cell_type": "code",
   "execution_count": 13,
   "id": "25b47ac4",
   "metadata": {},
   "outputs": [],
   "source": [
    "## algunas peros: puntuación; otras medidas (moda, mediana, máximo, mínimo); elementos que separamos antes; detalle (mayúsculas/minúsculas)"
   ]
  },
  {
   "cell_type": "code",
   "execution_count": 14,
   "id": "1e2aed87",
   "metadata": {},
   "outputs": [],
   "source": [
    "## miremos la información que tienen las palabras\n",
    "\n",
    "token = sentence[1]"
   ]
  },
  {
   "cell_type": "code",
   "execution_count": 15,
   "id": "046cf6f5",
   "metadata": {},
   "outputs": [],
   "source": [
    "## es decir, token es una lista"
   ]
  },
  {
   "cell_type": "code",
   "execution_count": 16,
   "id": "5a05bd59",
   "metadata": {},
   "outputs": [
    {
     "data": {
      "text/plain": [
       "{'id': 2,\n",
       " 'form': 'ka',\n",
       " 'lemma': '_',\n",
       " 'upos': 'PART',\n",
       " 'xpos': None,\n",
       " 'feats': None,\n",
       " 'head': 9,\n",
       " 'deprel': 'aux:sgen',\n",
       " 'deps': None,\n",
       " 'misc': {'nar:3': ''}}"
      ]
     },
     "execution_count": 16,
     "metadata": {},
     "output_type": "execute_result"
    }
   ],
   "source": [
    "token"
   ]
  },
  {
   "cell_type": "markdown",
   "id": "20ca195c",
   "metadata": {},
   "source": [
    "Cada palabra en la **lista sentence** es un **diccionario!!! :)**"
   ]
  },
  {
   "cell_type": "code",
   "execution_count": 17,
   "id": "1ef1044b",
   "metadata": {},
   "outputs": [],
   "source": [
    "## veamos qué hay adentro de token\n",
    "\n",
    "keys = list(token.keys())"
   ]
  },
  {
   "cell_type": "code",
   "execution_count": 18,
   "id": "fb9a76ed",
   "metadata": {},
   "outputs": [
    {
     "data": {
      "text/plain": [
       "['id',\n",
       " 'form',\n",
       " 'lemma',\n",
       " 'upos',\n",
       " 'xpos',\n",
       " 'feats',\n",
       " 'head',\n",
       " 'deprel',\n",
       " 'deps',\n",
       " 'misc']"
      ]
     },
     "execution_count": 18,
     "metadata": {},
     "output_type": "execute_result"
    }
   ],
   "source": [
    "keys"
   ]
  },
  {
   "cell_type": "code",
   "execution_count": 19,
   "id": "a28ba0f2",
   "metadata": {},
   "outputs": [],
   "source": [
    "values = list(token.values())"
   ]
  },
  {
   "cell_type": "code",
   "execution_count": 20,
   "id": "8e43e58b",
   "metadata": {},
   "outputs": [
    {
     "data": {
      "text/plain": [
       "[2, 'ka', '_', 'PART', None, None, 9, 'aux:sgen', None, {'nar:3': ''}]"
      ]
     },
     "execution_count": 20,
     "metadata": {},
     "output_type": "execute_result"
    }
   ],
   "source": [
    "values"
   ]
  },
  {
   "cell_type": "markdown",
   "id": "31eda048",
   "metadata": {},
   "source": [
    "La lista **keys** contiene las entradas del diccionario token, de la misma forma en que un diccionario léxico tiene entradas. Los **keys** siempre son distintos. Los **values** son de alguna forma las \"definiciones\" asociadas a los keys. En general, los **keys** son enteros o strings, los **values** pueden ser cualquier cosa: otros diccionarios, listas, números, strings. Veamos algunos asuntos prácticos!"
   ]
  },
  {
   "cell_type": "code",
   "execution_count": 21,
   "id": "2569484c",
   "metadata": {},
   "outputs": [],
   "source": [
    "## los diccionarios tiene largo\n",
    "\n",
    "largo = len(token)"
   ]
  },
  {
   "cell_type": "code",
   "execution_count": 22,
   "id": "2c7bdfbe",
   "metadata": {},
   "outputs": [
    {
     "data": {
      "text/plain": [
       "10"
      ]
     },
     "execution_count": 22,
     "metadata": {},
     "output_type": "execute_result"
    }
   ],
   "source": [
    "largo"
   ]
  },
  {
   "cell_type": "code",
   "execution_count": 23,
   "id": "ad2608cb",
   "metadata": {},
   "outputs": [
    {
     "name": "stdout",
     "output_type": "stream",
     "text": [
      "Emilio 10\n",
      "ka 10\n",
      "=a 10\n",
      "mas 10\n",
      "xuá 10\n",
      "ki 10\n",
      "Roberto 10\n",
      "=ma 10\n",
      "‘ikën 10\n",
      ". 10\n"
     ]
    }
   ],
   "source": [
    "## todos los tokens de sentence\n",
    "\n",
    "for T in sentence:\n",
    "    print(T,len(token))"
   ]
  },
  {
   "cell_type": "code",
   "execution_count": 24,
   "id": "5f7ba8ab",
   "metadata": {},
   "outputs": [],
   "source": [
    "## los diccionarios tienen items (pares key-value)\n",
    "\n",
    "items = list(token.items())"
   ]
  },
  {
   "cell_type": "code",
   "execution_count": 25,
   "id": "888906a7",
   "metadata": {},
   "outputs": [
    {
     "data": {
      "text/plain": [
       "[('id', 2),\n",
       " ('form', 'ka'),\n",
       " ('lemma', '_'),\n",
       " ('upos', 'PART'),\n",
       " ('xpos', None),\n",
       " ('feats', None),\n",
       " ('head', 9),\n",
       " ('deprel', 'aux:sgen'),\n",
       " ('deps', None),\n",
       " ('misc', {'nar:3': ''})]"
      ]
     },
     "execution_count": 25,
     "metadata": {},
     "output_type": "execute_result"
    }
   ],
   "source": [
    "items"
   ]
  },
  {
   "cell_type": "code",
   "execution_count": 26,
   "id": "fa107621",
   "metadata": {},
   "outputs": [],
   "source": [
    "## algo de magia! \n",
    "\n",
    "D = dict(items)"
   ]
  },
  {
   "cell_type": "code",
   "execution_count": 27,
   "id": "c9dfbe78",
   "metadata": {},
   "outputs": [
    {
     "data": {
      "text/plain": [
       "{'id': 2,\n",
       " 'form': 'ka',\n",
       " 'lemma': '_',\n",
       " 'upos': 'PART',\n",
       " 'xpos': None,\n",
       " 'feats': None,\n",
       " 'head': 9,\n",
       " 'deprel': 'aux:sgen',\n",
       " 'deps': None,\n",
       " 'misc': {'nar:3': ''}}"
      ]
     },
     "execution_count": 27,
     "metadata": {},
     "output_type": "execute_result"
    }
   ],
   "source": [
    "D"
   ]
  },
  {
   "cell_type": "markdown",
   "id": "cb009a0e",
   "metadata": {},
   "source": [
    "¿Cómo **accedemos** a los **elementos** (es decir, los valores asociados a los keys) de un **diccionario**?"
   ]
  },
  {
   "cell_type": "code",
   "execution_count": 28,
   "id": "ab0f873e",
   "metadata": {},
   "outputs": [
    {
     "data": {
      "text/plain": [
       "['id',\n",
       " 'form',\n",
       " 'lemma',\n",
       " 'upos',\n",
       " 'xpos',\n",
       " 'feats',\n",
       " 'head',\n",
       " 'deprel',\n",
       " 'deps',\n",
       " 'misc']"
      ]
     },
     "execution_count": 28,
     "metadata": {},
     "output_type": "execute_result"
    }
   ],
   "source": [
    "keys"
   ]
  },
  {
   "cell_type": "code",
   "execution_count": 29,
   "id": "6cada148",
   "metadata": {},
   "outputs": [],
   "source": [
    "## usamos D[key] para cualquier key :)\n",
    "\n",
    "value = token['id']"
   ]
  },
  {
   "cell_type": "code",
   "execution_count": 30,
   "id": "5267c8a3",
   "metadata": {},
   "outputs": [
    {
     "data": {
      "text/plain": [
       "2"
      ]
     },
     "execution_count": 30,
     "metadata": {},
     "output_type": "execute_result"
    }
   ],
   "source": [
    "value"
   ]
  },
  {
   "cell_type": "code",
   "execution_count": 31,
   "id": "858d97a2",
   "metadata": {},
   "outputs": [],
   "source": [
    "value = token['misc']"
   ]
  },
  {
   "cell_type": "code",
   "execution_count": 32,
   "id": "d56d698d",
   "metadata": {},
   "outputs": [
    {
     "data": {
      "text/plain": [
       "{'nar:3': ''}"
      ]
     },
     "execution_count": 32,
     "metadata": {},
     "output_type": "execute_result"
    }
   ],
   "source": [
    "value"
   ]
  },
  {
   "cell_type": "code",
   "execution_count": 33,
   "id": "b71a9fe0",
   "metadata": {},
   "outputs": [],
   "source": [
    "## tal como esperábamos, también podemos acceder usando ciclos \"for\"\n",
    "\n",
    "lista_values = []\n",
    "\n",
    "## recorremos los keys\n",
    "for key in token.keys():\n",
    "    ## accedemos a cada key\n",
    "    value = token[key]\n",
    "    ## guardamos!\n",
    "    lista_values+=[value]"
   ]
  },
  {
   "cell_type": "code",
   "execution_count": 34,
   "id": "1ff8197b",
   "metadata": {},
   "outputs": [
    {
     "data": {
      "text/plain": [
       "[2, 'ka', '_', 'PART', None, None, 9, 'aux:sgen', None, {'nar:3': ''}]"
      ]
     },
     "execution_count": 34,
     "metadata": {},
     "output_type": "execute_result"
    }
   ],
   "source": [
    "lista_values"
   ]
  },
  {
   "cell_type": "code",
   "execution_count": 35,
   "id": "bc6252a4",
   "metadata": {},
   "outputs": [
    {
     "data": {
      "text/plain": [
       "[2, 'ka', '_', 'PART', None, None, 9, 'aux:sgen', None, {'nar:3': ''}]"
      ]
     },
     "execution_count": 35,
     "metadata": {},
     "output_type": "execute_result"
    }
   ],
   "source": [
    "values"
   ]
  },
  {
   "cell_type": "code",
   "execution_count": 36,
   "id": "1736786a",
   "metadata": {},
   "outputs": [],
   "source": [
    "## ¿Qué pasa si uno de los values es también un diccionario?\n",
    "\n",
    "value = token['misc']"
   ]
  },
  {
   "cell_type": "code",
   "execution_count": 37,
   "id": "0e4f776a",
   "metadata": {},
   "outputs": [
    {
     "data": {
      "text/plain": [
       "{'nar:3': ''}"
      ]
     },
     "execution_count": 37,
     "metadata": {},
     "output_type": "execute_result"
    }
   ],
   "source": [
    "value"
   ]
  },
  {
   "cell_type": "code",
   "execution_count": 38,
   "id": "d05f2238",
   "metadata": {},
   "outputs": [],
   "source": [
    "value_value = value['nar:3']"
   ]
  },
  {
   "cell_type": "code",
   "execution_count": 39,
   "id": "a52984fe",
   "metadata": {},
   "outputs": [
    {
     "data": {
      "text/plain": [
       "''"
      ]
     },
     "execution_count": 39,
     "metadata": {},
     "output_type": "execute_result"
    }
   ],
   "source": [
    "value_value"
   ]
  },
  {
   "cell_type": "code",
   "execution_count": 40,
   "id": "ab32f02d",
   "metadata": {},
   "outputs": [],
   "source": [
    "## es decir!\n",
    "\n",
    "value_value = token['misc']['nar:3']"
   ]
  },
  {
   "cell_type": "code",
   "execution_count": 41,
   "id": "6a5b73e8",
   "metadata": {},
   "outputs": [
    {
     "data": {
      "text/plain": [
       "''"
      ]
     },
     "execution_count": 41,
     "metadata": {},
     "output_type": "execute_result"
    }
   ],
   "source": [
    "value_value"
   ]
  },
  {
   "cell_type": "markdown",
   "id": "556d2f58",
   "metadata": {},
   "source": [
    "¿Cómo **creamos** diccionarios?"
   ]
  },
  {
   "cell_type": "code",
   "execution_count": 42,
   "id": "c614fab3",
   "metadata": {},
   "outputs": [
    {
     "data": {
      "text/plain": [
       "'id'"
      ]
     },
     "execution_count": 42,
     "metadata": {},
     "output_type": "execute_result"
    }
   ],
   "source": [
    "items[0][0]"
   ]
  },
  {
   "cell_type": "code",
   "execution_count": 43,
   "id": "035e88f7",
   "metadata": {},
   "outputs": [],
   "source": [
    "D = {}\n",
    "L = []"
   ]
  },
  {
   "cell_type": "code",
   "execution_count": 44,
   "id": "004ffa6f",
   "metadata": {},
   "outputs": [],
   "source": [
    "L += ['a']"
   ]
  },
  {
   "cell_type": "code",
   "execution_count": 45,
   "id": "633a8761",
   "metadata": {},
   "outputs": [
    {
     "data": {
      "text/plain": [
       "['a']"
      ]
     },
     "execution_count": 45,
     "metadata": {},
     "output_type": "execute_result"
    }
   ],
   "source": [
    "L"
   ]
  },
  {
   "cell_type": "code",
   "execution_count": 46,
   "id": "d6556b8c",
   "metadata": {},
   "outputs": [],
   "source": [
    "D[1]='a'"
   ]
  },
  {
   "cell_type": "code",
   "execution_count": 47,
   "id": "1719b06e",
   "metadata": {},
   "outputs": [
    {
     "data": {
      "text/plain": [
       "{1: 'a'}"
      ]
     },
     "execution_count": 47,
     "metadata": {},
     "output_type": "execute_result"
    }
   ],
   "source": [
    "D"
   ]
  },
  {
   "cell_type": "code",
   "execution_count": 48,
   "id": "ce01f0c1",
   "metadata": {},
   "outputs": [
    {
     "name": "stdout",
     "output_type": "stream",
     "text": [
      "('id', 2)\n",
      "('form', 'ka')\n",
      "('lemma', '_')\n",
      "('upos', 'PART')\n",
      "('xpos', None)\n",
      "('feats', None)\n",
      "('head', 9)\n",
      "('deprel', 'aux:sgen')\n",
      "('deps', None)\n",
      "('misc', {'nar:3': ''})\n"
     ]
    }
   ],
   "source": [
    "## diccionario vacío\n",
    "D = {}\n",
    "\n",
    "## recorremos los items\n",
    "for item in items:\n",
    "    print(item)\n",
    "    D[item[0]] = item[1]"
   ]
  },
  {
   "cell_type": "code",
   "execution_count": 49,
   "id": "d5cd7360",
   "metadata": {},
   "outputs": [
    {
     "data": {
      "text/plain": [
       "{'id': 2,\n",
       " 'form': 'ka',\n",
       " 'lemma': '_',\n",
       " 'upos': 'PART',\n",
       " 'xpos': None,\n",
       " 'feats': None,\n",
       " 'head': 9,\n",
       " 'deprel': 'aux:sgen',\n",
       " 'deps': None,\n",
       " 'misc': {'nar:3': ''}}"
      ]
     },
     "execution_count": 49,
     "metadata": {},
     "output_type": "execute_result"
    }
   ],
   "source": [
    "D"
   ]
  },
  {
   "cell_type": "markdown",
   "id": "d664d426",
   "metadata": {},
   "source": [
    "Analicemos ahora la **oración en Kakataibo!**"
   ]
  },
  {
   "cell_type": "code",
   "execution_count": 50,
   "id": "92d0558c",
   "metadata": {},
   "outputs": [],
   "source": [
    "D = {1:'a',2:'b'}"
   ]
  },
  {
   "cell_type": "code",
   "execution_count": 51,
   "id": "fae97cec",
   "metadata": {},
   "outputs": [],
   "source": [
    "D[1]='gato'"
   ]
  },
  {
   "cell_type": "code",
   "execution_count": 52,
   "id": "748b6848",
   "metadata": {},
   "outputs": [
    {
     "data": {
      "text/plain": [
       "{1: 'gato', 2: 'b'}"
      ]
     },
     "execution_count": 52,
     "metadata": {},
     "output_type": "execute_result"
    }
   ],
   "source": [
    "D"
   ]
  },
  {
   "cell_type": "code",
   "execution_count": 53,
   "id": "5810beca",
   "metadata": {},
   "outputs": [
    {
     "data": {
      "text/plain": [
       "TokenList<Emilio, ka, =a, mas, xuá, ki, Roberto, =ma, ‘ikën, .>"
      ]
     },
     "execution_count": 53,
     "metadata": {},
     "output_type": "execute_result"
    }
   ],
   "source": [
    "sentence"
   ]
  },
  {
   "cell_type": "code",
   "execution_count": 54,
   "id": "b660464e",
   "metadata": {},
   "outputs": [
    {
     "data": {
      "text/plain": [
       "{'id': 1,\n",
       " 'form': 'Emilio',\n",
       " 'lemma': '_',\n",
       " 'upos': 'NOUN',\n",
       " 'xpos': None,\n",
       " 'feats': None,\n",
       " 'head': 9,\n",
       " 'deprel': 'nsubj:free',\n",
       " 'deps': None,\n",
       " 'misc': {'Emilio:abs': ''}}"
      ]
     },
     "execution_count": 54,
     "metadata": {},
     "output_type": "execute_result"
    }
   ],
   "source": [
    "sentence[0]"
   ]
  },
  {
   "cell_type": "code",
   "execution_count": 55,
   "id": "b394802e",
   "metadata": {},
   "outputs": [],
   "source": [
    "## hacemos un cambio!\n",
    "\n",
    "sentence[0]['head']=11"
   ]
  },
  {
   "cell_type": "code",
   "execution_count": 56,
   "id": "4c8f2e9a",
   "metadata": {},
   "outputs": [
    {
     "data": {
      "text/plain": [
       "{'id': 1,\n",
       " 'form': 'Emilio',\n",
       " 'lemma': '_',\n",
       " 'upos': 'NOUN',\n",
       " 'xpos': None,\n",
       " 'feats': None,\n",
       " 'head': 11,\n",
       " 'deprel': 'nsubj:free',\n",
       " 'deps': None,\n",
       " 'misc': {'Emilio:abs': ''}}"
      ]
     },
     "execution_count": 56,
     "metadata": {},
     "output_type": "execute_result"
    }
   ],
   "source": [
    "sentence[0]"
   ]
  },
  {
   "cell_type": "code",
   "execution_count": 57,
   "id": "c09f4e8f",
   "metadata": {},
   "outputs": [],
   "source": [
    "with open('kakataibo_v2.conllu', 'w',encoding='utf-8') as f:    \n",
    "    #f.writelines([sentence.serialize() + \"\\n\" for sentence in sentences])\n",
    "    f.writelines(sentence.serialize())"
   ]
  },
  {
   "cell_type": "markdown",
   "id": "6d19fa6f",
   "metadata": {},
   "source": [
    "Un poco sobre la librería para manejar datos UD"
   ]
  },
  {
   "cell_type": "code",
   "execution_count": 5,
   "id": "930e524e",
   "metadata": {},
   "outputs": [],
   "source": [
    "## leemos denuevo los datos :)\n",
    "\n",
    "data_k = open(\"ud-annotatrix-corpus-s.conllu\", \"r\", encoding=\"utf-8\")\n",
    "data_k = data_k.read()\n",
    "kakataibo = parse(data_k)"
   ]
  },
  {
   "cell_type": "code",
   "execution_count": 6,
   "id": "91c6b728",
   "metadata": {},
   "outputs": [
    {
     "data": {
      "text/plain": [
       "[TokenList<Emilio, ka, =a, mas, xuá, ki, Roberto, =ma, ‘ikën, .>,\n",
       " TokenList<atian, casi, kamabi, nëtë, =n, ka, =is, =a, a, uni, kwan-akë-x-ín, .>,\n",
       " TokenList<paën-xun, ka, =na, ‘ë, =n, ‘atsa, kwëën-i-n, .>,\n",
       " TokenList<nukën, papaokë, =kama, ka, =a, uni, chaxké, siná, uni, ‘i-akë-x-a, .>,\n",
       " TokenList<ka, =nanuna, toxama, upí, bits-tankëxun, taish, a, bits-tankëxun, ka, =nanuna, ‘aru-i-n, .>,\n",
       " TokenList<maru-kin, no-n, buan-akë-x-ín, .>]"
      ]
     },
     "execution_count": 6,
     "metadata": {},
     "output_type": "execute_result"
    }
   ],
   "source": [
    "kakataibo"
   ]
  },
  {
   "cell_type": "code",
   "execution_count": 7,
   "id": "75701acb",
   "metadata": {},
   "outputs": [],
   "source": [
    "## la primera oración, la única!\n",
    "\n",
    "sentence = kakataibo[0]"
   ]
  },
  {
   "cell_type": "code",
   "execution_count": 8,
   "id": "425999dc",
   "metadata": {},
   "outputs": [
    {
     "data": {
      "text/plain": [
       "TokenList<Emilio, ka, =a, mas, xuá, ki, Roberto, =ma, ‘ikën, .>"
      ]
     },
     "execution_count": 8,
     "metadata": {},
     "output_type": "execute_result"
    }
   ],
   "source": [
    "sentence"
   ]
  },
  {
   "cell_type": "code",
   "execution_count": 9,
   "id": "f4686f25",
   "metadata": {},
   "outputs": [
    {
     "data": {
      "text/plain": [
       "TokenList<>"
      ]
     },
     "execution_count": 9,
     "metadata": {},
     "output_type": "execute_result"
    }
   ],
   "source": [
    "## ¿Cómo podemos filtrar las oraciones?\n",
    "\n",
    "## x forma\n",
    "sentence.filter(form='chaxké̈')"
   ]
  },
  {
   "cell_type": "code",
   "execution_count": 10,
   "id": "9246dc60",
   "metadata": {},
   "outputs": [
    {
     "data": {
      "text/plain": [
       "TokenList<‘ikën>"
      ]
     },
     "execution_count": 10,
     "metadata": {},
     "output_type": "execute_result"
    }
   ],
   "source": [
    "## x upos\n",
    "sentence.filter(upos='VERB')"
   ]
  },
  {
   "cell_type": "code",
   "execution_count": 11,
   "id": "e020e396",
   "metadata": {},
   "outputs": [
    {
     "data": {
      "text/plain": [
       "TokenList<Emilio, Roberto>"
      ]
     },
     "execution_count": 11,
     "metadata": {},
     "output_type": "execute_result"
    }
   ],
   "source": [
    "## x upos\n",
    "sentence.filter(upos='NOUN')"
   ]
  },
  {
   "cell_type": "code",
   "execution_count": 12,
   "id": "a349d551",
   "metadata": {},
   "outputs": [
    {
     "data": {
      "text/plain": [
       "{'id': 1,\n",
       " 'form': 'Emilio',\n",
       " 'lemma': '_',\n",
       " 'upos': 'NOUN',\n",
       " 'xpos': None,\n",
       " 'feats': None,\n",
       " 'head': 9,\n",
       " 'deprel': 'nsubj:free',\n",
       " 'deps': None,\n",
       " 'misc': {'Emilio:abs': ''}}"
      ]
     },
     "execution_count": 12,
     "metadata": {},
     "output_type": "execute_result"
    }
   ],
   "source": [
    "sentence[0]"
   ]
  },
  {
   "cell_type": "code",
   "execution_count": 13,
   "id": "19b1c041",
   "metadata": {},
   "outputs": [],
   "source": [
    "heads = {}\n",
    "\n",
    "for token in sentence:\n",
    "    key = token['id']\n",
    "    heads[key]=-1"
   ]
  },
  {
   "cell_type": "code",
   "execution_count": 14,
   "id": "71049b95",
   "metadata": {},
   "outputs": [
    {
     "data": {
      "text/plain": [
       "{1: -1, 2: -1, 3: -1, 4: -1, 5: -1, 6: -1, 7: -1, 8: -1, 9: -1, 10: -1}"
      ]
     },
     "execution_count": 14,
     "metadata": {},
     "output_type": "execute_result"
    }
   ],
   "source": [
    "heads"
   ]
  },
  {
   "cell_type": "code",
   "execution_count": 15,
   "id": "ce32e32b",
   "metadata": {},
   "outputs": [],
   "source": [
    "## solución pendiente!!! :)\n",
    "\n",
    "for i in range(len(sentence)):\n",
    "    heads[sentence[i]['id']]=sentence[i]['head']"
   ]
  },
  {
   "cell_type": "code",
   "execution_count": 16,
   "id": "8c675716",
   "metadata": {},
   "outputs": [
    {
     "data": {
      "text/plain": [
       "{1: 9, 2: 9, 3: 9, 4: 6, 5: 9, 6: 7, 7: 9, 8: 9, 9: 0, 10: 9}"
      ]
     },
     "execution_count": 16,
     "metadata": {},
     "output_type": "execute_result"
    }
   ],
   "source": [
    "heads"
   ]
  },
  {
   "cell_type": "code",
   "execution_count": 17,
   "id": "361e75ff",
   "metadata": {},
   "outputs": [
    {
     "data": {
      "text/plain": [
       "10"
      ]
     },
     "execution_count": 17,
     "metadata": {},
     "output_type": "execute_result"
    }
   ],
   "source": [
    "len(sentence)"
   ]
  },
  {
   "cell_type": "code",
   "execution_count": 18,
   "id": "4f185959",
   "metadata": {},
   "outputs": [],
   "source": [
    "## busquemos las heads!\n",
    "heads = {}\n",
    "\n",
    "for token in sentence:\n",
    "    key = token['id']\n",
    "    head = token['head'] \n",
    "    heads[key] = head"
   ]
  },
  {
   "cell_type": "code",
   "execution_count": 19,
   "id": "efc03822",
   "metadata": {},
   "outputs": [
    {
     "data": {
      "text/plain": [
       "{1: 9, 2: 9, 3: 9, 4: 6, 5: 9, 6: 7, 7: 9, 8: 9, 9: 0, 10: 9}"
      ]
     },
     "execution_count": 19,
     "metadata": {},
     "output_type": "execute_result"
    }
   ],
   "source": [
    "heads"
   ]
  },
  {
   "cell_type": "code",
   "execution_count": 20,
   "id": "bc8d6398",
   "metadata": {},
   "outputs": [],
   "source": [
    "## otra forma :)\n",
    "\n",
    "## busquemos las heads!\n",
    "heads_form = {}\n",
    "\n",
    "for token in sentence:\n",
    "    \n",
    "    ## extraemos el key: id de token\n",
    "    key = token['id']\n",
    "    ## extraemos el head asociado a token\n",
    "    head = token['head'] \n",
    "    ## form es la forma (la \"palabra\")\n",
    "    form = token['form']\n",
    "    ## lista form, head\n",
    "    lista_head_form = [form,head]\n",
    "    \n",
    "    heads_form[key]=lista_head_form"
   ]
  },
  {
   "cell_type": "code",
   "execution_count": 21,
   "id": "65eb9594",
   "metadata": {},
   "outputs": [
    {
     "data": {
      "text/plain": [
       "{1: ['Emilio', 9],\n",
       " 2: ['ka', 9],\n",
       " 3: ['=a', 9],\n",
       " 4: ['mas', 6],\n",
       " 5: ['xuá', 9],\n",
       " 6: ['ki', 7],\n",
       " 7: ['Roberto', 9],\n",
       " 8: ['=ma', 9],\n",
       " 9: ['‘ikën', 0],\n",
       " 10: ['.', 9]}"
      ]
     },
     "execution_count": 21,
     "metadata": {},
     "output_type": "execute_result"
    }
   ],
   "source": [
    "heads_form"
   ]
  },
  {
   "cell_type": "code",
   "execution_count": 22,
   "id": "770c5b9b",
   "metadata": {},
   "outputs": [],
   "source": [
    "token = sentence[9]"
   ]
  },
  {
   "cell_type": "code",
   "execution_count": 23,
   "id": "eecdce4e",
   "metadata": {},
   "outputs": [
    {
     "data": {
      "text/plain": [
       "{'id': 10,\n",
       " 'form': '.',\n",
       " 'lemma': '_',\n",
       " 'upos': 'PUNCT',\n",
       " 'xpos': None,\n",
       " 'feats': None,\n",
       " 'head': 9,\n",
       " 'deprel': 'punct',\n",
       " 'deps': None,\n",
       " 'misc': None}"
      ]
     },
     "execution_count": 23,
     "metadata": {},
     "output_type": "execute_result"
    }
   ],
   "source": [
    "token"
   ]
  },
  {
   "cell_type": "code",
   "execution_count": 24,
   "id": "9e23b129",
   "metadata": {},
   "outputs": [],
   "source": [
    "## otra otra forma!\n",
    "\n",
    "heads_forms2 = {}\n",
    "\n",
    "for token in sentence:\n",
    "    ## mini-tarea: queremos que los values sean las formas de que dependen los keys, y no los id's (tal como está ahora!!!)\n",
    "    key = token['id']\n",
    "    head = token['head'] \n",
    "    form = token['form']\n",
    "    \n",
    "    if token['head']!=0:\n",
    "        diccionario_head = sentence[head-1]\n",
    "        heads_forms2[form]=diccionario_head['form']\n",
    "    else:\n",
    "        heads_forms2[form]=form"
   ]
  },
  {
   "cell_type": "code",
   "execution_count": 25,
   "id": "9f60703f",
   "metadata": {},
   "outputs": [
    {
     "data": {
      "text/plain": [
       "{'Emilio': '‘ikën',\n",
       " 'ka': '‘ikën',\n",
       " '=a': '‘ikën',\n",
       " 'mas': 'ki',\n",
       " 'xuá': '‘ikën',\n",
       " 'ki': 'Roberto',\n",
       " 'Roberto': '‘ikën',\n",
       " '=ma': '‘ikën',\n",
       " '‘ikën': '‘ikën',\n",
       " '.': '‘ikën'}"
      ]
     },
     "execution_count": 25,
     "metadata": {},
     "output_type": "execute_result"
    }
   ],
   "source": [
    "heads_forms2"
   ]
  },
  {
   "cell_type": "markdown",
   "id": "1260e1e2",
   "metadata": {},
   "source": [
    "## Ejercicios sobre dependencias :)"
   ]
  },
  {
   "cell_type": "markdown",
   "id": "17134e04",
   "metadata": {},
   "source": [
    "Para una **oración**, identifique todos los **tokens** y los **types**. "
   ]
  },
  {
   "cell_type": "code",
   "execution_count": 28,
   "id": "1a37794e",
   "metadata": {},
   "outputs": [
    {
     "data": {
      "text/plain": [
       "TokenList<Emilio, ka, =a, mas, xuá, ki, Roberto, =ma, ‘ikën, .>"
      ]
     },
     "execution_count": 28,
     "metadata": {},
     "output_type": "execute_result"
    }
   ],
   "source": [
    "sentence"
   ]
  },
  {
   "cell_type": "code",
   "execution_count": 43,
   "id": "30805bf1",
   "metadata": {},
   "outputs": [],
   "source": [
    "tokens = []\n",
    "types = []"
   ]
  },
  {
   "cell_type": "code",
   "execution_count": 44,
   "id": "2e85dccd",
   "metadata": {},
   "outputs": [],
   "source": [
    "puntuacion = ['.',',']\n",
    "\n",
    "for d in sentence:\n",
    "    form = d['form']\n",
    "    if form not in puntuacion:\n",
    "        tokens+=[form.lower()]"
   ]
  },
  {
   "cell_type": "code",
   "execution_count": 45,
   "id": "5f37bda1",
   "metadata": {},
   "outputs": [
    {
     "data": {
      "text/plain": [
       "['emilio', 'ka', '=a', 'mas', 'xuá', 'ki', 'roberto', '=ma', '‘ikën']"
      ]
     },
     "execution_count": 45,
     "metadata": {},
     "output_type": "execute_result"
    }
   ],
   "source": [
    "tokens"
   ]
  },
  {
   "cell_type": "code",
   "execution_count": 46,
   "id": "cf8423f7",
   "metadata": {},
   "outputs": [],
   "source": [
    "for palabra in tokens:\n",
    "    if palabra not in types:\n",
    "        types+=[palabra]"
   ]
  },
  {
   "cell_type": "code",
   "execution_count": 47,
   "id": "96292215",
   "metadata": {},
   "outputs": [
    {
     "data": {
      "text/plain": [
       "['emilio', 'ka', '=a', 'mas', 'xuá', 'ki', 'roberto', '=ma', '‘ikën']"
      ]
     },
     "execution_count": 47,
     "metadata": {},
     "output_type": "execute_result"
    }
   ],
   "source": [
    "types"
   ]
  },
  {
   "cell_type": "code",
   "execution_count": 48,
   "id": "3b3c0ad1",
   "metadata": {},
   "outputs": [],
   "source": [
    "types = list(set(tokens))"
   ]
  },
  {
   "cell_type": "code",
   "execution_count": 49,
   "id": "1a762aa4",
   "metadata": {},
   "outputs": [
    {
     "data": {
      "text/plain": [
       "['ki', 'xuá', 'ka', '‘ikën', 'emilio', '=a', 'mas', 'roberto', '=ma']"
      ]
     },
     "execution_count": 49,
     "metadata": {},
     "output_type": "execute_result"
    }
   ],
   "source": [
    "types"
   ]
  },
  {
   "cell_type": "code",
   "execution_count": 50,
   "id": "232d3406",
   "metadata": {},
   "outputs": [],
   "source": [
    "D_type_frec = {}\n",
    "\n",
    "for word_type in types:\n",
    "    D_type_frec[word_type]=0"
   ]
  },
  {
   "cell_type": "code",
   "execution_count": 51,
   "id": "30fce7ba",
   "metadata": {},
   "outputs": [
    {
     "data": {
      "text/plain": [
       "{'ki': 0,\n",
       " 'xuá': 0,\n",
       " 'ka': 0,\n",
       " '‘ikën': 0,\n",
       " 'emilio': 0,\n",
       " '=a': 0,\n",
       " 'mas': 0,\n",
       " 'roberto': 0,\n",
       " '=ma': 0}"
      ]
     },
     "execution_count": 51,
     "metadata": {},
     "output_type": "execute_result"
    }
   ],
   "source": [
    "D_type_frec"
   ]
  },
  {
   "cell_type": "code",
   "execution_count": 52,
   "id": "9c10abdb",
   "metadata": {},
   "outputs": [],
   "source": [
    "for token in tokens:\n",
    "    D_type_frec[token]+=1"
   ]
  },
  {
   "cell_type": "code",
   "execution_count": 53,
   "id": "7071519b",
   "metadata": {},
   "outputs": [
    {
     "data": {
      "text/plain": [
       "{'ki': 1,\n",
       " 'xuá': 1,\n",
       " 'ka': 1,\n",
       " '‘ikën': 1,\n",
       " 'emilio': 1,\n",
       " '=a': 1,\n",
       " 'mas': 1,\n",
       " 'roberto': 1,\n",
       " '=ma': 1}"
      ]
     },
     "execution_count": 53,
     "metadata": {},
     "output_type": "execute_result"
    }
   ],
   "source": [
    "D_type_frec"
   ]
  },
  {
   "cell_type": "code",
   "execution_count": 54,
   "id": "69deeca1",
   "metadata": {},
   "outputs": [],
   "source": [
    "## función que resume todo lo anterior:\n",
    "\n",
    "## INPUT: lista de diccionarios\n",
    "## OUTPUT: diccionario type:frecuencia del type\n",
    "def frecuencia_types(sent):\n",
    "    \n",
    "    ## tokens\n",
    "    puntuacion = ['.',',']\n",
    "    tokens = []\n",
    "    for d in sent:\n",
    "        form = d['form']\n",
    "        if form not in puntuacion:\n",
    "            tokens+=[form.lower()]\n",
    "            \n",
    "    ## types\n",
    "    types = []\n",
    "    for palabra in tokens:\n",
    "        if palabra not in types:\n",
    "            types+=[palabra]\n",
    "            \n",
    "    D_type_frec = {}\n",
    "    \n",
    "    ## diccionario de frecuencia, con ceros al principio\n",
    "    for word_type in types:\n",
    "        D_type_frec[word_type]=0\n",
    "    ## recorremos la lista tokens buscando los types, y cuando aparecen sumamos 1\n",
    "    for token in tokens:\n",
    "        D_type_frec[token]+=1\n",
    "        \n",
    "    return D_type_frec"
   ]
  },
  {
   "cell_type": "code",
   "execution_count": 61,
   "id": "0c16220c",
   "metadata": {},
   "outputs": [
    {
     "data": {
      "text/plain": [
       "{'ka': 2,\n",
       " '=nanuna': 2,\n",
       " 'toxama': 1,\n",
       " 'upí': 1,\n",
       " 'bits-tankëxun': 2,\n",
       " 'taish': 1,\n",
       " 'a': 1,\n",
       " '‘aru-i-n': 1}"
      ]
     },
     "execution_count": 61,
     "metadata": {},
     "output_type": "execute_result"
    }
   ],
   "source": [
    "frecuencia_types(kakataibo[4])"
   ]
  },
  {
   "cell_type": "code",
   "execution_count": 62,
   "id": "37ff2c90",
   "metadata": {},
   "outputs": [],
   "source": [
    "from collections import Counter\n",
    "\n",
    "## función que usa la librería collections\n",
    "\n",
    "## INPUT: lista de diccionarios\n",
    "## OUTPUT: diccionario type:frecuencia del type\n",
    "def frecuencia_types_counter(sent):\n",
    "    \n",
    "    ## tokens\n",
    "    puntuacion = ['.',',']\n",
    "    tokens = []\n",
    "    for d in sent:\n",
    "        form = d['form']\n",
    "        if form not in puntuacion:\n",
    "            tokens+=[form.lower()]\n",
    "            \n",
    "    D_type_frec = dict(Counter(tokens))\n",
    "        \n",
    "    return D_type_frec"
   ]
  },
  {
   "cell_type": "code",
   "execution_count": 63,
   "id": "0d4f78f1",
   "metadata": {},
   "outputs": [
    {
     "data": {
      "text/plain": [
       "{'emilio': 1,\n",
       " 'ka': 1,\n",
       " '=a': 1,\n",
       " 'mas': 1,\n",
       " 'xuá': 1,\n",
       " 'ki': 1,\n",
       " 'roberto': 1,\n",
       " '=ma': 1,\n",
       " '‘ikën': 1}"
      ]
     },
     "execution_count": 63,
     "metadata": {},
     "output_type": "execute_result"
    }
   ],
   "source": [
    "frecuencia_types_counter(kakataibo[0])"
   ]
  },
  {
   "cell_type": "code",
   "execution_count": 64,
   "id": "c41eebbd",
   "metadata": {},
   "outputs": [],
   "source": [
    "## INPUT: lista de diccionarios\n",
    "## INPUT: entero k -> número de types más frecuentes\n",
    "## OUTPUT: diccionario type:frecuencia del type\n",
    "def types_mas_frecuentes(sent,k):\n",
    "    \n",
    "    ## tokens\n",
    "    puntuacion = ['.',',']\n",
    "    tokens = []\n",
    "    for d in sent:\n",
    "        form = d['form']\n",
    "        if form not in puntuacion:\n",
    "            tokens+=[form.lower()]\n",
    "            \n",
    "    D_type_frec = Counter(tokens)\n",
    "        \n",
    "    return D_type_frec.most_common(k)"
   ]
  },
  {
   "cell_type": "code",
   "execution_count": 69,
   "id": "2fc9657b",
   "metadata": {},
   "outputs": [
    {
     "data": {
      "text/plain": [
       "[('ka', 2), ('=nanuna', 2), ('bits-tankëxun', 2), ('toxama', 1)]"
      ]
     },
     "execution_count": 69,
     "metadata": {},
     "output_type": "execute_result"
    }
   ],
   "source": [
    "types_mas_frecuentes(kakataibo[4],4)"
   ]
  },
  {
   "cell_type": "code",
   "execution_count": 70,
   "id": "ee138a85",
   "metadata": {},
   "outputs": [
    {
     "data": {
      "text/plain": [
       "TokenList<Emilio, ka, =a, mas, xuá, ki, Roberto, =ma, ‘ikën, .>"
      ]
     },
     "execution_count": 70,
     "metadata": {},
     "output_type": "execute_result"
    }
   ],
   "source": [
    "sentence"
   ]
  },
  {
   "cell_type": "code",
   "execution_count": 72,
   "id": "3edb8477",
   "metadata": {},
   "outputs": [],
   "source": [
    "## ¿Cómo podemos generalizar esto para todo el mini-corpus?\n",
    "\n",
    "lista_tokens_corpus = []\n",
    "\n",
    "for sentence in kakataibo:\n",
    "    for d in sentence:\n",
    "        lista_tokens_corpus+=[d]"
   ]
  },
  {
   "cell_type": "code",
   "execution_count": 123,
   "id": "b3fdffb8",
   "metadata": {},
   "outputs": [],
   "source": [
    "dict_frec_types = frecuencia_types(lista_tokens_corpus)"
   ]
  },
  {
   "cell_type": "code",
   "execution_count": 124,
   "id": "39168532",
   "metadata": {},
   "outputs": [],
   "source": [
    "max_value = max(dict_frec_types.values())"
   ]
  },
  {
   "cell_type": "code",
   "execution_count": 125,
   "id": "9a6644c1",
   "metadata": {},
   "outputs": [
    {
     "data": {
      "text/plain": [
       "6"
      ]
     },
     "execution_count": 125,
     "metadata": {},
     "output_type": "execute_result"
    }
   ],
   "source": [
    "max_value"
   ]
  },
  {
   "cell_type": "code",
   "execution_count": 77,
   "id": "8c7f0a12",
   "metadata": {},
   "outputs": [],
   "source": [
    "lista_max_frec = []\n",
    "\n",
    "for key in dict_frec_types.keys():\n",
    "    if dict_frec_types[key]==max_value:\n",
    "        lista_max_frec+=[key]"
   ]
  },
  {
   "cell_type": "code",
   "execution_count": 78,
   "id": "d62148be",
   "metadata": {},
   "outputs": [
    {
     "data": {
      "text/plain": [
       "['ka']"
      ]
     },
     "execution_count": 78,
     "metadata": {},
     "output_type": "execute_result"
    }
   ],
   "source": [
    "lista_max_frec"
   ]
  },
  {
   "cell_type": "code",
   "execution_count": 81,
   "id": "be461bb4",
   "metadata": {},
   "outputs": [
    {
     "data": {
      "text/plain": [
       "{'emilio': 1,\n",
       " 'ka': 6,\n",
       " '=a': 3,\n",
       " 'mas': 1,\n",
       " 'xuá': 1,\n",
       " 'ki': 1,\n",
       " 'roberto': 1,\n",
       " '=ma': 1,\n",
       " '‘ikën': 1,\n",
       " 'atian': 1,\n",
       " 'casi': 1,\n",
       " 'kamabi': 1,\n",
       " 'nëtë': 1,\n",
       " '=n': 2,\n",
       " '=is': 1,\n",
       " 'a': 2,\n",
       " 'uni': 3,\n",
       " 'kwan-akë-x-ín': 1,\n",
       " 'paën-xun': 1,\n",
       " '=na': 1,\n",
       " '‘ë': 1,\n",
       " '‘atsa': 1,\n",
       " 'kwëën-i-n': 1,\n",
       " 'nukën': 1,\n",
       " 'papaokë': 1,\n",
       " '=kama': 1,\n",
       " 'chaxké': 1,\n",
       " 'siná': 1,\n",
       " '‘i-akë-x-a': 1,\n",
       " '=nanuna': 2,\n",
       " 'toxama': 1,\n",
       " 'upí': 1,\n",
       " 'bits-tankëxun': 2,\n",
       " 'taish': 1,\n",
       " '‘aru-i-n': 1,\n",
       " 'maru-kin': 1,\n",
       " 'no-n': 1,\n",
       " 'buan-akë-x-ín': 1}"
      ]
     },
     "execution_count": 81,
     "metadata": {},
     "output_type": "execute_result"
    }
   ],
   "source": [
    "frecuencia_types_counter(lista_tokens_corpus)"
   ]
  },
  {
   "cell_type": "code",
   "execution_count": 82,
   "id": "5ff5c424",
   "metadata": {},
   "outputs": [],
   "source": [
    "num_types = len(frecuencia_types_counter(lista_tokens_corpus))"
   ]
  },
  {
   "cell_type": "code",
   "execution_count": 84,
   "id": "99c23e58",
   "metadata": {},
   "outputs": [
    {
     "data": {
      "text/plain": [
       "38"
      ]
     },
     "execution_count": 84,
     "metadata": {},
     "output_type": "execute_result"
    }
   ],
   "source": [
    "num_types"
   ]
  },
  {
   "cell_type": "code",
   "execution_count": 83,
   "id": "ecf5079b",
   "metadata": {},
   "outputs": [],
   "source": [
    "num_tokens = sum(frecuencia_types_counter(lista_tokens_corpus).values())"
   ]
  },
  {
   "cell_type": "code",
   "execution_count": 85,
   "id": "808968b7",
   "metadata": {},
   "outputs": [
    {
     "data": {
      "text/plain": [
       "51"
      ]
     },
     "execution_count": 85,
     "metadata": {},
     "output_type": "execute_result"
    }
   ],
   "source": [
    "num_tokens"
   ]
  },
  {
   "cell_type": "code",
   "execution_count": 189,
   "id": "883682f4",
   "metadata": {},
   "outputs": [
    {
     "data": {
      "text/plain": [
       "[('ka', 6),\n",
       " ('=a', 3),\n",
       " ('uni', 3),\n",
       " ('=n', 2),\n",
       " ('a', 2),\n",
       " ('=nanuna', 2),\n",
       " ('bits-tankëxun', 2),\n",
       " ('emilio', 1),\n",
       " ('mas', 1),\n",
       " ('xuá', 1)]"
      ]
     },
     "execution_count": 189,
     "metadata": {},
     "output_type": "execute_result"
    }
   ],
   "source": [
    "types_mas_frecuentes(lista_tokens_corpus,10)"
   ]
  },
  {
   "cell_type": "code",
   "execution_count": 169,
   "id": "1a5e3e31",
   "metadata": {},
   "outputs": [],
   "source": [
    "from collections import Counter\n",
    "\n",
    "A = [1,1,1,1,2,2,2,4,5,6,6,6]"
   ]
  },
  {
   "cell_type": "code",
   "execution_count": 171,
   "id": "77ef08dc",
   "metadata": {},
   "outputs": [],
   "source": [
    "C = Counter(A)"
   ]
  },
  {
   "cell_type": "code",
   "execution_count": 173,
   "id": "3bf4a702",
   "metadata": {},
   "outputs": [
    {
     "data": {
      "text/plain": [
       "[(1, 4), (2, 3)]"
      ]
     },
     "execution_count": 173,
     "metadata": {},
     "output_type": "execute_result"
    }
   ],
   "source": [
    "C.most_common(2)"
   ]
  },
  {
   "cell_type": "markdown",
   "id": "c29672f5",
   "metadata": {},
   "source": [
    "Construya un **diccionario {type:frecuencia}** para cada **type** de una oración. "
   ]
  },
  {
   "cell_type": "markdown",
   "id": "d954163e",
   "metadata": {},
   "source": [
    "Ahora para un **conjunto de oraciones (un mini-corpus)** identifique los **tokens** y los **types** usados. "
   ]
  },
  {
   "cell_type": "markdown",
   "id": "9263a4e2",
   "metadata": {},
   "source": [
    "Construya un **diccionario {type:frecuencia}** para cada **type** del corpus. "
   ]
  },
  {
   "cell_type": "code",
   "execution_count": 86,
   "id": "5faf6af3",
   "metadata": {},
   "outputs": [],
   "source": [
    "## dict_frec_types"
   ]
  },
  {
   "cell_type": "markdown",
   "id": "80418206",
   "metadata": {},
   "source": [
    "Calcule para cada type la cantidad $-\\log (p_t)$, donde $p_t$ es la frecuencia normalizada del type $t$ ¿Qué puede observar?"
   ]
  },
  {
   "cell_type": "code",
   "execution_count": 88,
   "id": "3dac39b1",
   "metadata": {},
   "outputs": [],
   "source": [
    "dict_probabilidades = {}\n",
    "\n",
    "for key in dict_frec_types:\n",
    "    dict_probabilidades[key]=dict_frec_types[key]/num_tokens"
   ]
  },
  {
   "cell_type": "code",
   "execution_count": 90,
   "id": "29f99833",
   "metadata": {},
   "outputs": [
    {
     "data": {
      "text/plain": [
       "3.4965075614664802"
      ]
     },
     "execution_count": 90,
     "metadata": {},
     "output_type": "execute_result"
    }
   ],
   "source": [
    "import math"
   ]
  },
  {
   "cell_type": "code",
   "execution_count": 93,
   "id": "6bab7b0c",
   "metadata": {},
   "outputs": [],
   "source": [
    "dict_sorpresa = {}\n",
    "\n",
    "for key in dict_frec_types:\n",
    "    dict_sorpresa[key]=-math.log(dict_probabilidades[key])"
   ]
  },
  {
   "cell_type": "code",
   "execution_count": 96,
   "id": "b80ff056",
   "metadata": {},
   "outputs": [
    {
     "name": "stdout",
     "output_type": "stream",
     "text": [
      "emilio 1 0.0196078431372549 3.9318256327243257\n",
      "ka 6 0.11764705882352941 2.1400661634962708\n",
      "=a 3 0.058823529411764705 2.833213344056216\n",
      "mas 1 0.0196078431372549 3.9318256327243257\n",
      "xuá 1 0.0196078431372549 3.9318256327243257\n",
      "ki 1 0.0196078431372549 3.9318256327243257\n",
      "roberto 1 0.0196078431372549 3.9318256327243257\n",
      "=ma 1 0.0196078431372549 3.9318256327243257\n",
      "‘ikën 1 0.0196078431372549 3.9318256327243257\n",
      "atian 1 0.0196078431372549 3.9318256327243257\n",
      "casi 1 0.0196078431372549 3.9318256327243257\n",
      "kamabi 1 0.0196078431372549 3.9318256327243257\n",
      "nëtë 1 0.0196078431372549 3.9318256327243257\n",
      "=n 2 0.0392156862745098 3.2386784521643803\n",
      "=is 1 0.0196078431372549 3.9318256327243257\n",
      "a 2 0.0392156862745098 3.2386784521643803\n",
      "uni 3 0.058823529411764705 2.833213344056216\n",
      "kwan-akë-x-ín 1 0.0196078431372549 3.9318256327243257\n",
      "paën-xun 1 0.0196078431372549 3.9318256327243257\n",
      "=na 1 0.0196078431372549 3.9318256327243257\n",
      "‘ë 1 0.0196078431372549 3.9318256327243257\n",
      "‘atsa 1 0.0196078431372549 3.9318256327243257\n",
      "kwëën-i-n 1 0.0196078431372549 3.9318256327243257\n",
      "nukën 1 0.0196078431372549 3.9318256327243257\n",
      "papaokë 1 0.0196078431372549 3.9318256327243257\n",
      "=kama 1 0.0196078431372549 3.9318256327243257\n",
      "chaxké 1 0.0196078431372549 3.9318256327243257\n",
      "siná 1 0.0196078431372549 3.9318256327243257\n",
      "‘i-akë-x-a 1 0.0196078431372549 3.9318256327243257\n",
      "=nanuna 2 0.0392156862745098 3.2386784521643803\n",
      "toxama 1 0.0196078431372549 3.9318256327243257\n",
      "upí 1 0.0196078431372549 3.9318256327243257\n",
      "bits-tankëxun 2 0.0392156862745098 3.2386784521643803\n",
      "taish 1 0.0196078431372549 3.9318256327243257\n",
      "‘aru-i-n 1 0.0196078431372549 3.9318256327243257\n",
      "maru-kin 1 0.0196078431372549 3.9318256327243257\n",
      "no-n 1 0.0196078431372549 3.9318256327243257\n",
      "buan-akë-x-ín 1 0.0196078431372549 3.9318256327243257\n"
     ]
    }
   ],
   "source": [
    "for key in dict_sorpresa.keys():\n",
    "    print(key,dict_frec_types[key],dict_probabilidades[key],dict_sorpresa[key])"
   ]
  },
  {
   "cell_type": "markdown",
   "id": "fe1d3aa9",
   "metadata": {},
   "source": [
    "Construya un **diccionario {frecuencia:lista de types con esa frecuencia}** para cada frecuencia del corpus."
   ]
  },
  {
   "cell_type": "code",
   "execution_count": 106,
   "id": "4517ecb2",
   "metadata": {},
   "outputs": [
    {
     "data": {
      "text/plain": [
       "{'emilio': 1,\n",
       " 'ka': 6,\n",
       " '=a': 3,\n",
       " 'mas': 1,\n",
       " 'xuá': 1,\n",
       " 'ki': 1,\n",
       " 'roberto': 1,\n",
       " '=ma': 1,\n",
       " '‘ikën': 1,\n",
       " 'atian': 1,\n",
       " 'casi': 1,\n",
       " 'kamabi': 1,\n",
       " 'nëtë': 1,\n",
       " '=n': 2,\n",
       " '=is': 1,\n",
       " 'a': 2,\n",
       " 'uni': 3,\n",
       " 'kwan-akë-x-ín': 1,\n",
       " 'paën-xun': 1,\n",
       " '=na': 1,\n",
       " '‘ë': 1,\n",
       " '‘atsa': 1,\n",
       " 'kwëën-i-n': 1,\n",
       " 'nukën': 1,\n",
       " 'papaokë': 1,\n",
       " '=kama': 1,\n",
       " 'chaxké': 1,\n",
       " 'siná': 1,\n",
       " '‘i-akë-x-a': 1,\n",
       " '=nanuna': 2,\n",
       " 'toxama': 1,\n",
       " 'upí': 1,\n",
       " 'bits-tankëxun': 2,\n",
       " 'taish': 1,\n",
       " '‘aru-i-n': 1,\n",
       " 'maru-kin': 1,\n",
       " 'no-n': 1,\n",
       " 'buan-akë-x-ín': 1}"
      ]
     },
     "execution_count": 106,
     "metadata": {},
     "output_type": "execute_result"
    }
   ],
   "source": [
    "dict_frec_types"
   ]
  },
  {
   "cell_type": "code",
   "execution_count": 112,
   "id": "9c452c6c",
   "metadata": {},
   "outputs": [],
   "source": [
    "#dict_frec_types = {'emilio':1,'ka':6}"
   ]
  },
  {
   "cell_type": "code",
   "execution_count": 126,
   "id": "f161bc83",
   "metadata": {},
   "outputs": [
    {
     "data": {
      "text/plain": [
       "{'emilio': 1,\n",
       " 'ka': 6,\n",
       " '=a': 3,\n",
       " 'mas': 1,\n",
       " 'xuá': 1,\n",
       " 'ki': 1,\n",
       " 'roberto': 1,\n",
       " '=ma': 1,\n",
       " '‘ikën': 1,\n",
       " 'atian': 1,\n",
       " 'casi': 1,\n",
       " 'kamabi': 1,\n",
       " 'nëtë': 1,\n",
       " '=n': 2,\n",
       " '=is': 1,\n",
       " 'a': 2,\n",
       " 'uni': 3,\n",
       " 'kwan-akë-x-ín': 1,\n",
       " 'paën-xun': 1,\n",
       " '=na': 1,\n",
       " '‘ë': 1,\n",
       " '‘atsa': 1,\n",
       " 'kwëën-i-n': 1,\n",
       " 'nukën': 1,\n",
       " 'papaokë': 1,\n",
       " '=kama': 1,\n",
       " 'chaxké': 1,\n",
       " 'siná': 1,\n",
       " '‘i-akë-x-a': 1,\n",
       " '=nanuna': 2,\n",
       " 'toxama': 1,\n",
       " 'upí': 1,\n",
       " 'bits-tankëxun': 2,\n",
       " 'taish': 1,\n",
       " '‘aru-i-n': 1,\n",
       " 'maru-kin': 1,\n",
       " 'no-n': 1,\n",
       " 'buan-akë-x-ín': 1}"
      ]
     },
     "execution_count": 126,
     "metadata": {},
     "output_type": "execute_result"
    }
   ],
   "source": [
    "dict_frec_types"
   ]
  },
  {
   "cell_type": "code",
   "execution_count": 127,
   "id": "48818b2e",
   "metadata": {},
   "outputs": [],
   "source": [
    "frecuencias = list(set(dict_frec_types.values()))"
   ]
  },
  {
   "cell_type": "code",
   "execution_count": 137,
   "id": "4c6fc3e7",
   "metadata": {},
   "outputs": [],
   "source": [
    "D_frecuencias_lista = {}\n",
    "\n",
    "for f in frecuencias:\n",
    "    D_frecuencias_lista[f]=[]"
   ]
  },
  {
   "cell_type": "code",
   "execution_count": 139,
   "id": "281776e5",
   "metadata": {},
   "outputs": [
    {
     "name": "stdout",
     "output_type": "stream",
     "text": [
      "emilio 1\n",
      "ka 6\n",
      "=a 3\n",
      "mas 1\n",
      "xuá 1\n",
      "ki 1\n",
      "roberto 1\n",
      "=ma 1\n",
      "‘ikën 1\n",
      "atian 1\n",
      "casi 1\n",
      "kamabi 1\n",
      "nëtë 1\n",
      "=n 2\n",
      "=is 1\n",
      "a 2\n",
      "uni 3\n",
      "kwan-akë-x-ín 1\n",
      "paën-xun 1\n",
      "=na 1\n",
      "‘ë 1\n",
      "‘atsa 1\n",
      "kwëën-i-n 1\n",
      "nukën 1\n",
      "papaokë 1\n",
      "=kama 1\n",
      "chaxké 1\n",
      "siná 1\n",
      "‘i-akë-x-a 1\n",
      "=nanuna 2\n",
      "toxama 1\n",
      "upí 1\n",
      "bits-tankëxun 2\n",
      "taish 1\n",
      "‘aru-i-n 1\n",
      "maru-kin 1\n",
      "no-n 1\n",
      "buan-akë-x-ín 1\n"
     ]
    }
   ],
   "source": [
    "for palabra in dict_frec_types.keys():\n",
    "    frec = dict_frec_types[palabra]\n",
    "    print(palabra,frec)\n",
    "    D_frecuencias_lista[frec]+=[palabra]"
   ]
  },
  {
   "cell_type": "code",
   "execution_count": 131,
   "id": "89ed28ac",
   "metadata": {},
   "outputs": [
    {
     "data": {
      "text/plain": [
       "{1: ['emilio',\n",
       "  'mas',\n",
       "  'xuá',\n",
       "  'ki',\n",
       "  'roberto',\n",
       "  '=ma',\n",
       "  '‘ikën',\n",
       "  'atian',\n",
       "  'casi',\n",
       "  'kamabi',\n",
       "  'nëtë',\n",
       "  '=is',\n",
       "  'kwan-akë-x-ín',\n",
       "  'paën-xun',\n",
       "  '=na',\n",
       "  '‘ë',\n",
       "  '‘atsa',\n",
       "  'kwëën-i-n',\n",
       "  'nukën',\n",
       "  'papaokë',\n",
       "  '=kama',\n",
       "  'chaxké',\n",
       "  'siná',\n",
       "  '‘i-akë-x-a',\n",
       "  'toxama',\n",
       "  'upí',\n",
       "  'taish',\n",
       "  '‘aru-i-n',\n",
       "  'maru-kin',\n",
       "  'no-n',\n",
       "  'buan-akë-x-ín'],\n",
       " 2: ['=n', 'a', '=nanuna', 'bits-tankëxun'],\n",
       " 3: ['=a', 'uni'],\n",
       " 6: ['ka']}"
      ]
     },
     "execution_count": 131,
     "metadata": {},
     "output_type": "execute_result"
    }
   ],
   "source": [
    "D_frecuencias_lista"
   ]
  },
  {
   "cell_type": "markdown",
   "id": "b2c52a8d",
   "metadata": {},
   "source": [
    "Construya un **diccionario {frecuencia:número de veces que aparece esa frecuencia}** para cada frecuencia del corpus."
   ]
  },
  {
   "cell_type": "code",
   "execution_count": 143,
   "id": "e7e3b645",
   "metadata": {},
   "outputs": [],
   "source": [
    "D_frec_numero = {}\n",
    "\n",
    "for key in D_frecuencias_lista.keys():\n",
    "    D_frec_numero[key]=len(D_frecuencias_lista[key])"
   ]
  },
  {
   "cell_type": "code",
   "execution_count": 144,
   "id": "6f3ff30d",
   "metadata": {},
   "outputs": [
    {
     "data": {
      "text/plain": [
       "{1: 31, 2: 4, 3: 2, 6: 1}"
      ]
     },
     "execution_count": 144,
     "metadata": {},
     "output_type": "execute_result"
    }
   ],
   "source": [
    "D_frec_numero"
   ]
  },
  {
   "cell_type": "markdown",
   "id": "213a11bf",
   "metadata": {},
   "source": [
    "Para una oración, identifique los **POS tags**. Determine su frecuencia."
   ]
  },
  {
   "cell_type": "markdown",
   "id": "3b33fe23",
   "metadata": {},
   "source": [
    "Ahora para un **mini-corpus** identifique los **POS tags**. Determine su **frecuencia** en el corpus.  "
   ]
  },
  {
   "cell_type": "markdown",
   "id": "a17940a6",
   "metadata": {},
   "source": [
    "Identifique el **id** de la raíz y la **forma** asociada."
   ]
  },
  {
   "cell_type": "markdown",
   "id": "f41d4f11",
   "metadata": {},
   "source": [
    "Desordene **aleatoriamente las dependencias de las oraciones.** Use"
   ]
  },
  {
   "cell_type": "code",
   "execution_count": 3,
   "id": "014eb62a",
   "metadata": {},
   "outputs": [],
   "source": [
    "import random\n",
    "\n",
    "A = [1,2,3]\n",
    "\n",
    "A_random = random.sample(A,len(A))"
   ]
  },
  {
   "cell_type": "code",
   "execution_count": 4,
   "id": "627be197",
   "metadata": {},
   "outputs": [
    {
     "data": {
      "text/plain": [
       "[3, 1, 2]"
      ]
     },
     "execution_count": 4,
     "metadata": {},
     "output_type": "execute_result"
    }
   ],
   "source": [
    "A_random"
   ]
  },
  {
   "cell_type": "markdown",
   "id": "f8e61769",
   "metadata": {},
   "source": [
    "Cree 100 versiones aleatorias de las dependencias de una oración. Guárdelas en una lista. "
   ]
  },
  {
   "cell_type": "markdown",
   "id": "5913b240",
   "metadata": {},
   "source": [
    "Calcule las distancias entre **cada token** y la **raiz (head)**. Suponga que el número de tokens es $n$. Si las palabras sucesivas están numeradas desde la palabra 1, luego 2, hasta la palabra $n$, la **distancia** entre dos palabras en posiciones $i$ y $j$ se define como $|i-j|$. "
   ]
  },
  {
   "cell_type": "markdown",
   "id": "9f68453f",
   "metadata": {},
   "source": [
    "Calcule el **largo de dependencias** **promedio**, **máximo** y **mínimo**. "
   ]
  },
  {
   "cell_type": "markdown",
   "id": "3674fd34",
   "metadata": {},
   "source": [
    "[Paper :)](liu-dependencies-2017.pdf)"
   ]
  },
  {
   "cell_type": "markdown",
   "id": "bdf9f3da",
   "metadata": {},
   "source": [
    "[otro paper :)](W19-7911.pdf)"
   ]
  },
  {
   "cell_type": "code",
   "execution_count": null,
   "id": "eaf51c0a",
   "metadata": {},
   "outputs": [],
   "source": []
  }
 ],
 "metadata": {
  "kernelspec": {
   "display_name": "Python 3",
   "language": "python",
   "name": "python3"
  },
  "language_info": {
   "codemirror_mode": {
    "name": "ipython",
    "version": 3
   },
   "file_extension": ".py",
   "mimetype": "text/x-python",
   "name": "python",
   "nbconvert_exporter": "python",
   "pygments_lexer": "ipython3",
   "version": "3.8.8"
  }
 },
 "nbformat": 4,
 "nbformat_minor": 5
}
