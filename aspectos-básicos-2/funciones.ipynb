{
 "cells": [
  {
   "cell_type": "markdown",
   "id": "da0bd54e",
   "metadata": {},
   "source": [
    "### Algo sobre funciones!"
   ]
  },
  {
   "cell_type": "code",
   "execution_count": 1,
   "id": "29e71e42",
   "metadata": {},
   "outputs": [],
   "source": [
    "## que: Quechua\n",
    "\n",
    "import pandas as pd\n",
    "\n",
    "datos_que = pd.read_csv('datos/que', sep='\\t', header=None)\n",
    "datos_que.columns = ['lemas','inflexiones','códigos']"
   ]
  },
  {
   "cell_type": "code",
   "execution_count": 2,
   "id": "88cb0593",
   "metadata": {},
   "outputs": [],
   "source": [
    "## para simplificar nos quedamos solo con los verbos!\n",
    "\n",
    "## que\n",
    "datos_que = datos_que[datos_que['códigos'].str.startswith('V')]"
   ]
  },
  {
   "cell_type": "code",
   "execution_count": 3,
   "id": "6cf8b778",
   "metadata": {},
   "outputs": [
    {
     "data": {
      "text/html": [
       "<div>\n",
       "<style scoped>\n",
       "    .dataframe tbody tr th:only-of-type {\n",
       "        vertical-align: middle;\n",
       "    }\n",
       "\n",
       "    .dataframe tbody tr th {\n",
       "        vertical-align: top;\n",
       "    }\n",
       "\n",
       "    .dataframe thead th {\n",
       "        text-align: right;\n",
       "    }\n",
       "</style>\n",
       "<table border=\"1\" class=\"dataframe\">\n",
       "  <thead>\n",
       "    <tr style=\"text-align: right;\">\n",
       "      <th></th>\n",
       "      <th>lemas</th>\n",
       "      <th>inflexiones</th>\n",
       "      <th>códigos</th>\n",
       "    </tr>\n",
       "  </thead>\n",
       "  <tbody>\n",
       "    <tr>\n",
       "      <th>256</th>\n",
       "      <td>achalachiy</td>\n",
       "      <td>achalachichunku</td>\n",
       "      <td>V;IMP;POS;3;PL</td>\n",
       "    </tr>\n",
       "    <tr>\n",
       "      <th>257</th>\n",
       "      <td>achalachiy</td>\n",
       "      <td>achalachichun</td>\n",
       "      <td>V;IMP;POS;3;SG</td>\n",
       "    </tr>\n",
       "    <tr>\n",
       "      <th>258</th>\n",
       "      <td>achalachiy</td>\n",
       "      <td>achalachina</td>\n",
       "      <td>V.PTCP;FUT</td>\n",
       "    </tr>\n",
       "    <tr>\n",
       "      <th>259</th>\n",
       "      <td>achalachiy</td>\n",
       "      <td>achalachinchik</td>\n",
       "      <td>V;PRS;1+INCL;PL</td>\n",
       "    </tr>\n",
       "    <tr>\n",
       "      <th>260</th>\n",
       "      <td>achalachiy</td>\n",
       "      <td>achalachini</td>\n",
       "      <td>V;PRS;1;SG</td>\n",
       "    </tr>\n",
       "    <tr>\n",
       "      <th>...</th>\n",
       "      <td>...</td>\n",
       "      <td>...</td>\n",
       "      <td>...</td>\n",
       "    </tr>\n",
       "    <tr>\n",
       "      <th>179743</th>\n",
       "      <td>yuyay</td>\n",
       "      <td>yuyasunchik</td>\n",
       "      <td>V;FUT;1+INCL;PL</td>\n",
       "    </tr>\n",
       "    <tr>\n",
       "      <th>179744</th>\n",
       "      <td>yuyay</td>\n",
       "      <td>yuyaychik</td>\n",
       "      <td>V;IMP;POS;2;PL</td>\n",
       "    </tr>\n",
       "    <tr>\n",
       "      <th>179763</th>\n",
       "      <td>yuyay</td>\n",
       "      <td>yuyayku</td>\n",
       "      <td>V;PRS;1+EXCL;PL</td>\n",
       "    </tr>\n",
       "    <tr>\n",
       "      <th>180001</th>\n",
       "      <td>yuyay</td>\n",
       "      <td>yuyay</td>\n",
       "      <td>V;IMP;POS;2;SG</td>\n",
       "    </tr>\n",
       "    <tr>\n",
       "      <th>180002</th>\n",
       "      <td>yuyay</td>\n",
       "      <td>yuyay</td>\n",
       "      <td>V;NFIN</td>\n",
       "    </tr>\n",
       "  </tbody>\n",
       "</table>\n",
       "<p>26404 rows × 3 columns</p>\n",
       "</div>"
      ],
      "text/plain": [
       "             lemas      inflexiones          códigos\n",
       "256     achalachiy  achalachichunku   V;IMP;POS;3;PL\n",
       "257     achalachiy    achalachichun   V;IMP;POS;3;SG\n",
       "258     achalachiy      achalachina       V.PTCP;FUT\n",
       "259     achalachiy   achalachinchik  V;PRS;1+INCL;PL\n",
       "260     achalachiy      achalachini       V;PRS;1;SG\n",
       "...            ...              ...              ...\n",
       "179743       yuyay      yuyasunchik  V;FUT;1+INCL;PL\n",
       "179744       yuyay        yuyaychik   V;IMP;POS;2;PL\n",
       "179763       yuyay          yuyayku  V;PRS;1+EXCL;PL\n",
       "180001       yuyay            yuyay   V;IMP;POS;2;SG\n",
       "180002       yuyay            yuyay           V;NFIN\n",
       "\n",
       "[26404 rows x 3 columns]"
      ]
     },
     "execution_count": 3,
     "metadata": {},
     "output_type": "execute_result"
    }
   ],
   "source": [
    "datos_que"
   ]
  },
  {
   "cell_type": "code",
   "execution_count": 4,
   "id": "149e90f4",
   "metadata": {},
   "outputs": [],
   "source": [
    "## definamos conjuntos de lemas, inflexiones y códigos :)\n",
    "\n",
    "#### LEMAS ####\n",
    "lemas_que = list(datos_que['lemas'])\n",
    "\n",
    "#### INFLEXIONES ####\n",
    "inflexiones_que = list(datos_que['inflexiones'])\n",
    "\n",
    "#### CÓDIGOS ####\n",
    "codigos_que = list(datos_que['códigos'])"
   ]
  },
  {
   "cell_type": "markdown",
   "id": "06b53681",
   "metadata": {},
   "source": [
    "Datos!"
   ]
  },
  {
   "cell_type": "code",
   "execution_count": 7,
   "id": "78d02341",
   "metadata": {},
   "outputs": [],
   "source": [
    "## recorremos cualquiera de las listas, porque tienen el mismo largo\n",
    "## noten que el ciclo for es \"plano\"\n",
    "\n",
    "datos = []\n",
    "\n",
    "for i in range(len(lemas_que)):\n",
    "    datos+=[[lemas_que[i],inflexiones_que[i],codigos_que[i]]]\n",
    "\n",
    "#datos = [[lemas_que[i],inflexiones_que[i],codigos_que[i]] for i in range(len(lemas_que))]"
   ]
  },
  {
   "cell_type": "code",
   "execution_count": 9,
   "id": "36b1f79f",
   "metadata": {},
   "outputs": [
    {
     "data": {
      "text/plain": [
       "[['achalachiy', 'achalachichunku', 'V;IMP;POS;3;PL'],\n",
       " ['achalachiy', 'achalachichun', 'V;IMP;POS;3;SG'],\n",
       " ['achalachiy', 'achalachina', 'V.PTCP;FUT'],\n",
       " ['achalachiy', 'achalachinchik', 'V;PRS;1+INCL;PL'],\n",
       " ['achalachiy', 'achalachini', 'V;PRS;1;SG']]"
      ]
     },
     "execution_count": 9,
     "metadata": {},
     "output_type": "execute_result"
    }
   ],
   "source": [
    "datos[:5]"
   ]
  },
  {
   "cell_type": "markdown",
   "id": "7ad7a9ac",
   "metadata": {},
   "source": [
    "Es decir, dado un lema y un código, tenemos una inflexión! ¿Cómo podemos crear una **función** que calcule eso para cualquier par lema, inflexión?"
   ]
  },
  {
   "cell_type": "code",
   "execution_count": 11,
   "id": "34b2d7dc",
   "metadata": {},
   "outputs": [],
   "source": [
    "## guardemos los lemas y los códigos\n",
    "\n",
    "lemas_codigos = []\n",
    "\n",
    "for item in datos:\n",
    "    lemas_codigos+=[[item[0],item[2]]]\n",
    "\n",
    "#lemas_codigos = [[item[0],item[2]] for item in datos]"
   ]
  },
  {
   "cell_type": "code",
   "execution_count": 12,
   "id": "fa033f77",
   "metadata": {},
   "outputs": [
    {
     "data": {
      "text/plain": [
       "[['achalachiy', 'V;IMP;POS;3;PL'],\n",
       " ['achalachiy', 'V;IMP;POS;3;SG'],\n",
       " ['achalachiy', 'V.PTCP;FUT'],\n",
       " ['achalachiy', 'V;PRS;1+INCL;PL'],\n",
       " ['achalachiy', 'V;PRS;1;SG']]"
      ]
     },
     "execution_count": 12,
     "metadata": {},
     "output_type": "execute_result"
    }
   ],
   "source": [
    "lemas_codigos[:5]"
   ]
  },
  {
   "cell_type": "code",
   "execution_count": 14,
   "id": "ea25ef18",
   "metadata": {},
   "outputs": [
    {
     "data": {
      "text/plain": [
       "['achalachichunku',\n",
       " 'achalachichun',\n",
       " 'achalachina',\n",
       " 'achalachinchik',\n",
       " 'achalachini']"
      ]
     },
     "execution_count": 14,
     "metadata": {},
     "output_type": "execute_result"
    }
   ],
   "source": [
    "inflexiones_que[:5]"
   ]
  },
  {
   "cell_type": "code",
   "execution_count": 17,
   "id": "4cf89d39",
   "metadata": {},
   "outputs": [
    {
     "data": {
      "text/plain": [
       "0"
      ]
     },
     "execution_count": 17,
     "metadata": {},
     "output_type": "execute_result"
    }
   ],
   "source": [
    "A = [1,2,3,4,5]\n",
    "\n",
    "A.index(1)"
   ]
  },
  {
   "cell_type": "markdown",
   "id": "3a10326b",
   "metadata": {},
   "source": [
    "Entonces, si sabemos la posición del par ['achalachiy', 'V.PTCP;FUT'], entonces sabremos en que posición de la lista inflexiones debemos mirar :)"
   ]
  },
  {
   "cell_type": "code",
   "execution_count": 18,
   "id": "2abdb640",
   "metadata": {},
   "outputs": [],
   "source": [
    "## inflexión!\n",
    "\n",
    "index = lemas_codigos.index(['achalachiy', 'V.PTCP;FUT'])"
   ]
  },
  {
   "cell_type": "code",
   "execution_count": 19,
   "id": "5f7e4e10",
   "metadata": {},
   "outputs": [
    {
     "data": {
      "text/plain": [
       "2"
      ]
     },
     "execution_count": 19,
     "metadata": {},
     "output_type": "execute_result"
    }
   ],
   "source": [
    "index"
   ]
  },
  {
   "cell_type": "code",
   "execution_count": 20,
   "id": "19e88a10",
   "metadata": {},
   "outputs": [
    {
     "data": {
      "text/plain": [
       "'achalachina'"
      ]
     },
     "execution_count": 20,
     "metadata": {},
     "output_type": "execute_result"
    }
   ],
   "source": [
    "## solución!\n",
    "\n",
    "inflexiones_que[index]"
   ]
  },
  {
   "cell_type": "markdown",
   "id": "5456b966",
   "metadata": {},
   "source": [
    "¿Qué necesitamos para construir la inflexión? En términos lingüísticos: lema + códigos; En términos computacionales: la posición del par ['achalachiy', 'V.PTCP;FUT'] en la lista **inflexiones**"
   ]
  },
  {
   "cell_type": "markdown",
   "id": "ab05a17e",
   "metadata": {},
   "source": [
    "Construyamos una función. Las funciones en **Python** son un atajo de ciertas instrucciones. Con ellas, podemos reutilizar código, y también transformar problemas grandes en múltiples problemas pequeños, que podemos ir probando. "
   ]
  },
  {
   "cell_type": "code",
   "execution_count": 21,
   "id": "5de6f391",
   "metadata": {},
   "outputs": [],
   "source": [
    "## una función!\n",
    "\n",
    "## INPUT indice: número entero (posición del par que nos interesa inflexionar)\n",
    "## OUTPUT inflexion: string (inflexión que buscamos)\n",
    "def inflexiones_quechua(indice):\n",
    "    ## buscamos en la lista inflexiones\n",
    "    inflexion = inflexiones_que[indice]\n",
    "    return inflexion"
   ]
  },
  {
   "cell_type": "code",
   "execution_count": 23,
   "id": "7cb3cc0e",
   "metadata": {},
   "outputs": [
    {
     "data": {
      "text/plain": [
       "'achalachichunku'"
      ]
     },
     "execution_count": 23,
     "metadata": {},
     "output_type": "execute_result"
    }
   ],
   "source": [
    "## probemos!\n",
    "\n",
    "inflexiones_quechua(0)"
   ]
  },
  {
   "cell_type": "code",
   "execution_count": 24,
   "id": "a84a7ac7",
   "metadata": {},
   "outputs": [
    {
     "data": {
      "text/plain": [
       "[['achalachiy', 'V;IMP;POS;3;PL'],\n",
       " ['achalachiy', 'V;IMP;POS;3;SG'],\n",
       " ['achalachiy', 'V.PTCP;FUT'],\n",
       " ['achalachiy', 'V;PRS;1+INCL;PL'],\n",
       " ['achalachiy', 'V;PRS;1;SG']]"
      ]
     },
     "execution_count": 24,
     "metadata": {},
     "output_type": "execute_result"
    }
   ],
   "source": [
    "lemas_codigos[:5]"
   ]
  },
  {
   "cell_type": "code",
   "execution_count": 44,
   "id": "c1ceb81d",
   "metadata": {},
   "outputs": [],
   "source": [
    "## una segunda función: ¿y si entregamos el lema y el código?\n",
    "\n",
    "## INPUT lema: string (lema verbal)\n",
    "## INPUT codigo: string (combinación de símbolos de inflexión)\n",
    "## OUTPUT inflexion: string (inflexión que buscamos)\n",
    "\n",
    "def inflexiones_quechua2(lema,codigo):\n",
    "    ## nuevamente buscamos el índice \n",
    "    index = lemas_codigos.index([lema, codigo])\n",
    "    ## buscamos en la lista inflexiones\n",
    "    inflexion = inflexiones_que[index]\n",
    "    return inflexion"
   ]
  },
  {
   "cell_type": "code",
   "execution_count": 45,
   "id": "b50f88b8",
   "metadata": {},
   "outputs": [
    {
     "data": {
      "text/plain": [
       "'achalachina'"
      ]
     },
     "execution_count": 45,
     "metadata": {},
     "output_type": "execute_result"
    }
   ],
   "source": [
    "inflexiones_quechua2('achalachiy', 'V.PTCP;FUT')"
   ]
  },
  {
   "cell_type": "code",
   "execution_count": 16,
   "id": "45ce4bbf",
   "metadata": {},
   "outputs": [],
   "source": [
    "## una tercera función: ¿y si entregamos todas las inflexiones de un lema?\n",
    "\n",
    "## INPUT lema: string (lema verbal)\n",
    "## OUTPUT inflexiones: lista de strings (inflexiones que buscamos)\n",
    "\n",
    "def inflexiones_para_lemma(lema):\n",
    "    ## lista de inflexiones\n",
    "    inflexiones = []\n",
    "    ## lista indices! ¿dónde aparece el lema?\n",
    "    index = []\n",
    "    ## recorremos los índices\n",
    "    for i in range(len(lemas_que)):\n",
    "        ## guardamos las apariciones de lema\n",
    "        if lemas_que[i]==lema:\n",
    "            index+=[i]\n",
    "    ## recorremos los índices que encontramos     \n",
    "    for i in index:\n",
    "        inflexiones+=[inflexiones_que[i]]\n",
    "        \n",
    "    return inflexiones"
   ]
  },
  {
   "cell_type": "code",
   "execution_count": 50,
   "id": "3f1c01c9",
   "metadata": {},
   "outputs": [],
   "source": [
    "def inflexiones_para_lemma(lema):\n",
    "    ## lista de inflexiones\n",
    "    inflexiones = []\n",
    "    ## lista indices! ¿dónde aparece el lema?\n",
    "    index = []\n",
    "    ## recorremos los índices\n",
    "    for i in range(len(lemas_que)):\n",
    "        ## guardamos las apariciones de lema\n",
    "        if lemas_que[i]==lema:\n",
    "            index+=[i]\n",
    "    ## recorremos los índices que encontramos     \n",
    "    for i in index:\n",
    "        inflexiones+=[inflexiones_que[i]]\n",
    "            \n",
    "    return inflexiones"
   ]
  },
  {
   "cell_type": "code",
   "execution_count": 66,
   "id": "68925f53",
   "metadata": {},
   "outputs": [],
   "source": [
    "def hola_chao(numero):\n",
    "    if numero==0:\n",
    "        return 'hola!'\n",
    "    else:\n",
    "        return 'chao!'"
   ]
  },
  {
   "cell_type": "code",
   "execution_count": 68,
   "id": "75d99a7c",
   "metadata": {},
   "outputs": [
    {
     "data": {
      "text/plain": [
       "'hola!'"
      ]
     },
     "execution_count": 68,
     "metadata": {},
     "output_type": "execute_result"
    }
   ],
   "source": [
    "hola_chao(0)"
   ]
  },
  {
   "cell_type": "code",
   "execution_count": 56,
   "id": "bdbf1a18",
   "metadata": {},
   "outputs": [],
   "source": [
    "lista_numero_inflexiones = []\n",
    "\n",
    "for lema in lemas_que:\n",
    "    lista_numero_inflexiones+=[len(inflexiones_para_lemma(lema))]\n",
    "    \n",
    "#lista_numero_inflexiones = [len(inflexiones_para_lemma(lema)) for lema in lemas_que]"
   ]
  },
  {
   "cell_type": "code",
   "execution_count": 61,
   "id": "9055ac95",
   "metadata": {},
   "outputs": [
    {
     "data": {
      "text/plain": [
       "41"
      ]
     },
     "execution_count": 61,
     "metadata": {},
     "output_type": "execute_result"
    }
   ],
   "source": [
    "import numpy as np\n",
    "\n",
    "np.min(lista_numero_inflexiones)"
   ]
  },
  {
   "cell_type": "code",
   "execution_count": 70,
   "id": "21d51b08",
   "metadata": {},
   "outputs": [
    {
     "data": {
      "text/plain": [
       "['achalachichunku',\n",
       " 'achalachichun',\n",
       " 'achalachina',\n",
       " 'achalachinchik',\n",
       " 'achalachini',\n",
       " 'achalachinkichik',\n",
       " 'achalachinkichik',\n",
       " 'achalachinki',\n",
       " 'achalachinki',\n",
       " 'achalachinku',\n",
       " 'achalachinqaku',\n",
       " 'achalachinqa',\n",
       " 'achalachin',\n",
       " 'achalachiq',\n",
       " 'achalachirqanchik',\n",
       " 'achalachirqaniku',\n",
       " 'achalachirqani',\n",
       " 'achalachirqankichik',\n",
       " 'achalachirqanki',\n",
       " 'achalachirqanku',\n",
       " 'achalachirqan',\n",
       " 'achalachisaqku',\n",
       " 'achalachisaq',\n",
       " 'achalachispa',\n",
       " 'achalachisqanchik',\n",
       " 'achalachisqaniku',\n",
       " 'achalachisqani',\n",
       " 'achalachisqankichik',\n",
       " 'achalachisqanki',\n",
       " 'achalachisqanku',\n",
       " 'achalachisqan',\n",
       " 'achalachisqa',\n",
       " 'achalachisunchik',\n",
       " 'achalachiychik',\n",
       " 'achalachiyku',\n",
       " 'achalachiy',\n",
       " 'achalachiy',\n",
       " 'amaachalachichunchu',\n",
       " 'amaachalachichunkuchu',\n",
       " 'amaachalachiychikchu',\n",
       " 'amaachalachiychu']"
      ]
     },
     "execution_count": 70,
     "metadata": {},
     "output_type": "execute_result"
    }
   ],
   "source": [
    "inflexiones_para_lemma('achalachiy')"
   ]
  },
  {
   "cell_type": "code",
   "execution_count": 18,
   "id": "50857030",
   "metadata": {},
   "outputs": [],
   "source": [
    "## una cuarta función: ¿y si entregamos todas las inflexiones+códigos de un lema?\n",
    "\n",
    "## INPUT lema: string (lema verbal)\n",
    "## OUTPUT inflexiones_codigos: lista de listas [string,string] (inflexiones y códigos para un lema)\n",
    "def inflexiones_codigos_para_lemma(lema):\n",
    "    ## lista de inflexiones\n",
    "    inflexiones_codigos = []\n",
    "    ## lista indices! ¿dónde aparece el lema?\n",
    "    index = []\n",
    "    ## recorremos los índices\n",
    "    for i in range(len(lemas_que)):\n",
    "        ## guardamos las apariciones de lema\n",
    "        if lemas_que[i]==lema:\n",
    "            index+=[i]\n",
    "    ## recorremos los índices que encontramos     \n",
    "    for i in index:\n",
    "        inflexiones_codigos+=[[inflexiones_que[i],codigos_que[i]]]\n",
    "        \n",
    "    return inflexiones_codigos"
   ]
  },
  {
   "cell_type": "code",
   "execution_count": 75,
   "id": "7e25065e",
   "metadata": {},
   "outputs": [],
   "source": [
    "def inflexiones_codigos_para_lemma(lema):\n",
    "    ## lista de inflexiones\n",
    "    inflexiones_codigos = []\n",
    "    ## lista indices! ¿dónde aparece el lema?\n",
    "    index = []\n",
    "    ## recorremos los índices\n",
    "    for i in range(len(lemas_que)):\n",
    "        ## guardamos las apariciones de lema\n",
    "        if lemas_que[i]==lema:\n",
    "            index+=[i]\n",
    "    ## recorremos los índices que encontramos     \n",
    "    for i in index:\n",
    "        inflexiones_codigos+=[[inflexiones_que[i],codigos_que[i]]]\n",
    "        \n",
    "    return inflexiones_codigos"
   ]
  },
  {
   "cell_type": "code",
   "execution_count": 76,
   "id": "17668a31",
   "metadata": {},
   "outputs": [
    {
     "data": {
      "text/plain": [
       "[['achalachichunku', 'V;IMP;POS;3;PL'],\n",
       " ['achalachichun', 'V;IMP;POS;3;SG'],\n",
       " ['achalachina', 'V.PTCP;FUT'],\n",
       " ['achalachinchik', 'V;PRS;1+INCL;PL'],\n",
       " ['achalachini', 'V;PRS;1;SG'],\n",
       " ['achalachinkichik', 'V;FUT;2;PL'],\n",
       " ['achalachinkichik', 'V;PRS;2;PL'],\n",
       " ['achalachinki', 'V;FUT;2;SG'],\n",
       " ['achalachinki', 'V;PRS;2;SG'],\n",
       " ['achalachinku', 'V;PRS;3;PL'],\n",
       " ['achalachinqaku', 'V;FUT;3;PL'],\n",
       " ['achalachinqa', 'V;FUT;3;SG'],\n",
       " ['achalachin', 'V;PRS;3;SG'],\n",
       " ['achalachiq', 'V;NFIN;AGT'],\n",
       " ['achalachirqanchik', 'V;PST;FH;1+INCL;PL'],\n",
       " ['achalachirqaniku', 'V;PST;FH;1+EXCL;PL'],\n",
       " ['achalachirqani', 'V;PST;FH;1;SG'],\n",
       " ['achalachirqankichik', 'V;PST;FH;2;PL'],\n",
       " ['achalachirqanki', 'V;PST;FH;2;SG'],\n",
       " ['achalachirqanku', 'V;PST;FH;3;PL'],\n",
       " ['achalachirqan', 'V;PST;FH;3;SG'],\n",
       " ['achalachisaqku', 'V;FUT;1+EXCL;PL'],\n",
       " ['achalachisaq', 'V;FUT;1;SG'],\n",
       " ['achalachispa', 'V.PTCP;PRS'],\n",
       " ['achalachisqanchik', 'V;PST;NFH;1+INCL;PL'],\n",
       " ['achalachisqaniku', 'V;PST;NFH;1+EXCL;PL'],\n",
       " ['achalachisqani', 'V;PST;NFH;1;SG'],\n",
       " ['achalachisqankichik', 'V;PST;NFH;2;PL'],\n",
       " ['achalachisqanki', 'V;PST;NFH;2;SG'],\n",
       " ['achalachisqanku', 'V;PST;NFH;3;PL'],\n",
       " ['achalachisqan', 'V;PST;NFH;3;SG'],\n",
       " ['achalachisqa', 'V.PTCP;PST'],\n",
       " ['achalachisunchik', 'V;FUT;1+INCL;PL'],\n",
       " ['achalachiychik', 'V;IMP;POS;2;PL'],\n",
       " ['achalachiyku', 'V;PRS;1+EXCL;PL'],\n",
       " ['achalachiy', 'V;IMP;POS;2;SG'],\n",
       " ['achalachiy', 'V;NFIN'],\n",
       " ['amaachalachichunchu', 'V;IMP;NEG;3;SG'],\n",
       " ['amaachalachichunkuchu', 'V;IMP;NEG;3;PL'],\n",
       " ['amaachalachiychikchu', 'V;IMP;NEG;2;PL'],\n",
       " ['amaachalachiychu', 'V;IMP;NEG;2;SG']]"
      ]
     },
     "execution_count": 76,
     "metadata": {},
     "output_type": "execute_result"
    }
   ],
   "source": [
    "inflexiones_codigos_para_lemma('achalachiy')"
   ]
  },
  {
   "cell_type": "code",
   "execution_count": 77,
   "id": "6736d885",
   "metadata": {},
   "outputs": [
    {
     "data": {
      "text/plain": [
       "[['amayuyachunchu', 'V;IMP;NEG;3;SG'],\n",
       " ['amayuyachunkuchu', 'V;IMP;NEG;3;PL'],\n",
       " ['amayuyaychikchu', 'V;IMP;NEG;2;PL'],\n",
       " ['amayuyaychu', 'V;IMP;NEG;2;SG'],\n",
       " ['yuyachunku', 'V;IMP;POS;3;PL'],\n",
       " ['yuyachun', 'V;IMP;POS;3;SG'],\n",
       " ['yuyana', 'V.PTCP;FUT'],\n",
       " ['yuyanchik', 'V;PRS;1+INCL;PL'],\n",
       " ['yuyani', 'V;PRS;1;SG'],\n",
       " ['yuyankichik', 'V;FUT;2;PL'],\n",
       " ['yuyankichik', 'V;PRS;2;PL'],\n",
       " ['yuyanki', 'V;FUT;2;SG'],\n",
       " ['yuyanki', 'V;PRS;2;SG'],\n",
       " ['yuyanku', 'V;PRS;3;PL'],\n",
       " ['yuyanqaku', 'V;FUT;3;PL'],\n",
       " ['yuyanqa', 'V;FUT;3;SG'],\n",
       " ['yuyan', 'V;PRS;3;SG'],\n",
       " ['yuyaq', 'V;NFIN;AGT'],\n",
       " ['yuyarqanchik', 'V;PST;FH;1+INCL;PL'],\n",
       " ['yuyarqaniku', 'V;PST;FH;1+EXCL;PL'],\n",
       " ['yuyarqani', 'V;PST;FH;1;SG'],\n",
       " ['yuyarqankichik', 'V;PST;FH;2;PL'],\n",
       " ['yuyarqanki', 'V;PST;FH;2;SG'],\n",
       " ['yuyarqanku', 'V;PST;FH;3;PL'],\n",
       " ['yuyarqan', 'V;PST;FH;3;SG'],\n",
       " ['yuyasaqku', 'V;FUT;1+EXCL;PL'],\n",
       " ['yuyasaq', 'V;FUT;1;SG'],\n",
       " ['yuyaspa', 'V.PTCP;PRS'],\n",
       " ['yuyasqanchik', 'V;PST;NFH;1+INCL;PL'],\n",
       " ['yuyasqaniku', 'V;PST;NFH;1+EXCL;PL'],\n",
       " ['yuyasqani', 'V;PST;NFH;1;SG'],\n",
       " ['yuyasqankichik', 'V;PST;NFH;2;PL'],\n",
       " ['yuyasqanki', 'V;PST;NFH;2;SG'],\n",
       " ['yuyasqanku', 'V;PST;NFH;3;PL'],\n",
       " ['yuyasqan', 'V;PST;NFH;3;SG'],\n",
       " ['yuyasqa', 'V.PTCP;PST'],\n",
       " ['yuyasunchik', 'V;FUT;1+INCL;PL'],\n",
       " ['yuyaychik', 'V;IMP;POS;2;PL'],\n",
       " ['yuyayku', 'V;PRS;1+EXCL;PL'],\n",
       " ['yuyay', 'V;IMP;POS;2;SG'],\n",
       " ['yuyay', 'V;NFIN']]"
      ]
     },
     "execution_count": 77,
     "metadata": {},
     "output_type": "execute_result"
    }
   ],
   "source": [
    "inflexiones_codigos_para_lemma('yuyay')"
   ]
  },
  {
   "cell_type": "markdown",
   "id": "15366d59",
   "metadata": {},
   "source": [
    "## ejercicios "
   ]
  },
  {
   "cell_type": "code",
   "execution_count": 11,
   "id": "bd02d5da",
   "metadata": {},
   "outputs": [],
   "source": [
    "## un mini apunte sobre strings\n",
    "## https://www.freecodecamp.org/news/python-substring-how-to-slice-a-string/"
   ]
  },
  {
   "cell_type": "code",
   "execution_count": 24,
   "id": "187e582c",
   "metadata": {},
   "outputs": [],
   "source": [
    "## Defina una función que dado un string s, entregue su versión espejo: 'hola' --> 'aloh'. Piense en list(range(-len(s)+1,1)). \n",
    "## Puede usar también [::-1] al final del string\n",
    "\n",
    "def espejo(string):\n",
    "    string_espejo = ''\n",
    "    ## código aquí!\n",
    "    \n",
    "    return string_espejo"
   ]
  },
  {
   "cell_type": "code",
   "execution_count": 32,
   "id": "34f1671a",
   "metadata": {},
   "outputs": [],
   "source": [
    "## Defina una función que indique si un string es un palíndromo: 'anita lava la tina'\n",
    "\n",
    "def palindromo(string):\n",
    "    P = False\n",
    "    ## código aquí!\n",
    "    \n",
    "    return P"
   ]
  },
  {
   "cell_type": "code",
   "execution_count": 26,
   "id": "5e254399",
   "metadata": {},
   "outputs": [],
   "source": [
    "## Defina una función que dado un substring, busque si este substring aparece en otro string\n",
    "\n",
    "def busqueda_substring(substring,string):\n",
    "    aparece = False\n",
    "    # código aquí!\n",
    "    \n",
    "    return aparece"
   ]
  },
  {
   "cell_type": "code",
   "execution_count": 27,
   "id": "7c801746",
   "metadata": {},
   "outputs": [],
   "source": [
    "## Defina una función que calcule la distancia entre strings. La distancia mide el número de caracteres en que estos\n",
    "## strings difieren. Los strings deben tener el mismo largo. \n",
    "\n",
    "def distancia_strings(string1,string2):\n",
    "    distancia = 0\n",
    "    ## código aquí!\n",
    "    \n",
    "    return distancia"
   ]
  },
  {
   "cell_type": "code",
   "execution_count": 33,
   "id": "a2c580ed",
   "metadata": {},
   "outputs": [],
   "source": [
    "## Re-defina una función que indique si un string es un palíndromo: 'anita lava la tina'\n",
    "\n",
    "def palindromo2(string):\n",
    "    ## código aquí!\n",
    "    \n",
    "    return P"
   ]
  },
  {
   "cell_type": "code",
   "execution_count": 34,
   "id": "c83d994c",
   "metadata": {},
   "outputs": [],
   "source": [
    "## Defina una función que ## Defina una función que calcule la distancia entre strings. La distancia mide el número de caracteres en que estos\n",
    "## strings difieren. Los strings no tienen necesariamente el mismo largo. \n",
    "\n",
    "def distancia_strings_general(string1,string2):\n",
    "    distancia = 0\n",
    "    ## código aquí!\n",
    "    \n",
    "    return distancia"
   ]
  },
  {
   "cell_type": "code",
   "execution_count": 35,
   "id": "8438c4cc",
   "metadata": {},
   "outputs": [],
   "source": [
    "## Dado un lema, defina una función que entregue todas las inflexiones cuyos códigos terminen en 'SG'.\n",
    "\n",
    "def final_SG(lema):\n",
    "    lista_inflexiones = []\n",
    "    ## código aquí!\n",
    "    \n",
    "    return lista_inflexiones"
   ]
  },
  {
   "cell_type": "code",
   "execution_count": 36,
   "id": "b9d30d29",
   "metadata": {},
   "outputs": [],
   "source": [
    "## PST indica tiempo pasado. Defina una función que dado un lema, entregue todas las inflexiones que estén en pasado.\n",
    "\n",
    "def PST_SG(lema):\n",
    "    lista_inflexiones = []\n",
    "    ## código aquí!\n",
    "    \n",
    "    return lista_inflexiones"
   ]
  },
  {
   "cell_type": "code",
   "execution_count": 37,
   "id": "a7970a57",
   "metadata": {},
   "outputs": [],
   "source": [
    "## Defina una función que dado un lema, entregue todas las inflexiones que estén en cualquier tiempo.\n",
    "\n",
    "def tiempo_SG(lema,tiempo_string):\n",
    "    lista_inflexiones = []\n",
    "    ## código aquí!\n",
    "    \n",
    "    return lista_inflexiones"
   ]
  },
  {
   "cell_type": "code",
   "execution_count": null,
   "id": "e344dbf6",
   "metadata": {},
   "outputs": [],
   "source": []
  },
  {
   "cell_type": "code",
   "execution_count": null,
   "id": "437c8019",
   "metadata": {},
   "outputs": [],
   "source": []
  }
 ],
 "metadata": {
  "kernelspec": {
   "display_name": "Python 3",
   "language": "python",
   "name": "python3"
  },
  "language_info": {
   "codemirror_mode": {
    "name": "ipython",
    "version": 3
   },
   "file_extension": ".py",
   "mimetype": "text/x-python",
   "name": "python",
   "nbconvert_exporter": "python",
   "pygments_lexer": "ipython3",
   "version": "3.8.8"
  }
 },
 "nbformat": 4,
 "nbformat_minor": 5
}
