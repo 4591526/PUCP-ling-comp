{
 "cells": [
  {
   "cell_type": "markdown",
   "id": "da0bd54e",
   "metadata": {},
   "source": [
    "### Algunos experimentos simples con datos de unimorph (lengua: Yanesha)\n",
    "#### Mini introducción al procesamiento de una lengua (y algo sobre diccionarios)"
   ]
  },
  {
   "cell_type": "code",
   "execution_count": 1,
   "id": "29e71e42",
   "metadata": {},
   "outputs": [],
   "source": [
    "## https://github.com/unimorph/ame\n",
    "## usamos un poco de magia para leer los datos \n",
    "\n",
    "import pandas as pd\n",
    "\n",
    "datos = pd.read_csv('ame', sep='\\t', header=None)\n",
    "datos.columns = ['formas','inflexiones','códigos']"
   ]
  },
  {
   "cell_type": "code",
   "execution_count": 2,
   "id": "88cb0593",
   "metadata": {},
   "outputs": [],
   "source": [
    "datos = datos[datos['códigos'].str.startswith('V')]"
   ]
  },
  {
   "cell_type": "code",
   "execution_count": 4,
   "id": "4c0b21b7",
   "metadata": {},
   "outputs": [
    {
     "data": {
      "text/html": [
       "<div>\n",
       "<style scoped>\n",
       "    .dataframe tbody tr th:only-of-type {\n",
       "        vertical-align: middle;\n",
       "    }\n",
       "\n",
       "    .dataframe tbody tr th {\n",
       "        vertical-align: top;\n",
       "    }\n",
       "\n",
       "    .dataframe thead th {\n",
       "        text-align: right;\n",
       "    }\n",
       "</style>\n",
       "<table border=\"1\" class=\"dataframe\">\n",
       "  <thead>\n",
       "    <tr style=\"text-align: right;\">\n",
       "      <th></th>\n",
       "      <th>formas</th>\n",
       "      <th>inflexiones</th>\n",
       "      <th>códigos</th>\n",
       "    </tr>\n",
       "  </thead>\n",
       "  <tbody>\n",
       "    <tr>\n",
       "      <th>2</th>\n",
       "      <td>a'chenkateñets</td>\n",
       "      <td>a'chenkateñets</td>\n",
       "      <td>V;NFIN</td>\n",
       "    </tr>\n",
       "    <tr>\n",
       "      <th>3</th>\n",
       "      <td>achenkateñets</td>\n",
       "      <td>achenkateñets</td>\n",
       "      <td>V;NFIN</td>\n",
       "    </tr>\n",
       "    <tr>\n",
       "      <th>4</th>\n",
       "      <td>a'chenkateñets</td>\n",
       "      <td>a'chenkateñet</td>\n",
       "      <td>V;NO3P;FIN;REAL</td>\n",
       "    </tr>\n",
       "    <tr>\n",
       "      <th>5</th>\n",
       "      <td>achenkateñets</td>\n",
       "      <td>a'chenkateñet</td>\n",
       "      <td>V;NO3P;FIN;REAL</td>\n",
       "    </tr>\n",
       "    <tr>\n",
       "      <th>6</th>\n",
       "      <td>achenkateñets</td>\n",
       "      <td>a'chenkateñ</td>\n",
       "      <td>V;NO3;FIN;REAL</td>\n",
       "    </tr>\n",
       "    <tr>\n",
       "      <th>...</th>\n",
       "      <td>...</td>\n",
       "      <td>...</td>\n",
       "      <td>...</td>\n",
       "    </tr>\n",
       "    <tr>\n",
       "      <th>3762</th>\n",
       "      <td>yotteñets</td>\n",
       "      <td>seyottena</td>\n",
       "      <td>V;NO2P;FIN;REAL</td>\n",
       "    </tr>\n",
       "    <tr>\n",
       "      <th>3763</th>\n",
       "      <td>yotteñets</td>\n",
       "      <td>yeyottena</td>\n",
       "      <td>V;NO1P;FIN;REAL</td>\n",
       "    </tr>\n",
       "    <tr>\n",
       "      <th>3764</th>\n",
       "      <td>yotteñets</td>\n",
       "      <td>yottena</td>\n",
       "      <td>V;NO3;FIN;REAL</td>\n",
       "    </tr>\n",
       "    <tr>\n",
       "      <th>3765</th>\n",
       "      <td>yotteñets</td>\n",
       "      <td>yotteñets</td>\n",
       "      <td>V;NFIN</td>\n",
       "    </tr>\n",
       "    <tr>\n",
       "      <th>3766</th>\n",
       "      <td>yotteñets</td>\n",
       "      <td>yottenet</td>\n",
       "      <td>V;NO3P;FIN;REAL</td>\n",
       "    </tr>\n",
       "  </tbody>\n",
       "</table>\n",
       "<p>1328 rows × 3 columns</p>\n",
       "</div>"
      ],
      "text/plain": [
       "              formas     inflexiones          códigos\n",
       "2     a'chenkateñets  a'chenkateñets           V;NFIN\n",
       "3      achenkateñets   achenkateñets           V;NFIN\n",
       "4     a'chenkateñets   a'chenkateñet  V;NO3P;FIN;REAL\n",
       "5      achenkateñets   a'chenkateñet  V;NO3P;FIN;REAL\n",
       "6      achenkateñets     a'chenkateñ   V;NO3;FIN;REAL\n",
       "...              ...             ...              ...\n",
       "3762       yotteñets       seyottena  V;NO2P;FIN;REAL\n",
       "3763       yotteñets       yeyottena  V;NO1P;FIN;REAL\n",
       "3764       yotteñets         yottena   V;NO3;FIN;REAL\n",
       "3765       yotteñets       yotteñets           V;NFIN\n",
       "3766       yotteñets        yottenet  V;NO3P;FIN;REAL\n",
       "\n",
       "[1328 rows x 3 columns]"
      ]
     },
     "execution_count": 4,
     "metadata": {},
     "output_type": "execute_result"
    }
   ],
   "source": [
    "## nuestros datos!!! Cada fila indica una forma original, una inflexión del verbo y las coordenadas de la inflexión.\n",
    "\n",
    "datos"
   ]
  },
  {
   "cell_type": "code",
   "execution_count": 27,
   "id": "9ca11143",
   "metadata": {},
   "outputs": [
    {
     "data": {
      "text/plain": [
       "2       a'chenkateñets\n",
       "3        achenkateñets\n",
       "4       a'chenkateñets\n",
       "5        achenkateñets\n",
       "6        achenkateñets\n",
       "             ...      \n",
       "3762         yotteñets\n",
       "3763         yotteñets\n",
       "3764         yotteñets\n",
       "3765         yotteñets\n",
       "3766         yotteñets\n",
       "Name: formas, Length: 1328, dtype: object"
      ]
     },
     "execution_count": 27,
     "metadata": {},
     "output_type": "execute_result"
    }
   ],
   "source": [
    "datos['formas']"
   ]
  },
  {
   "cell_type": "code",
   "execution_count": 5,
   "id": "54fea3ee",
   "metadata": {},
   "outputs": [],
   "source": [
    "formas = list(datos['formas'])"
   ]
  },
  {
   "cell_type": "code",
   "execution_count": 6,
   "id": "78d02341",
   "metadata": {},
   "outputs": [
    {
     "data": {
      "text/plain": [
       "[\"a'chenkateñets\",\n",
       " 'achenkateñets',\n",
       " \"a'chenkateñets\",\n",
       " 'achenkateñets',\n",
       " 'achenkateñets']"
      ]
     },
     "execution_count": 6,
     "metadata": {},
     "output_type": "execute_result"
    }
   ],
   "source": [
    "formas[:5]"
   ]
  },
  {
   "cell_type": "code",
   "execution_count": 7,
   "id": "3f6a30b8",
   "metadata": {},
   "outputs": [],
   "source": [
    "inflexiones = list(datos['inflexiones'])"
   ]
  },
  {
   "cell_type": "code",
   "execution_count": 8,
   "id": "e2b2d27f",
   "metadata": {},
   "outputs": [
    {
     "data": {
      "text/plain": [
       "[\"a'chenkateñets\",\n",
       " 'achenkateñets',\n",
       " \"a'chenkateñet\",\n",
       " \"a'chenkateñet\",\n",
       " \"a'chenkateñ\"]"
      ]
     },
     "execution_count": 8,
     "metadata": {},
     "output_type": "execute_result"
    }
   ],
   "source": [
    "inflexiones[:5]"
   ]
  },
  {
   "cell_type": "code",
   "execution_count": 11,
   "id": "971ed68c",
   "metadata": {},
   "outputs": [],
   "source": [
    "codigos = list(datos['códigos'])"
   ]
  },
  {
   "cell_type": "code",
   "execution_count": 12,
   "id": "c0e3f70c",
   "metadata": {},
   "outputs": [
    {
     "data": {
      "text/plain": [
       "['V;NFIN', 'V;NFIN', 'V;NO3P;FIN;REAL', 'V;NO3P;FIN;REAL', 'V;NO3;FIN;REAL']"
      ]
     },
     "execution_count": 12,
     "metadata": {},
     "output_type": "execute_result"
    }
   ],
   "source": [
    "codigos[:5]"
   ]
  },
  {
   "cell_type": "markdown",
   "id": "7c1857b4",
   "metadata": {},
   "source": [
    "Algunas preguntas simples:\n",
    "\n",
    "- Defina la lista formas_unicas, que contiene todas las formas sin repeticiones. Identifique el número de formas verbales distintas.\n",
    "- Identifique el número de inflexiones distintas.\n",
    "- En promedio, ¿Cúantas inflexiones distintas están asociadas a una forma verbal en Yanesha?"
   ]
  },
  {
   "cell_type": "code",
   "execution_count": 14,
   "id": "8145b2ba",
   "metadata": {},
   "outputs": [
    {
     "data": {
      "text/plain": [
       "1328"
      ]
     },
     "execution_count": 14,
     "metadata": {},
     "output_type": "execute_result"
    }
   ],
   "source": [
    "len(formas\n",
    "# ximena.echevarria@pucp.edu.pe"
   ]
  },
  {
   "cell_type": "code",
   "execution_count": 21,
   "id": "a2adf225",
   "metadata": {},
   "outputs": [],
   "source": [
    "formas_unicas = []\n",
    "\n",
    "for elemento in formas:\n",
    "    ## si elemento ya está en la lista formas_unicas, entonces no lo guardo\n",
    "    if elemento not in formas_unicas:\n",
    "        formas_unicas += [elemento]"
   ]
  },
  {
   "cell_type": "code",
   "execution_count": 22,
   "id": "ae5c8b1d",
   "metadata": {},
   "outputs": [
    {
     "data": {
      "text/plain": [
       "[\"a'chenkateñets\",\n",
       " 'achenkateñets',\n",
       " \"a'kesheñets\",\n",
       " \"a'keshphateñets\",\n",
       " 'akeshphateñets',\n",
       " \"a'koshna'teñets\",\n",
       " \"a'kowenteñets\",\n",
       " 'akreñets',\n",
       " \"allokchame'teñets\",\n",
       " \"a'mareñets\"]"
      ]
     },
     "execution_count": 22,
     "metadata": {},
     "output_type": "execute_result"
    }
   ],
   "source": [
    "formas_unicas[:10]"
   ]
  },
  {
   "cell_type": "code",
   "execution_count": 23,
   "id": "c608089f",
   "metadata": {},
   "outputs": [
    {
     "data": {
      "text/plain": [
       "184"
      ]
     },
     "execution_count": 23,
     "metadata": {},
     "output_type": "execute_result"
    }
   ],
   "source": [
    "len(formas_unicas)"
   ]
  },
  {
   "cell_type": "code",
   "execution_count": 24,
   "id": "e4547081",
   "metadata": {},
   "outputs": [
    {
     "data": {
      "text/plain": [
       "1328"
      ]
     },
     "execution_count": 24,
     "metadata": {},
     "output_type": "execute_result"
    }
   ],
   "source": [
    "len(inflexiones)"
   ]
  },
  {
   "cell_type": "code",
   "execution_count": 25,
   "id": "6351939e",
   "metadata": {},
   "outputs": [],
   "source": [
    "inflexiones_unicas = []\n",
    "\n",
    "for elemento in inflexiones:\n",
    "    ## si elemento ya está en la lista formas_unicas, entonces no lo guardo\n",
    "    if elemento not in inflexiones_unicas:\n",
    "        inflexiones_unicas += [elemento]"
   ]
  },
  {
   "cell_type": "code",
   "execution_count": 26,
   "id": "a26ce7d2",
   "metadata": {},
   "outputs": [
    {
     "data": {
      "text/plain": [
       "1314"
      ]
     },
     "execution_count": 26,
     "metadata": {},
     "output_type": "execute_result"
    }
   ],
   "source": [
    "len(inflexiones_unicas)"
   ]
  },
  {
   "cell_type": "code",
   "execution_count": 31,
   "id": "5cbd8642",
   "metadata": {},
   "outputs": [
    {
     "data": {
      "text/plain": [
       "7.141304347826087"
      ]
     },
     "execution_count": 31,
     "metadata": {},
     "output_type": "execute_result"
    }
   ],
   "source": [
    "len(inflexiones_unicas)/len(formas_unicas)"
   ]
  },
  {
   "cell_type": "code",
   "execution_count": 34,
   "id": "f9c1f15d",
   "metadata": {},
   "outputs": [
    {
     "data": {
      "text/plain": [
       "1328"
      ]
     },
     "execution_count": 34,
     "metadata": {},
     "output_type": "execute_result"
    }
   ],
   "source": [
    "len(codigos)"
   ]
  },
  {
   "cell_type": "code",
   "execution_count": 35,
   "id": "b0c978dc",
   "metadata": {},
   "outputs": [
    {
     "data": {
      "text/plain": [
       "['V;NFIN',\n",
       " 'V;NFIN',\n",
       " 'V;NO3P;FIN;REAL',\n",
       " 'V;NO3P;FIN;REAL',\n",
       " 'V;NO3;FIN;REAL',\n",
       " 'V;NO3;FIN;REAL',\n",
       " 'V;NO1;FIN;REAL',\n",
       " 'V;NO1;FIN;REAL',\n",
       " 'V;NO2;FIN;REAL',\n",
       " 'V;NO2;FIN;REAL']"
      ]
     },
     "execution_count": 35,
     "metadata": {},
     "output_type": "execute_result"
    }
   ],
   "source": [
    "codigos[:10]"
   ]
  },
  {
   "cell_type": "code",
   "execution_count": 36,
   "id": "7a67cbaf",
   "metadata": {},
   "outputs": [],
   "source": [
    "codigos_unicos = []\n",
    "\n",
    "for codigo in codigos:\n",
    "    if codigo not in codigos_unicos:\n",
    "        codigos_unicos += [codigo]"
   ]
  },
  {
   "cell_type": "code",
   "execution_count": 37,
   "id": "f0e53ba6",
   "metadata": {},
   "outputs": [
    {
     "data": {
      "text/plain": [
       "7"
      ]
     },
     "execution_count": 37,
     "metadata": {},
     "output_type": "execute_result"
    }
   ],
   "source": [
    "len(codigos_unicos)"
   ]
  },
  {
   "cell_type": "code",
   "execution_count": 39,
   "id": "651afec8",
   "metadata": {},
   "outputs": [
    {
     "data": {
      "text/plain": [
       "['V;NFIN',\n",
       " 'V;NO3P;FIN;REAL',\n",
       " 'V;NO3;FIN;REAL',\n",
       " 'V;NO1;FIN;REAL',\n",
       " 'V;NO2;FIN;REAL',\n",
       " 'V;NO2P;FIN;REAL',\n",
       " 'V;NO1P;FIN;REAL']"
      ]
     },
     "execution_count": 39,
     "metadata": {},
     "output_type": "execute_result"
    }
   ],
   "source": [
    "codigos_unicos"
   ]
  },
  {
   "cell_type": "markdown",
   "id": "4874e80d",
   "metadata": {},
   "source": [
    "Un pequeño ejercicio con listas y ciclos for:\n",
    "\n",
    "- Defina la lista codigos_unicos, que contiene los códigos únicos ¿Cúantos códigos distintos hay?\n",
    "- Defina la lista codigos_extendidos, en que cada posición es una lista de tokens, por ejemplo,\n",
    "```python:\n",
    "codigos_extendidos = [['V','NFIN'],...]\n",
    "```\n",
    "\n",
    "- A partir de la lista anterior, defina la lista numero_codigos, que contiene el número de códigos asociados a cada inflexión.\n",
    "- En promedio, ¿Cuántos códigos están asociados a una inflexión?"
   ]
  },
  {
   "cell_type": "markdown",
   "id": "46c88cbb",
   "metadata": {},
   "source": [
    "A partir de los experimentos anteriores, suena razonable tener una forma de almacenar las formas, y al mismo tiempo todas las inflexiones asociadas a una forma ¿Cómo hacemos esto usando **Python**? Pensemos en diccionarios!\n",
    "\n",
    "En **Python**, los diccionarios son una estructura de datos que permite almacenar keys, o entradas, y values, o valores. A diferencia de las listas, los diccionarios **NO** están ordenados. No accedemos a posiciones, sino que a entradas, keys, como un diccionario habitual. "
   ]
  },
  {
   "cell_type": "code",
   "execution_count": 41,
   "id": "cc430936",
   "metadata": {},
   "outputs": [],
   "source": [
    "## definamos un diccionario vacío\n",
    "\n",
    "D = {}\n",
    "\n",
    "## Noten que usamos {}, y no [] :)"
   ]
  },
  {
   "cell_type": "code",
   "execution_count": 43,
   "id": "2dc92f58",
   "metadata": {},
   "outputs": [],
   "source": [
    "## ¿Cómo incluimos elementos a un diccionario? Simplemente indicamos el key y el value\n",
    "\n",
    "D['yotteñets'] = 'seyottena'\n",
    "\n",
    "## entonces, para acceder al valor asociado al key 'yotteñets', usamos"
   ]
  },
  {
   "cell_type": "code",
   "execution_count": 44,
   "id": "5a46af9c",
   "metadata": {},
   "outputs": [
    {
     "data": {
      "text/plain": [
       "'seyottena'"
      ]
     },
     "execution_count": 44,
     "metadata": {},
     "output_type": "execute_result"
    }
   ],
   "source": [
    "D['yotteñets']"
   ]
  },
  {
   "cell_type": "code",
   "execution_count": 45,
   "id": "f5fbea43",
   "metadata": {},
   "outputs": [],
   "source": [
    "## los keys pueden ser esencialmente números y strings\n",
    "\n",
    "E = {}\n",
    "\n",
    "E[1]=2"
   ]
  },
  {
   "cell_type": "code",
   "execution_count": 46,
   "id": "37642479",
   "metadata": {},
   "outputs": [
    {
     "data": {
      "text/plain": [
       "2"
      ]
     },
     "execution_count": 46,
     "metadata": {},
     "output_type": "execute_result"
    }
   ],
   "source": [
    "E[1]"
   ]
  },
  {
   "cell_type": "code",
   "execution_count": 47,
   "id": "961bf68e",
   "metadata": {},
   "outputs": [
    {
     "data": {
      "text/plain": [
       "['yotteñets']"
      ]
     },
     "execution_count": 47,
     "metadata": {},
     "output_type": "execute_result"
    }
   ],
   "source": [
    "## si queremos acceder a los keys (o entradas), usamos\n",
    "\n",
    "list(D.keys())"
   ]
  },
  {
   "cell_type": "code",
   "execution_count": 48,
   "id": "24e2225b",
   "metadata": {},
   "outputs": [
    {
     "data": {
      "text/plain": [
       "['seyottena']"
      ]
     },
     "execution_count": 48,
     "metadata": {},
     "output_type": "execute_result"
    }
   ],
   "source": [
    "## y para acceder a los values (o valores), usamos\n",
    "\n",
    "list(D.values())"
   ]
  },
  {
   "cell_type": "code",
   "execution_count": 49,
   "id": "b1f283a5",
   "metadata": {},
   "outputs": [],
   "source": [
    "## ¿Podemos mezclar for con diccionarios? Por supuesto!!!\n",
    "A = list(range(10))"
   ]
  },
  {
   "cell_type": "code",
   "execution_count": 50,
   "id": "e1de0f9c",
   "metadata": {},
   "outputs": [
    {
     "data": {
      "text/plain": [
       "[0, 1, 2, 3, 4, 5, 6, 7, 8, 9]"
      ]
     },
     "execution_count": 50,
     "metadata": {},
     "output_type": "execute_result"
    }
   ],
   "source": [
    "A"
   ]
  },
  {
   "cell_type": "code",
   "execution_count": 51,
   "id": "3c9b2f5f",
   "metadata": {},
   "outputs": [],
   "source": [
    "D = {}\n",
    "\n",
    "for numero in A:\n",
    "    D[numero]=numero+1"
   ]
  },
  {
   "cell_type": "code",
   "execution_count": 52,
   "id": "6dbd07d0",
   "metadata": {},
   "outputs": [
    {
     "data": {
      "text/plain": [
       "{0: 1, 1: 2, 2: 3, 3: 4, 4: 5, 5: 6, 6: 7, 7: 8, 8: 9, 9: 10}"
      ]
     },
     "execution_count": 52,
     "metadata": {},
     "output_type": "execute_result"
    }
   ],
   "source": [
    "D"
   ]
  },
  {
   "cell_type": "code",
   "execution_count": 53,
   "id": "cf561238",
   "metadata": {},
   "outputs": [],
   "source": [
    "## también podríamos hacer esto manualmente!\n",
    "\n",
    "D = {0: 1, 1: 2, 2: 3, 3: 4, 4: 5, 5: 6, 6: 7, 7: 8, 8: 9, 9: 10}"
   ]
  },
  {
   "cell_type": "markdown",
   "id": "600d75a0",
   "metadata": {},
   "source": [
    "¿De qué forma los diccionarios nos permiten extraer información (y proponer análisis simples) de los datos de la lengua Yanesha?\n",
    "\n",
    "- A partir de las listas formas, inflexiones y codigos, defina algún diccionario.\n",
    "- Use la lista formas_unicas como los keys de un diccionario D_formas. Defina, en primer lugar, los values como 0's. Es decir,\n",
    "```python:\n",
    "D_formas = {'yotteñets':0,...}\n",
    "```\n",
    "Con esto, cuente para cada key (forma) el número de inflexiones que aparecen en nuestros datos :)\n",
    "- Use la lista codigos_unicos como los keys del diccionario D_codigos. Defina este diccionario de forma que cada value es una lista vacía. Use un ciclo for. \n",
    "- En cada value de D_codigos (que es inicialmente la lista []), guarde todas las inflexiones asociadas a ese value. "
   ]
  },
  {
   "cell_type": "code",
   "execution_count": null,
   "id": "4b026a04",
   "metadata": {},
   "outputs": [],
   "source": []
  }
 ],
 "metadata": {
  "kernelspec": {
   "display_name": "Python 3",
   "language": "python",
   "name": "python3"
  },
  "language_info": {
   "codemirror_mode": {
    "name": "ipython",
    "version": 3
   },
   "file_extension": ".py",
   "mimetype": "text/x-python",
   "name": "python",
   "nbconvert_exporter": "python",
   "pygments_lexer": "ipython3",
   "version": "3.8.8"
  }
 },
 "nbformat": 4,
 "nbformat_minor": 5
}
