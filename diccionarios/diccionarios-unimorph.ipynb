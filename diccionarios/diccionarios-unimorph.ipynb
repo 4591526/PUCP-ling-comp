{
 "cells": [
  {
   "cell_type": "markdown",
   "metadata": {
    "id": "lje0LaD8Ptpw"
   },
   "source": [
    "# **Lingüística computacional 1LIN-11 2021-2**\n",
    "### Roberto Zariquiey Biondi, rzariquiey@pucp.edu.pe \n",
    "### Javier Vera Zúñiga, javier.vera@pucv.cl"
   ]
  },
  {
   "cell_type": "markdown",
   "metadata": {},
   "source": [
    "### Diccionarios y unimorph!"
   ]
  },
  {
   "cell_type": "markdown",
   "metadata": {},
   "source": [
    "#### DATOS"
   ]
  },
  {
   "cell_type": "code",
   "execution_count": 48,
   "metadata": {},
   "outputs": [],
   "source": [
    "## https://github.com/unimorph/ame\n",
    "## usamos un poco de magia para leer los datos \n",
    "\n",
    "import pandas as pd\n",
    "\n",
    "datos = pd.read_csv('datos/que', sep='\\t', header=None)\n",
    "datos.columns = ['formas','inflexiones','códigos']"
   ]
  },
  {
   "cell_type": "code",
   "execution_count": 49,
   "metadata": {},
   "outputs": [],
   "source": [
    "datos = datos[datos['códigos'].str.startswith('V')]"
   ]
  },
  {
   "cell_type": "code",
   "execution_count": 50,
   "metadata": {},
   "outputs": [
    {
     "data": {
      "text/html": [
       "<div>\n",
       "<style scoped>\n",
       "    .dataframe tbody tr th:only-of-type {\n",
       "        vertical-align: middle;\n",
       "    }\n",
       "\n",
       "    .dataframe tbody tr th {\n",
       "        vertical-align: top;\n",
       "    }\n",
       "\n",
       "    .dataframe thead th {\n",
       "        text-align: right;\n",
       "    }\n",
       "</style>\n",
       "<table border=\"1\" class=\"dataframe\">\n",
       "  <thead>\n",
       "    <tr style=\"text-align: right;\">\n",
       "      <th></th>\n",
       "      <th>formas</th>\n",
       "      <th>inflexiones</th>\n",
       "      <th>códigos</th>\n",
       "    </tr>\n",
       "  </thead>\n",
       "  <tbody>\n",
       "    <tr>\n",
       "      <th>256</th>\n",
       "      <td>achalachiy</td>\n",
       "      <td>achalachichunku</td>\n",
       "      <td>V;IMP;POS;3;PL</td>\n",
       "    </tr>\n",
       "    <tr>\n",
       "      <th>257</th>\n",
       "      <td>achalachiy</td>\n",
       "      <td>achalachichun</td>\n",
       "      <td>V;IMP;POS;3;SG</td>\n",
       "    </tr>\n",
       "    <tr>\n",
       "      <th>258</th>\n",
       "      <td>achalachiy</td>\n",
       "      <td>achalachina</td>\n",
       "      <td>V.PTCP;FUT</td>\n",
       "    </tr>\n",
       "    <tr>\n",
       "      <th>259</th>\n",
       "      <td>achalachiy</td>\n",
       "      <td>achalachinchik</td>\n",
       "      <td>V;PRS;1+INCL;PL</td>\n",
       "    </tr>\n",
       "    <tr>\n",
       "      <th>260</th>\n",
       "      <td>achalachiy</td>\n",
       "      <td>achalachini</td>\n",
       "      <td>V;PRS;1;SG</td>\n",
       "    </tr>\n",
       "    <tr>\n",
       "      <th>...</th>\n",
       "      <td>...</td>\n",
       "      <td>...</td>\n",
       "      <td>...</td>\n",
       "    </tr>\n",
       "    <tr>\n",
       "      <th>179743</th>\n",
       "      <td>yuyay</td>\n",
       "      <td>yuyasunchik</td>\n",
       "      <td>V;FUT;1+INCL;PL</td>\n",
       "    </tr>\n",
       "    <tr>\n",
       "      <th>179744</th>\n",
       "      <td>yuyay</td>\n",
       "      <td>yuyaychik</td>\n",
       "      <td>V;IMP;POS;2;PL</td>\n",
       "    </tr>\n",
       "    <tr>\n",
       "      <th>179763</th>\n",
       "      <td>yuyay</td>\n",
       "      <td>yuyayku</td>\n",
       "      <td>V;PRS;1+EXCL;PL</td>\n",
       "    </tr>\n",
       "    <tr>\n",
       "      <th>180001</th>\n",
       "      <td>yuyay</td>\n",
       "      <td>yuyay</td>\n",
       "      <td>V;IMP;POS;2;SG</td>\n",
       "    </tr>\n",
       "    <tr>\n",
       "      <th>180002</th>\n",
       "      <td>yuyay</td>\n",
       "      <td>yuyay</td>\n",
       "      <td>V;NFIN</td>\n",
       "    </tr>\n",
       "  </tbody>\n",
       "</table>\n",
       "<p>26404 rows × 3 columns</p>\n",
       "</div>"
      ],
      "text/plain": [
       "            formas      inflexiones          códigos\n",
       "256     achalachiy  achalachichunku   V;IMP;POS;3;PL\n",
       "257     achalachiy    achalachichun   V;IMP;POS;3;SG\n",
       "258     achalachiy      achalachina       V.PTCP;FUT\n",
       "259     achalachiy   achalachinchik  V;PRS;1+INCL;PL\n",
       "260     achalachiy      achalachini       V;PRS;1;SG\n",
       "...            ...              ...              ...\n",
       "179743       yuyay      yuyasunchik  V;FUT;1+INCL;PL\n",
       "179744       yuyay        yuyaychik   V;IMP;POS;2;PL\n",
       "179763       yuyay          yuyayku  V;PRS;1+EXCL;PL\n",
       "180001       yuyay            yuyay   V;IMP;POS;2;SG\n",
       "180002       yuyay            yuyay           V;NFIN\n",
       "\n",
       "[26404 rows x 3 columns]"
      ]
     },
     "execution_count": 50,
     "metadata": {},
     "output_type": "execute_result"
    }
   ],
   "source": [
    "datos"
   ]
  },
  {
   "cell_type": "code",
   "execution_count": 51,
   "metadata": {},
   "outputs": [],
   "source": [
    "lemas = list(datos['formas'])"
   ]
  },
  {
   "cell_type": "code",
   "execution_count": 52,
   "metadata": {},
   "outputs": [],
   "source": [
    "codigos = list(datos['códigos'])"
   ]
  },
  {
   "cell_type": "code",
   "execution_count": 53,
   "metadata": {},
   "outputs": [],
   "source": [
    "inflexiones = list(datos['inflexiones'])"
   ]
  },
  {
   "cell_type": "code",
   "execution_count": 54,
   "metadata": {},
   "outputs": [
    {
     "name": "stdout",
     "output_type": "stream",
     "text": [
      "26404\n"
     ]
    }
   ],
   "source": [
    "print(len(lemas))"
   ]
  },
  {
   "cell_type": "markdown",
   "metadata": {},
   "source": [
    "#### DICCIONARIOS"
   ]
  },
  {
   "cell_type": "markdown",
   "metadata": {},
   "source": [
    "Nuestro primer objetivo es construir un diccionario de la forma {lema:lista_inflexiones, ...} donde lista_inflexiones es una lista de todas las inflexiones anotadas para un lema"
   ]
  },
  {
   "cell_type": "code",
   "execution_count": 55,
   "metadata": {},
   "outputs": [],
   "source": [
    "## Primero, definimos una lista de lemas únicos\n",
    "\n",
    "lemas_unicos = []\n",
    "\n",
    "## recorremos la lista de lemas\n",
    "for lema in lemas:\n",
    "    ## solo agregamos si no está en lemas_unicos\n",
    "    if lema not in lemas_unicos:\n",
    "        lemas_unicos+=[lema]"
   ]
  },
  {
   "cell_type": "code",
   "execution_count": 56,
   "metadata": {},
   "outputs": [
    {
     "name": "stdout",
     "output_type": "stream",
     "text": [
      "644\n"
     ]
    }
   ],
   "source": [
    "print(len(lemas_unicos))"
   ]
  },
  {
   "cell_type": "code",
   "execution_count": 57,
   "metadata": {},
   "outputs": [],
   "source": [
    "## definimos un diccionario vacío\n",
    "\n",
    "D_lema_inflex = {}\n",
    "\n",
    "## recorremos la lista de lemas_unicos\n",
    "for lema in lemas_unicos:\n",
    "    ## agregamos en cada iteración, una lista vacía :)\n",
    "    D_lema_inflex[lema]=[]"
   ]
  },
  {
   "cell_type": "code",
   "execution_count": 58,
   "metadata": {},
   "outputs": [
    {
     "data": {
      "text/plain": [
       "[]"
      ]
     },
     "execution_count": 58,
     "metadata": {},
     "output_type": "execute_result"
    }
   ],
   "source": [
    "D_lema_inflex['achalachiy']"
   ]
  },
  {
   "cell_type": "code",
   "execution_count": 59,
   "metadata": {},
   "outputs": [
    {
     "data": {
      "text/plain": [
       "644"
      ]
     },
     "execution_count": 59,
     "metadata": {},
     "output_type": "execute_result"
    }
   ],
   "source": [
    "len(D_lema_inflex)"
   ]
  },
  {
   "cell_type": "code",
   "execution_count": 60,
   "metadata": {},
   "outputs": [],
   "source": [
    "## ahora resolvemos el problema :) \n",
    "\n",
    "## recorremos la lista de lemas (la original). Usamos los índices!\n",
    "\n",
    "for i in range(len(lemas)):\n",
    "    ## accedemos al lema de la posición i\n",
    "    lema = lemas[i]\n",
    "    ## guardamos en la lista asociada las inflexiones del lema (que están en la lista inflexiones)\n",
    "    D_lema_inflex[lema]+=[inflexiones[i]]"
   ]
  },
  {
   "cell_type": "code",
   "execution_count": 61,
   "metadata": {},
   "outputs": [
    {
     "data": {
      "text/plain": [
       "['achalachichunku',\n",
       " 'achalachichun',\n",
       " 'achalachina',\n",
       " 'achalachinchik',\n",
       " 'achalachini',\n",
       " 'achalachinkichik',\n",
       " 'achalachinkichik',\n",
       " 'achalachinki',\n",
       " 'achalachinki',\n",
       " 'achalachinku',\n",
       " 'achalachinqaku',\n",
       " 'achalachinqa',\n",
       " 'achalachin',\n",
       " 'achalachiq',\n",
       " 'achalachirqanchik',\n",
       " 'achalachirqaniku',\n",
       " 'achalachirqani',\n",
       " 'achalachirqankichik',\n",
       " 'achalachirqanki',\n",
       " 'achalachirqanku',\n",
       " 'achalachirqan',\n",
       " 'achalachisaqku',\n",
       " 'achalachisaq',\n",
       " 'achalachispa',\n",
       " 'achalachisqanchik',\n",
       " 'achalachisqaniku',\n",
       " 'achalachisqani',\n",
       " 'achalachisqankichik',\n",
       " 'achalachisqanki',\n",
       " 'achalachisqanku',\n",
       " 'achalachisqan',\n",
       " 'achalachisqa',\n",
       " 'achalachisunchik',\n",
       " 'achalachiychik',\n",
       " 'achalachiyku',\n",
       " 'achalachiy',\n",
       " 'achalachiy',\n",
       " 'amaachalachichunchu',\n",
       " 'amaachalachichunkuchu',\n",
       " 'amaachalachiychikchu',\n",
       " 'amaachalachiychu']"
      ]
     },
     "execution_count": 61,
     "metadata": {},
     "output_type": "execute_result"
    }
   ],
   "source": [
    "D_lema_inflex['achalachiy']"
   ]
  },
  {
   "cell_type": "markdown",
   "metadata": {},
   "source": [
    "El segundo objetivo, que queda para ustedes, es una modificación del diccionario D_lema_inflex. En vez de asociar una lista a cada lema, asocie un diccionario. Este diccionario será de la forma {inflexión:código,...}. Tendremos entonces un diccionario de diccionarios :)"
   ]
  },
  {
   "cell_type": "code",
   "execution_count": 62,
   "metadata": {},
   "outputs": [],
   "source": [
    "######################### código de ustedes!!! ############################"
   ]
  },
  {
   "cell_type": "markdown",
   "metadata": {},
   "source": [
    "En un tercer ejercicio, buscamos crear un diccionario de la forma {codigo:lista_inflexiones, ...} donde lista_inflexiones es una lista de todas las inflexiones anotadas para ese código"
   ]
  },
  {
   "cell_type": "code",
   "execution_count": 63,
   "metadata": {},
   "outputs": [],
   "source": [
    "## Primero, definimos una lista de códigos únicos\n",
    "\n",
    "codigos_unicos = []\n",
    "\n",
    "## recorremos la lista de lemas\n",
    "for codigo in codigos:\n",
    "    ## solo agregamos si no está en lemas_unicos\n",
    "    if codigo not in codigos_unicos:\n",
    "        codigos_unicos+=[codigo]"
   ]
  },
  {
   "cell_type": "code",
   "execution_count": 64,
   "metadata": {},
   "outputs": [
    {
     "name": "stdout",
     "output_type": "stream",
     "text": [
      "41\n"
     ]
    }
   ],
   "source": [
    "print(len(codigos_unicos))"
   ]
  },
  {
   "cell_type": "code",
   "execution_count": 65,
   "metadata": {},
   "outputs": [
    {
     "data": {
      "text/plain": [
       "['V;IMP;POS;3;PL',\n",
       " 'V;IMP;POS;3;SG',\n",
       " 'V.PTCP;FUT',\n",
       " 'V;PRS;1+INCL;PL',\n",
       " 'V;PRS;1;SG']"
      ]
     },
     "execution_count": 65,
     "metadata": {},
     "output_type": "execute_result"
    }
   ],
   "source": [
    "codigos_unicos[:5]"
   ]
  },
  {
   "cell_type": "code",
   "execution_count": 66,
   "metadata": {},
   "outputs": [],
   "source": [
    "## definimos un diccionario vacío\n",
    "\n",
    "D_codigo_inflex = {}\n",
    "\n",
    "## recorremos la lista codigos_unicos\n",
    "for codigo in codigos_unicos:\n",
    "    ## agregamos en cada iteración, una lista vacía :)\n",
    "    D_codigo_inflex[codigo]=[]"
   ]
  },
  {
   "cell_type": "code",
   "execution_count": 67,
   "metadata": {},
   "outputs": [
    {
     "data": {
      "text/plain": [
       "{'V;IMP;POS;3;PL': [],\n",
       " 'V;IMP;POS;3;SG': [],\n",
       " 'V.PTCP;FUT': [],\n",
       " 'V;PRS;1+INCL;PL': [],\n",
       " 'V;PRS;1;SG': [],\n",
       " 'V;FUT;2;PL': [],\n",
       " 'V;PRS;2;PL': [],\n",
       " 'V;FUT;2;SG': [],\n",
       " 'V;PRS;2;SG': [],\n",
       " 'V;PRS;3;PL': [],\n",
       " 'V;FUT;3;PL': [],\n",
       " 'V;FUT;3;SG': [],\n",
       " 'V;PRS;3;SG': [],\n",
       " 'V;NFIN;AGT': [],\n",
       " 'V;PST;FH;1+INCL;PL': [],\n",
       " 'V;PST;FH;1+EXCL;PL': [],\n",
       " 'V;PST;FH;1;SG': [],\n",
       " 'V;PST;FH;2;PL': [],\n",
       " 'V;PST;FH;2;SG': [],\n",
       " 'V;PST;FH;3;PL': [],\n",
       " 'V;PST;FH;3;SG': [],\n",
       " 'V;FUT;1+EXCL;PL': [],\n",
       " 'V;FUT;1;SG': [],\n",
       " 'V.PTCP;PRS': [],\n",
       " 'V;PST;NFH;1+INCL;PL': [],\n",
       " 'V;PST;NFH;1+EXCL;PL': [],\n",
       " 'V;PST;NFH;1;SG': [],\n",
       " 'V;PST;NFH;2;PL': [],\n",
       " 'V;PST;NFH;2;SG': [],\n",
       " 'V;PST;NFH;3;PL': [],\n",
       " 'V;PST;NFH;3;SG': [],\n",
       " 'V.PTCP;PST': [],\n",
       " 'V;FUT;1+INCL;PL': [],\n",
       " 'V;IMP;POS;2;PL': [],\n",
       " 'V;PRS;1+EXCL;PL': [],\n",
       " 'V;IMP;POS;2;SG': [],\n",
       " 'V;NFIN': [],\n",
       " 'V;IMP;NEG;3;SG': [],\n",
       " 'V;IMP;NEG;3;PL': [],\n",
       " 'V;IMP;NEG;2;PL': [],\n",
       " 'V;IMP;NEG;2;SG': []}"
      ]
     },
     "execution_count": 67,
     "metadata": {},
     "output_type": "execute_result"
    }
   ],
   "source": [
    "D_codigo_inflex"
   ]
  },
  {
   "cell_type": "markdown",
   "metadata": {},
   "source": [
    "Un ejercicio: en el diccionario D_codigo_inflex, guarde en la lista correspondiente a cada key (código) todas las inflexiones asociadas a ese key"
   ]
  },
  {
   "cell_type": "markdown",
   "metadata": {},
   "source": [
    "Otra manera de ver los datos! Usemos la siguiente lista de diccionarios :)"
   ]
  },
  {
   "cell_type": "code",
   "execution_count": 68,
   "metadata": {},
   "outputs": [],
   "source": [
    "lista_diccionarios = list(datos.to_dict('index').values())"
   ]
  },
  {
   "cell_type": "code",
   "execution_count": 69,
   "metadata": {},
   "outputs": [
    {
     "data": {
      "text/plain": [
       "[{'formas': 'achalachiy',\n",
       "  'inflexiones': 'achalachichunku',\n",
       "  'códigos': 'V;IMP;POS;3;PL'},\n",
       " {'formas': 'achalachiy',\n",
       "  'inflexiones': 'achalachichun',\n",
       "  'códigos': 'V;IMP;POS;3;SG'},\n",
       " {'formas': 'achalachiy',\n",
       "  'inflexiones': 'achalachina',\n",
       "  'códigos': 'V.PTCP;FUT'},\n",
       " {'formas': 'achalachiy',\n",
       "  'inflexiones': 'achalachinchik',\n",
       "  'códigos': 'V;PRS;1+INCL;PL'},\n",
       " {'formas': 'achalachiy',\n",
       "  'inflexiones': 'achalachini',\n",
       "  'códigos': 'V;PRS;1;SG'}]"
      ]
     },
     "execution_count": 69,
     "metadata": {},
     "output_type": "execute_result"
    }
   ],
   "source": [
    "lista_diccionarios[:5]"
   ]
  },
  {
   "cell_type": "markdown",
   "metadata": {},
   "source": [
    "Noten que cada elemento de esta lista es un diccionario "
   ]
  },
  {
   "cell_type": "code",
   "execution_count": 70,
   "metadata": {},
   "outputs": [
    {
     "data": {
      "text/plain": [
       "{'formas': 'achalachiy',\n",
       " 'inflexiones': 'achalachichunku',\n",
       " 'códigos': 'V;IMP;POS;3;PL'}"
      ]
     },
     "execution_count": 70,
     "metadata": {},
     "output_type": "execute_result"
    }
   ],
   "source": [
    "lista_diccionarios[0]"
   ]
  },
  {
   "cell_type": "code",
   "execution_count": 71,
   "metadata": {},
   "outputs": [],
   "source": [
    "## Ejercicio! Filtre la lista anterior para los códigos en la siguiente lista\n",
    "\n",
    "codigos_red = ['V;PRS;1;SG','V;PRS;2;SG','V;PRS;1;PL','V;PRS;2;PL']"
   ]
  },
  {
   "cell_type": "code",
   "execution_count": 72,
   "metadata": {},
   "outputs": [
    {
     "ename": "SyntaxError",
     "evalue": "unexpected EOF while parsing (<ipython-input-72-f5c6a8530fae>, line 4)",
     "output_type": "error",
     "traceback": [
      "\u001b[1;36m  File \u001b[1;32m\"<ipython-input-72-f5c6a8530fae>\"\u001b[1;36m, line \u001b[1;32m4\u001b[0m\n\u001b[1;33m    ## :)\u001b[0m\n\u001b[1;37m         ^\u001b[0m\n\u001b[1;31mSyntaxError\u001b[0m\u001b[1;31m:\u001b[0m unexpected EOF while parsing\n"
     ]
    }
   ],
   "source": [
    "lista_filtrada = []\n",
    "\n",
    "for D in lista_diccionarios:\n",
    "    ## :)"
   ]
  },
  {
   "cell_type": "code",
   "execution_count": 73,
   "metadata": {},
   "outputs": [],
   "source": [
    "## a partir de esta lista, construya otro diccionario, D_lema, con la siguiente forma\n",
    "## {lema:{'SG':{'1':inflexion_1_SG,'2':inflexion_2_SG},'PL':{...},...}, \n",
    "## donde inflexion_1_SG es la inflexión asociada a 'V;PRS;1;SG'"
   ]
  },
  {
   "cell_type": "code",
   "execution_count": 45,
   "metadata": {},
   "outputs": [],
   "source": [
    "## ¿qué podemos hacer con este diccionario?"
   ]
  },
  {
   "cell_type": "code",
   "execution_count": null,
   "metadata": {
    "id": "G9GOkjiPPtqz"
   },
   "outputs": [],
   "source": []
  },
  {
   "cell_type": "code",
   "execution_count": null,
   "metadata": {
    "id": "_4uYLPGXPtq0"
   },
   "outputs": [],
   "source": []
  }
 ],
 "metadata": {
  "colab": {
   "name": "clase-2.ipynb",
   "provenance": []
  },
  "kernelspec": {
   "display_name": "Python 3 (ipykernel)",
   "language": "python",
   "name": "python3"
  },
  "language_info": {
   "codemirror_mode": {
    "name": "ipython",
    "version": 3
   },
   "file_extension": ".py",
   "mimetype": "text/x-python",
   "name": "python",
   "nbconvert_exporter": "python",
   "pygments_lexer": "ipython3",
   "version": "3.9.7"
  }
 },
 "nbformat": 4,
 "nbformat_minor": 1
}
