{
 "cells": [
  {
   "cell_type": "markdown",
   "id": "1b2eb120",
   "metadata": {
    "id": "1b2eb120"
   },
   "source": [
    "## Ejercicios"
   ]
  },
  {
   "cell_type": "markdown",
   "id": "8211816e",
   "metadata": {
    "id": "8211816e"
   },
   "source": [
    "### 1. Contemos cuántas veces aparece una palabra"
   ]
  },
  {
   "cell_type": "code",
   "execution_count": 1,
   "id": "6dIT7Q7vQdoi",
   "metadata": {
    "executionInfo": {
     "elapsed": 226,
     "status": "ok",
     "timestamp": 1629575359892,
     "user": {
      "displayName": "Javier Maximiliano Vera Zuñiga",
      "photoUrl": "",
      "userId": "16439660197950043005"
     },
     "user_tz": 240
    },
    "id": "6dIT7Q7vQdoi"
   },
   "outputs": [],
   "source": [
    "string = string = \"Los selk'nam u onas son un pueblo amerindio que hasta principios del siglo XX vivía en el norte y centro de la isla Grande de Tierra del Fuego, en el extremo austral del continente americano, en Argentina y Chile. Originalmente eran nómadas terrestres, cazadores y recolectores. Luego de un genocidio a principios del siglo XX y un proceso de transculturación que operó por más de un siglo, los selknam que continúan viviendo en la porción argentina de la isla se encuentran aculturados por completo.\""
   ]
  },
  {
   "cell_type": "code",
   "execution_count": 2,
   "id": "lX5tpPjmQo1N",
   "metadata": {
    "executionInfo": {
     "elapsed": 207,
     "status": "ok",
     "timestamp": 1629576152777,
     "user": {
      "displayName": "Javier Maximiliano Vera Zuñiga",
      "photoUrl": "",
      "userId": "16439660197950043005"
     },
     "user_tz": 240
    },
    "id": "lX5tpPjmQo1N"
   },
   "outputs": [],
   "source": [
    "\n",
    "lista_strings = string.split()\n",
    "\n",
    "lista_strings_min = []\n",
    "\n",
    "for palabra in lista_strings:\n",
    "    lista_strings_min += [palabra.lower()]"
   ]
  },
  {
   "cell_type": "code",
   "execution_count": 3,
   "id": "wzn0LjJ4TzD8",
   "metadata": {
    "colab": {
     "base_uri": "https://localhost:8080/"
    },
    "executionInfo": {
     "elapsed": 222,
     "status": "ok",
     "timestamp": 1629576186446,
     "user": {
      "displayName": "Javier Maximiliano Vera Zuñiga",
      "photoUrl": "",
      "userId": "16439660197950043005"
     },
     "user_tz": 240
    },
    "id": "wzn0LjJ4TzD8",
    "outputId": "b683224a-9515-47e5-9896-04db8a02fdd0"
   },
   "outputs": [
    {
     "data": {
      "text/plain": [
       "['los',\n",
       " \"selk'nam\",\n",
       " 'u',\n",
       " 'onas',\n",
       " 'son',\n",
       " 'un',\n",
       " 'pueblo',\n",
       " 'amerindio',\n",
       " 'que',\n",
       " 'hasta']"
      ]
     },
     "execution_count": 3,
     "metadata": {},
     "output_type": "execute_result"
    }
   ],
   "source": [
    "lista_strings_min[:10]"
   ]
  },
  {
   "cell_type": "code",
   "execution_count": 4,
   "id": "bfe4214e",
   "metadata": {
    "executionInfo": {
     "elapsed": 204,
     "status": "ok",
     "timestamp": 1629576155863,
     "user": {
      "displayName": "Javier Maximiliano Vera Zuñiga",
      "photoUrl": "",
      "userId": "16439660197950043005"
     },
     "user_tz": 240
    },
    "id": "bfe4214e"
   },
   "outputs": [],
   "source": [
    "## considere ahora la lista con las palabras en minúscula lista_strings_min. La idea es contar cuántas\n",
    "## veces aparece una palabra de su elección. Eligamos la palabra \"el\""
   ]
  },
  {
   "cell_type": "code",
   "execution_count": 5,
   "id": "06deaed8",
   "metadata": {
    "executionInfo": {
     "elapsed": 409,
     "status": "ok",
     "timestamp": 1629576158716,
     "user": {
      "displayName": "Javier Maximiliano Vera Zuñiga",
      "photoUrl": "",
      "userId": "16439660197950043005"
     },
     "user_tz": 240
    },
    "id": "06deaed8"
   },
   "outputs": [],
   "source": [
    "palabra = 'y'"
   ]
  },
  {
   "cell_type": "code",
   "execution_count": 6,
   "id": "b8c32432",
   "metadata": {
    "executionInfo": {
     "elapsed": 4,
     "status": "ok",
     "timestamp": 1629576160550,
     "user": {
      "displayName": "Javier Maximiliano Vera Zuñiga",
      "photoUrl": "",
      "userId": "16439660197950043005"
     },
     "user_tz": 240
    },
    "id": "b8c32432"
   },
   "outputs": [],
   "source": [
    "## definamos una variable donde guardamos el número de veces que aparece"
   ]
  },
  {
   "cell_type": "code",
   "execution_count": 7,
   "id": "72532d0b",
   "metadata": {
    "executionInfo": {
     "elapsed": 187,
     "status": "ok",
     "timestamp": 1629576162428,
     "user": {
      "displayName": "Javier Maximiliano Vera Zuñiga",
      "photoUrl": "",
      "userId": "16439660197950043005"
     },
     "user_tz": 240
    },
    "id": "72532d0b"
   },
   "outputs": [],
   "source": [
    "numero_veces_palabra = 0"
   ]
  },
  {
   "cell_type": "code",
   "execution_count": 8,
   "id": "d2d5fae3",
   "metadata": {
    "colab": {
     "base_uri": "https://localhost:8080/"
    },
    "executionInfo": {
     "elapsed": 209,
     "status": "ok",
     "timestamp": 1629576168816,
     "user": {
      "displayName": "Javier Maximiliano Vera Zuñiga",
      "photoUrl": "",
      "userId": "16439660197950043005"
     },
     "user_tz": 240
    },
    "id": "d2d5fae3",
    "outputId": "f4931078-7866-4f01-e690-c73a2acfec45"
   },
   "outputs": [
    {
     "data": {
      "text/plain": [
       "0"
      ]
     },
     "execution_count": 8,
     "metadata": {},
     "output_type": "execute_result"
    }
   ],
   "source": [
    "numero_veces_palabra"
   ]
  },
  {
   "cell_type": "code",
   "execution_count": 9,
   "id": "2ab68a2d",
   "metadata": {
    "id": "2ab68a2d"
   },
   "outputs": [],
   "source": [
    "## la idea detrás de esto es la siguiente: ya sabemos que con un ciclo for podemos recorrer las palabras de\n",
    "## lista_strings_min. En cada paso, debemos detectar si el elemento de la lista es igual a \"palabra\".\n",
    "## ¿Cómo hacemos eso?"
   ]
  },
  {
   "cell_type": "code",
   "execution_count": 10,
   "id": "cccc2225",
   "metadata": {
    "id": "cccc2225"
   },
   "outputs": [],
   "source": [
    "## para resolver este problema, necesitamos una condición lógica: Si el elemento es igual a \"palabra\",\n",
    "## sumamos 1 a numero_veces_palabra; si no, no pasa nada, y continuamos con el elemento siguiente.\n",
    "## esta condición lógica se expresa a través del operador \"if\". "
   ]
  },
  {
   "cell_type": "code",
   "execution_count": 11,
   "id": "420b94f7",
   "metadata": {
    "id": "420b94f7"
   },
   "outputs": [],
   "source": [
    "## un ejemplo\n",
    "A = [1,2,3]"
   ]
  },
  {
   "cell_type": "code",
   "execution_count": 12,
   "id": "ba4a1f81",
   "metadata": {
    "id": "ba4a1f81",
    "outputId": "9c4f9d74-1db1-4b1d-83be-8b1b1d6af4bc"
   },
   "outputs": [
    {
     "data": {
      "text/plain": [
       "[1, 2, 3]"
      ]
     },
     "execution_count": 12,
     "metadata": {},
     "output_type": "execute_result"
    }
   ],
   "source": [
    "A"
   ]
  },
  {
   "cell_type": "code",
   "execution_count": 13,
   "id": "49514754",
   "metadata": {
    "id": "49514754"
   },
   "outputs": [],
   "source": [
    "## si queremos guardar en otra lista, B, los elementos de A que son mayores a 2, usamos"
   ]
  },
  {
   "cell_type": "code",
   "execution_count": 14,
   "id": "5c22204d",
   "metadata": {
    "id": "5c22204d"
   },
   "outputs": [],
   "source": [
    "B = []\n",
    "for numero in A:\n",
    "    if numero>2:\n",
    "        B = B + [numero]\n",
    "        #B += [numero]\n",
    "        #B.append(numero)"
   ]
  },
  {
   "cell_type": "code",
   "execution_count": 15,
   "id": "ef60319f",
   "metadata": {
    "id": "ef60319f",
    "outputId": "3227342f-5ba4-440c-eeb5-36c91924db6f"
   },
   "outputs": [
    {
     "data": {
      "text/plain": [
       "[3]"
      ]
     },
     "execution_count": 15,
     "metadata": {},
     "output_type": "execute_result"
    }
   ],
   "source": [
    "B"
   ]
  },
  {
   "cell_type": "code",
   "execution_count": 16,
   "id": "f88d3696",
   "metadata": {
    "id": "f88d3696"
   },
   "outputs": [],
   "source": [
    "## explique este código. Con esto, resuelva el problema de contar cuántas veces aparece una palabra. "
   ]
  },
  {
   "cell_type": "code",
   "execution_count": 17,
   "id": "4d30061c",
   "metadata": {
    "id": "4d30061c"
   },
   "outputs": [],
   "source": [
    "for item in lista_strings_min:\n",
    "    if item == palabra:\n",
    "        numero_veces_palabra = numero_veces_palabra + 1 "
   ]
  },
  {
   "cell_type": "code",
   "execution_count": 18,
   "id": "8c89f649",
   "metadata": {
    "id": "8c89f649",
    "outputId": "44d1fc2b-bfb8-4f18-fd84-93de7e59a718"
   },
   "outputs": [
    {
     "data": {
      "text/plain": [
       "4"
      ]
     },
     "execution_count": 18,
     "metadata": {},
     "output_type": "execute_result"
    }
   ],
   "source": [
    "numero_veces_palabra"
   ]
  },
  {
   "cell_type": "code",
   "execution_count": 19,
   "id": "983e3641",
   "metadata": {
    "id": "983e3641"
   },
   "outputs": [],
   "source": [
    "lista_y = []\n",
    "\n",
    "for item in lista_strings_min:\n",
    "    if item == palabra:\n",
    "        lista_y = lista_y + [item]"
   ]
  },
  {
   "cell_type": "code",
   "execution_count": 20,
   "id": "c2734690",
   "metadata": {
    "id": "c2734690",
    "outputId": "7f92ce03-3048-487e-f25d-284208fb4079"
   },
   "outputs": [
    {
     "data": {
      "text/plain": [
       "4"
      ]
     },
     "execution_count": 20,
     "metadata": {},
     "output_type": "execute_result"
    }
   ],
   "source": [
    "len(lista_y)"
   ]
  },
  {
   "cell_type": "markdown",
   "id": "34d7958d",
   "metadata": {
    "id": "34d7958d"
   },
   "source": [
    "### 4. Funciones en **Python**"
   ]
  },
  {
   "cell_type": "code",
   "execution_count": 21,
   "id": "0bb6e43f",
   "metadata": {
    "id": "0bb6e43f"
   },
   "outputs": [],
   "source": [
    "## a partir de la lista string, puede ser útil crear una rutina que sea replicable en otro lado. Es bueno \n",
    "## pensar en rutinas (pedazos de código) que se ocupan muchas veces. Un buen ejemplo de esto es partir con un \n",
    "## string entre  ' ' y terminar con una lista de palabras en mínúscula. "
   ]
  },
  {
   "cell_type": "code",
   "execution_count": 22,
   "id": "3ead3353",
   "metadata": {
    "id": "3ead3353",
    "outputId": "74a7a76f-b17c-4529-98e9-d5fa52a04bcb"
   },
   "outputs": [
    {
     "data": {
      "text/plain": [
       "\"Los selk'nam u onas son un pueblo amerindio que hasta principios del siglo XX vivía en el norte y centro de la isla Grande de Tierra del Fuego, en el extremo austral del continente americano, en Argentina y Chile. Originalmente eran nómadas terrestres, cazadores y recolectores. Luego de un genocidio a principios del siglo XX y un proceso de transculturación que operó por más de un siglo, los selknam que continúan viviendo en la porción argentina de la isla se encuentran aculturados por completo.\""
      ]
     },
     "execution_count": 22,
     "metadata": {},
     "output_type": "execute_result"
    }
   ],
   "source": [
    "## sabemos que string es:\n",
    "\n",
    "string"
   ]
  },
  {
   "cell_type": "code",
   "execution_count": 23,
   "id": "dc802c6f",
   "metadata": {
    "id": "dc802c6f"
   },
   "outputs": [],
   "source": [
    "## si queremos crear una lista de palabras en minúscula, usamos\n",
    "## creamos una lista vacia\n",
    "palabras_min = []\n",
    "## dividimos entre espacios en blanco\n",
    "lista_palabras = string.split(' ')"
   ]
  },
  {
   "cell_type": "code",
   "execution_count": 24,
   "id": "2aab3e83",
   "metadata": {
    "id": "2aab3e83"
   },
   "outputs": [],
   "source": [
    "## recorremos con un ciclo for las palabras de lista_palabras\n",
    "for palabra in lista_palabras:\n",
    "    ## en cada iteración, podemos las palabras en minúscula\n",
    "    palabras_min+=[palabra.lower()]"
   ]
  },
  {
   "cell_type": "code",
   "execution_count": 25,
   "id": "6214ec50",
   "metadata": {
    "id": "6214ec50"
   },
   "outputs": [],
   "source": [
    "## si juntamos todo, queda: \n",
    "\n",
    "## creamos una lista vacia\n",
    "palabras_min = []\n",
    "## dividimos entre espacios en blanco\n",
    "lista_palabras = string.split(' ')\n",
    "## recorremos con un ciclo for las palabras de lista_palabras\n",
    "for palabra in lista_palabras:\n",
    "    ## en cada iteración, podemos las palabras en minúscula\n",
    "    palabras_min+=[palabra.lower()]"
   ]
  },
  {
   "cell_type": "code",
   "execution_count": 26,
   "id": "fd1a1702",
   "metadata": {
    "id": "fd1a1702"
   },
   "outputs": [],
   "source": [
    "## ahora, ¿qué pasa si tenemos otro string y queremos hacer lo mismo pero sin escribir todas estas\n",
    "## instrucciones?\n",
    "\n",
    "def minusculas(S):\n",
    "    ## código aquí\n",
    "    return palabras_min"
   ]
  },
  {
   "cell_type": "code",
   "execution_count": 27,
   "id": "48667ca7",
   "metadata": {
    "id": "48667ca7",
    "outputId": "6da3d1db-9b56-4156-f606-22b30d8c48cc"
   },
   "outputs": [
    {
     "data": {
      "text/plain": [
       "['los',\n",
       " \"selk'nam\",\n",
       " 'u',\n",
       " 'onas',\n",
       " 'son',\n",
       " 'un',\n",
       " 'pueblo',\n",
       " 'amerindio',\n",
       " 'que',\n",
       " 'hasta']"
      ]
     },
     "execution_count": 27,
     "metadata": {},
     "output_type": "execute_result"
    }
   ],
   "source": [
    "minusculas(string)[:10]"
   ]
  },
  {
   "cell_type": "code",
   "execution_count": 28,
   "id": "aec5b2a2",
   "metadata": {
    "id": "aec5b2a2"
   },
   "outputs": [],
   "source": [
    "## ahora, el desafío es similar a lo visto en la clase 2: cree una función que identifique las palabras\n",
    "## únicas de un string S\n",
    "\n",
    "## input: string S\n",
    "## output: lista de palabras unicas (lista_palabras_unicas)\n",
    "def palabras_unicas(S):\n",
    "    ## código aquí :)\n",
    "    return lista_palabras_unicas"
   ]
  },
  {
   "cell_type": "code",
   "execution_count": 29,
   "id": "c14c95c1",
   "metadata": {
    "id": "c14c95c1"
   },
   "outputs": [],
   "source": [
    "## otra versión de lo mismo! Construya una función que haga lo mismo de palabras_unicas, usando un ciclo\n",
    "## for de una dimensión. \n",
    "\n",
    "## input: string S\n",
    "## output: lista de palabras unicas (lista_palabras_unicas)\n",
    "def palabras_unicas_una_dim(S):\n",
    "    ## código aquí :)\n",
    "    return lista_palabras_unicas"
   ]
  },
  {
   "cell_type": "code",
   "execution_count": 30,
   "id": "e1b2b722",
   "metadata": {
    "id": "e1b2b722"
   },
   "outputs": [],
   "source": [
    "## ya sabemos cómo construir una función que identifica las palabras únicas: ¿Podremos identificar las\n",
    "## palabras que aparecen dos veces? Construya una función que resuelva este problema.\n",
    "\n",
    "## input: string S\n",
    "## output: lista de palabras unicas (lista_palabras_unicas)\n",
    "def palabras_dos_veces(S):\n",
    "    ## código aquí :)\n",
    "    return lista_palabras_dos"
   ]
  },
  {
   "cell_type": "code",
   "execution_count": 31,
   "id": "edaf7b17",
   "metadata": {
    "id": "edaf7b17"
   },
   "outputs": [],
   "source": [
    "## otra extensión de la función anterior: construya una función que reciba un string y entregue un diccionario\n",
    "## con las palabras únicas como keys; y las frecuencias respectivad como values. \n",
    "\n",
    "## input: string S\n",
    "## output: diccionario de frecuencias de la forma {palabra:frecuencia ...}\n",
    "def frecuencia_palabras(S):\n",
    "    ## código aquí :)\n",
    "    return diccionario_frecuencias"
   ]
  },
  {
   "cell_type": "code",
   "execution_count": 32,
   "id": "f07ffc0b",
   "metadata": {
    "id": "f07ffc0b"
   },
   "outputs": [],
   "source": [
    "## las funciones pueden recibir varios inputs. Construya una función que reciba dos listas S y P, y entregue\n",
    "## las palabras contenidas en S que no están en P. Por ejemplo, si S = ['hola, chao'] y P = ['hola, gato'] debemos\n",
    "## identificar la lista ['chao']\n",
    "\n",
    "## inputs: listas S y P\n",
    "## output: lista de palabras que están en S, pero no en P\n",
    "def not_lista(S,P):\n",
    "    ## código aquí!\n",
    "    return lista_S_not_P"
   ]
  },
  {
   "cell_type": "code",
   "execution_count": 33,
   "id": "69b5cb93",
   "metadata": {
    "id": "69b5cb93"
   },
   "outputs": [],
   "source": [
    "## algo parecido a la función anterior. Construya una función que reciba dos listas S y P, y entregue\n",
    "## las palabras contenidas en S y en P. Por ejemplo, si S = ['hola', 'chao'] y P = ['hola', 'gato'] debemos\n",
    "## identificar la lista ['hola']\n",
    "\n",
    "## inputs: listas S y P\n",
    "## output: lista de palabras que están en S, pero no en P\n",
    "def and_lista(S,P):\n",
    "    ## código aquí!\n",
    "    return lista_S_and_P"
   ]
  },
  {
   "cell_type": "code",
   "execution_count": 34,
   "id": "703ab158",
   "metadata": {
    "id": "703ab158"
   },
   "outputs": [],
   "source": [
    "## diccionarios!!! Construya una función que reciba una lista de strings, y entregue un diccionario de la \n",
    "## forma {palabra:[palabra_posterior1,...]}, donde \"palabra\" es cada palabra única de la lista, y la lista\n",
    "## [palabra_posterior1,...] es una lista de las palabras que siguen a \"palabra\" a lo largo del texto.\n",
    "## Por ejemplo, si S = ['el','gato','persigue','al','perro','y','el','gato','se','llama','sustantivo'] \n",
    "## {'gato':['persigue','se']}\n",
    "\n",
    "## inputs: lista de strings S \n",
    "## output: diccionario de la forma {palabra:[palabra_posterior1,...]}\n",
    "def palabras_siguientes(S):\n",
    "    ## código aquí!\n",
    "    return diccionario_palabras_siguientes"
   ]
  },
  {
   "cell_type": "code",
   "execution_count": null,
   "id": "6b90e176",
   "metadata": {
    "id": "6b90e176"
   },
   "outputs": [],
   "source": []
  },
  {
   "cell_type": "code",
   "execution_count": null,
   "id": "5978b2b0",
   "metadata": {},
   "outputs": [],
   "source": []
  }
 ],
 "metadata": {
  "colab": {
   "name": "ejercicios-2.ipynb",
   "provenance": []
  },
  "kernelspec": {
   "display_name": "Python 3",
   "language": "python",
   "name": "python3"
  },
  "language_info": {
   "codemirror_mode": {
    "name": "ipython",
    "version": 3
   },
   "file_extension": ".py",
   "mimetype": "text/x-python",
   "name": "python",
   "nbconvert_exporter": "python",
   "pygments_lexer": "ipython3",
   "version": "3.8.8"
  }
 },
 "nbformat": 4,
 "nbformat_minor": 5
}
