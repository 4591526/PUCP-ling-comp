{
 "cells": [
  {
   "cell_type": "markdown",
   "id": "1e8ee772",
   "metadata": {},
   "source": [
    "## Ejercicios"
   ]
  },
  {
   "cell_type": "markdown",
   "id": "298eecc9",
   "metadata": {},
   "source": [
    "### 1. Listas"
   ]
  },
  {
   "cell_type": "markdown",
   "id": "a65ce1cb",
   "metadata": {},
   "source": [
    "(problema basado en una consulta!) Considere tres listas A, B y C:"
   ]
  },
  {
   "cell_type": "code",
   "execution_count": 11,
   "id": "bde7515e",
   "metadata": {},
   "outputs": [],
   "source": [
    "A = ['verde','rojo', 'azul']\n",
    "B = ['gato','perro','serpiente']\n",
    "C = ['mesa','silla','sillón']"
   ]
  },
  {
   "cell_type": "markdown",
   "id": "c8164f5c",
   "metadata": {},
   "source": [
    "Defina una nueva lista, D, que contenga la concatenación de los elementos respectivos de A, B y C. Por ejemplo,\n",
    "\n",
    "```python:\n",
    "D = ['verde gato mesa', 'rojo perro silla', 'azul serpiente sillón']\n",
    "```\n",
    "Note que incluimos un espacio entre los strings!"
   ]
  },
  {
   "cell_type": "code",
   "execution_count": 12,
   "id": "1d7c04fe",
   "metadata": {},
   "outputs": [],
   "source": [
    "concatenacion = 'verde'+' '+'gato'+' '+'mesa'"
   ]
  },
  {
   "cell_type": "code",
   "execution_count": 13,
   "id": "4b709213",
   "metadata": {},
   "outputs": [
    {
     "data": {
      "text/plain": [
       "'verde gato mesa'"
      ]
     },
     "execution_count": 13,
     "metadata": {},
     "output_type": "execute_result"
    }
   ],
   "source": [
    "concatenacion"
   ]
  },
  {
   "cell_type": "code",
   "execution_count": 14,
   "id": "8471d362",
   "metadata": {},
   "outputs": [],
   "source": [
    "concatenacion = A[1]+' '+B[1]+' '+C[1]"
   ]
  },
  {
   "cell_type": "code",
   "execution_count": 15,
   "id": "550da4f4",
   "metadata": {},
   "outputs": [
    {
     "data": {
      "text/plain": [
       "'rojo perro silla'"
      ]
     },
     "execution_count": 15,
     "metadata": {},
     "output_type": "execute_result"
    }
   ],
   "source": [
    "concatenacion"
   ]
  },
  {
   "cell_type": "code",
   "execution_count": 16,
   "id": "7665b1b5",
   "metadata": {},
   "outputs": [],
   "source": [
    "D = []\n",
    "\n",
    "for indice in range(len(A)):\n",
    "    concatenacion = A[indice]+' '+B[indice]+' '+C[indice]\n",
    "    D+=[concatenacion]"
   ]
  },
  {
   "cell_type": "code",
   "execution_count": 17,
   "id": "0c7bd787",
   "metadata": {},
   "outputs": [
    {
     "data": {
      "text/plain": [
       "['verde gato mesa', 'rojo perro silla', 'azul serpiente sillón']"
      ]
     },
     "execution_count": 17,
     "metadata": {},
     "output_type": "execute_result"
    }
   ],
   "source": [
    "D"
   ]
  },
  {
   "cell_type": "markdown",
   "id": "e6efc204",
   "metadata": {},
   "source": [
    "Pensemos en otra variante. Con las mismas tres listas, defina:\n",
    "    \n",
    "```python:\n",
    "E = ['verde rojo azul', 'gato perro serpiente', 'mesa silla sillón']\n",
    "```"
   ]
  },
  {
   "cell_type": "code",
   "execution_count": 18,
   "id": "2335c555",
   "metadata": {},
   "outputs": [
    {
     "data": {
      "text/plain": [
       "['verde', 'rojo', 'azul']"
      ]
     },
     "execution_count": 18,
     "metadata": {},
     "output_type": "execute_result"
    }
   ],
   "source": [
    "A"
   ]
  },
  {
   "cell_type": "code",
   "execution_count": 19,
   "id": "cfd118b2",
   "metadata": {},
   "outputs": [],
   "source": [
    "string_A = ''"
   ]
  },
  {
   "cell_type": "code",
   "execution_count": 20,
   "id": "60dbf1c3",
   "metadata": {},
   "outputs": [],
   "source": [
    "for palabra in A:\n",
    "    string_A += palabra+' '"
   ]
  },
  {
   "cell_type": "code",
   "execution_count": 21,
   "id": "27ce6d96",
   "metadata": {},
   "outputs": [],
   "source": [
    "string_A = ''"
   ]
  },
  {
   "cell_type": "code",
   "execution_count": 22,
   "id": "d42eee86",
   "metadata": {},
   "outputs": [],
   "source": [
    "## idea del problema!!!! \n",
    "\n",
    "\n",
    "for i in range(len(A)):\n",
    "    ## i es dos\n",
    "    if i in [0,1]:\n",
    "        string_A += A[i]+' '\n",
    "    else:\n",
    "        string_A += A[i]"
   ]
  },
  {
   "cell_type": "code",
   "execution_count": 23,
   "id": "cefd9fd4",
   "metadata": {},
   "outputs": [],
   "source": [
    "string_A = ''"
   ]
  },
  {
   "cell_type": "code",
   "execution_count": 24,
   "id": "720014fc",
   "metadata": {},
   "outputs": [],
   "source": [
    "## pendiente!!!\n",
    "\n",
    "for i in range(-3,0):\n",
    "    \n",
    "    if i == -1:\n",
    "        string_A += A[i]\n",
    "    else:\n",
    "        string_A += A[i]+' '"
   ]
  },
  {
   "cell_type": "code",
   "execution_count": 25,
   "id": "f96308cf",
   "metadata": {},
   "outputs": [
    {
     "data": {
      "text/plain": [
       "'verde rojo azul'"
      ]
     },
     "execution_count": 25,
     "metadata": {},
     "output_type": "execute_result"
    }
   ],
   "source": [
    "string_A"
   ]
  },
  {
   "cell_type": "markdown",
   "id": "411e36f3",
   "metadata": {},
   "source": [
    "Resuma las tres listas en un string, es decir, defina\n",
    "\n",
    "```python:\n",
    "string = 'verde rojo azul gato perro serpiente mesa silla sillón'\n",
    "```"
   ]
  },
  {
   "cell_type": "markdown",
   "id": "1df4a24c",
   "metadata": {},
   "source": [
    "Transforme este string en una lista dividiendo en tokens por espacios en blanco. "
   ]
  },
  {
   "cell_type": "markdown",
   "id": "012244e6",
   "metadata": {},
   "source": [
    "### 2. Ciclos for!"
   ]
  },
  {
   "cell_type": "markdown",
   "id": "ff7f70ce",
   "metadata": {},
   "source": [
    "Considere el siguiente string:"
   ]
  },
  {
   "cell_type": "code",
   "execution_count": 26,
   "id": "0fd047b3",
   "metadata": {},
   "outputs": [],
   "source": [
    "string = 'Sus logros incluyen los primeros estudios sobre el fenómeno de la radiactividad (término que ella misma acuñó), técnicas para el aislamiento de isótopos radiactivos y el descubrimiento de dos elementos'"
   ]
  },
  {
   "cell_type": "markdown",
   "id": "82e9ab8b",
   "metadata": {},
   "source": [
    "Construya una lista, A, que contenga los tokens (como secuencias entre espacios en blanco) en minúscula."
   ]
  },
  {
   "cell_type": "markdown",
   "id": "e1e587fe",
   "metadata": {},
   "source": [
    "Construya otra lista, B, que contenga el largo de cada string de A. Sume todos los elementos de la lista B. "
   ]
  },
  {
   "cell_type": "markdown",
   "id": "113f9316",
   "metadata": {},
   "source": [
    "Construya otra lista, C, que contenga los elementos de A, pero sin repetición (es decir, los types). "
   ]
  },
  {
   "cell_type": "markdown",
   "id": "ec8fc124",
   "metadata": {},
   "source": [
    "Construya otra lista, D, que contenga cuántas veces aparecen los types de C en A. "
   ]
  },
  {
   "cell_type": "code",
   "execution_count": null,
   "id": "5017fc91",
   "metadata": {},
   "outputs": [],
   "source": []
  }
 ],
 "metadata": {
  "kernelspec": {
   "display_name": "Python 3",
   "language": "python",
   "name": "python3"
  },
  "language_info": {
   "codemirror_mode": {
    "name": "ipython",
    "version": 3
   },
   "file_extension": ".py",
   "mimetype": "text/x-python",
   "name": "python",
   "nbconvert_exporter": "python",
   "pygments_lexer": "ipython3",
   "version": "3.8.8"
  }
 },
 "nbformat": 4,
 "nbformat_minor": 5
}
