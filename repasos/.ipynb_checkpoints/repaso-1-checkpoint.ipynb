{
 "cells": [
  {
   "cell_type": "markdown",
   "id": "b0be7445",
   "metadata": {},
   "source": [
    "## Repaso (muy breve) de **Python**"
   ]
  },
  {
   "cell_type": "markdown",
   "id": "0dfff4fe",
   "metadata": {},
   "source": [
    "### 1. Elementos básicos"
   ]
  },
  {
   "cell_type": "markdown",
   "id": "adda3bf4",
   "metadata": {},
   "source": [
    "En Python, diversas estructuras (números, listas, strings, entre otras) se nombran con **variables** (letras mayúsculas o minúsculas)"
   ]
  },
  {
   "cell_type": "code",
   "execution_count": 55,
   "id": "634c4f75",
   "metadata": {},
   "outputs": [],
   "source": [
    "a = 1"
   ]
  },
  {
   "cell_type": "code",
   "execution_count": 56,
   "id": "b78207e1",
   "metadata": {},
   "outputs": [],
   "source": [
    "B = ['a']"
   ]
  },
  {
   "cell_type": "markdown",
   "id": "44113af8",
   "metadata": {},
   "source": [
    "Lo crucial en esto es que los nombres (a o B) sirven para llamar a los valores que esos nombres almacenan. Es decir,"
   ]
  },
  {
   "cell_type": "code",
   "execution_count": 60,
   "id": "6b2dd43e",
   "metadata": {},
   "outputs": [
    {
     "data": {
      "text/plain": [
       "(2, 0.00022055580061755624, 542)"
      ]
     },
     "execution_count": 60,
     "metadata": {},
     "output_type": "execute_result"
    }
   ],
   "source": [
    "## Python internamente \"sabe\" que a es una variable número con valor 2:\n",
    "\n",
    "a*2, a/4534, a*(545-3*a)"
   ]
  },
  {
   "cell_type": "code",
   "execution_count": 61,
   "id": "afb9904d",
   "metadata": {},
   "outputs": [
    {
     "data": {
      "text/plain": [
       "1"
      ]
     },
     "execution_count": 61,
     "metadata": {},
     "output_type": "execute_result"
    }
   ],
   "source": [
    "## o bien, \"sabe\" que B es una lista con un elemento\n",
    "\n",
    "len(B)"
   ]
  },
  {
   "cell_type": "markdown",
   "id": "ae5c11f2",
   "metadata": {},
   "source": [
    "Esto es importante! Las asignaciones de variables siempre se hacen de **derecha a izquierda**: lo que aparece al lado derecho de **=** se asigna como valor al nombre (o variable) que aparece al lado izquierdo de **=**."
   ]
  },
  {
   "cell_type": "markdown",
   "id": "4a4da89e",
   "metadata": {},
   "source": [
    "### 2. Estructuras básicas"
   ]
  },
  {
   "cell_type": "markdown",
   "id": "1b3f4b2c",
   "metadata": {},
   "source": [
    "**Python** permite manejar información a través de diversas estructuras predefinidas, que funcionan como las piezas de este juego."
   ]
  },
  {
   "cell_type": "markdown",
   "id": "b79e5c5e",
   "metadata": {},
   "source": [
    "- **números** pueden ser enteros o decimales, y las operaciones clásicas están definidas. "
   ]
  },
  {
   "cell_type": "code",
   "execution_count": 62,
   "id": "021879b5",
   "metadata": {},
   "outputs": [
    {
     "data": {
      "text/plain": [
       "(4, 4, 1.0, 6.0)"
      ]
     },
     "execution_count": 62,
     "metadata": {},
     "output_type": "execute_result"
    }
   ],
   "source": [
    "2*2, 2+2, 2/2, 2*(2/2+2)"
   ]
  },
  {
   "cell_type": "markdown",
   "id": "4644b42d",
   "metadata": {},
   "source": [
    "- **listas** estructuras ordenadas que permiten almacenar cualquier cosa. Podemos acceder a los elementos con un índice"
   ]
  },
  {
   "cell_type": "code",
   "execution_count": 63,
   "id": "98edbebc",
   "metadata": {},
   "outputs": [],
   "source": [
    "A = ['rojo','verde','azul']"
   ]
  },
  {
   "cell_type": "code",
   "execution_count": 66,
   "id": "b28e7b91",
   "metadata": {},
   "outputs": [
    {
     "data": {
      "text/plain": [
       "('rojo', 'verde', 'azul')"
      ]
     },
     "execution_count": 66,
     "metadata": {},
     "output_type": "execute_result"
    }
   ],
   "source": [
    "A[0],A[1],A[2]"
   ]
  },
  {
   "cell_type": "markdown",
   "id": "2635b12a",
   "metadata": {},
   "source": [
    "el **índice** varía entre 0 y el largo de la lista menos 1!"
   ]
  },
  {
   "cell_type": "code",
   "execution_count": 67,
   "id": "11e8f5fb",
   "metadata": {},
   "outputs": [
    {
     "data": {
      "text/plain": [
       "3"
      ]
     },
     "execution_count": 67,
     "metadata": {},
     "output_type": "execute_result"
    }
   ],
   "source": [
    "## largo de la lista\n",
    "\n",
    "len(A)"
   ]
  },
  {
   "cell_type": "markdown",
   "id": "f6b1921d",
   "metadata": {},
   "source": [
    "Podemos añadir elementos a una lista :)"
   ]
  },
  {
   "cell_type": "code",
   "execution_count": 73,
   "id": "1615a9d3",
   "metadata": {},
   "outputs": [],
   "source": [
    "A = A + ['amarillo']"
   ]
  },
  {
   "cell_type": "code",
   "execution_count": 74,
   "id": "4b9d6a3e",
   "metadata": {},
   "outputs": [
    {
     "data": {
      "text/plain": [
       "['rojo', 'verde', 'azul', 'amarillo', 'amarillo', 'amarillo']"
      ]
     },
     "execution_count": 74,
     "metadata": {},
     "output_type": "execute_result"
    }
   ],
   "source": [
    "A"
   ]
  },
  {
   "cell_type": "markdown",
   "id": "607d51cd",
   "metadata": {},
   "source": [
    "Aquí es muy importante recordar que alrededor del signo **+** deben aparecer estructuras del mismo tipo: si queremos agregar un elemento a una lista, lo envolvemos en **[]**. También, debemos notar que la asignación primero resuelve lo que está a la izquierda de **=**, y luego reasigna el nombre **A** a una lista diferente (en forma), pero del mismo nombre (**A**). "
   ]
  },
  {
   "cell_type": "markdown",
   "id": "e06147e6",
   "metadata": {},
   "source": [
    "- **strings** secuencias de caracteres que permiten representar textos o palabras de una lengua. Se definen con comillas simples o dobles"
   ]
  },
  {
   "cell_type": "code",
   "execution_count": 95,
   "id": "1c453ed6",
   "metadata": {},
   "outputs": [],
   "source": [
    "s = '  hola'\n",
    "r = \"chao\""
   ]
  },
  {
   "cell_type": "code",
   "execution_count": 96,
   "id": "016a6db0",
   "metadata": {},
   "outputs": [
    {
     "data": {
      "text/plain": [
       "('  hola', 'chao')"
      ]
     },
     "execution_count": 96,
     "metadata": {},
     "output_type": "execute_result"
    }
   ],
   "source": [
    "s, r"
   ]
  },
  {
   "cell_type": "markdown",
   "id": "d4f16778",
   "metadata": {},
   "source": [
    "Los strings (en algún sentido) son **listas!**"
   ]
  },
  {
   "cell_type": "code",
   "execution_count": 97,
   "id": "a7c26b04",
   "metadata": {},
   "outputs": [
    {
     "data": {
      "text/plain": [
       "(6, 4)"
      ]
     },
     "execution_count": 97,
     "metadata": {},
     "output_type": "execute_result"
    }
   ],
   "source": [
    "len(s),len(r)"
   ]
  },
  {
   "cell_type": "code",
   "execution_count": 98,
   "id": "1f781d57",
   "metadata": {},
   "outputs": [
    {
     "data": {
      "text/plain": [
       "(' ', ' ', 'h', 'o', 'l', 'a')"
      ]
     },
     "execution_count": 98,
     "metadata": {},
     "output_type": "execute_result"
    }
   ],
   "source": [
    "## incluso tienen posiciones a las cuales podemos acceder usando índices\n",
    "\n",
    "s[0],s[1],s[2],s[3],s[4],s[5]"
   ]
  },
  {
   "cell_type": "markdown",
   "id": "0aa83212",
   "metadata": {},
   "source": [
    "Una función útil es split(), que transforma un string, en una lista de strings identificados según los espacios en blanco"
   ]
  },
  {
   "cell_type": "code",
   "execution_count": 100,
   "id": "e463708c",
   "metadata": {},
   "outputs": [],
   "source": [
    "s = 'hola chao'"
   ]
  },
  {
   "cell_type": "code",
   "execution_count": 102,
   "id": "56b24f38",
   "metadata": {},
   "outputs": [
    {
     "data": {
      "text/plain": [
       "['hola', 'chao']"
      ]
     },
     "execution_count": 102,
     "metadata": {},
     "output_type": "execute_result"
    }
   ],
   "source": [
    "## s se transforma en una lista\n",
    "s.split()"
   ]
  },
  {
   "cell_type": "markdown",
   "id": "d602ee76",
   "metadata": {},
   "source": [
    "### 3. Iteraciones"
   ]
  },
  {
   "cell_type": "markdown",
   "id": "40d5d6b4",
   "metadata": {},
   "source": [
    "En **Python**, como en muchos lenguajes de programación, podemos **iterar**, es decir, realizar tareas una candidad muchas veces grande de veces."
   ]
  },
  {
   "cell_type": "markdown",
   "id": "40d07392",
   "metadata": {},
   "source": [
    "La herramienta fundamental para esto son los ciclos **for**. El asunto **fundamental!!!** de esto es los ciclos **for** son una forma de usar las **listas!!!**"
   ]
  },
  {
   "cell_type": "code",
   "execution_count": 107,
   "id": "12582fd2",
   "metadata": {},
   "outputs": [],
   "source": [
    "## Consideremos dos listas!\n",
    "\n",
    "A = ['azul','verde','rojo','amarillo']\n",
    "B = []\n",
    "\n",
    "## y la tarea es copiar los elementos de A en B ¿Cómo lo hacemos?"
   ]
  },
  {
   "cell_type": "markdown",
   "id": "34b4ee83",
   "metadata": {},
   "source": [
    "Esencialmente, de **dos formas** equivalentes:\n",
    "\n",
    "o bien, recorremos los **índices** de los elementos de A\n",
    "\n",
    "o bien, recorremos los **elementos** de A"
   ]
  },
  {
   "cell_type": "code",
   "execution_count": 108,
   "id": "0a90185b",
   "metadata": {},
   "outputs": [
    {
     "name": "stdout",
     "output_type": "stream",
     "text": [
      "0 azul\n",
      "['azul']\n",
      "1 verde\n",
      "['azul', 'verde']\n",
      "2 rojo\n",
      "['azul', 'verde', 'rojo']\n",
      "3 amarillo\n",
      "['azul', 'verde', 'rojo', 'amarillo']\n"
     ]
    }
   ],
   "source": [
    "## forma 1: índices!\n",
    "\n",
    "## recorremos los índices que están en range(len(A)), que son número entre 0 y len(A)-1\n",
    "## n: largo de A\n",
    "n=len(A)\n",
    "for i in range(n):\n",
    "    ## en cada paso, agregamos el elemento A[i] a B, con paréntesis []\n",
    "    print(i,A[i])\n",
    "    B = B + [A[i]]\n",
    "    print(B)"
   ]
  },
  {
   "cell_type": "code",
   "execution_count": 109,
   "id": "7e7d5543",
   "metadata": {},
   "outputs": [
    {
     "data": {
      "text/plain": [
       "['azul', 'verde', 'rojo', 'amarillo']"
      ]
     },
     "execution_count": 109,
     "metadata": {},
     "output_type": "execute_result"
    }
   ],
   "source": [
    "B"
   ]
  },
  {
   "cell_type": "code",
   "execution_count": 111,
   "id": "3fca931a",
   "metadata": {},
   "outputs": [],
   "source": [
    "B = []"
   ]
  },
  {
   "cell_type": "code",
   "execution_count": 112,
   "id": "4d5550b9",
   "metadata": {},
   "outputs": [
    {
     "name": "stdout",
     "output_type": "stream",
     "text": [
      "['azul']\n",
      "['azul', 'verde']\n",
      "['azul', 'verde', 'rojo']\n",
      "['azul', 'verde', 'rojo', 'amarillo']\n"
     ]
    }
   ],
   "source": [
    "## forma 2: elementos!\n",
    "## recorremos los elementos de A\n",
    "for item in A:\n",
    "    ## en cada paso, agregamos el elemento item a B\n",
    "    B = B + [item]\n",
    "    print(B)"
   ]
  },
  {
   "cell_type": "code",
   "execution_count": 41,
   "id": "be3b2d7c",
   "metadata": {},
   "outputs": [
    {
     "data": {
      "text/plain": [
       "['azul', 'verde', 'rojo', 'amarillo']"
      ]
     },
     "execution_count": 41,
     "metadata": {},
     "output_type": "execute_result"
    }
   ],
   "source": [
    "B"
   ]
  },
  {
   "cell_type": "markdown",
   "id": "4569a740",
   "metadata": {},
   "source": [
    "### 4. Estructuras lógicas"
   ]
  },
  {
   "cell_type": "markdown",
   "id": "d3726db2",
   "metadata": {},
   "source": [
    "En (casi) cualquier lenguaje de programación, hay maneras de expresar condiciones lógicas. Por ejemplo, ¿Qué pasa si solo queremos copiar los elementos de A, que no están contenidos en otra lista C? Usamos **if**"
   ]
  },
  {
   "cell_type": "code",
   "execution_count": 129,
   "id": "06d363d2",
   "metadata": {},
   "outputs": [],
   "source": [
    "A = ['el','gato','persigue','al','perro']\n",
    "C = ['el','al']\n",
    "B = []"
   ]
  },
  {
   "cell_type": "code",
   "execution_count": 132,
   "id": "cf7e673b",
   "metadata": {},
   "outputs": [],
   "source": [
    "## recorremos los elementos de A\n",
    "for item in A:\n",
    "    ## establecemos la condición de que item NO esté en C\n",
    "    if item not in C:\n",
    "        B = B + [item]"
   ]
  },
  {
   "cell_type": "code",
   "execution_count": 133,
   "id": "1802aa92",
   "metadata": {},
   "outputs": [
    {
     "data": {
      "text/plain": [
       "['gato', 'persigue', 'perro', 'gato', 'persigue', 'perro']"
      ]
     },
     "execution_count": 133,
     "metadata": {},
     "output_type": "execute_result"
    }
   ],
   "source": [
    "B"
   ]
  },
  {
   "cell_type": "markdown",
   "id": "b5aa5b44",
   "metadata": {},
   "source": [
    "La condición **if** puede ir unida a otra muy común: **else**. Cuando usamos **if-else** tenemos una secuencia en donde si se cumple la condición del **if** pasa algo, y el cualquier otro caso (**else**) hacemos otra cosa. "
   ]
  },
  {
   "cell_type": "code",
   "execution_count": 134,
   "id": "699158fb",
   "metadata": {},
   "outputs": [],
   "source": [
    "B = []"
   ]
  },
  {
   "cell_type": "markdown",
   "id": "272b9008",
   "metadata": {},
   "source": [
    "ejemplo!"
   ]
  },
  {
   "cell_type": "code",
   "execution_count": 138,
   "id": "cdc1c69a",
   "metadata": {},
   "outputs": [],
   "source": [
    "## recorremos los elementos de A\n",
    "for item in A:\n",
    "    ## establecemos la condición de que item NO esté en C\n",
    "    if item not in C:\n",
    "        B = B + [item]\n",
    "    else: ## o sea si item SÍ está en C\n",
    "        B = B + ['stopword']"
   ]
  },
  {
   "cell_type": "code",
   "execution_count": 136,
   "id": "3e613686",
   "metadata": {},
   "outputs": [
    {
     "data": {
      "text/plain": [
       "['stopword', 'gato', 'persigue', 'stopword', 'perro']"
      ]
     },
     "execution_count": 136,
     "metadata": {},
     "output_type": "execute_result"
    }
   ],
   "source": [
    "B"
   ]
  },
  {
   "cell_type": "code",
   "execution_count": 137,
   "id": "14bf281f",
   "metadata": {},
   "outputs": [
    {
     "data": {
      "text/plain": [
       "['el', 'gato', 'persigue', 'al', 'perro']"
      ]
     },
     "execution_count": 137,
     "metadata": {},
     "output_type": "execute_result"
    }
   ],
   "source": [
    "A"
   ]
  },
  {
   "cell_type": "code",
   "execution_count": null,
   "id": "fd281629",
   "metadata": {},
   "outputs": [],
   "source": []
  }
 ],
 "metadata": {
  "kernelspec": {
   "display_name": "Python 3",
   "language": "python",
   "name": "python3"
  },
  "language_info": {
   "codemirror_mode": {
    "name": "ipython",
    "version": 3
   },
   "file_extension": ".py",
   "mimetype": "text/x-python",
   "name": "python",
   "nbconvert_exporter": "python",
   "pygments_lexer": "ipython3",
   "version": "3.8.8"
  }
 },
 "nbformat": 4,
 "nbformat_minor": 5
}
