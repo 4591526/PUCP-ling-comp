{
 "cells": [
  {
   "cell_type": "markdown",
   "id": "615baa43",
   "metadata": {},
   "source": [
    "## Universal dependencies!\n",
    "### Notas sobre **Python** y Universal dependencies!"
   ]
  },
  {
   "cell_type": "markdown",
   "id": "6dd8451e",
   "metadata": {},
   "source": [
    "Librería [conllu](https://github.com/EmilStenstrom/conllu/)"
   ]
  },
  {
   "cell_type": "code",
   "execution_count": 2,
   "id": "742517c0",
   "metadata": {},
   "outputs": [
    {
     "name": "stdout",
     "output_type": "stream",
     "text": [
      "Collecting conllu\n",
      "  Using cached conllu-4.4.1-py2.py3-none-any.whl (15 kB)\n",
      "Installing collected packages: conllu\n",
      "Successfully installed conllu-4.4.1\n"
     ]
    }
   ],
   "source": [
    "!pip install conllu"
   ]
  },
  {
   "cell_type": "code",
   "execution_count": 3,
   "id": "56ee4f51",
   "metadata": {},
   "outputs": [],
   "source": [
    "import conllu as cll\n",
    "\n",
    "data = \"\"\"\n",
    "# text = The quick brown fox jumps over the lazy dog.\n",
    "1   The     the    DET    DT   Definite=Def|PronType=Art   4   det     _   _\n",
    "2   quick   quick  ADJ    JJ   Degree=Pos                  4   amod    _   _\n",
    "3   brown   brown  ADJ    JJ   Degree=Pos                  4   amod    _   _\n",
    "4   fox     fox    NOUN   NN   Number=Sing                 5   nsubj   _   _\n",
    "5   jumps   jump   VERB   VBZ  Mood=Ind|Number=Sing|Person=3|Tense=Pres|VerbForm=Fin   0   root    _   _\n",
    "6   over    over   ADP    IN   _                           9   case    _   _\n",
    "7   the     the    DET    DT   Definite=Def|PronType=Art   9   det     _   _\n",
    "8   lazy    lazy   ADJ    JJ   Degree=Pos                  9   amod    _   _\n",
    "9   dog     dog    NOUN   NN   Number=Sing                 5   nmod    _   SpaceAfter=No\n",
    "10  .       .      PUNCT  .    _                           5   punct   _   _\n",
    "\n",
    "\"\"\""
   ]
  },
  {
   "cell_type": "code",
   "execution_count": 4,
   "id": "5f6db4e3",
   "metadata": {},
   "outputs": [
    {
     "data": {
      "text/plain": [
       "[TokenList<The, quick, brown, fox, jumps, over, the, lazy, dog, .>]"
      ]
     },
     "execution_count": 4,
     "metadata": {},
     "output_type": "execute_result"
    }
   ],
   "source": [
    "sentences = cll.parse(data)\n",
    "sentences"
   ]
  },
  {
   "cell_type": "code",
   "execution_count": 6,
   "id": "29b868b2",
   "metadata": {},
   "outputs": [],
   "source": [
    "## accedemos a la primera oración (la única en este caso!)\n",
    "\n",
    "sentence = sentences[0]"
   ]
  },
  {
   "cell_type": "code",
   "execution_count": 7,
   "id": "c10086da",
   "metadata": {},
   "outputs": [],
   "source": [
    "## sentences funciona como una lista que tiene diccionarios como elementos!\n",
    "\n",
    "token = sentence[0]"
   ]
  },
  {
   "cell_type": "code",
   "execution_count": 8,
   "id": "8d7a3dad",
   "metadata": {},
   "outputs": [
    {
     "data": {
      "text/plain": [
       "{'id': 1,\n",
       " 'form': 'The',\n",
       " 'lemma': 'the',\n",
       " 'upos': 'DET',\n",
       " 'xpos': 'DT',\n",
       " 'feats': {'Definite': 'Def', 'PronType': 'Art'},\n",
       " 'head': 4,\n",
       " 'deprel': 'det',\n",
       " 'deps': None,\n",
       " 'misc': None}"
      ]
     },
     "execution_count": 8,
     "metadata": {},
     "output_type": "execute_result"
    }
   ],
   "source": [
    "token"
   ]
  },
  {
   "cell_type": "markdown",
   "id": "73d8f296",
   "metadata": {},
   "source": [
    "Paréntesis sobre **diccionarios!** :)"
   ]
  },
  {
   "cell_type": "markdown",
   "id": "e64df5e1",
   "metadata": {},
   "source": [
    "Ahora, volvemos a **UD**"
   ]
  },
  {
   "cell_type": "code",
   "execution_count": 10,
   "id": "2bb2e727",
   "metadata": {},
   "outputs": [
    {
     "data": {
      "text/plain": [
       "TokenList<The, quick, brown, fox, jumps, over, the, lazy, dog, .>"
      ]
     },
     "execution_count": 10,
     "metadata": {},
     "output_type": "execute_result"
    }
   ],
   "source": [
    "sentence"
   ]
  },
  {
   "cell_type": "code",
   "execution_count": 11,
   "id": "9dee1c9d",
   "metadata": {},
   "outputs": [
    {
     "data": {
      "text/plain": [
       "TokenList<quick>"
      ]
     },
     "execution_count": 11,
     "metadata": {},
     "output_type": "execute_result"
    }
   ],
   "source": [
    "## ¿Cómo podemos filtrar las oraciones?\n",
    "\n",
    "## x forma\n",
    "sentence.filter(form=\"quick\")"
   ]
  },
  {
   "cell_type": "code",
   "execution_count": 19,
   "id": "ebe67fb3",
   "metadata": {},
   "outputs": [
    {
     "data": {
      "text/plain": [
       "TokenList<jumps>"
      ]
     },
     "execution_count": 19,
     "metadata": {},
     "output_type": "execute_result"
    }
   ],
   "source": [
    "## x upos\n",
    "sentence.filter(upos=\"VERB\")"
   ]
  },
  {
   "cell_type": "code",
   "execution_count": 20,
   "id": "3bf3238b",
   "metadata": {},
   "outputs": [],
   "source": [
    "## el verbo!\n",
    "\n",
    "token = sentence[4]"
   ]
  },
  {
   "cell_type": "code",
   "execution_count": 21,
   "id": "171b70f7",
   "metadata": {},
   "outputs": [
    {
     "data": {
      "text/plain": [
       "{'id': 5,\n",
       " 'form': 'jumps',\n",
       " 'lemma': 'jump',\n",
       " 'upos': 'VERB',\n",
       " 'xpos': 'VBZ',\n",
       " 'feats': {'Mood': 'Ind',\n",
       "  'Number': 'Sing',\n",
       "  'Person': '3',\n",
       "  'Tense': 'Pres',\n",
       "  'VerbForm': 'Fin'},\n",
       " 'head': 0,\n",
       " 'deprel': 'root',\n",
       " 'deps': None,\n",
       " 'misc': None}"
      ]
     },
     "execution_count": 21,
     "metadata": {},
     "output_type": "execute_result"
    }
   ],
   "source": [
    "token"
   ]
  },
  {
   "cell_type": "code",
   "execution_count": 12,
   "id": "694d0843",
   "metadata": {},
   "outputs": [
    {
     "data": {
      "text/plain": [
       "TokenList<quick, brown, lazy>"
      ]
     },
     "execution_count": 12,
     "metadata": {},
     "output_type": "execute_result"
    }
   ],
   "source": [
    "## x rasgo: noten que estamos entrando a un diccionario\n",
    "sentence.filter(feats__Degree=\"Pos\")"
   ]
  },
  {
   "cell_type": "code",
   "execution_count": 24,
   "id": "e97e09a9",
   "metadata": {},
   "outputs": [],
   "source": [
    "## busquemos las heads!\n",
    "heads = {}\n",
    "\n",
    "for token in sentence.filter(feats__Degree=\"Pos\"):\n",
    "    heads[token['id']]=token['head'] "
   ]
  },
  {
   "cell_type": "code",
   "execution_count": 25,
   "id": "14c5c43a",
   "metadata": {},
   "outputs": [
    {
     "data": {
      "text/plain": [
       "{2: 4, 3: 4, 8: 9}"
      ]
     },
     "execution_count": 25,
     "metadata": {},
     "output_type": "execute_result"
    }
   ],
   "source": [
    "heads"
   ]
  },
  {
   "cell_type": "code",
   "execution_count": 26,
   "id": "8eb66ef8",
   "metadata": {},
   "outputs": [],
   "source": [
    "## busquemos las heads de todas los tokens\n",
    "\n",
    "## busquemos las heads!\n",
    "heads_all = {}\n",
    "\n",
    "for token in sentence:\n",
    "    heads_all[token['id']]=token['head'] "
   ]
  },
  {
   "cell_type": "code",
   "execution_count": 27,
   "id": "e5d4ba8e",
   "metadata": {},
   "outputs": [
    {
     "data": {
      "text/plain": [
       "{1: 4, 2: 4, 3: 4, 4: 5, 5: 0, 6: 9, 7: 9, 8: 9, 9: 5, 10: 5}"
      ]
     },
     "execution_count": 27,
     "metadata": {},
     "output_type": "execute_result"
    }
   ],
   "source": [
    "heads_all"
   ]
  },
  {
   "cell_type": "code",
   "execution_count": 30,
   "id": "a918e5e8",
   "metadata": {},
   "outputs": [],
   "source": [
    "## otra forma :)\n",
    "\n",
    "## busquemos las heads!\n",
    "heads_all_form = {}\n",
    "\n",
    "for token in sentence:\n",
    "    heads_all_form[token['id']]=[token['form'],token['head']]"
   ]
  },
  {
   "cell_type": "code",
   "execution_count": 31,
   "id": "775d9d14",
   "metadata": {},
   "outputs": [
    {
     "data": {
      "text/plain": [
       "{1: ['The', 4],\n",
       " 2: ['quick', 4],\n",
       " 3: ['brown', 4],\n",
       " 4: ['fox', 5],\n",
       " 5: ['jumps', 0],\n",
       " 6: ['over', 9],\n",
       " 7: ['the', 9],\n",
       " 8: ['lazy', 9],\n",
       " 9: ['dog', 5],\n",
       " 10: ['.', 5]}"
      ]
     },
     "execution_count": 31,
     "metadata": {},
     "output_type": "execute_result"
    }
   ],
   "source": [
    "heads_all_form"
   ]
  },
  {
   "cell_type": "code",
   "execution_count": null,
   "id": "63966baa",
   "metadata": {},
   "outputs": [],
   "source": []
  }
 ],
 "metadata": {
  "kernelspec": {
   "display_name": "Python 3",
   "language": "python",
   "name": "python3"
  },
  "language_info": {
   "codemirror_mode": {
    "name": "ipython",
    "version": 3
   },
   "file_extension": ".py",
   "mimetype": "text/x-python",
   "name": "python",
   "nbconvert_exporter": "python",
   "pygments_lexer": "ipython3",
   "version": "3.8.8"
  }
 },
 "nbformat": 4,
 "nbformat_minor": 5
}
