{
 "cells": [
  {
   "cell_type": "markdown",
   "id": "1e8ee772",
   "metadata": {},
   "source": [
    "## Ejercicios"
   ]
  },
  {
   "cell_type": "markdown",
   "id": "298eecc9",
   "metadata": {},
   "source": [
    "### 1. Listas"
   ]
  },
  {
   "cell_type": "markdown",
   "id": "a65ce1cb",
   "metadata": {},
   "source": [
    "(problema basado en una consulta!) Considere tres listas A, B y C:"
   ]
  },
  {
   "cell_type": "code",
   "execution_count": 1,
   "id": "bde7515e",
   "metadata": {},
   "outputs": [],
   "source": [
    "A = ['verde','rojo', 'azul']\n",
    "B = ['gato','perro','serpiente']\n",
    "C = ['mesa','silla','sillón']"
   ]
  },
  {
   "cell_type": "markdown",
   "id": "c8164f5c",
   "metadata": {},
   "source": [
    "Defina una nueva lista, D, que contenga la concatenación de los elementos respectivos de A, B y C. Por ejemplo,\n",
    "\n",
    "```python:\n",
    "D = ['verde gato mesa', 'rojo perro silla', 'azul serpiente sillón']\n",
    "```\n",
    "Note que incluimos un espacio entre los strings!"
   ]
  },
  {
   "cell_type": "code",
   "execution_count": 2,
   "id": "1d7c04fe",
   "metadata": {},
   "outputs": [],
   "source": [
    "## solución 1: índices de listas!\n",
    "\n",
    "D = []\n",
    "\n",
    "## recorremos los índices de una lista en particular (porque todas tienen el mismo largo)\n",
    "for i in range(len(A)): \n",
    "    concatenacion = A[i]+' '+B[i]+' '+C[i]\n",
    "    D += [concatenacion]"
   ]
  },
  {
   "cell_type": "code",
   "execution_count": 3,
   "id": "4b709213",
   "metadata": {},
   "outputs": [
    {
     "data": {
      "text/plain": [
       "['verde gato mesa', 'rojo perro silla', 'azul serpiente sillón']"
      ]
     },
     "execution_count": 3,
     "metadata": {},
     "output_type": "execute_result"
    }
   ],
   "source": [
    "D"
   ]
  },
  {
   "cell_type": "code",
   "execution_count": 6,
   "id": "8471d362",
   "metadata": {},
   "outputs": [],
   "source": [
    "## solución 2: juntamos las listas!\n",
    "\n",
    "## lista de listas\n",
    "D_listas = [[],[],[]]\n",
    "\n",
    "## denuevo recorremos los índices\n",
    "for i in range(len(A)): \n",
    "    ## en cada paso, guardamos los elementos en la posición i en D\n",
    "    D_listas[i]+=[A[i],B[i],C[i]]"
   ]
  },
  {
   "cell_type": "code",
   "execution_count": 7,
   "id": "550da4f4",
   "metadata": {},
   "outputs": [
    {
     "data": {
      "text/plain": [
       "[['verde', 'gato', 'mesa'],\n",
       " ['rojo', 'perro', 'silla'],\n",
       " ['azul', 'serpiente', 'sillón']]"
      ]
     },
     "execution_count": 7,
     "metadata": {},
     "output_type": "execute_result"
    }
   ],
   "source": [
    "D_listas"
   ]
  },
  {
   "cell_type": "code",
   "execution_count": 13,
   "id": "fc648a48",
   "metadata": {},
   "outputs": [],
   "source": [
    "## ahora juntamos cada lista como un string\n",
    "\n",
    "D = []\n",
    "\n",
    "## recorremos las listas\n",
    "for lista in D_listas:\n",
    "    ## dentro de cada lista, recorremos sus palabras\n",
    "    for palabra in lista:\n",
    "        ## juntamos las palabras en un solo string\n",
    "        concatenacion = lista[0]+' '+lista[1]+' '+lista[2]\n",
    "    D += [concatenacion]"
   ]
  },
  {
   "cell_type": "code",
   "execution_count": 14,
   "id": "f9dbde72",
   "metadata": {},
   "outputs": [
    {
     "data": {
      "text/plain": [
       "['verde gato mesa', 'rojo perro silla', 'azul serpiente sillón']"
      ]
     },
     "execution_count": 14,
     "metadata": {},
     "output_type": "execute_result"
    }
   ],
   "source": [
    "D"
   ]
  },
  {
   "cell_type": "markdown",
   "id": "e6efc204",
   "metadata": {},
   "source": [
    "Pensemos en otra variante. Con las mismas tres listas, defina:\n",
    "    \n",
    "```python:\n",
    "E = ['verde rojo azul', 'gato perro serpiente', 'mesa silla sillón']\n",
    "```"
   ]
  },
  {
   "cell_type": "code",
   "execution_count": 19,
   "id": "f96308cf",
   "metadata": {},
   "outputs": [],
   "source": [
    "## esto es bien parecido a la solución del problema anterior!\n",
    "\n",
    "E = []\n",
    "\n",
    "## juntamos las listas!\n",
    "Z = [A,B,C]\n",
    "\n",
    "## recorremos las listas\n",
    "for lista in Z:\n",
    "    ## dentro de cada lista, recorremos sus palabras\n",
    "    for palabra in lista:\n",
    "        ## juntamos las palabras en un solo string\n",
    "        concatenacion = lista[0]+' '+lista[1]+' '+lista[2]\n",
    "    E += [concatenacion]"
   ]
  },
  {
   "cell_type": "code",
   "execution_count": 20,
   "id": "35c98bde",
   "metadata": {},
   "outputs": [
    {
     "data": {
      "text/plain": [
       "['verde rojo azul', 'gato perro serpiente', 'mesa silla sillón']"
      ]
     },
     "execution_count": 20,
     "metadata": {},
     "output_type": "execute_result"
    }
   ],
   "source": [
    "E"
   ]
  },
  {
   "cell_type": "markdown",
   "id": "411e36f3",
   "metadata": {},
   "source": [
    "Resuma las tres listas en un string, es decir, defina\n",
    "\n",
    "```python:\n",
    "string = 'verde rojo azul gato perro serpiente mesa silla sillón'\n",
    "```"
   ]
  },
  {
   "cell_type": "code",
   "execution_count": 21,
   "id": "1bcd998a",
   "metadata": {},
   "outputs": [],
   "source": [
    "## primero, juntemos todas las palabras de las tres listas en una sola lista\n",
    "\n",
    "P = []\n",
    "\n",
    "## usamos que la lista Z junta todas las listas\n",
    "for lista in Z:\n",
    "    for palabra in lista:\n",
    "        P+=[palabra]"
   ]
  },
  {
   "cell_type": "code",
   "execution_count": 22,
   "id": "e953b379",
   "metadata": {},
   "outputs": [
    {
     "data": {
      "text/plain": [
       "['verde',\n",
       " 'rojo',\n",
       " 'azul',\n",
       " 'gato',\n",
       " 'perro',\n",
       " 'serpiente',\n",
       " 'mesa',\n",
       " 'silla',\n",
       " 'sillón']"
      ]
     },
     "execution_count": 22,
     "metadata": {},
     "output_type": "execute_result"
    }
   ],
   "source": [
    "P"
   ]
  },
  {
   "cell_type": "code",
   "execution_count": 34,
   "id": "662ce0a9",
   "metadata": {},
   "outputs": [],
   "source": [
    "## ahora, lo \"pegamos\" todo en un solo string!\n",
    "\n",
    "## partimos con un string de largo 0\n",
    "string = ''\n",
    "\n",
    "## usemos los índices\n",
    "for indice in range(len(P)):\n",
    "    ## si no es el último índice!\n",
    "    if indice < len(P)-1:\n",
    "        string += P[indice]+' '\n",
    "    ## en otro caso!\n",
    "    else:\n",
    "        string += P[indice]"
   ]
  },
  {
   "cell_type": "code",
   "execution_count": 35,
   "id": "3009388f",
   "metadata": {},
   "outputs": [
    {
     "data": {
      "text/plain": [
       "'verde rojo azul gato perro serpiente mesa silla sillón'"
      ]
     },
     "execution_count": 35,
     "metadata": {},
     "output_type": "execute_result"
    }
   ],
   "source": [
    "string"
   ]
  },
  {
   "cell_type": "markdown",
   "id": "1df4a24c",
   "metadata": {},
   "source": [
    "Transforme este string en una lista dividiendo en tokens por espacios en blanco. "
   ]
  },
  {
   "cell_type": "code",
   "execution_count": 36,
   "id": "8ba2275a",
   "metadata": {},
   "outputs": [],
   "source": [
    "lista_strings = string.split()"
   ]
  },
  {
   "cell_type": "code",
   "execution_count": 37,
   "id": "ed8d60bc",
   "metadata": {},
   "outputs": [
    {
     "data": {
      "text/plain": [
       "['verde',\n",
       " 'rojo',\n",
       " 'azul',\n",
       " 'gato',\n",
       " 'perro',\n",
       " 'serpiente',\n",
       " 'mesa',\n",
       " 'silla',\n",
       " 'sillón']"
      ]
     },
     "execution_count": 37,
     "metadata": {},
     "output_type": "execute_result"
    }
   ],
   "source": [
    "lista_strings"
   ]
  },
  {
   "cell_type": "markdown",
   "id": "012244e6",
   "metadata": {},
   "source": [
    "### 2. Ciclos for!"
   ]
  },
  {
   "cell_type": "markdown",
   "id": "ff7f70ce",
   "metadata": {},
   "source": [
    "Considere el siguiente string:"
   ]
  },
  {
   "cell_type": "code",
   "execution_count": 26,
   "id": "0fd047b3",
   "metadata": {},
   "outputs": [],
   "source": [
    "string = 'Sus logros incluyen los primeros estudios sobre el fenómeno de la radiactividad (término que ella misma acuñó), técnicas para el aislamiento de isótopos radiactivos y el descubrimiento de dos elementos'"
   ]
  },
  {
   "cell_type": "markdown",
   "id": "82e9ab8b",
   "metadata": {},
   "source": [
    "Construya una lista, A, que contenga los tokens (como secuencias entre espacios en blanco) en minúscula."
   ]
  },
  {
   "cell_type": "markdown",
   "id": "e1e587fe",
   "metadata": {},
   "source": [
    "Construya otra lista, B, que contenga el largo de cada string de A. Sume todos los elementos de la lista B. "
   ]
  },
  {
   "cell_type": "markdown",
   "id": "113f9316",
   "metadata": {},
   "source": [
    "Construya otra lista, C, que contenga los elementos de A, pero sin repetición (es decir, los types). "
   ]
  },
  {
   "cell_type": "markdown",
   "id": "ec8fc124",
   "metadata": {},
   "source": [
    "Construya otra lista, D, que contenga cuántas veces aparecen los types de C en A. "
   ]
  },
  {
   "cell_type": "code",
   "execution_count": null,
   "id": "5017fc91",
   "metadata": {},
   "outputs": [],
   "source": []
  }
 ],
 "metadata": {
  "kernelspec": {
   "display_name": "Python 3",
   "language": "python",
   "name": "python3"
  },
  "language_info": {
   "codemirror_mode": {
    "name": "ipython",
    "version": 3
   },
   "file_extension": ".py",
   "mimetype": "text/x-python",
   "name": "python",
   "nbconvert_exporter": "python",
   "pygments_lexer": "ipython3",
   "version": "3.8.8"
  }
 },
 "nbformat": 4,
 "nbformat_minor": 5
}
