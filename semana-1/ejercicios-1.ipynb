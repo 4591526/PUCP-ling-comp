{
 "cells": [
  {
   "cell_type": "markdown",
   "id": "1b2eb120",
   "metadata": {
    "id": "1b2eb120"
   },
   "source": [
    "## Ejercicios"
   ]
  },
  {
   "cell_type": "markdown",
   "id": "8e162dc3",
   "metadata": {
    "id": "8e162dc3"
   },
   "source": [
    "### 1. Uso de listas"
   ]
  },
  {
   "cell_type": "code",
   "execution_count": 25,
   "id": "2d06790f",
   "metadata": {
    "executionInfo": {
     "elapsed": 309,
     "status": "ok",
     "timestamp": 1629827204763,
     "user": {
      "displayName": "Javier Maximiliano Vera Zuñiga",
      "photoUrl": "",
      "userId": "16439660197950043005"
     },
     "user_tz": 240
    },
    "id": "2d06790f"
   },
   "outputs": [],
   "source": [
    "## considere el siguiente string\n",
    "## (recuerden que los strings están entre '' o entre \"\". A veces, es cómodo usar \"\" cuando el string lleva ')\n",
    "## https://es.wikipedia.org/wiki/Lenguas_quechuas\n",
    "\n",
    "string = \"Las lenguas quechuas tienen una morfología aglutinante, con raíces regulares y repertorios amplios de sufijos productivos, que permiten formar palabras nuevas de forma regular. Entre sus rasgos gramaticales, se distinguen la fuente de la información o evidencialidad, varios casos nominales, un nosotros inclusivo y otro excluyente, el beneficio o la actitud del hablante al respecto de una acción, y opcionalmente el tópico. Los verbos transitivos concuerdan con el sujeto y el objeto. Expresan predicaciones nominales yuxtaponiendo el sujeto y el atributo. A diferencia del español, el quechua funciona sin artículos o conjunciones[cita requerida] y sin distinguir géneros gramaticales.\""
   ]
  },
  {
   "cell_type": "code",
   "execution_count": 26,
   "id": "NyNu4ce8RZ7o",
   "metadata": {
    "colab": {
     "base_uri": "https://localhost:8080/",
     "height": 90
    },
    "executionInfo": {
     "elapsed": 337,
     "status": "ok",
     "timestamp": 1629827241989,
     "user": {
      "displayName": "Javier Maximiliano Vera Zuñiga",
      "photoUrl": "",
      "userId": "16439660197950043005"
     },
     "user_tz": 240
    },
    "id": "NyNu4ce8RZ7o",
    "outputId": "e08508ad-94db-4929-ea5c-a37213baf5bf"
   },
   "outputs": [
    {
     "data": {
      "text/plain": [
       "'Las lenguas quechuas tienen una morfología aglutinante, con raíces regulares y repertorios amplios de sufijos productivos, que permiten formar palabras nuevas de forma regular. Entre sus rasgos gramaticales, se distinguen la fuente de la información o evidencialidad, varios casos nominales, un nosotros inclusivo y otro excluyente, el beneficio o la actitud del hablante al respecto de una acción, y opcionalmente el tópico. Los verbos transitivos concuerdan con el sujeto y el objeto. Expresan predicaciones nominales yuxtaponiendo el sujeto y el atributo. A diferencia del español, el quechua funciona sin artículos o conjunciones[cita requerida] y sin distinguir géneros gramaticales.'"
      ]
     },
     "execution_count": 26,
     "metadata": {},
     "output_type": "execute_result"
    }
   ],
   "source": [
    "string"
   ]
  },
  {
   "cell_type": "code",
   "execution_count": 27,
   "id": "220ba640",
   "metadata": {
    "id": "220ba640"
   },
   "outputs": [],
   "source": [
    "## el primer desafío es dividir este string en palabras ¿Cómo hacemos eso? :)\n",
    "## manera 1: pruebe qué ocurre con el siguiente código\n",
    "\n",
    "lista_strings = string.split()"
   ]
  },
  {
   "cell_type": "code",
   "execution_count": 28,
   "id": "a1ff537f",
   "metadata": {
    "id": "a1ff537f",
    "outputId": "41f78980-4ffa-43a1-d718-d99b14774ae7"
   },
   "outputs": [
    {
     "data": {
      "text/plain": [
       "['Las',\n",
       " 'lenguas',\n",
       " 'quechuas',\n",
       " 'tienen',\n",
       " 'una',\n",
       " 'morfología',\n",
       " 'aglutinante,',\n",
       " 'con',\n",
       " 'raíces',\n",
       " 'regulares']"
      ]
     },
     "execution_count": 28,
     "metadata": {},
     "output_type": "execute_result"
    }
   ],
   "source": [
    "lista_strings[:10]"
   ]
  },
  {
   "cell_type": "code",
   "execution_count": 29,
   "id": "0ff6f149",
   "metadata": {
    "id": "0ff6f149"
   },
   "outputs": [],
   "source": [
    "## responda: ¿Qué hace .split() al final de un string?"
   ]
  },
  {
   "cell_type": "code",
   "execution_count": 30,
   "id": "8e696d6d",
   "metadata": {
    "id": "8e696d6d"
   },
   "outputs": [],
   "source": [
    "## determine ahora el número de palabras del texto\n",
    "## por el momento, la variable numero_palabras vale 0. Usted debe reasignarla al valor correspondiente\n",
    "numero_palabras = 0"
   ]
  },
  {
   "cell_type": "code",
   "execution_count": 31,
   "id": "e4de09b0",
   "metadata": {
    "id": "e4de09b0"
   },
   "outputs": [],
   "source": [
    "numero_palabras = len(lista_strings)"
   ]
  },
  {
   "cell_type": "code",
   "execution_count": 32,
   "id": "e9202470",
   "metadata": {
    "id": "e9202470",
    "outputId": "bdff755a-5233-49ae-9724-bba1ae227e71"
   },
   "outputs": [
    {
     "data": {
      "text/plain": [
       "98"
      ]
     },
     "execution_count": 32,
     "metadata": {},
     "output_type": "execute_result"
    }
   ],
   "source": [
    "numero_palabras"
   ]
  },
  {
   "cell_type": "code",
   "execution_count": 33,
   "id": "b2bc4af6",
   "metadata": {
    "id": "b2bc4af6"
   },
   "outputs": [],
   "source": [
    "## definamos otra lista, que llamamos texto_copia\n",
    "\n",
    "texto_copia = []"
   ]
  },
  {
   "cell_type": "code",
   "execution_count": 34,
   "id": "ff53825f",
   "metadata": {
    "id": "ff53825f",
    "outputId": "9410b43d-67ae-4598-d82d-65f999f2b258"
   },
   "outputs": [
    {
     "data": {
      "text/plain": [
       "0"
      ]
     },
     "execution_count": 34,
     "metadata": {},
     "output_type": "execute_result"
    }
   ],
   "source": [
    "len(texto_copia)"
   ]
  },
  {
   "cell_type": "code",
   "execution_count": 35,
   "id": "7df59d8f",
   "metadata": {
    "id": "7df59d8f"
   },
   "outputs": [],
   "source": [
    "for item in lista_strings:\n",
    "    texto_copia = texto_copia + [item]\n",
    "    #texto_copia += [item]"
   ]
  },
  {
   "cell_type": "code",
   "execution_count": 36,
   "id": "5a0853ff",
   "metadata": {
    "id": "5a0853ff",
    "outputId": "2b1a4d3e-d55a-4dbb-b28a-491716e58119"
   },
   "outputs": [
    {
     "data": {
      "text/plain": [
       "['Las',\n",
       " 'lenguas',\n",
       " 'quechuas',\n",
       " 'tienen',\n",
       " 'una',\n",
       " 'morfología',\n",
       " 'aglutinante,',\n",
       " 'con',\n",
       " 'raíces',\n",
       " 'regulares']"
      ]
     },
     "execution_count": 36,
     "metadata": {},
     "output_type": "execute_result"
    }
   ],
   "source": [
    "texto_copia[:10]"
   ]
  },
  {
   "cell_type": "code",
   "execution_count": 37,
   "id": "969bc1af",
   "metadata": {
    "id": "969bc1af"
   },
   "outputs": [],
   "source": [
    "## su tarea es copiar cada palabra de lista_strings en texto_copia. Use un ciclo for :)"
   ]
  },
  {
   "cell_type": "code",
   "execution_count": 38,
   "id": "b1cf8797",
   "metadata": {
    "id": "b1cf8797"
   },
   "outputs": [],
   "source": [
    "## cuente el número de elementos de texto_copia: ¿Coincide con el largo de lista_strings?"
   ]
  },
  {
   "cell_type": "code",
   "execution_count": 39,
   "id": "73e9af4d",
   "metadata": {
    "id": "73e9af4d",
    "outputId": "64a6b958-5884-4802-a9b1-ea9bce080a6b"
   },
   "outputs": [
    {
     "data": {
      "text/plain": [
       "98"
      ]
     },
     "execution_count": 39,
     "metadata": {},
     "output_type": "execute_result"
    }
   ],
   "source": [
    "len(lista_strings)"
   ]
  },
  {
   "cell_type": "code",
   "execution_count": 40,
   "id": "f15baebd",
   "metadata": {
    "id": "f15baebd",
    "outputId": "41607d4c-83e3-4a3d-e22d-d85ef67e6e6e"
   },
   "outputs": [
    {
     "data": {
      "text/plain": [
       "98"
      ]
     },
     "execution_count": 40,
     "metadata": {},
     "output_type": "execute_result"
    }
   ],
   "source": [
    "len(texto_copia)"
   ]
  },
  {
   "cell_type": "markdown",
   "id": "0a96fd34",
   "metadata": {
    "id": "0a96fd34"
   },
   "source": [
    "### 2. Palabras en minúscula"
   ]
  },
  {
   "cell_type": "code",
   "execution_count": 49,
   "id": "6b4db192",
   "metadata": {
    "id": "6b4db192"
   },
   "outputs": [],
   "source": [
    "## ¿Qué ocurre con el siguiente código?\n",
    "\n",
    "palabra = 'Las'\n",
    "\n",
    "palabra_min = palabra.lower()"
   ]
  },
  {
   "cell_type": "code",
   "execution_count": 50,
   "id": "e2503739",
   "metadata": {
    "id": "e2503739",
    "outputId": "684ce5ea-c2f3-431f-8976-017d4c670a80"
   },
   "outputs": [
    {
     "data": {
      "text/plain": [
       "'las'"
      ]
     },
     "execution_count": 50,
     "metadata": {},
     "output_type": "execute_result"
    }
   ],
   "source": [
    "palabra_min"
   ]
  },
  {
   "cell_type": "code",
   "execution_count": 51,
   "id": "c81f6129",
   "metadata": {
    "id": "c81f6129"
   },
   "outputs": [],
   "source": [
    "## la tarea es: defina una nueva lista, que llamaremos lista_strings_min \n",
    "## que contenga las palabras en minúscula de lista_strings. Use un ciclo for"
   ]
  },
  {
   "cell_type": "code",
   "execution_count": 52,
   "id": "2f396066",
   "metadata": {
    "id": "2f396066"
   },
   "outputs": [],
   "source": [
    "lista_strings_min = []"
   ]
  },
  {
   "cell_type": "code",
   "execution_count": 53,
   "id": "2b9b2345",
   "metadata": {
    "id": "2b9b2345"
   },
   "outputs": [],
   "source": [
    "for palabra in lista_strings:\n",
    "    palabra_min = palabra.lower()\n",
    "    lista_strings_min = lista_strings_min + [palabra_min] "
   ]
  },
  {
   "cell_type": "code",
   "execution_count": 54,
   "id": "696c5017",
   "metadata": {
    "id": "696c5017"
   },
   "outputs": [],
   "source": [
    "#for palabra in lista_strings:\n",
    "#    lista_strings_min = lista_strings_min + [palabra.lower()] "
   ]
  },
  {
   "cell_type": "code",
   "execution_count": 55,
   "id": "f0cfe40a",
   "metadata": {
    "id": "f0cfe40a",
    "outputId": "ec751ec3-aeac-4968-8155-229f49b7c59b"
   },
   "outputs": [
    {
     "data": {
      "text/plain": [
       "['las',\n",
       " 'lenguas',\n",
       " 'quechuas',\n",
       " 'tienen',\n",
       " 'una',\n",
       " 'morfología',\n",
       " 'aglutinante,',\n",
       " 'con',\n",
       " 'raíces',\n",
       " 'regulares']"
      ]
     },
     "execution_count": 55,
     "metadata": {},
     "output_type": "execute_result"
    }
   ],
   "source": [
    "lista_strings_min[:10]"
   ]
  },
  {
   "cell_type": "code",
   "execution_count": 56,
   "id": "d68dede9",
   "metadata": {
    "id": "d68dede9"
   },
   "outputs": [],
   "source": [
    "## que contenga las palabras en minúscula de lista_strings. Use un ciclo for"
   ]
  },
  {
   "cell_type": "code",
   "execution_count": null,
   "id": "4b1c29f5",
   "metadata": {},
   "outputs": [],
   "source": []
  },
  {
   "cell_type": "code",
   "execution_count": null,
   "id": "09d3c26f",
   "metadata": {},
   "outputs": [],
   "source": []
  },
  {
   "cell_type": "code",
   "execution_count": null,
   "id": "e9c8bfdc",
   "metadata": {},
   "outputs": [],
   "source": []
  }
 ],
 "metadata": {
  "colab": {
   "name": "ejercicios-1.ipynb",
   "provenance": []
  },
  "kernelspec": {
   "display_name": "Python 3",
   "language": "python",
   "name": "python3"
  },
  "language_info": {
   "codemirror_mode": {
    "name": "ipython",
    "version": 3
   },
   "file_extension": ".py",
   "mimetype": "text/x-python",
   "name": "python",
   "nbconvert_exporter": "python",
   "pygments_lexer": "ipython3",
   "version": "3.8.8"
  }
 },
 "nbformat": 4,
 "nbformat_minor": 5
}
