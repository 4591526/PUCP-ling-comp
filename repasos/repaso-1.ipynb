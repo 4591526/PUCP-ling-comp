{
 "cells": [
  {
   "cell_type": "markdown",
   "id": "0d494501",
   "metadata": {},
   "source": [
    "## Repaso (muy breve) de **Python**"
   ]
  },
  {
   "cell_type": "markdown",
   "id": "c59d87a3",
   "metadata": {},
   "source": [
    "### 1. Elementos básicos"
   ]
  },
  {
   "cell_type": "markdown",
   "id": "54b8b215",
   "metadata": {},
   "source": [
    "En Python, diversas estructuras (números, listas, strings, entre otras) se nombran con **variables** (letras mayúsculas o minúsculas)"
   ]
  },
  {
   "cell_type": "code",
   "execution_count": 55,
   "id": "ce490d6d",
   "metadata": {},
   "outputs": [],
   "source": [
    "a = 1"
   ]
  },
  {
   "cell_type": "code",
   "execution_count": 56,
   "id": "b6ef1255",
   "metadata": {},
   "outputs": [],
   "source": [
    "B = ['a']"
   ]
  },
  {
   "cell_type": "markdown",
   "id": "32d86df1",
   "metadata": {},
   "source": [
    "Lo crucial en esto es que los nombres (a o B) sirven para llamar a los valores que esos nombres almacenan. Es decir,"
   ]
  },
  {
   "cell_type": "code",
   "execution_count": 60,
   "id": "ffb21b5d",
   "metadata": {},
   "outputs": [
    {
     "data": {
      "text/plain": [
       "(2, 0.00022055580061755624, 542)"
      ]
     },
     "execution_count": 60,
     "metadata": {},
     "output_type": "execute_result"
    }
   ],
   "source": [
    "## Python internamente \"sabe\" que a es una variable número con valor 2:\n",
    "\n",
    "a*2, a/4534, a*(545-3*a)"
   ]
  },
  {
   "cell_type": "code",
   "execution_count": 61,
   "id": "32e37ff9",
   "metadata": {},
   "outputs": [
    {
     "data": {
      "text/plain": [
       "1"
      ]
     },
     "execution_count": 61,
     "metadata": {},
     "output_type": "execute_result"
    }
   ],
   "source": [
    "## o bien, \"sabe\" que B es una lista con un elemento\n",
    "\n",
    "len(B)"
   ]
  },
  {
   "cell_type": "markdown",
   "id": "e1a2ddcf",
   "metadata": {},
   "source": [
    "Esto es importante! Las asignaciones de variables siempre se hacen de **derecha a izquierda**: lo que aparece al lado derecho de **=** se asigna como valor al nombre (o variable) que aparece al lado izquierdo de **=**."
   ]
  },
  {
   "cell_type": "markdown",
   "id": "c7c35530",
   "metadata": {},
   "source": [
    "### 2. Estructuras básicas"
   ]
  },
  {
   "cell_type": "markdown",
   "id": "585a1281",
   "metadata": {},
   "source": [
    "**Python** permite manejar información a través de diversas estructuras predefinidas, que funcionan como las piezas de este juego."
   ]
  },
  {
   "cell_type": "markdown",
   "id": "871e24c6",
   "metadata": {},
   "source": [
    "- **números** pueden ser enteros o decimales, y las operaciones clásicas están definidas. "
   ]
  },
  {
   "cell_type": "code",
   "execution_count": 62,
   "id": "304b8a2a",
   "metadata": {},
   "outputs": [
    {
     "data": {
      "text/plain": [
       "(4, 4, 1.0, 6.0)"
      ]
     },
     "execution_count": 62,
     "metadata": {},
     "output_type": "execute_result"
    }
   ],
   "source": [
    "2*2, 2+2, 2/2, 2*(2/2+2)"
   ]
  },
  {
   "cell_type": "markdown",
   "id": "950e9a40",
   "metadata": {},
   "source": [
    "- **listas** estructuras ordenadas que permiten almacenar cualquier cosa. Podemos acceder a los elementos con un índice"
   ]
  },
  {
   "cell_type": "code",
   "execution_count": 63,
   "id": "3b785ba1",
   "metadata": {},
   "outputs": [],
   "source": [
    "A = ['rojo','verde','azul']"
   ]
  },
  {
   "cell_type": "code",
   "execution_count": 66,
   "id": "888a373f",
   "metadata": {},
   "outputs": [
    {
     "data": {
      "text/plain": [
       "('rojo', 'verde', 'azul')"
      ]
     },
     "execution_count": 66,
     "metadata": {},
     "output_type": "execute_result"
    }
   ],
   "source": [
    "A[0],A[1],A[2]"
   ]
  },
  {
   "cell_type": "markdown",
   "id": "8149a53c",
   "metadata": {},
   "source": [
    "el **índice** varía entre 0 y el largo de la lista menos 1!"
   ]
  },
  {
   "cell_type": "code",
   "execution_count": 67,
   "id": "a9f5f086",
   "metadata": {},
   "outputs": [
    {
     "data": {
      "text/plain": [
       "3"
      ]
     },
     "execution_count": 67,
     "metadata": {},
     "output_type": "execute_result"
    }
   ],
   "source": [
    "## largo de la lista\n",
    "\n",
    "len(A)"
   ]
  },
  {
   "cell_type": "markdown",
   "id": "a41bcf03",
   "metadata": {},
   "source": [
    "Podemos añadir elementos a una lista :)"
   ]
  },
  {
   "cell_type": "code",
   "execution_count": 73,
   "id": "a636f849",
   "metadata": {},
   "outputs": [],
   "source": [
    "A = A + ['amarillo']"
   ]
  },
  {
   "cell_type": "code",
   "execution_count": 74,
   "id": "ea523a7f",
   "metadata": {},
   "outputs": [
    {
     "data": {
      "text/plain": [
       "['rojo', 'verde', 'azul', 'amarillo', 'amarillo', 'amarillo']"
      ]
     },
     "execution_count": 74,
     "metadata": {},
     "output_type": "execute_result"
    }
   ],
   "source": [
    "A"
   ]
  },
  {
   "cell_type": "markdown",
   "id": "41e2442f",
   "metadata": {},
   "source": [
    "Aquí es muy importante recordar que alrededor del signo **+** deben aparecer estructuras del mismo tipo: si queremos agregar un elemento a una lista, lo envolvemos en **[]**. También, debemos notar que la asignación primero resuelve lo que está a la izquierda de **=**, y luego reasigna el nombre **A** a una lista diferente (en forma), pero del mismo nombre (**A**). "
   ]
  },
  {
   "cell_type": "markdown",
   "id": "aa2f412b",
   "metadata": {},
   "source": [
    "- **strings** secuencias de caracteres que permiten representar textos o palabras de una lengua. Se definen con comillas simples o dobles"
   ]
  },
  {
   "cell_type": "code",
   "execution_count": 95,
   "id": "ed2051db",
   "metadata": {},
   "outputs": [],
   "source": [
    "s = '  hola'\n",
    "r = \"chao\""
   ]
  },
  {
   "cell_type": "code",
   "execution_count": 96,
   "id": "ccdeb08d",
   "metadata": {},
   "outputs": [
    {
     "data": {
      "text/plain": [
       "('  hola', 'chao')"
      ]
     },
     "execution_count": 96,
     "metadata": {},
     "output_type": "execute_result"
    }
   ],
   "source": [
    "s, r"
   ]
  },
  {
   "cell_type": "markdown",
   "id": "b46422cb",
   "metadata": {},
   "source": [
    "Los strings (en algún sentido) son **listas!**"
   ]
  },
  {
   "cell_type": "code",
   "execution_count": 97,
   "id": "11f64dbb",
   "metadata": {},
   "outputs": [
    {
     "data": {
      "text/plain": [
       "(6, 4)"
      ]
     },
     "execution_count": 97,
     "metadata": {},
     "output_type": "execute_result"
    }
   ],
   "source": [
    "len(s),len(r)"
   ]
  },
  {
   "cell_type": "code",
   "execution_count": 98,
   "id": "a8b0274f",
   "metadata": {},
   "outputs": [
    {
     "data": {
      "text/plain": [
       "(' ', ' ', 'h', 'o', 'l', 'a')"
      ]
     },
     "execution_count": 98,
     "metadata": {},
     "output_type": "execute_result"
    }
   ],
   "source": [
    "## incluso tienen posiciones a las cuales podemos acceder usando índices\n",
    "\n",
    "s[0],s[1],s[2],s[3],s[4],s[5]"
   ]
  },
  {
   "cell_type": "markdown",
   "id": "4964ff79",
   "metadata": {},
   "source": [
    "Una función útil es split(), que transforma un string, en una lista de strings identificados según los espacios en blanco"
   ]
  },
  {
   "cell_type": "code",
   "execution_count": 100,
   "id": "fd807876",
   "metadata": {},
   "outputs": [],
   "source": [
    "s = 'hola chao'"
   ]
  },
  {
   "cell_type": "code",
   "execution_count": 102,
   "id": "e8c5ed1e",
   "metadata": {},
   "outputs": [
    {
     "data": {
      "text/plain": [
       "['hola', 'chao']"
      ]
     },
     "execution_count": 102,
     "metadata": {},
     "output_type": "execute_result"
    }
   ],
   "source": [
    "## s se transforma en una lista\n",
    "s.split()"
   ]
  },
  {
   "cell_type": "markdown",
   "id": "388200f2",
   "metadata": {},
   "source": [
    "### 3. Iteraciones"
   ]
  },
  {
   "cell_type": "markdown",
   "id": "078c7d3e",
   "metadata": {},
   "source": [
    "En **Python**, como en muchos lenguajes de programación, podemos **iterar**, es decir, realizar tareas una candidad muchas veces grande de veces."
   ]
  },
  {
   "cell_type": "markdown",
   "id": "fb2fd2f5",
   "metadata": {},
   "source": [
    "La herramienta fundamental para esto son los ciclos **for**. El asunto **fundamental!!!** de esto es los ciclos **for** son una forma de usar las **listas!!!**"
   ]
  },
  {
   "cell_type": "code",
   "execution_count": 107,
   "id": "3465ae9f",
   "metadata": {},
   "outputs": [],
   "source": [
    "## Consideremos dos listas!\n",
    "\n",
    "A = ['azul','verde','rojo','amarillo']\n",
    "B = []\n",
    "\n",
    "## y la tarea es copiar los elementos de A en B ¿Cómo lo hacemos?"
   ]
  },
  {
   "cell_type": "markdown",
   "id": "131c5927",
   "metadata": {},
   "source": [
    "Esencialmente, de **dos formas** equivalentes:\n",
    "\n",
    "o bien, recorremos los **índices** de los elementos de A\n",
    "\n",
    "o bien, recorremos los **elementos** de A"
   ]
  },
  {
   "cell_type": "code",
   "execution_count": 108,
   "id": "58133c3a",
   "metadata": {},
   "outputs": [
    {
     "name": "stdout",
     "output_type": "stream",
     "text": [
      "0 azul\n",
      "['azul']\n",
      "1 verde\n",
      "['azul', 'verde']\n",
      "2 rojo\n",
      "['azul', 'verde', 'rojo']\n",
      "3 amarillo\n",
      "['azul', 'verde', 'rojo', 'amarillo']\n"
     ]
    }
   ],
   "source": [
    "## forma 1: índices!\n",
    "\n",
    "## recorremos los índices que están en range(len(A)), que son número entre 0 y len(A)-1\n",
    "## n: largo de A\n",
    "n=len(A)\n",
    "for i in range(n):\n",
    "    ## en cada paso, agregamos el elemento A[i] a B, con paréntesis []\n",
    "    print(i,A[i])\n",
    "    B = B + [A[i]]\n",
    "    print(B)"
   ]
  },
  {
   "cell_type": "code",
   "execution_count": 109,
   "id": "470bfcc8",
   "metadata": {},
   "outputs": [
    {
     "data": {
      "text/plain": [
       "['azul', 'verde', 'rojo', 'amarillo']"
      ]
     },
     "execution_count": 109,
     "metadata": {},
     "output_type": "execute_result"
    }
   ],
   "source": [
    "B"
   ]
  },
  {
   "cell_type": "code",
   "execution_count": 111,
   "id": "f81b9faa",
   "metadata": {},
   "outputs": [],
   "source": [
    "B = []"
   ]
  },
  {
   "cell_type": "code",
   "execution_count": 112,
   "id": "9b4dd91d",
   "metadata": {},
   "outputs": [
    {
     "name": "stdout",
     "output_type": "stream",
     "text": [
      "['azul']\n",
      "['azul', 'verde']\n",
      "['azul', 'verde', 'rojo']\n",
      "['azul', 'verde', 'rojo', 'amarillo']\n"
     ]
    }
   ],
   "source": [
    "## forma 2: elementos!\n",
    "## recorremos los elementos de A\n",
    "for item in A:\n",
    "    ## en cada paso, agregamos el elemento item a B\n",
    "    B = B + [item]\n",
    "    print(B)"
   ]
  },
  {
   "cell_type": "code",
   "execution_count": 41,
   "id": "885eb0cf",
   "metadata": {},
   "outputs": [
    {
     "data": {
      "text/plain": [
       "['azul', 'verde', 'rojo', 'amarillo']"
      ]
     },
     "execution_count": 41,
     "metadata": {},
     "output_type": "execute_result"
    }
   ],
   "source": [
    "B"
   ]
  },
  {
   "cell_type": "markdown",
   "id": "51ccb2f4",
   "metadata": {},
   "source": [
    "### 4. Estructuras lógicas"
   ]
  },
  {
   "cell_type": "markdown",
   "id": "3240ce3a",
   "metadata": {},
   "source": [
    "En (casi) cualquier lenguaje de programación, hay maneras de expresar condiciones lógicas. Por ejemplo, ¿Qué pasa si solo queremos copiar los elementos de A, que no están contenidos en otra lista C? Usamos **if**"
   ]
  },
  {
   "cell_type": "code",
   "execution_count": 129,
   "id": "f0d23644",
   "metadata": {},
   "outputs": [],
   "source": [
    "A = ['el','gato','persigue','al','perro']\n",
    "C = ['el','al']\n",
    "B = []"
   ]
  },
  {
   "cell_type": "code",
   "execution_count": 132,
   "id": "a98a90d2",
   "metadata": {},
   "outputs": [],
   "source": [
    "## recorremos los elementos de A\n",
    "for item in A:\n",
    "    ## establecemos la condición de que item NO esté en C\n",
    "    if item not in C:\n",
    "        B = B + [item]"
   ]
  },
  {
   "cell_type": "code",
   "execution_count": 133,
   "id": "9a7a1b87",
   "metadata": {},
   "outputs": [
    {
     "data": {
      "text/plain": [
       "['gato', 'persigue', 'perro', 'gato', 'persigue', 'perro']"
      ]
     },
     "execution_count": 133,
     "metadata": {},
     "output_type": "execute_result"
    }
   ],
   "source": [
    "B"
   ]
  },
  {
   "cell_type": "markdown",
   "id": "ecc31ec3",
   "metadata": {},
   "source": [
    "La condición **if** puede ir unida a otra muy común: **else**. Cuando usamos **if-else** tenemos una secuencia en donde si se cumple la condición del **if** pasa algo, y el cualquier otro caso (**else**) hacemos otra cosa. "
   ]
  },
  {
   "cell_type": "code",
   "execution_count": 134,
   "id": "dcb453a4",
   "metadata": {},
   "outputs": [],
   "source": [
    "B = []"
   ]
  },
  {
   "cell_type": "markdown",
   "id": "35745a5d",
   "metadata": {},
   "source": [
    "ejemplo!"
   ]
  },
  {
   "cell_type": "code",
   "execution_count": 140,
   "id": "eb509bba",
   "metadata": {},
   "outputs": [],
   "source": [
    "## recorremos los elementos de A\n",
    "for item in A:\n",
    "    ## establecemos la condición de que item NO esté en C\n",
    "    if item not in C:\n",
    "        B = B + [item]\n",
    "    else: ## o sea si item SÍ está en C\n",
    "        B = B + ['stopword']"
   ]
  },
  {
   "cell_type": "code",
   "execution_count": 141,
   "id": "ef1c41df",
   "metadata": {},
   "outputs": [
    {
     "data": {
      "text/plain": [
       "['stopword',\n",
       " 'gato',\n",
       " 'persigue',\n",
       " 'stopword',\n",
       " 'perro',\n",
       " 'stopword',\n",
       " 'gato',\n",
       " 'persigue',\n",
       " 'stopword',\n",
       " 'perro',\n",
       " 'stopword',\n",
       " 'gato',\n",
       " 'persigue',\n",
       " 'stopword',\n",
       " 'perro']"
      ]
     },
     "execution_count": 141,
     "metadata": {},
     "output_type": "execute_result"
    }
   ],
   "source": [
    "B"
   ]
  },
  {
   "cell_type": "code",
   "execution_count": 137,
   "id": "cd53354b",
   "metadata": {},
   "outputs": [
    {
     "data": {
      "text/plain": [
       "['el', 'gato', 'persigue', 'al', 'perro']"
      ]
     },
     "execution_count": 137,
     "metadata": {},
     "output_type": "execute_result"
    }
   ],
   "source": [
    "A"
   ]
  },
  {
   "cell_type": "code",
   "execution_count": 139,
   "id": "2dfa346e",
   "metadata": {},
   "outputs": [
    {
     "data": {
      "text/plain": [
       "['el', 'gato', 'persigue', 'al', 'perro']"
      ]
     },
     "execution_count": 139,
     "metadata": {},
     "output_type": "execute_result"
    }
   ],
   "source": [
    "A"
   ]
  },
  {
   "cell_type": "code",
   "execution_count": null,
   "id": "868736a0",
   "metadata": {},
   "outputs": [],
   "source": []
  }
 ],
 "metadata": {
  "kernelspec": {
   "display_name": "Python 3",
   "language": "python",
   "name": "python3"
  },
  "language_info": {
   "codemirror_mode": {
    "name": "ipython",
    "version": 3
   },
   "file_extension": ".py",
   "mimetype": "text/x-python",
   "name": "python",
   "nbconvert_exporter": "python",
   "pygments_lexer": "ipython3",
   "version": "3.8.8"
  }
 },
 "nbformat": 4,
 "nbformat_minor": 5
}
