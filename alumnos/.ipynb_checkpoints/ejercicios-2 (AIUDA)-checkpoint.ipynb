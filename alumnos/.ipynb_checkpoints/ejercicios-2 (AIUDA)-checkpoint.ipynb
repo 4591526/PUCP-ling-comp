{
 "cells": [
  {
   "cell_type": "markdown",
   "id": "1e8ee772",
   "metadata": {},
   "source": [
    "## Ejercicios"
   ]
  },
  {
   "cell_type": "markdown",
   "id": "298eecc9",
   "metadata": {},
   "source": [
    "### 1. Listas"
   ]
  },
  {
   "cell_type": "markdown",
   "id": "a65ce1cb",
   "metadata": {},
   "source": [
    "(problema basado en una consulta!) Considere tres listas A, B y C:"
   ]
  },
  {
   "cell_type": "code",
   "execution_count": 1,
   "id": "bde7515e",
   "metadata": {},
   "outputs": [],
   "source": [
    "A = ['verde','rojo', 'azul']\n",
    "B = ['gato','perro','serpiente']\n",
    "C = ['mesa','silla','sillón']"
   ]
  },
  {
   "cell_type": "markdown",
   "id": "c8164f5c",
   "metadata": {},
   "source": [
    "Defina una nueva lista, D, que contenga la concatenación de los elementos respectivos de A, B y C. Por ejemplo,\n",
    "\n",
    "```python:\n",
    "D = ['verde gato mesa', 'rojo perro silla', 'azul serpiente sillón']\n",
    "```\n",
    "Note que incluimos un espacio entre los strings!"
   ]
  },
  {
   "cell_type": "code",
   "execution_count": 2,
   "id": "59f21f21",
   "metadata": {},
   "outputs": [],
   "source": [
    "D = []"
   ]
  },
  {
   "cell_type": "code",
   "execution_count": 3,
   "id": "843050b3",
   "metadata": {},
   "outputs": [],
   "source": [
    "concatenacion = []"
   ]
  },
  {
   "cell_type": "code",
   "execution_count": 4,
   "id": "a51aff0f",
   "metadata": {},
   "outputs": [],
   "source": [
    "indice_A = list(range(len(A)))"
   ]
  },
  {
   "cell_type": "code",
   "execution_count": 5,
   "id": "7c6bb069",
   "metadata": {},
   "outputs": [
    {
     "name": "stdout",
     "output_type": "stream",
     "text": [
      "['verde gato mesa', 'rojo perro silla', 'azul serpiente sillón']\n"
     ]
    }
   ],
   "source": [
    "for i in indice_A:\n",
    "    concatenacion = A[i] + ' ' + B[i] + ' ' + C[i]\n",
    "    D += [concatenacion]\n",
    "print(D)"
   ]
  },
  {
   "cell_type": "markdown",
   "id": "e6efc204",
   "metadata": {},
   "source": [
    "Pensemos en otra variante. Con las mismas tres listas, defina:\n",
    "    \n",
    "```python:\n",
    "E = ['verde rojo azul', 'gato perro serpiente', 'mesa silla sillón']\n",
    "```"
   ]
  },
  {
   "cell_type": "code",
   "execution_count": 6,
   "id": "57730db9",
   "metadata": {},
   "outputs": [],
   "source": [
    "E = []"
   ]
  },
  {
   "cell_type": "code",
   "execution_count": 7,
   "id": "5f79bc41",
   "metadata": {},
   "outputs": [],
   "source": [
    "X = [A,B,C]"
   ]
  },
  {
   "cell_type": "code",
   "execution_count": 8,
   "id": "51f2ad63",
   "metadata": {},
   "outputs": [],
   "source": [
    "## la lógica detras de esto era usar una lista que contuviera las otras listas para poder aplicar la sumatoria de forma\n",
    "## automatica a todas ellas\n",
    "\n",
    "##  for lista in ABC \n",
    "##  sum_X = lista[0] + \" \" + lista[1] + \" \" + lista[2]\n",
    "##  sum_X = \".....\"\n",
    "##  E += [sum_A, sum_B, sum_C]\n",
    "\n",
    "for lista in X:\n",
    "    sum_x = lista[0] + \" \" + lista[1] + \" \" + lista[2]\n",
    "    E += [sum_x]"
   ]
  },
  {
   "cell_type": "code",
   "execution_count": 9,
   "id": "cc11cd96",
   "metadata": {},
   "outputs": [
    {
     "data": {
      "text/plain": [
       "['verde rojo azul', 'gato perro serpiente', 'mesa silla sillón']"
      ]
     },
     "execution_count": 9,
     "metadata": {},
     "output_type": "execute_result"
    }
   ],
   "source": [
    "E"
   ]
  },
  {
   "cell_type": "code",
   "execution_count": 10,
   "id": "c3271f53",
   "metadata": {},
   "outputs": [],
   "source": [
    "## esta sería la forma larga y manual :'vvv\n",
    "\n",
    "sum_A = A[0] + \" \" + A[1] + \" \" + A[2]"
   ]
  },
  {
   "cell_type": "code",
   "execution_count": 11,
   "id": "d3a5c0df",
   "metadata": {},
   "outputs": [
    {
     "data": {
      "text/plain": [
       "'verde rojo azul'"
      ]
     },
     "execution_count": 11,
     "metadata": {},
     "output_type": "execute_result"
    }
   ],
   "source": [
    "sum_A"
   ]
  },
  {
   "cell_type": "code",
   "execution_count": 12,
   "id": "d74bcca9",
   "metadata": {},
   "outputs": [],
   "source": [
    "sum_B = B[0] + \" \" + B[1] + \" \" + B[2]"
   ]
  },
  {
   "cell_type": "code",
   "execution_count": 13,
   "id": "621b1750",
   "metadata": {},
   "outputs": [
    {
     "data": {
      "text/plain": [
       "'gato perro serpiente'"
      ]
     },
     "execution_count": 13,
     "metadata": {},
     "output_type": "execute_result"
    }
   ],
   "source": [
    "sum_B"
   ]
  },
  {
   "cell_type": "code",
   "execution_count": 14,
   "id": "aaa49b89",
   "metadata": {},
   "outputs": [],
   "source": [
    "sum_C = C[0] + \" \" + C[1] + \" \" + C[2]"
   ]
  },
  {
   "cell_type": "code",
   "execution_count": 15,
   "id": "e39f3960",
   "metadata": {},
   "outputs": [
    {
     "data": {
      "text/plain": [
       "'mesa silla sillón'"
      ]
     },
     "execution_count": 15,
     "metadata": {},
     "output_type": "execute_result"
    }
   ],
   "source": [
    "sum_C"
   ]
  },
  {
   "cell_type": "code",
   "execution_count": 16,
   "id": "120b3e0b",
   "metadata": {},
   "outputs": [],
   "source": [
    "E = [sum_A, sum_B, sum_C]"
   ]
  },
  {
   "cell_type": "code",
   "execution_count": 17,
   "id": "c001b37e",
   "metadata": {},
   "outputs": [
    {
     "data": {
      "text/plain": [
       "['verde rojo azul', 'gato perro serpiente', 'mesa silla sillón']"
      ]
     },
     "execution_count": 17,
     "metadata": {},
     "output_type": "execute_result"
    }
   ],
   "source": [
    "E"
   ]
  },
  {
   "cell_type": "markdown",
   "id": "411e36f3",
   "metadata": {},
   "source": [
    "Resuma las tres listas en un string, es decir, defina\n",
    "\n",
    "```python:\n",
    "string = 'verde rojo azul gato perro serpiente mesa silla sillón'\n",
    "```"
   ]
  },
  {
   "cell_type": "code",
   "execution_count": 18,
   "id": "6befc9cd",
   "metadata": {},
   "outputs": [],
   "source": [
    "## la forma manual para conseguir unir todo en un solo string creemos que esta:\n",
    "\n",
    "string = sum_A + \" \" + sum_B + \" \" + sum_C"
   ]
  },
  {
   "cell_type": "code",
   "execution_count": 19,
   "id": "7630d849",
   "metadata": {},
   "outputs": [
    {
     "data": {
      "text/plain": [
       "'verde rojo azul gato perro serpiente mesa silla sillón'"
      ]
     },
     "execution_count": 19,
     "metadata": {},
     "output_type": "execute_result"
    }
   ],
   "source": [
    "## y cuando lo corrimos para comprobar, sí salio wiiii\n",
    "string"
   ]
  },
  {
   "cell_type": "code",
   "execution_count": 39,
   "id": "253dfe66",
   "metadata": {},
   "outputs": [],
   "source": [
    "## pero al intentar automatizarlo, fallamos estrepitosamente :ccc\n",
    "string_1 = ''\n",
    "\n",
    "####################################\n",
    "#### aquí estaba todo el error!!! ## string_1 era originalmente una lista, pero mejor es que sea un string de largo cero ''\n",
    "####################################"
   ]
  },
  {
   "cell_type": "code",
   "execution_count": 40,
   "id": "b88d1cf3",
   "metadata": {},
   "outputs": [],
   "source": [
    "for lista in X:\n",
    "    ## según el ejercicio anterior, esta era la forma de sumar todo, pero no sabíamos como guardarlo en un solo string y no en \n",
    "    ## una lista con varios strings\n",
    "    sum_x = lista[0] + \" \" + lista[1] + \" \" + lista[2]\n",
    "    ## lo más cerca que llegamos fue este intento de convertir en un string la lista sum_x y asignarle otro nombre, pero...\n",
    "    string_1 += str(sum_x) + \" \"\n",
    "## borramos el espacio en blanco final!\n",
    "string_1 = string_1.strip()"
   ]
  },
  {
   "cell_type": "code",
   "execution_count": 43,
   "id": "adf68d1a",
   "metadata": {},
   "outputs": [],
   "source": [
    "## otra forma!\n",
    "## con los índices!\n",
    "string_1 = ''\n",
    "\n",
    "for index in range(len(X)):\n",
    "    ## los índices son 0, 1, 2\n",
    "    ## lista es la lista en la posición index\n",
    "    lista = X[index]\n",
    "    sum_x = lista[0] + \" \" + lista[1] + \" \" + lista[2]\n",
    "    string_1 += str(sum_x) \n",
    "    ## agregamos espacio en blanco solo si index in [0,1]\n",
    "    if index in [0,1]:\n",
    "        string_1 += \" \""
   ]
  },
  {
   "cell_type": "code",
   "execution_count": 44,
   "id": "f84e5cec",
   "metadata": {},
   "outputs": [
    {
     "data": {
      "text/plain": [
       "'mesa silla sillón'"
      ]
     },
     "execution_count": 44,
     "metadata": {},
     "output_type": "execute_result"
    }
   ],
   "source": [
    "sum_x"
   ]
  },
  {
   "cell_type": "code",
   "execution_count": 45,
   "id": "8e0cd28b",
   "metadata": {},
   "outputs": [
    {
     "data": {
      "text/plain": [
       "'verde rojo azul gato perro serpiente mesa silla sillón'"
      ]
     },
     "execution_count": 45,
     "metadata": {},
     "output_type": "execute_result"
    }
   ],
   "source": [
    "## salió este monstruo xd :c\n",
    "string_1"
   ]
  },
  {
   "cell_type": "markdown",
   "id": "1df4a24c",
   "metadata": {},
   "source": [
    "Transforme este string en una lista dividiendo en tokens por espacios en blanco. "
   ]
  },
  {
   "cell_type": "markdown",
   "id": "012244e6",
   "metadata": {},
   "source": [
    "### 2. Ciclos for!"
   ]
  },
  {
   "cell_type": "markdown",
   "id": "ff7f70ce",
   "metadata": {},
   "source": [
    "Considere el siguiente string:"
   ]
  },
  {
   "cell_type": "code",
   "execution_count": 12,
   "id": "0fd047b3",
   "metadata": {},
   "outputs": [],
   "source": [
    "string = 'Sus logros incluyen los primeros estudios sobre el fenómeno de la radiactividad (término que ella misma acuñó), técnicas para el aislamiento de isótopos radiactivos y el descubrimiento de dos elementos'"
   ]
  },
  {
   "cell_type": "markdown",
   "id": "82e9ab8b",
   "metadata": {},
   "source": [
    "Construya una lista, A, que contenga los tokens (como secuencias entre espacios en blanco) en minúscula."
   ]
  },
  {
   "cell_type": "markdown",
   "id": "e1e587fe",
   "metadata": {},
   "source": [
    "Construya otra lista, B, que contenga el largo de cada string de A. Sume todos los elementos de la lista B. "
   ]
  },
  {
   "cell_type": "markdown",
   "id": "113f9316",
   "metadata": {},
   "source": [
    "Construya otra lista, C, que contenga los elementos de A, pero sin repetición (es decir, los types). "
   ]
  },
  {
   "cell_type": "markdown",
   "id": "ec8fc124",
   "metadata": {},
   "source": [
    "Construya otra lista, D, que contenga cuántas veces aparecen los types de C en A. "
   ]
  },
  {
   "cell_type": "code",
   "execution_count": null,
   "id": "5017fc91",
   "metadata": {},
   "outputs": [],
   "source": []
  }
 ],
 "metadata": {
  "kernelspec": {
   "display_name": "Python 3",
   "language": "python",
   "name": "python3"
  },
  "language_info": {
   "codemirror_mode": {
    "name": "ipython",
    "version": 3
   },
   "file_extension": ".py",
   "mimetype": "text/x-python",
   "name": "python",
   "nbconvert_exporter": "python",
   "pygments_lexer": "ipython3",
   "version": "3.8.8"
  }
 },
 "nbformat": 4,
 "nbformat_minor": 5
}
