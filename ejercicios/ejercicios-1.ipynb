{
 "cells": [
  {
   "cell_type": "markdown",
   "id": "1b2eb120",
   "metadata": {
    "id": "1b2eb120"
   },
   "source": [
    "## Ejercicios"
   ]
  },
  {
   "cell_type": "markdown",
   "id": "8e162dc3",
   "metadata": {
    "id": "8e162dc3"
   },
   "source": [
    "### 1. Uso de listas"
   ]
  },
  {
   "cell_type": "code",
   "execution_count": 108,
   "id": "2d06790f",
   "metadata": {
    "executionInfo": {
     "elapsed": 309,
     "status": "ok",
     "timestamp": 1629827204763,
     "user": {
      "displayName": "Javier Maximiliano Vera Zuñiga",
      "photoUrl": "",
      "userId": "16439660197950043005"
     },
     "user_tz": 240
    },
    "id": "2d06790f"
   },
   "outputs": [],
   "source": [
    "## considere el siguiente string\n",
    "## (recuerden que los strings están entre '' o entre \"\". A veces, es cómodo usar \"\" cuando el string lleva ')\n",
    "## https://es.wikipedia.org/wiki/Lenguas_quechuas\n",
    "\n",
    "string = \"Las lenguas quechuas tienen una morfología aglutinante, con raíces regulares y repertorios amplios de sufijos productivos, que permiten formar palabras nuevas de forma regular. Entre sus rasgos gramaticales, se distinguen la fuente de la información o evidencialidad, varios casos nominales, un nosotros inclusivo y otro excluyente, el beneficio o la actitud del hablante al respecto de una acción, y opcionalmente el tópico. Los verbos transitivos concuerdan con el sujeto y el objeto. Expresan predicaciones nominales yuxtaponiendo el sujeto y el atributo. A diferencia del español, el quechua funciona sin artículos o conjunciones[cita requerida] y sin distinguir géneros gramaticales.\""
   ]
  },
  {
   "cell_type": "code",
   "execution_count": 109,
   "id": "fc79ba39",
   "metadata": {},
   "outputs": [
    {
     "data": {
      "text/plain": [
       "688"
      ]
     },
     "execution_count": 109,
     "metadata": {},
     "output_type": "execute_result"
    }
   ],
   "source": [
    "len(string)"
   ]
  },
  {
   "cell_type": "code",
   "execution_count": 110,
   "id": "NyNu4ce8RZ7o",
   "metadata": {
    "colab": {
     "base_uri": "https://localhost:8080/",
     "height": 90
    },
    "executionInfo": {
     "elapsed": 337,
     "status": "ok",
     "timestamp": 1629827241989,
     "user": {
      "displayName": "Javier Maximiliano Vera Zuñiga",
      "photoUrl": "",
      "userId": "16439660197950043005"
     },
     "user_tz": 240
    },
    "id": "NyNu4ce8RZ7o",
    "outputId": "e08508ad-94db-4929-ea5c-a37213baf5bf"
   },
   "outputs": [
    {
     "data": {
      "text/plain": [
       "'Las lenguas quechuas tienen una morfología aglutinante, con raíces regulares y repertorios amplios de sufijos productivos, que permiten formar palabras nuevas de forma regular. Entre sus rasgos gramaticales, se distinguen la fuente de la información o evidencialidad, varios casos nominales, un nosotros inclusivo y otro excluyente, el beneficio o la actitud del hablante al respecto de una acción, y opcionalmente el tópico. Los verbos transitivos concuerdan con el sujeto y el objeto. Expresan predicaciones nominales yuxtaponiendo el sujeto y el atributo. A diferencia del español, el quechua funciona sin artículos o conjunciones[cita requerida] y sin distinguir géneros gramaticales.'"
      ]
     },
     "execution_count": 110,
     "metadata": {},
     "output_type": "execute_result"
    }
   ],
   "source": [
    "string"
   ]
  },
  {
   "cell_type": "code",
   "execution_count": 111,
   "id": "220ba640",
   "metadata": {
    "id": "220ba640"
   },
   "outputs": [],
   "source": [
    "## el primer desafío es dividir este string en palabras ¿Cómo hacemos eso? :)\n",
    "## manera 1: pruebe qué ocurre con el siguiente código\n",
    "\n",
    "lista_strings = string.split()"
   ]
  },
  {
   "cell_type": "code",
   "execution_count": 112,
   "id": "a1ff537f",
   "metadata": {
    "id": "a1ff537f",
    "outputId": "41f78980-4ffa-43a1-d718-d99b14774ae7"
   },
   "outputs": [
    {
     "data": {
      "text/plain": [
       "['Las', 'lenguas', 'quechuas', 'tienen', 'una']"
      ]
     },
     "execution_count": 112,
     "metadata": {},
     "output_type": "execute_result"
    }
   ],
   "source": [
    "lista_strings[:5]"
   ]
  },
  {
   "cell_type": "code",
   "execution_count": 113,
   "id": "0ff6f149",
   "metadata": {
    "id": "0ff6f149"
   },
   "outputs": [],
   "source": [
    "## responda: ¿Qué hace .split() al final de un string?"
   ]
  },
  {
   "cell_type": "code",
   "execution_count": 114,
   "id": "8e696d6d",
   "metadata": {
    "id": "8e696d6d"
   },
   "outputs": [],
   "source": [
    "## determine ahora el número de palabras del texto\n",
    "## por el momento, la variable numero_palabras vale 0. Usted debe reasignarla al valor correspondiente\n",
    "numero_palabras = 0"
   ]
  },
  {
   "cell_type": "code",
   "execution_count": 115,
   "id": "cb190521",
   "metadata": {},
   "outputs": [],
   "source": [
    "## código aquí! no use \"len\""
   ]
  },
  {
   "cell_type": "code",
   "execution_count": 116,
   "id": "8a94d2a2",
   "metadata": {},
   "outputs": [],
   "source": [
    "## ahora, use \"len\""
   ]
  },
  {
   "cell_type": "code",
   "execution_count": 117,
   "id": "04bb2650",
   "metadata": {},
   "outputs": [
    {
     "data": {
      "text/plain": [
       "0"
      ]
     },
     "execution_count": 117,
     "metadata": {},
     "output_type": "execute_result"
    }
   ],
   "source": [
    "numero_palabras"
   ]
  },
  {
   "cell_type": "code",
   "execution_count": 37,
   "id": "969bc1af",
   "metadata": {
    "id": "969bc1af"
   },
   "outputs": [],
   "source": [
    "## su tarea es copiar cada palabra de lista_strings en texto_copia. Use un ciclo for :)"
   ]
  },
  {
   "cell_type": "code",
   "execution_count": 83,
   "id": "b1cf8797",
   "metadata": {
    "id": "b1cf8797"
   },
   "outputs": [],
   "source": [
    "## cuente el número de elementos de texto_copia: ¿Coincide con el largo de lista_strings?"
   ]
  },
  {
   "cell_type": "code",
   "execution_count": 84,
   "id": "73e9af4d",
   "metadata": {
    "id": "73e9af4d",
    "outputId": "64a6b958-5884-4802-a9b1-ea9bce080a6b"
   },
   "outputs": [
    {
     "data": {
      "text/plain": [
       "98"
      ]
     },
     "execution_count": 84,
     "metadata": {},
     "output_type": "execute_result"
    }
   ],
   "source": [
    "len(lista_strings)"
   ]
  },
  {
   "cell_type": "code",
   "execution_count": 119,
   "id": "ba57cf90",
   "metadata": {},
   "outputs": [],
   "source": [
    "## comprobar que las dos listas no solo tienen el mismo # de elementos, sino que son los mismos elementos!\n",
    "## indicación: use if"
   ]
  },
  {
   "cell_type": "markdown",
   "id": "0a96fd34",
   "metadata": {
    "id": "0a96fd34"
   },
   "source": [
    "### 2. Palabras en minúscula"
   ]
  },
  {
   "cell_type": "code",
   "execution_count": 120,
   "id": "6b4db192",
   "metadata": {
    "id": "6b4db192"
   },
   "outputs": [],
   "source": [
    "## ¿Qué ocurre con el siguiente código?\n",
    "\n",
    "palabra = 'Las'\n",
    "\n",
    "palabra_min = palabra.lower()"
   ]
  },
  {
   "cell_type": "code",
   "execution_count": 121,
   "id": "e2503739",
   "metadata": {
    "id": "e2503739",
    "outputId": "684ce5ea-c2f3-431f-8976-017d4c670a80"
   },
   "outputs": [
    {
     "data": {
      "text/plain": [
       "'las'"
      ]
     },
     "execution_count": 121,
     "metadata": {},
     "output_type": "execute_result"
    }
   ],
   "source": [
    "palabra_min"
   ]
  },
  {
   "cell_type": "code",
   "execution_count": 106,
   "id": "4e6e0e31",
   "metadata": {},
   "outputs": [],
   "source": [
    "## la tarea es: defina una nueva lista, que llamaremos lista_strings_min \n",
    "## que contenga las palabras en minúscula de lista_strings. Use un ciclo for\n",
    "\n",
    "## código aquí :)"
   ]
  },
  {
   "cell_type": "code",
   "execution_count": 122,
   "id": "fd2405af",
   "metadata": {},
   "outputs": [],
   "source": [
    "## contar el número de palabras que tienen un largo N"
   ]
  },
  {
   "cell_type": "code",
   "execution_count": 123,
   "id": "81e78e75",
   "metadata": {},
   "outputs": [
    {
     "data": {
      "text/plain": [
       "3"
      ]
     },
     "execution_count": 123,
     "metadata": {},
     "output_type": "execute_result"
    }
   ],
   "source": [
    "N = 3\n",
    "\n",
    "len('los')"
   ]
  },
  {
   "cell_type": "code",
   "execution_count": null,
   "id": "e9c8bfdc",
   "metadata": {},
   "outputs": [],
   "source": []
  }
 ],
 "metadata": {
  "colab": {
   "name": "ejercicios-1.ipynb",
   "provenance": []
  },
  "kernelspec": {
   "display_name": "Python 3",
   "language": "python",
   "name": "python3"
  },
  "language_info": {
   "codemirror_mode": {
    "name": "ipython",
    "version": 3
   },
   "file_extension": ".py",
   "mimetype": "text/x-python",
   "name": "python",
   "nbconvert_exporter": "python",
   "pygments_lexer": "ipython3",
   "version": "3.8.8"
  }
 },
 "nbformat": 4,
 "nbformat_minor": 5
}
