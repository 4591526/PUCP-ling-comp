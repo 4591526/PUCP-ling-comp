{
 "cells": [
  {
   "cell_type": "code",
   "execution_count": 9,
   "id": "39e9a03a",
   "metadata": {},
   "outputs": [],
   "source": [
    "import pandas as pd\n",
    "\n",
    "datos = pd.read_csv('que', sep='\\t', header=None)\n",
    "datos.columns = ['formas','inflexiones','códigos']"
   ]
  },
  {
   "cell_type": "code",
   "execution_count": 10,
   "id": "5b5be3be",
   "metadata": {},
   "outputs": [],
   "source": [
    "datos = datos[datos['códigos'].str.startswith('V')]"
   ]
  },
  {
   "cell_type": "code",
   "execution_count": 11,
   "id": "c081c27e",
   "metadata": {},
   "outputs": [
    {
     "data": {
      "text/html": [
       "<div>\n",
       "<style scoped>\n",
       "    .dataframe tbody tr th:only-of-type {\n",
       "        vertical-align: middle;\n",
       "    }\n",
       "\n",
       "    .dataframe tbody tr th {\n",
       "        vertical-align: top;\n",
       "    }\n",
       "\n",
       "    .dataframe thead th {\n",
       "        text-align: right;\n",
       "    }\n",
       "</style>\n",
       "<table border=\"1\" class=\"dataframe\">\n",
       "  <thead>\n",
       "    <tr style=\"text-align: right;\">\n",
       "      <th></th>\n",
       "      <th>formas</th>\n",
       "      <th>inflexiones</th>\n",
       "      <th>códigos</th>\n",
       "    </tr>\n",
       "  </thead>\n",
       "  <tbody>\n",
       "    <tr>\n",
       "      <th>256</th>\n",
       "      <td>achalachiy</td>\n",
       "      <td>achalachichunku</td>\n",
       "      <td>V;IMP;POS;3;PL</td>\n",
       "    </tr>\n",
       "    <tr>\n",
       "      <th>257</th>\n",
       "      <td>achalachiy</td>\n",
       "      <td>achalachichun</td>\n",
       "      <td>V;IMP;POS;3;SG</td>\n",
       "    </tr>\n",
       "    <tr>\n",
       "      <th>258</th>\n",
       "      <td>achalachiy</td>\n",
       "      <td>achalachina</td>\n",
       "      <td>V.PTCP;FUT</td>\n",
       "    </tr>\n",
       "    <tr>\n",
       "      <th>259</th>\n",
       "      <td>achalachiy</td>\n",
       "      <td>achalachinchik</td>\n",
       "      <td>V;PRS;1+INCL;PL</td>\n",
       "    </tr>\n",
       "    <tr>\n",
       "      <th>260</th>\n",
       "      <td>achalachiy</td>\n",
       "      <td>achalachini</td>\n",
       "      <td>V;PRS;1;SG</td>\n",
       "    </tr>\n",
       "    <tr>\n",
       "      <th>...</th>\n",
       "      <td>...</td>\n",
       "      <td>...</td>\n",
       "      <td>...</td>\n",
       "    </tr>\n",
       "    <tr>\n",
       "      <th>179743</th>\n",
       "      <td>yuyay</td>\n",
       "      <td>yuyasunchik</td>\n",
       "      <td>V;FUT;1+INCL;PL</td>\n",
       "    </tr>\n",
       "    <tr>\n",
       "      <th>179744</th>\n",
       "      <td>yuyay</td>\n",
       "      <td>yuyaychik</td>\n",
       "      <td>V;IMP;POS;2;PL</td>\n",
       "    </tr>\n",
       "    <tr>\n",
       "      <th>179763</th>\n",
       "      <td>yuyay</td>\n",
       "      <td>yuyayku</td>\n",
       "      <td>V;PRS;1+EXCL;PL</td>\n",
       "    </tr>\n",
       "    <tr>\n",
       "      <th>180001</th>\n",
       "      <td>yuyay</td>\n",
       "      <td>yuyay</td>\n",
       "      <td>V;IMP;POS;2;SG</td>\n",
       "    </tr>\n",
       "    <tr>\n",
       "      <th>180002</th>\n",
       "      <td>yuyay</td>\n",
       "      <td>yuyay</td>\n",
       "      <td>V;NFIN</td>\n",
       "    </tr>\n",
       "  </tbody>\n",
       "</table>\n",
       "<p>26404 rows × 3 columns</p>\n",
       "</div>"
      ],
      "text/plain": [
       "            formas      inflexiones          códigos\n",
       "256     achalachiy  achalachichunku   V;IMP;POS;3;PL\n",
       "257     achalachiy    achalachichun   V;IMP;POS;3;SG\n",
       "258     achalachiy      achalachina       V.PTCP;FUT\n",
       "259     achalachiy   achalachinchik  V;PRS;1+INCL;PL\n",
       "260     achalachiy      achalachini       V;PRS;1;SG\n",
       "...            ...              ...              ...\n",
       "179743       yuyay      yuyasunchik  V;FUT;1+INCL;PL\n",
       "179744       yuyay        yuyaychik   V;IMP;POS;2;PL\n",
       "179763       yuyay          yuyayku  V;PRS;1+EXCL;PL\n",
       "180001       yuyay            yuyay   V;IMP;POS;2;SG\n",
       "180002       yuyay            yuyay           V;NFIN\n",
       "\n",
       "[26404 rows x 3 columns]"
      ]
     },
     "execution_count": 11,
     "metadata": {},
     "output_type": "execute_result"
    }
   ],
   "source": [
    "datos"
   ]
  },
  {
   "cell_type": "code",
   "execution_count": 12,
   "id": "91b46445",
   "metadata": {},
   "outputs": [
    {
     "data": {
      "text/plain": [
       "256       achalachiy\n",
       "257       achalachiy\n",
       "258       achalachiy\n",
       "259       achalachiy\n",
       "260       achalachiy\n",
       "             ...    \n",
       "179743         yuyay\n",
       "179744         yuyay\n",
       "179763         yuyay\n",
       "180001         yuyay\n",
       "180002         yuyay\n",
       "Name: formas, Length: 26404, dtype: object"
      ]
     },
     "execution_count": 12,
     "metadata": {},
     "output_type": "execute_result"
    }
   ],
   "source": [
    "datos['formas']"
   ]
  },
  {
   "cell_type": "code",
   "execution_count": 13,
   "id": "fdfba8ff",
   "metadata": {},
   "outputs": [],
   "source": [
    "formas = list(datos['formas'])"
   ]
  },
  {
   "cell_type": "code",
   "execution_count": 14,
   "id": "be83d8ad",
   "metadata": {},
   "outputs": [
    {
     "data": {
      "text/plain": [
       "['achalachiy',\n",
       " 'achalachiy',\n",
       " 'achalachiy',\n",
       " 'achalachiy',\n",
       " 'achalachiy',\n",
       " 'achalachiy',\n",
       " 'achalachiy']"
      ]
     },
     "execution_count": 14,
     "metadata": {},
     "output_type": "execute_result"
    }
   ],
   "source": [
    "formas[:7]"
   ]
  },
  {
   "cell_type": "code",
   "execution_count": 15,
   "id": "e965d64e",
   "metadata": {},
   "outputs": [
    {
     "data": {
      "text/plain": [
       "256       achalachichunku\n",
       "257         achalachichun\n",
       "258           achalachina\n",
       "259        achalachinchik\n",
       "260           achalachini\n",
       "               ...       \n",
       "179743        yuyasunchik\n",
       "179744          yuyaychik\n",
       "179763            yuyayku\n",
       "180001              yuyay\n",
       "180002              yuyay\n",
       "Name: inflexiones, Length: 26404, dtype: object"
      ]
     },
     "execution_count": 15,
     "metadata": {},
     "output_type": "execute_result"
    }
   ],
   "source": [
    "datos['inflexiones']"
   ]
  },
  {
   "cell_type": "code",
   "execution_count": 16,
   "id": "e7e843c6",
   "metadata": {},
   "outputs": [],
   "source": [
    "inflexiones = list(datos['inflexiones'])"
   ]
  },
  {
   "cell_type": "code",
   "execution_count": 17,
   "id": "926ab616",
   "metadata": {},
   "outputs": [
    {
     "data": {
      "text/plain": [
       "['achalachichunku',\n",
       " 'achalachichun',\n",
       " 'achalachina',\n",
       " 'achalachinchik',\n",
       " 'achalachini']"
      ]
     },
     "execution_count": 17,
     "metadata": {},
     "output_type": "execute_result"
    }
   ],
   "source": [
    "inflexiones[:5]"
   ]
  },
  {
   "cell_type": "code",
   "execution_count": 18,
   "id": "80c910c7",
   "metadata": {},
   "outputs": [
    {
     "data": {
      "text/plain": [
       "256        V;IMP;POS;3;PL\n",
       "257        V;IMP;POS;3;SG\n",
       "258            V.PTCP;FUT\n",
       "259       V;PRS;1+INCL;PL\n",
       "260            V;PRS;1;SG\n",
       "               ...       \n",
       "179743    V;FUT;1+INCL;PL\n",
       "179744     V;IMP;POS;2;PL\n",
       "179763    V;PRS;1+EXCL;PL\n",
       "180001     V;IMP;POS;2;SG\n",
       "180002             V;NFIN\n",
       "Name: códigos, Length: 26404, dtype: object"
      ]
     },
     "execution_count": 18,
     "metadata": {},
     "output_type": "execute_result"
    }
   ],
   "source": [
    "datos['códigos']"
   ]
  },
  {
   "cell_type": "code",
   "execution_count": 19,
   "id": "0a4acd80",
   "metadata": {},
   "outputs": [],
   "source": [
    "códigos = list(datos['códigos'])"
   ]
  },
  {
   "cell_type": "code",
   "execution_count": 20,
   "id": "fd2c4db7",
   "metadata": {},
   "outputs": [
    {
     "data": {
      "text/plain": [
       "['V;IMP;POS;3;PL',\n",
       " 'V;IMP;POS;3;SG',\n",
       " 'V.PTCP;FUT',\n",
       " 'V;PRS;1+INCL;PL',\n",
       " 'V;PRS;1;SG']"
      ]
     },
     "execution_count": 20,
     "metadata": {},
     "output_type": "execute_result"
    }
   ],
   "source": [
    "códigos[:5]"
   ]
  },
  {
   "cell_type": "markdown",
   "id": "1fd75494",
   "metadata": {},
   "source": [
    "Algunas preguntas simples:\n",
    "\n",
    "Defina la lista formas_unicas, que contiene todas las formas sin repeticiones. Identifique el número de formas verbales distintas.\n",
    "Identifique el número de inflexiones distintas.\n",
    "En promedio, ¿Cúantas inflexiones distintas están asociadas a una forma verbal en la lengua elegida?"
   ]
  },
  {
   "cell_type": "code",
   "execution_count": 21,
   "id": "3e17da54",
   "metadata": {},
   "outputs": [],
   "source": [
    "formas_unicas = []"
   ]
  },
  {
   "cell_type": "code",
   "execution_count": 22,
   "id": "0b37669c",
   "metadata": {},
   "outputs": [],
   "source": [
    "for item in formas:\n",
    "    if item not in formas_unicas:\n",
    "        formas_unicas += [item] "
   ]
  },
  {
   "cell_type": "code",
   "execution_count": 23,
   "id": "cea7c2fb",
   "metadata": {},
   "outputs": [
    {
     "data": {
      "text/plain": [
       "644"
      ]
     },
     "execution_count": 23,
     "metadata": {},
     "output_type": "execute_result"
    }
   ],
   "source": [
    "len(formas_unicas)"
   ]
  },
  {
   "cell_type": "code",
   "execution_count": 24,
   "id": "f24cc730",
   "metadata": {},
   "outputs": [],
   "source": [
    "inflexiones_unicas = []"
   ]
  },
  {
   "cell_type": "code",
   "execution_count": 25,
   "id": "9a69d359",
   "metadata": {},
   "outputs": [],
   "source": [
    "for item in inflexiones:\n",
    "    if item not in inflexiones_unicas:\n",
    "        inflexiones_unicas += [item] "
   ]
  },
  {
   "cell_type": "code",
   "execution_count": 26,
   "id": "e8c46a7a",
   "metadata": {},
   "outputs": [
    {
     "data": {
      "text/plain": [
       "24470"
      ]
     },
     "execution_count": 26,
     "metadata": {},
     "output_type": "execute_result"
    }
   ],
   "source": [
    "len(inflexiones_unicas)"
   ]
  },
  {
   "cell_type": "code",
   "execution_count": 27,
   "id": "5b963efb",
   "metadata": {},
   "outputs": [
    {
     "data": {
      "text/plain": [
       "37.99689440993789"
      ]
     },
     "execution_count": 27,
     "metadata": {},
     "output_type": "execute_result"
    }
   ],
   "source": [
    "len(inflexiones_unicas)/len(formas_unicas)"
   ]
  },
  {
   "cell_type": "markdown",
   "id": "2c1a43da",
   "metadata": {},
   "source": [
    "Un pequeño ejercicio con listas y ciclos for:\n",
    "\n",
    "Defina la lista codigos_unicos, que contiene los códigos únicos ¿Cúantos códigos distintos hay?\n",
    "\n",
    "Defina la lista codigos_extendidos, en que cada posición es una lista de tokens, por ejemplo,\n",
    "\n",
    "codigos_extendidos = [['V','NFIN'],...]\n",
    "A partir de la lista anterior, defina la lista numero_codigos, que contiene el número de códigos asociados a cada inflexión.\n",
    "\n",
    "En promedio, ¿Cuántos códigos están asociados a una inflexión?"
   ]
  },
  {
   "cell_type": "code",
   "execution_count": 28,
   "id": "d4596909",
   "metadata": {},
   "outputs": [],
   "source": [
    "codigos_unicos = []"
   ]
  },
  {
   "cell_type": "code",
   "execution_count": 29,
   "id": "58754d26",
   "metadata": {},
   "outputs": [],
   "source": [
    "for item in códigos:\n",
    "    if item not in codigos_unicos:\n",
    "        codigos_unicos += [item] "
   ]
  },
  {
   "cell_type": "code",
   "execution_count": 30,
   "id": "2ea424d9",
   "metadata": {},
   "outputs": [
    {
     "data": {
      "text/plain": [
       "41"
      ]
     },
     "execution_count": 30,
     "metadata": {},
     "output_type": "execute_result"
    }
   ],
   "source": [
    "len(codigos_unicos)"
   ]
  },
  {
   "cell_type": "code",
   "execution_count": 45,
   "id": "d0d26531",
   "metadata": {},
   "outputs": [],
   "source": [
    "codigos_extendidos = []"
   ]
  },
  {
   "cell_type": "code",
   "execution_count": 46,
   "id": "3dd2c961",
   "metadata": {},
   "outputs": [],
   "source": [
    "indice_cod_ext = list(range(len(codigos_unicos)))"
   ]
  },
  {
   "cell_type": "code",
   "execution_count": 47,
   "id": "1dbbacbe",
   "metadata": {},
   "outputs": [],
   "source": [
    "lista_cod1 = []"
   ]
  },
  {
   "cell_type": "code",
   "execution_count": 48,
   "id": "d51fd6f3",
   "metadata": {},
   "outputs": [],
   "source": [
    "prueba = []"
   ]
  },
  {
   "cell_type": "code",
   "execution_count": 49,
   "id": "83ae65e8",
   "metadata": {},
   "outputs": [],
   "source": [
    "## miren!\n",
    "\n",
    "s = 'hola'\n",
    "\n",
    "d = s.replace('a','i')"
   ]
  },
  {
   "cell_type": "code",
   "execution_count": 50,
   "id": "9d90f46e",
   "metadata": {},
   "outputs": [
    {
     "data": {
      "text/plain": [
       "'holi'"
      ]
     },
     "execution_count": 50,
     "metadata": {},
     "output_type": "execute_result"
    }
   ],
   "source": [
    "## o sea, replace reemplaza cualquier (sub)string de un string por lo que ustedes quieran\n",
    "\n",
    "d"
   ]
  },
  {
   "cell_type": "code",
   "execution_count": 51,
   "id": "b7761340",
   "metadata": {},
   "outputs": [],
   "source": [
    "## analicemos un ejemplo!\n",
    "\n",
    "codigo = 'V;IMP;POS;3;PL'\n",
    "\n",
    "## si usan split con ;, les queda\n",
    "## split corta con lo que ponen entre (). Antes usábamos con (' '), pero puede ser cualquier\n",
    "lista_codigos = codigo.split(';')"
   ]
  },
  {
   "cell_type": "code",
   "execution_count": 52,
   "id": "8f280d5c",
   "metadata": {},
   "outputs": [
    {
     "data": {
      "text/plain": [
       "['V', 'IMP', 'POS', '3', 'PL']"
      ]
     },
     "execution_count": 52,
     "metadata": {},
     "output_type": "execute_result"
    }
   ],
   "source": [
    "lista_codigos"
   ]
  },
  {
   "cell_type": "code",
   "execution_count": 53,
   "id": "1756767b",
   "metadata": {},
   "outputs": [],
   "source": [
    "################################################################\n",
    "## AYUDAAAAAAAA! TwT acá lo que queríamos hacer era 1) crear las listas de cada codigo unico para crear una lista de listas.\n",
    "## Pero queda el tener que separar los token dentro de cada lista de string. Lo que pensamos fue 2) crear un for loop que seleccione\n",
    "## los \";\" de los strings y los reemplace por espacios en blanco para 3) poder aplicar la funcion de split y separar los tokens\n",
    "## dentro de cada lista de string. Pero ya no sabemos cómo TToTT\n",
    "for elemento in indice_cod_ext:\n",
    "    lista_cod1 = codigos_unicos[elemento]\n",
    "    #if elemento == ';':\n",
    "        ## como hacemos que ; se reemplace por un ' ' ??? \n",
    "        ## Falta un tab!!! -->\n",
    "    ## miren que no era necesario el if!\n",
    "    prueba = lista_cod1.split(';')\n",
    "    codigos_extendidos += [prueba]"
   ]
  },
  {
   "cell_type": "code",
   "execution_count": 54,
   "id": "45a3e365",
   "metadata": {},
   "outputs": [
    {
     "data": {
      "text/plain": [
       "['V', 'IMP', 'NEG', '2', 'SG']"
      ]
     },
     "execution_count": 54,
     "metadata": {},
     "output_type": "execute_result"
    }
   ],
   "source": [
    "codigos_unicos[elemento].split(';')"
   ]
  },
  {
   "cell_type": "code",
   "execution_count": 55,
   "id": "1cf79528",
   "metadata": {},
   "outputs": [
    {
     "data": {
      "text/plain": [
       "[['V', 'IMP', 'POS', '3', 'PL'],\n",
       " ['V', 'IMP', 'POS', '3', 'SG'],\n",
       " ['V.PTCP', 'FUT'],\n",
       " ['V', 'PRS', '1+INCL', 'PL'],\n",
       " ['V', 'PRS', '1', 'SG'],\n",
       " ['V', 'FUT', '2', 'PL'],\n",
       " ['V', 'PRS', '2', 'PL'],\n",
       " ['V', 'FUT', '2', 'SG'],\n",
       " ['V', 'PRS', '2', 'SG'],\n",
       " ['V', 'PRS', '3', 'PL'],\n",
       " ['V', 'FUT', '3', 'PL'],\n",
       " ['V', 'FUT', '3', 'SG'],\n",
       " ['V', 'PRS', '3', 'SG'],\n",
       " ['V', 'NFIN', 'AGT'],\n",
       " ['V', 'PST', 'FH', '1+INCL', 'PL'],\n",
       " ['V', 'PST', 'FH', '1+EXCL', 'PL'],\n",
       " ['V', 'PST', 'FH', '1', 'SG'],\n",
       " ['V', 'PST', 'FH', '2', 'PL'],\n",
       " ['V', 'PST', 'FH', '2', 'SG'],\n",
       " ['V', 'PST', 'FH', '3', 'PL'],\n",
       " ['V', 'PST', 'FH', '3', 'SG'],\n",
       " ['V', 'FUT', '1+EXCL', 'PL'],\n",
       " ['V', 'FUT', '1', 'SG'],\n",
       " ['V.PTCP', 'PRS'],\n",
       " ['V', 'PST', 'NFH', '1+INCL', 'PL'],\n",
       " ['V', 'PST', 'NFH', '1+EXCL', 'PL'],\n",
       " ['V', 'PST', 'NFH', '1', 'SG'],\n",
       " ['V', 'PST', 'NFH', '2', 'PL'],\n",
       " ['V', 'PST', 'NFH', '2', 'SG'],\n",
       " ['V', 'PST', 'NFH', '3', 'PL'],\n",
       " ['V', 'PST', 'NFH', '3', 'SG'],\n",
       " ['V.PTCP', 'PST'],\n",
       " ['V', 'FUT', '1+INCL', 'PL'],\n",
       " ['V', 'IMP', 'POS', '2', 'PL'],\n",
       " ['V', 'PRS', '1+EXCL', 'PL'],\n",
       " ['V', 'IMP', 'POS', '2', 'SG'],\n",
       " ['V', 'NFIN'],\n",
       " ['V', 'IMP', 'NEG', '3', 'SG'],\n",
       " ['V', 'IMP', 'NEG', '3', 'PL'],\n",
       " ['V', 'IMP', 'NEG', '2', 'PL'],\n",
       " ['V', 'IMP', 'NEG', '2', 'SG']]"
      ]
     },
     "execution_count": 55,
     "metadata": {},
     "output_type": "execute_result"
    }
   ],
   "source": [
    "codigos_extendidos"
   ]
  },
  {
   "cell_type": "code",
   "execution_count": null,
   "id": "9f711439",
   "metadata": {},
   "outputs": [],
   "source": []
  }
 ],
 "metadata": {
  "kernelspec": {
   "display_name": "Python 3",
   "language": "python",
   "name": "python3"
  },
  "language_info": {
   "codemirror_mode": {
    "name": "ipython",
    "version": 3
   },
   "file_extension": ".py",
   "mimetype": "text/x-python",
   "name": "python",
   "nbconvert_exporter": "python",
   "pygments_lexer": "ipython3",
   "version": "3.8.8"
  }
 },
 "nbformat": 4,
 "nbformat_minor": 5
}
