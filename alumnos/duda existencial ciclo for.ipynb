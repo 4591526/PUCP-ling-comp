{
 "cells": [
  {
   "cell_type": "code",
   "execution_count": 6,
   "id": "7d9941e6",
   "metadata": {},
   "outputs": [],
   "source": [
    "## queriamos jugar un poco con el ciclo for para poder crear una lista en la que los elementos de estas tres que siguen \n",
    "## aparezcan ordenados según su posición en la lista, algo así como [\"pichu pikachu raichu\", etc...]\n",
    "## entonces, como primer paso, creamos las tres listas:\n",
    "\n",
    "pokemones_1 = [\"pichu\", \"zubat\", \"eevee\", \"igglybuff\", \"cleffa\"]\n",
    "pokemones_2 = [\"pikachu\", \"golbat\", \"vaporeon\", \"jigglypuff\", \"clefairy\"]\n",
    "pokemones_3 = [\"raichu\", \"crobat\", \"jolteeon\", \"wigglytuff\", \"clefable\"]"
   ]
  },
  {
   "cell_type": "code",
   "execution_count": 7,
   "id": "022dc8c6",
   "metadata": {},
   "outputs": [
    {
     "name": "stdout",
     "output_type": "stream",
     "text": [
      "['pichu', 'zubat', 'eevee', 'igglybuff', 'cleffa'] ['pikachu', 'golbat', 'vaporeon', 'jigglypuff', 'clefairy'] ['raichu', 'crobat', 'jolteeon', 'wigglytuff', 'clefable']\n"
     ]
    }
   ],
   "source": [
    "## luego las verificamos:\n",
    "\n",
    "print(pokemones_1, pokemones_2, pokemones_3)"
   ]
  },
  {
   "cell_type": "code",
   "execution_count": 8,
   "id": "99cfcfd9",
   "metadata": {},
   "outputs": [],
   "source": [
    "## luego creamos las listas de los indices de cada una de los tres grupos que teníamos\n",
    "\n",
    "indices_1 = list(range(len(pokemones_1)))\n",
    "indices_2 = list(range(len(pokemones_2)))\n",
    "indices_3 = list(range(len(pokemones_3)))"
   ]
  },
  {
   "cell_type": "code",
   "execution_count": 9,
   "id": "812ac848",
   "metadata": {},
   "outputs": [
    {
     "name": "stdout",
     "output_type": "stream",
     "text": [
      "[0, 1, 2, 3, 4] [0, 1, 2, 3, 4] [0, 1, 2, 3, 4]\n"
     ]
    }
   ],
   "source": [
    "## luego verificamos que los indices funcionaran jeje :')\n",
    "\n",
    "print (indices_1, indices_2, indices_3)"
   ]
  },
  {
   "cell_type": "code",
   "execution_count": 10,
   "id": "6fc1e5af",
   "metadata": {},
   "outputs": [],
   "source": [
    "## luego creamos las listas que pensabamos que ibamos a utilizar en el ciclo for para hacer lo que queriamos en un principio\n",
    "\n",
    "evolucion = []\n",
    "evolucion_1 = []"
   ]
  },
  {
   "cell_type": "code",
   "execution_count": 11,
   "id": "553e32d4",
   "metadata": {},
   "outputs": [
    {
     "ename": "TypeError",
     "evalue": "list indices must be integers or slices, not str",
     "output_type": "error",
     "traceback": [
      "\u001b[1;31m---------------------------------------------------------------------------\u001b[0m",
      "\u001b[1;31mTypeError\u001b[0m                                 Traceback (most recent call last)",
      "\u001b[1;32m<ipython-input-11-3610c6fb0fba>\u001b[0m in \u001b[0;36m<module>\u001b[1;34m\u001b[0m\n\u001b[0;32m      4\u001b[0m \u001b[1;33m\u001b[0m\u001b[0m\n\u001b[0;32m      5\u001b[0m \u001b[1;32mfor\u001b[0m \u001b[0mi\u001b[0m \u001b[1;32min\u001b[0m \u001b[0mpokemones_1\u001b[0m\u001b[1;33m:\u001b[0m\u001b[1;33m\u001b[0m\u001b[1;33m\u001b[0m\u001b[0m\n\u001b[1;32m----> 6\u001b[1;33m     \u001b[0mevolucion\u001b[0m \u001b[1;33m=\u001b[0m \u001b[0mpokemones_1\u001b[0m\u001b[1;33m[\u001b[0m\u001b[0mi\u001b[0m\u001b[1;33m]\u001b[0m\u001b[1;33m+\u001b[0m\u001b[0mpokemones_2\u001b[0m\u001b[1;33m[\u001b[0m\u001b[0mi\u001b[0m\u001b[1;33m]\u001b[0m\u001b[1;33m+\u001b[0m\u001b[0mpokemones_3\u001b[0m\u001b[1;33m[\u001b[0m\u001b[0mi\u001b[0m\u001b[1;33m]\u001b[0m\u001b[1;33m\u001b[0m\u001b[1;33m\u001b[0m\u001b[0m\n\u001b[0m\u001b[0;32m      7\u001b[0m     \u001b[0mevolucion_1\u001b[0m \u001b[1;33m+=\u001b[0m \u001b[1;33m[\u001b[0m\u001b[0mevolucion\u001b[0m\u001b[1;33m]\u001b[0m\u001b[1;33m\u001b[0m\u001b[1;33m\u001b[0m\u001b[0m\n",
      "\u001b[1;31mTypeError\u001b[0m: list indices must be integers or slices, not str"
     ]
    }
   ],
   "source": [
    "## luego hicimos esto y no nos salio :'(\n",
    "## la logica que teníamos detras de esto era, usando el ciclo for, pudiesemos sumar automaticamente los primeros elementos de \n",
    "## cada lista, luegos los segundos, los terceros y así (por eso pusimos [i]), pero funcionó :'ccc\n",
    "\n",
    "for i in pokemones_1:\n",
    "    evolucion = pokemones_1[i]+pokemones_2[i]+pokemones_3[i]\n",
    "    evolucion_1 += [evolucion]"
   ]
  },
  {
   "cell_type": "code",
   "execution_count": 12,
   "id": "bb67d15d",
   "metadata": {},
   "outputs": [],
   "source": [
    "## esto estaba casi!!! noten que cuando hacen el ciclo for de más arriba, recorren los elementos de pokemones_1. Por eso,\n",
    "## les aparece el error: si ponen pokemones_1[i] Python entiende que quieren acceder al elemento del índice i, pero i es un\n",
    "## elemento!! entonces les tira un error.\n",
    "\n",
    "## pueden hacer esto,\n",
    "\n",
    "\n",
    "## como las listas tienen el mismo número de elementos, los índices son iguales\n",
    "for i in indices_1:\n",
    "    evolucion = pokemones_1[i]+pokemones_2[i]+pokemones_3[i]\n",
    "    evolucion_1 += [evolucion]"
   ]
  },
  {
   "cell_type": "code",
   "execution_count": 13,
   "id": "e2926431",
   "metadata": {},
   "outputs": [
    {
     "data": {
      "text/plain": [
       "['pichupikachuraichu',\n",
       " 'zubatgolbatcrobat',\n",
       " 'eeveevaporeonjolteeon',\n",
       " 'igglybuffjigglypuffwigglytuff',\n",
       " 'cleffaclefairyclefable']"
      ]
     },
     "execution_count": 13,
     "metadata": {},
     "output_type": "execute_result"
    }
   ],
   "source": [
    "evolucion_1"
   ]
  },
  {
   "cell_type": "code",
   "execution_count": 14,
   "id": "501dbc66",
   "metadata": {},
   "outputs": [],
   "source": [
    "## para arreglar que todo queda junto, podemos recordar que los strings con espacios en blanco también son strings :) Es decir,\n",
    "\n",
    "## por ejemplo\n",
    "\n",
    "evolucion = pokemones_1[0]+' '+pokemones_2[0]+' '+pokemones_3[0]"
   ]
  },
  {
   "cell_type": "code",
   "execution_count": 15,
   "id": "6fec24b6",
   "metadata": {},
   "outputs": [
    {
     "data": {
      "text/plain": [
       "'pichu pikachu raichu'"
      ]
     },
     "execution_count": 15,
     "metadata": {},
     "output_type": "execute_result"
    }
   ],
   "source": [
    "evolucion"
   ]
  },
  {
   "cell_type": "code",
   "execution_count": 18,
   "id": "3e084c02",
   "metadata": {},
   "outputs": [],
   "source": [
    "## Entonces, juntamos todo!\n",
    "\n",
    "evolucion_1 = []\n",
    "\n",
    "## en vez de ' ' podrían poner cualquier cosa de todas formas\n",
    "for i in indices_1:\n",
    "    evolucion = pokemones_1[i]+' '+pokemones_2[i]+' '+pokemones_3[i]\n",
    "    evolucion_1 += [evolucion]"
   ]
  },
  {
   "cell_type": "code",
   "execution_count": 20,
   "id": "b63883a9",
   "metadata": {},
   "outputs": [
    {
     "data": {
      "text/plain": [
       "['pichu pikachu raichu',\n",
       " 'zubat golbat crobat',\n",
       " 'eevee vaporeon jolteeon',\n",
       " 'igglybuff jigglypuff wigglytuff',\n",
       " 'cleffa clefairy clefable']"
      ]
     },
     "execution_count": 20,
     "metadata": {},
     "output_type": "execute_result"
    }
   ],
   "source": [
    "## ¿Qué les parece?\n",
    "\n",
    "evolucion_1"
   ]
  },
  {
   "cell_type": "code",
   "execution_count": 20,
   "id": "898bc008",
   "metadata": {},
   "outputs": [],
   "source": [
    "## luego volvimos a pensar en cómo sería el procedimiento manual para ver si se nos ocurría como automatizarlo con el ciclo for\n",
    "## pero no se nos ocurrió nada y nos salió todo apachurado, no había espacios entre elementos :'cccc\n",
    "\n",
    "evolucion = pokemones_1[0] + pokemones_2[0] + pokemones_3[0]\n",
    "evolucion_1 += [evolucion]"
   ]
  },
  {
   "cell_type": "code",
   "execution_count": 21,
   "id": "5704e738",
   "metadata": {},
   "outputs": [
    {
     "name": "stdout",
     "output_type": "stream",
     "text": [
      "['pichupikachuraichu']\n"
     ]
    }
   ],
   "source": [
    "print(evolucion_1)"
   ]
  },
  {
   "cell_type": "code",
   "execution_count": 22,
   "id": "db6e1c6c",
   "metadata": {},
   "outputs": [],
   "source": [
    "## aiuda"
   ]
  },
  {
   "cell_type": "code",
   "execution_count": null,
   "id": "ae5dc4e4",
   "metadata": {},
   "outputs": [],
   "source": []
  }
 ],
 "metadata": {
  "kernelspec": {
   "display_name": "Python 3",
   "language": "python",
   "name": "python3"
  },
  "language_info": {
   "codemirror_mode": {
    "name": "ipython",
    "version": 3
   },
   "file_extension": ".py",
   "mimetype": "text/x-python",
   "name": "python",
   "nbconvert_exporter": "python",
   "pygments_lexer": "ipython3",
   "version": "3.8.8"
  }
 },
 "nbformat": 4,
 "nbformat_minor": 5
}
