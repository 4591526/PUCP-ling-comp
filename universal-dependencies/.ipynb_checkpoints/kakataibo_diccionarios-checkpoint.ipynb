{
 "cells": [
  {
   "cell_type": "markdown",
   "id": "615baa43",
   "metadata": {},
   "source": [
    "## Universal dependencies!\n",
    "### **Kakataibo!**"
   ]
  },
  {
   "cell_type": "markdown",
   "id": "b4cbac4f",
   "metadata": {},
   "source": [
    "Librería [conllu](https://github.com/EmilStenstrom/conllu/)"
   ]
  },
  {
   "cell_type": "markdown",
   "id": "481ebb1f",
   "metadata": {},
   "source": [
    "Instrucciones [UD](https://universaldependencies.org/u/overview/simple-syntax.html#intransitive-and-transitive-clauses)"
   ]
  },
  {
   "cell_type": "markdown",
   "id": "7e5f7e9c",
   "metadata": {},
   "source": [
    "[Annotatrix](https://jonorthwash.github.io/ud-annotatrix/server/public/html/annotatrix.html#1)"
   ]
  },
  {
   "cell_type": "code",
   "execution_count": 66,
   "id": "d364b21e",
   "metadata": {},
   "outputs": [
    {
     "name": "stdout",
     "output_type": "stream",
     "text": [
      "Requirement already satisfied: conllu in c:\\users\\jxver\\anaconda3\\envs\\geo_env\\lib\\site-packages (4.4.1)\n"
     ]
    },
    {
     "name": "stderr",
     "output_type": "stream",
     "text": [
      "WARNING: You are using pip version 21.3; however, version 21.3.1 is available.\n",
      "You should consider upgrading via the 'C:\\Users\\jxver\\anaconda3\\envs\\geo_env\\python.exe -m pip install --upgrade pip' command.\n"
     ]
    }
   ],
   "source": [
    "!pip install conllu"
   ]
  },
  {
   "cell_type": "code",
   "execution_count": 67,
   "id": "31d838d9",
   "metadata": {},
   "outputs": [],
   "source": [
    "## ahora, lo volvemos a leer :)\n",
    "\n",
    "from io import open\n",
    "from conllu import parse\n",
    "\n",
    "data_k = open(\"kakataibo.conllu\", \"r\", encoding=\"utf-8\")\n",
    "data_k = data_k.read()\n",
    "kakataibo = parse(data_k)"
   ]
  },
  {
   "cell_type": "code",
   "execution_count": 68,
   "id": "0b0f9f1b",
   "metadata": {},
   "outputs": [
    {
     "data": {
      "text/plain": [
       "1"
      ]
     },
     "execution_count": 68,
     "metadata": {},
     "output_type": "execute_result"
    }
   ],
   "source": [
    "len(kakataibo)"
   ]
  },
  {
   "cell_type": "code",
   "execution_count": 69,
   "id": "88ac065a",
   "metadata": {},
   "outputs": [
    {
     "data": {
      "text/plain": [
       "[TokenList<Uni, chaxké̈, achushi, =bëtan, ka, =na, ‘ë, =n, xubu, ‘ati, ‘ain, .>]"
      ]
     },
     "execution_count": 69,
     "metadata": {},
     "output_type": "execute_result"
    }
   ],
   "source": [
    "## lista de objetos TokenList\n",
    "\n",
    "kakataibo"
   ]
  },
  {
   "cell_type": "code",
   "execution_count": 70,
   "id": "48af24d8",
   "metadata": {},
   "outputs": [
    {
     "data": {
      "text/plain": [
       "1"
      ]
     },
     "execution_count": 70,
     "metadata": {},
     "output_type": "execute_result"
    }
   ],
   "source": [
    "## número de oraciones\n",
    "\n",
    "len(kakataibo)"
   ]
  },
  {
   "cell_type": "code",
   "execution_count": 71,
   "id": "0a24d6d6",
   "metadata": {},
   "outputs": [],
   "source": [
    "## ejemplo!\n",
    "\n",
    "sentence = kakataibo[0]"
   ]
  },
  {
   "cell_type": "code",
   "execution_count": 72,
   "id": "2fa97bfa",
   "metadata": {},
   "outputs": [
    {
     "data": {
      "text/plain": [
       "TokenList<Uni, chaxké̈, achushi, =bëtan, ka, =na, ‘ë, =n, xubu, ‘ati, ‘ain, .>"
      ]
     },
     "execution_count": 72,
     "metadata": {},
     "output_type": "execute_result"
    }
   ],
   "source": [
    "sentence"
   ]
  },
  {
   "cell_type": "code",
   "execution_count": 73,
   "id": "b642e86a",
   "metadata": {},
   "outputs": [
    {
     "data": {
      "text/plain": [
       "12"
      ]
     },
     "execution_count": 73,
     "metadata": {},
     "output_type": "execute_result"
    }
   ],
   "source": [
    "## número de tokens\n",
    "\n",
    "len(sentence)"
   ]
  },
  {
   "cell_type": "code",
   "execution_count": 74,
   "id": "1e2aed87",
   "metadata": {},
   "outputs": [],
   "source": [
    "## miremos la información que tienen las palabras\n",
    "\n",
    "token = sentence[0]"
   ]
  },
  {
   "cell_type": "code",
   "execution_count": 75,
   "id": "046cf6f5",
   "metadata": {},
   "outputs": [],
   "source": [
    "## es decir, token es una lista"
   ]
  },
  {
   "cell_type": "code",
   "execution_count": 76,
   "id": "5a05bd59",
   "metadata": {},
   "outputs": [
    {
     "data": {
      "text/plain": [
       "{'id': 1,\n",
       " 'form': 'Uni',\n",
       " 'lemma': 'uni',\n",
       " 'upos': 'NOUN',\n",
       " 'xpos': None,\n",
       " 'feats': None,\n",
       " 'head': 10,\n",
       " 'deprel': 'obl',\n",
       " 'deps': None,\n",
       " 'misc': {'man': ''}}"
      ]
     },
     "execution_count": 76,
     "metadata": {},
     "output_type": "execute_result"
    }
   ],
   "source": [
    "token"
   ]
  },
  {
   "cell_type": "markdown",
   "id": "20ca195c",
   "metadata": {},
   "source": [
    "Cada palabra en la **lista tokens** es un **diccionario!!! :)**"
   ]
  },
  {
   "cell_type": "code",
   "execution_count": 77,
   "id": "1ef1044b",
   "metadata": {},
   "outputs": [],
   "source": [
    "## veamos qué hay adentro de token\n",
    "\n",
    "keys = list(token.keys())"
   ]
  },
  {
   "cell_type": "code",
   "execution_count": 78,
   "id": "fb9a76ed",
   "metadata": {},
   "outputs": [
    {
     "data": {
      "text/plain": [
       "['id',\n",
       " 'form',\n",
       " 'lemma',\n",
       " 'upos',\n",
       " 'xpos',\n",
       " 'feats',\n",
       " 'head',\n",
       " 'deprel',\n",
       " 'deps',\n",
       " 'misc']"
      ]
     },
     "execution_count": 78,
     "metadata": {},
     "output_type": "execute_result"
    }
   ],
   "source": [
    "keys"
   ]
  },
  {
   "cell_type": "code",
   "execution_count": 79,
   "id": "a28ba0f2",
   "metadata": {},
   "outputs": [],
   "source": [
    "values = list(token.values())"
   ]
  },
  {
   "cell_type": "code",
   "execution_count": 80,
   "id": "8e43e58b",
   "metadata": {},
   "outputs": [
    {
     "data": {
      "text/plain": [
       "[1, 'Uni', 'uni', 'NOUN', None, None, 10, 'obl', None, {'man': ''}]"
      ]
     },
     "execution_count": 80,
     "metadata": {},
     "output_type": "execute_result"
    }
   ],
   "source": [
    "values"
   ]
  },
  {
   "cell_type": "markdown",
   "id": "31eda048",
   "metadata": {},
   "source": [
    "La lista **keys** contiene las entradas del diccionario D, de la misma forma en que un diccionario léxico tiene entradas. Los **keys** siempre son distintos. Los **values** son de alguna forma las \"definiciones\" asociadas a los keys. En general, los **keys** son enteros o strings, los **values** pueden ser cualquier cosa: otros diccionarios, listas, números, strings. Veamos algunos asuntos prácticos!"
   ]
  },
  {
   "cell_type": "code",
   "execution_count": 81,
   "id": "2569484c",
   "metadata": {},
   "outputs": [],
   "source": [
    "## los diccionarios tiene largo\n",
    "\n",
    "largo = len(token)"
   ]
  },
  {
   "cell_type": "code",
   "execution_count": 82,
   "id": "2c7bdfbe",
   "metadata": {},
   "outputs": [
    {
     "data": {
      "text/plain": [
       "10"
      ]
     },
     "execution_count": 82,
     "metadata": {},
     "output_type": "execute_result"
    }
   ],
   "source": [
    "largo"
   ]
  },
  {
   "cell_type": "code",
   "execution_count": 83,
   "id": "ad2608cb",
   "metadata": {},
   "outputs": [
    {
     "name": "stdout",
     "output_type": "stream",
     "text": [
      "Uni 10\n",
      "chaxké̈ 10\n",
      "achushi 10\n",
      "=bëtan 10\n",
      "ka 10\n",
      "=na 10\n",
      "‘ë 10\n",
      "=n 10\n",
      "xubu 10\n",
      "‘ati 10\n",
      "‘ain 10\n",
      ". 10\n"
     ]
    }
   ],
   "source": [
    "## todos los tokens de sentence\n",
    "\n",
    "for T in sentence:\n",
    "    print(T,len(token))"
   ]
  },
  {
   "cell_type": "code",
   "execution_count": 84,
   "id": "5f7ba8ab",
   "metadata": {},
   "outputs": [],
   "source": [
    "## los diccionarios tienen items (pares key-value)\n",
    "\n",
    "items = list(token.items())"
   ]
  },
  {
   "cell_type": "code",
   "execution_count": 85,
   "id": "888906a7",
   "metadata": {},
   "outputs": [
    {
     "data": {
      "text/plain": [
       "[('id', 1),\n",
       " ('form', 'Uni'),\n",
       " ('lemma', 'uni'),\n",
       " ('upos', 'NOUN'),\n",
       " ('xpos', None),\n",
       " ('feats', None),\n",
       " ('head', 10),\n",
       " ('deprel', 'obl'),\n",
       " ('deps', None),\n",
       " ('misc', {'man': ''})]"
      ]
     },
     "execution_count": 85,
     "metadata": {},
     "output_type": "execute_result"
    }
   ],
   "source": [
    "items"
   ]
  },
  {
   "cell_type": "code",
   "execution_count": 86,
   "id": "fa107621",
   "metadata": {},
   "outputs": [],
   "source": [
    "## algo de magia! \n",
    "\n",
    "D = dict(items)"
   ]
  },
  {
   "cell_type": "code",
   "execution_count": 87,
   "id": "c9dfbe78",
   "metadata": {},
   "outputs": [
    {
     "data": {
      "text/plain": [
       "{'id': 1,\n",
       " 'form': 'Uni',\n",
       " 'lemma': 'uni',\n",
       " 'upos': 'NOUN',\n",
       " 'xpos': None,\n",
       " 'feats': None,\n",
       " 'head': 10,\n",
       " 'deprel': 'obl',\n",
       " 'deps': None,\n",
       " 'misc': {'man': ''}}"
      ]
     },
     "execution_count": 87,
     "metadata": {},
     "output_type": "execute_result"
    }
   ],
   "source": [
    "D"
   ]
  },
  {
   "cell_type": "markdown",
   "id": "cb009a0e",
   "metadata": {},
   "source": [
    "¿Cómo **accedemos** a los **elementos** (es decir, los valores asociados a los keys) de un **diccionario**?"
   ]
  },
  {
   "cell_type": "code",
   "execution_count": 88,
   "id": "6cada148",
   "metadata": {},
   "outputs": [],
   "source": [
    "## usamos D[key] para cualquier key :)\n",
    "\n",
    "value = token['id']"
   ]
  },
  {
   "cell_type": "code",
   "execution_count": 89,
   "id": "5267c8a3",
   "metadata": {},
   "outputs": [
    {
     "data": {
      "text/plain": [
       "1"
      ]
     },
     "execution_count": 89,
     "metadata": {},
     "output_type": "execute_result"
    }
   ],
   "source": [
    "value"
   ]
  },
  {
   "cell_type": "code",
   "execution_count": 90,
   "id": "858d97a2",
   "metadata": {},
   "outputs": [],
   "source": [
    "value = token['form']"
   ]
  },
  {
   "cell_type": "code",
   "execution_count": 91,
   "id": "d56d698d",
   "metadata": {},
   "outputs": [
    {
     "data": {
      "text/plain": [
       "'Uni'"
      ]
     },
     "execution_count": 91,
     "metadata": {},
     "output_type": "execute_result"
    }
   ],
   "source": [
    "value"
   ]
  },
  {
   "cell_type": "code",
   "execution_count": 92,
   "id": "b71a9fe0",
   "metadata": {},
   "outputs": [],
   "source": [
    "## tal como esperábamos, también podemos acceder usando ciclos \"for\"\n",
    "\n",
    "lista_values = []\n",
    "\n",
    "## recorremos los keys\n",
    "for key in token.keys():\n",
    "    ## accedemos a cada key\n",
    "    value = token[key]\n",
    "    ## guardamos!\n",
    "    lista_values+=[value]"
   ]
  },
  {
   "cell_type": "code",
   "execution_count": 93,
   "id": "1ff8197b",
   "metadata": {},
   "outputs": [
    {
     "data": {
      "text/plain": [
       "[1, 'Uni', 'uni', 'NOUN', None, None, 10, 'obl', None, {'man': ''}]"
      ]
     },
     "execution_count": 93,
     "metadata": {},
     "output_type": "execute_result"
    }
   ],
   "source": [
    "lista_values"
   ]
  },
  {
   "cell_type": "code",
   "execution_count": 94,
   "id": "1736786a",
   "metadata": {},
   "outputs": [],
   "source": [
    "## ¿Qué pasa si uno de los values es también un diccionario?\n",
    "\n",
    "value = token['misc']"
   ]
  },
  {
   "cell_type": "code",
   "execution_count": 95,
   "id": "0e4f776a",
   "metadata": {},
   "outputs": [
    {
     "data": {
      "text/plain": [
       "{'man': ''}"
      ]
     },
     "execution_count": 95,
     "metadata": {},
     "output_type": "execute_result"
    }
   ],
   "source": [
    "value"
   ]
  },
  {
   "cell_type": "code",
   "execution_count": 96,
   "id": "d05f2238",
   "metadata": {},
   "outputs": [],
   "source": [
    "value_value = value['man']"
   ]
  },
  {
   "cell_type": "code",
   "execution_count": 97,
   "id": "a52984fe",
   "metadata": {},
   "outputs": [
    {
     "data": {
      "text/plain": [
       "''"
      ]
     },
     "execution_count": 97,
     "metadata": {},
     "output_type": "execute_result"
    }
   ],
   "source": [
    "value_value"
   ]
  },
  {
   "cell_type": "code",
   "execution_count": 98,
   "id": "ab32f02d",
   "metadata": {},
   "outputs": [],
   "source": [
    "## es decir!\n",
    "\n",
    "value_value = D['misc']['man']"
   ]
  },
  {
   "cell_type": "code",
   "execution_count": 99,
   "id": "6a5b73e8",
   "metadata": {},
   "outputs": [
    {
     "data": {
      "text/plain": [
       "''"
      ]
     },
     "execution_count": 99,
     "metadata": {},
     "output_type": "execute_result"
    }
   ],
   "source": [
    "value_value"
   ]
  },
  {
   "cell_type": "markdown",
   "id": "556d2f58",
   "metadata": {},
   "source": [
    "¿Cómo **creamos** diccionarios?"
   ]
  },
  {
   "cell_type": "code",
   "execution_count": 100,
   "id": "ce01f0c1",
   "metadata": {},
   "outputs": [],
   "source": [
    "## diccionario vacío\n",
    "D = {}\n",
    "\n",
    "## recorremos los items\n",
    "for item in items:\n",
    "    D[item[0]]=item[1]"
   ]
  },
  {
   "cell_type": "code",
   "execution_count": 101,
   "id": "d5cd7360",
   "metadata": {},
   "outputs": [
    {
     "data": {
      "text/plain": [
       "{'id': 1,\n",
       " 'form': 'Uni',\n",
       " 'lemma': 'uni',\n",
       " 'upos': 'NOUN',\n",
       " 'xpos': None,\n",
       " 'feats': None,\n",
       " 'head': 10,\n",
       " 'deprel': 'obl',\n",
       " 'deps': None,\n",
       " 'misc': {'man': ''}}"
      ]
     },
     "execution_count": 101,
     "metadata": {},
     "output_type": "execute_result"
    }
   ],
   "source": [
    "D"
   ]
  },
  {
   "cell_type": "markdown",
   "id": "d664d426",
   "metadata": {},
   "source": [
    "Analicemos ahora la **oración en Kakataibo!**"
   ]
  },
  {
   "cell_type": "code",
   "execution_count": 102,
   "id": "5810beca",
   "metadata": {},
   "outputs": [
    {
     "data": {
      "text/plain": [
       "TokenList<Uni, chaxké̈, achushi, =bëtan, ka, =na, ‘ë, =n, xubu, ‘ati, ‘ain, .>"
      ]
     },
     "execution_count": 102,
     "metadata": {},
     "output_type": "execute_result"
    }
   ],
   "source": [
    "sentence"
   ]
  },
  {
   "cell_type": "code",
   "execution_count": 103,
   "id": "b660464e",
   "metadata": {},
   "outputs": [
    {
     "data": {
      "text/plain": [
       "10"
      ]
     },
     "execution_count": 103,
     "metadata": {},
     "output_type": "execute_result"
    }
   ],
   "source": [
    "sentence[0]['head']"
   ]
  },
  {
   "cell_type": "code",
   "execution_count": 104,
   "id": "b394802e",
   "metadata": {},
   "outputs": [],
   "source": [
    "## hacemos un cambio!\n",
    "\n",
    "sentence[0]['head']=11"
   ]
  },
  {
   "cell_type": "code",
   "execution_count": 105,
   "id": "c09f4e8f",
   "metadata": {},
   "outputs": [],
   "source": [
    "with open('kakataibo_v2.conllu', 'w',encoding='utf-8') as f:    \n",
    "    #f.writelines([sentence.serialize() + \"\\n\" for sentence in sentences])\n",
    "    f.writelines(sentence.serialize())"
   ]
  },
  {
   "cell_type": "markdown",
   "id": "6d19fa6f",
   "metadata": {},
   "source": [
    "Un poco sobre la librería para manejar datos UD"
   ]
  },
  {
   "cell_type": "code",
   "execution_count": 106,
   "id": "930e524e",
   "metadata": {},
   "outputs": [],
   "source": [
    "## leemos denuevo los datos :)\n",
    "\n",
    "data_k = open(\"kakataibo.conllu\", \"r\", encoding=\"utf-8\")\n",
    "data_k = data_k.read()\n",
    "kakataibo = parse(data_k)"
   ]
  },
  {
   "cell_type": "code",
   "execution_count": 107,
   "id": "75701acb",
   "metadata": {},
   "outputs": [],
   "source": [
    "## la primera oración, la única!\n",
    "\n",
    "sentence = kakataibo[0]"
   ]
  },
  {
   "cell_type": "code",
   "execution_count": 108,
   "id": "f4686f25",
   "metadata": {},
   "outputs": [
    {
     "data": {
      "text/plain": [
       "TokenList<chaxké̈>"
      ]
     },
     "execution_count": 108,
     "metadata": {},
     "output_type": "execute_result"
    }
   ],
   "source": [
    "## ¿Cómo podemos filtrar las oraciones?\n",
    "\n",
    "## x forma\n",
    "sentence.filter(form='chaxké̈')"
   ]
  },
  {
   "cell_type": "code",
   "execution_count": 109,
   "id": "9246dc60",
   "metadata": {},
   "outputs": [
    {
     "data": {
      "text/plain": [
       "TokenList<‘ati>"
      ]
     },
     "execution_count": 109,
     "metadata": {},
     "output_type": "execute_result"
    }
   ],
   "source": [
    "## x upos\n",
    "sentence.filter(upos='VERB')"
   ]
  },
  {
   "cell_type": "code",
   "execution_count": 110,
   "id": "e020e396",
   "metadata": {},
   "outputs": [
    {
     "data": {
      "text/plain": [
       "TokenList<Uni, xubu>"
      ]
     },
     "execution_count": 110,
     "metadata": {},
     "output_type": "execute_result"
    }
   ],
   "source": [
    "## x upos\n",
    "sentence.filter(upos='NOUN')"
   ]
  },
  {
   "cell_type": "code",
   "execution_count": 111,
   "id": "4f185959",
   "metadata": {},
   "outputs": [],
   "source": [
    "## busquemos las heads!\n",
    "heads = {}\n",
    "\n",
    "for token in sentence:\n",
    "    heads[token['id']]=token['head'] "
   ]
  },
  {
   "cell_type": "code",
   "execution_count": 112,
   "id": "efc03822",
   "metadata": {},
   "outputs": [
    {
     "data": {
      "text/plain": [
       "{1: 10,\n",
       " 2: 1,\n",
       " 3: 1,\n",
       " 4: 1,\n",
       " 5: 10,\n",
       " 6: 10,\n",
       " 7: 9,\n",
       " 8: 7,\n",
       " 9: 10,\n",
       " 10: 0,\n",
       " 11: 10,\n",
       " 12: 10}"
      ]
     },
     "execution_count": 112,
     "metadata": {},
     "output_type": "execute_result"
    }
   ],
   "source": [
    "heads"
   ]
  },
  {
   "cell_type": "code",
   "execution_count": 113,
   "id": "bc8d6398",
   "metadata": {},
   "outputs": [],
   "source": [
    "## otra forma :)\n",
    "\n",
    "## busquemos las heads!\n",
    "heads_form = {}\n",
    "\n",
    "for token in sentence:\n",
    "    heads_form[token['id']]=[token['form'],token['head']]"
   ]
  },
  {
   "cell_type": "code",
   "execution_count": 114,
   "id": "65eb9594",
   "metadata": {},
   "outputs": [
    {
     "data": {
      "text/plain": [
       "{1: ['Uni', 10],\n",
       " 2: ['chaxké̈', 1],\n",
       " 3: ['achushi', 1],\n",
       " 4: ['=bëtan', 1],\n",
       " 5: ['ka', 10],\n",
       " 6: ['=na', 10],\n",
       " 7: ['‘ë', 9],\n",
       " 8: ['=n', 7],\n",
       " 9: ['xubu', 10],\n",
       " 10: ['‘ati', 0],\n",
       " 11: ['‘ain', 10],\n",
       " 12: ['.', 10]}"
      ]
     },
     "execution_count": 114,
     "metadata": {},
     "output_type": "execute_result"
    }
   ],
   "source": [
    "heads_form"
   ]
  },
  {
   "cell_type": "markdown",
   "id": "5913b240",
   "metadata": {},
   "source": [
    "**Ejercicio :)** calcule las distancia promedio entre cada token y la raiz (head). Suponga que el número de tokens es $n$. Si las palabras sucesivas están numeradas desde la palabra 1, luego 2, hasta la palabra $n$, la **distancia** entre dos palabras en posiciones $i$ y $j$ se define como $|i-j|$. "
   ]
  },
  {
   "cell_type": "markdown",
   "id": "3674fd34",
   "metadata": {},
   "source": [
    "[Paper :)](liu-dependencies-2017.pdf)"
   ]
  },
  {
   "cell_type": "markdown",
   "id": "bdf9f3da",
   "metadata": {},
   "source": [
    "[otro paper :)](W19-7911.pdf)"
   ]
  },
  {
   "cell_type": "markdown",
   "id": "1fd9a060",
   "metadata": {},
   "source": [
    "**Ejercicio :) :)** calcule la distancia promedio entre las dependencias de la oración. "
   ]
  },
  {
   "cell_type": "code",
   "execution_count": null,
   "id": "eaf51c0a",
   "metadata": {},
   "outputs": [],
   "source": []
  }
 ],
 "metadata": {
  "kernelspec": {
   "display_name": "Python 3 (ipykernel)",
   "language": "python",
   "name": "python3"
  },
  "language_info": {
   "codemirror_mode": {
    "name": "ipython",
    "version": 3
   },
   "file_extension": ".py",
   "mimetype": "text/x-python",
   "name": "python",
   "nbconvert_exporter": "python",
   "pygments_lexer": "ipython3",
   "version": "3.9.7"
  }
 },
 "nbformat": 4,
 "nbformat_minor": 5
}
