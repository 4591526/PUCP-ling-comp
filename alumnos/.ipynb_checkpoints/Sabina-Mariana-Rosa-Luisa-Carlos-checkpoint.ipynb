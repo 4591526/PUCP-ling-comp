{
 "cells": [
  {
   "cell_type": "markdown",
   "id": "1e8ee772",
   "metadata": {},
   "source": [
    "## Ejercicios"
   ]
  },
  {
   "cell_type": "markdown",
   "id": "298eecc9",
   "metadata": {},
   "source": [
    "### 1. Listas"
   ]
  },
  {
   "cell_type": "markdown",
   "id": "a65ce1cb",
   "metadata": {},
   "source": [
    "(problema basado en una consulta!) Considere tres listas A, B y C:"
   ]
  },
  {
   "cell_type": "code",
   "execution_count": 2,
   "id": "bde7515e",
   "metadata": {},
   "outputs": [],
   "source": [
    "A = ['verde','rojo', 'azul']\n",
    "B = ['gato','perro','serpiente']\n",
    "C = ['mesa','silla', 'jaimepeña', 'virginiazavala']"
   ]
  },
  {
   "cell_type": "code",
   "execution_count": 3,
   "id": "e5cc6242",
   "metadata": {},
   "outputs": [],
   "source": [
    "## esta variante es muy interesante!!! las listas tienen distinto largo :)"
   ]
  },
  {
   "cell_type": "code",
   "execution_count": 4,
   "id": "785bf5c6",
   "metadata": {},
   "outputs": [],
   "source": [
    "D = []"
   ]
  },
  {
   "cell_type": "code",
   "execution_count": 5,
   "id": "3725e913",
   "metadata": {},
   "outputs": [],
   "source": [
    "concatenacion = 'verde' + ' ' + 'gato' + ' ' + 'mesa'"
   ]
  },
  {
   "cell_type": "code",
   "execution_count": 6,
   "id": "8bb67af1",
   "metadata": {},
   "outputs": [],
   "source": [
    "## Ai = list(range(len(A)))"
   ]
  },
  {
   "cell_type": "code",
   "execution_count": 7,
   "id": "639525af",
   "metadata": {},
   "outputs": [],
   "source": [
    "## Bi = list(range(len(B)))"
   ]
  },
  {
   "cell_type": "code",
   "execution_count": 8,
   "id": "9b5e185e",
   "metadata": {},
   "outputs": [],
   "source": [
    "## Ci = list(range(len(C)))"
   ]
  },
  {
   "cell_type": "code",
   "execution_count": 9,
   "id": "c98d7606",
   "metadata": {},
   "outputs": [],
   "source": [
    "## hacer una iteración para automatizar la asignación?"
   ]
  },
  {
   "cell_type": "code",
   "execution_count": 10,
   "id": "8de3dab4",
   "metadata": {},
   "outputs": [],
   "source": [
    "concatenacion_listas = []"
   ]
  },
  {
   "cell_type": "code",
   "execution_count": 11,
   "id": "8e782c0c",
   "metadata": {},
   "outputs": [],
   "source": [
    "concatenacion_2 = []"
   ]
  },
  {
   "cell_type": "code",
   "execution_count": 12,
   "id": "cca21f2c",
   "metadata": {},
   "outputs": [],
   "source": [
    "## noten que no es necesario definir previamente concatenacion_listas, porque en el ciclo for se transforma en un string!\n",
    "\n",
    "for item in range(len(A)):\n",
    "    concatenacion_listas = A[item] + ' ' + B[item] + ' ' + C[item]\n",
    "    concatenacion_2 += [concatenacion_listas]"
   ]
  },
  {
   "cell_type": "code",
   "execution_count": 13,
   "id": "4af64a96",
   "metadata": {},
   "outputs": [
    {
     "data": {
      "text/plain": [
       "['verde gato mesa', 'rojo perro silla', 'azul serpiente jaimepeña']"
      ]
     },
     "execution_count": 13,
     "metadata": {},
     "output_type": "execute_result"
    }
   ],
   "source": [
    "concatenacion_2"
   ]
  },
  {
   "cell_type": "markdown",
   "id": "c8164f5c",
   "metadata": {},
   "source": [
    "Defina una nueva lista, D, que contenga la concatenación de los elementos respectivos de A, B y C. Por ejemplo,\n",
    "\n",
    "```python:\n",
    "D = ['verde gato mesa', 'rojo perro silla', 'azul serpiente sillón']\n",
    "```\n",
    "Note que incluimos un espacio entre los strings!"
   ]
  },
  {
   "cell_type": "markdown",
   "id": "e6efc204",
   "metadata": {},
   "source": [
    "Pensemos en otra variante. Con las mismas tres listas, defina:\n",
    "    \n",
    "```python:\n",
    "E = ['verde rojo azul', 'gato perro serpiente', 'mesa silla sillón']\n",
    "```"
   ]
  },
  {
   "cell_type": "markdown",
   "id": "411e36f3",
   "metadata": {},
   "source": [
    "Resuma las tres listas en un string, es decir, defina\n",
    "\n",
    "```python:\n",
    "string = 'verde rojo azul gato perro serpiente mesa silla sillón'\n",
    "```"
   ]
  },
  {
   "cell_type": "markdown",
   "id": "1df4a24c",
   "metadata": {},
   "source": [
    "Transforme este string en una lista dividiendo en tokens por espacios en blanco. "
   ]
  },
  {
   "cell_type": "markdown",
   "id": "012244e6",
   "metadata": {},
   "source": [
    "### 2. Ciclos for!"
   ]
  },
  {
   "cell_type": "markdown",
   "id": "ff7f70ce",
   "metadata": {},
   "source": [
    "Considere el siguiente string:"
   ]
  },
  {
   "cell_type": "code",
   "execution_count": 14,
   "id": "0fd047b3",
   "metadata": {},
   "outputs": [],
   "source": [
    "string = 'Sus logros incluyen los primeros estudios sobre el fenómeno de la radiactividad (término que ella misma acuñó), técnicas para el aislamiento de isótopos radiactivos y el descubrimiento de dos elementos'"
   ]
  },
  {
   "cell_type": "markdown",
   "id": "82e9ab8b",
   "metadata": {},
   "source": [
    "Construya una lista, A, que contenga los tokens (como secuencias entre espacios en blanco) en minúscula."
   ]
  },
  {
   "cell_type": "markdown",
   "id": "e1e587fe",
   "metadata": {},
   "source": [
    "Construya otra lista, B, que contenga el largo de cada string de A. Sume todos los elementos de la lista B. "
   ]
  },
  {
   "cell_type": "markdown",
   "id": "113f9316",
   "metadata": {},
   "source": [
    "Construya otra lista, C, que contenga los elementos de A, pero sin repetición (es decir, los types). "
   ]
  },
  {
   "cell_type": "markdown",
   "id": "ec8fc124",
   "metadata": {},
   "source": [
    "Construya otra lista, D, que contenga cuántas veces aparecen los types de C en A. "
   ]
  },
  {
   "cell_type": "markdown",
   "id": "e97029f9",
   "metadata": {},
   "source": [
    "## Curiosidad..."
   ]
  },
  {
   "cell_type": "code",
   "execution_count": 15,
   "id": "3cf6a45f",
   "metadata": {},
   "outputs": [],
   "source": [
    "## hacer una iteración para automatizar la asignación?"
   ]
  },
  {
   "cell_type": "code",
   "execution_count": 16,
   "id": "efa79b5c",
   "metadata": {},
   "outputs": [],
   "source": [
    "### creamos una lista a la que le asignamos las tres listas anteriores para poder automatizar el proceso de asignar \n",
    "### la función del rango a cada una de las listas.\n",
    "\n",
    "Y = [A] + [B] + [C]"
   ]
  },
  {
   "cell_type": "code",
   "execution_count": 23,
   "id": "0de6747b",
   "metadata": {},
   "outputs": [
    {
     "data": {
      "text/plain": [
       "[['verde', 'rojo', 'azul'],\n",
       " ['gato', 'perro', 'serpiente'],\n",
       " ['mesa', 'silla', 'jaimepeña', 'virginiazavala']]"
      ]
     },
     "execution_count": 23,
     "metadata": {},
     "output_type": "execute_result"
    }
   ],
   "source": [
    "## comprobamos porque nunca se sabe (Illescas 2021): (me parece bacán, siempre hay que comprobar!)\n",
    "\n",
    "Y"
   ]
  },
  {
   "cell_type": "code",
   "execution_count": 26,
   "id": "e46ef8e1",
   "metadata": {},
   "outputs": [
    {
     "data": {
      "text/plain": [
       "3"
      ]
     },
     "execution_count": 26,
     "metadata": {},
     "output_type": "execute_result"
    }
   ],
   "source": [
    "### comprobamos si cambió el número de elementos por haberlo metido dentro de otra lista:\n",
    "\n",
    "len(A)"
   ]
  },
  {
   "cell_type": "code",
   "execution_count": 27,
   "id": "2a4d1ee7",
   "metadata": {},
   "outputs": [
    {
     "data": {
      "text/plain": [
       "3"
      ]
     },
     "execution_count": 27,
     "metadata": {},
     "output_type": "execute_result"
    }
   ],
   "source": [
    "### queríamos ver cuántos elementos tenía la lista Y:\n",
    "## claro!! si piden el número de elementos de la lista Y, lo que obtienen es el número de elementos entre comas, que es 3. \n",
    "## de alguna forma, no importa (para len) si cada elemento es a su vez una lista\n",
    "\n",
    "len(Y)"
   ]
  },
  {
   "cell_type": "code",
   "execution_count": 28,
   "id": "cf672386",
   "metadata": {},
   "outputs": [],
   "source": [
    "### creamos una nueva lista vacía para asignarle el resultado de la automatización:\n",
    "\n",
    "Z = []"
   ]
  },
  {
   "cell_type": "code",
   "execution_count": 29,
   "id": "ba5be479",
   "metadata": {},
   "outputs": [
    {
     "name": "stdout",
     "output_type": "stream",
     "text": [
      "[0, 1, 2]\n",
      "[0, 1, 2]\n",
      "[0, 1, 2, 3]\n"
     ]
    }
   ],
   "source": [
    "### ciclo for!! :). El razonamiento detrás de esto era añadir a la lista Z los rangos de los conjuntos que estaban\n",
    "### en la lista Y. Sí funcióno uwu. \n",
    "## voy a agregarle list() a range(len(conjunto)), solo para que los podamos ver mejor\n",
    "\n",
    "for conjunto in Y:\n",
    "    Z = list(range(len(conjunto)))\n",
    "    print(Z)"
   ]
  },
  {
   "cell_type": "code",
   "execution_count": 22,
   "id": "8261dd5e",
   "metadata": {},
   "outputs": [],
   "source": [
    "### Cómo podríamos hacer para todos los elementos de Z sean utilizables? "
   ]
  },
  {
   "cell_type": "code",
   "execution_count": 32,
   "id": "1afff81f",
   "metadata": {},
   "outputs": [],
   "source": [
    "### una posible solución es la siguiente: \n",
    "### pueden pensar que cuando las listas tienen el mismo largo los conjuntos de índices son los mismos, es decir, \n",
    "## [0,1,2] y ahi es fácil concatenar con el código de más arriba\n",
    "\n",
    "#for item in range(len(A)):\n",
    "#    concatenacion_listas = A[item] + ' ' + B[item] + ' ' + C[item]\n",
    "#    concatenacion_2 += [concatenacion_listas]\n",
    "\n",
    "## ¿Qué pasa si queremos usar palabras que exceden el largo máximo de la lista más corta? Me imagino que eso están pensando \n",
    "## Avísenme si no es así :)\n",
    "concatenacion_2 = []\n",
    "\n",
    "## noten que no es necesario definir previamente concatenacion_listas, porque en el ciclo for se transforma en un string!\n",
    "\n",
    "for item in range(len(A)):\n",
    "    concatenacion_listas = A[item] + ' ' + B[item] + ' ' + C[item]\n",
    "    concatenacion_2 += [concatenacion_listas]"
   ]
  },
  {
   "cell_type": "code",
   "execution_count": 33,
   "id": "7d7c09c6",
   "metadata": {},
   "outputs": [
    {
     "data": {
      "text/plain": [
       "['verde gato mesa', 'rojo perro silla', 'azul serpiente jaimepeña']"
      ]
     },
     "execution_count": 33,
     "metadata": {},
     "output_type": "execute_result"
    }
   ],
   "source": [
    "concatenacion_2"
   ]
  },
  {
   "cell_type": "code",
   "execution_count": 40,
   "id": "619afd17",
   "metadata": {},
   "outputs": [
    {
     "ename": "IndexError",
     "evalue": "list index out of range",
     "output_type": "error",
     "traceback": [
      "\u001b[1;31m---------------------------------------------------------------------------\u001b[0m",
      "\u001b[1;31mIndexError\u001b[0m                                Traceback (most recent call last)",
      "\u001b[1;32m<ipython-input-40-6ced59f1f5bb>\u001b[0m in \u001b[0;36m<module>\u001b[1;34m\u001b[0m\n\u001b[0;32m     10\u001b[0m \u001b[1;31m## para recorrer todos los índices, recorramos [0,1,2,3]\u001b[0m\u001b[1;33m\u001b[0m\u001b[1;33m\u001b[0m\u001b[1;33m\u001b[0m\u001b[0m\n\u001b[0;32m     11\u001b[0m \u001b[1;32mfor\u001b[0m \u001b[0mitem\u001b[0m \u001b[1;32min\u001b[0m \u001b[0mrange\u001b[0m\u001b[1;33m(\u001b[0m\u001b[0mlen\u001b[0m\u001b[1;33m(\u001b[0m\u001b[0mC\u001b[0m\u001b[1;33m)\u001b[0m\u001b[1;33m)\u001b[0m\u001b[1;33m:\u001b[0m\u001b[1;33m\u001b[0m\u001b[1;33m\u001b[0m\u001b[0m\n\u001b[1;32m---> 12\u001b[1;33m     \u001b[0mconcatenacion_listas\u001b[0m \u001b[1;33m=\u001b[0m \u001b[0mA\u001b[0m\u001b[1;33m[\u001b[0m\u001b[0mitem\u001b[0m\u001b[1;33m]\u001b[0m \u001b[1;33m+\u001b[0m \u001b[1;34m' '\u001b[0m \u001b[1;33m+\u001b[0m \u001b[0mB\u001b[0m\u001b[1;33m[\u001b[0m\u001b[0mitem\u001b[0m\u001b[1;33m]\u001b[0m \u001b[1;33m+\u001b[0m \u001b[1;34m' '\u001b[0m \u001b[1;33m+\u001b[0m \u001b[0mC\u001b[0m\u001b[1;33m[\u001b[0m\u001b[0mitem\u001b[0m\u001b[1;33m]\u001b[0m\u001b[1;33m\u001b[0m\u001b[1;33m\u001b[0m\u001b[0m\n\u001b[0m\u001b[0;32m     13\u001b[0m     \u001b[0mconcatenacion_2\u001b[0m \u001b[1;33m+=\u001b[0m \u001b[1;33m[\u001b[0m\u001b[0mconcatenacion_listas\u001b[0m\u001b[1;33m]\u001b[0m\u001b[1;33m\u001b[0m\u001b[1;33m\u001b[0m\u001b[0m\n",
      "\u001b[1;31mIndexError\u001b[0m: list index out of range"
     ]
    }
   ],
   "source": [
    "## me imagino que quieren obtener:\n",
    "\n",
    "## ['verde gato mesa', 'rojo perro silla', 'azul serpiente jaimepeña','virginiazavala']\n",
    "\n",
    "## aquí suena a usar una condición if, porque queremos usar el índice 3, que solo puede acceder al último elemento de C, porque\n",
    "## tiene 4 elementos. \n",
    "concatenacion_2 = []\n",
    "\n",
    "## noten que aquí recorren los índices de A, que tiene 3 elementos, o sea, recorren [0,1,2]\n",
    "## para recorrer todos los índices, recorramos [0,1,2,3]. Esto obviamente entrega un error, porque solo C tiene 4 elementos :)\n",
    "for item in range(len(C)):\n",
    "    concatenacion_listas = A[item] + ' ' + B[item] + ' ' + C[item]\n",
    "    concatenacion_2 += [concatenacion_listas]"
   ]
  },
  {
   "cell_type": "code",
   "execution_count": 50,
   "id": "e4a7d302",
   "metadata": {},
   "outputs": [],
   "source": [
    "## ¿Qué hacemos? usamos un if\n",
    "\n",
    "concatenacion_2 = []\n",
    "\n",
    "## usamos if!\n",
    "for item in range(len(C)):\n",
    "    ## partimos con un string de largo 0\n",
    "    concatenacion_listas = ''\n",
    "    ## queremos agregarle partes solo si item pertenece al conjunto de índices de las listas, es decir,\n",
    "    ## recorremos Y\n",
    "    for L in Y:\n",
    "        ## o sea, un índice permitido\n",
    "        if item < len(L):\n",
    "            concatenacion_listas +=' ' + L[item] + ' '\n",
    "        ## borramos el espacio en blanco que nos queda al final!\n",
    "        concatenacion_listas = concatenacion_listas.strip()\n",
    "    concatenacion_2 += [concatenacion_listas]"
   ]
  },
  {
   "cell_type": "code",
   "execution_count": 51,
   "id": "473de8f6",
   "metadata": {},
   "outputs": [
    {
     "data": {
      "text/plain": [
       "['verde gato mesa',\n",
       " 'rojo perro silla',\n",
       " 'azul serpiente jaimepeña',\n",
       " 'virginiazavala']"
      ]
     },
     "execution_count": 51,
     "metadata": {},
     "output_type": "execute_result"
    }
   ],
   "source": [
    "concatenacion_2"
   ]
  },
  {
   "cell_type": "code",
   "execution_count": null,
   "id": "93486cc7",
   "metadata": {},
   "outputs": [],
   "source": []
  }
 ],
 "metadata": {
  "kernelspec": {
   "display_name": "Python 3",
   "language": "python",
   "name": "python3"
  },
  "language_info": {
   "codemirror_mode": {
    "name": "ipython",
    "version": 3
   },
   "file_extension": ".py",
   "mimetype": "text/x-python",
   "name": "python",
   "nbconvert_exporter": "python",
   "pygments_lexer": "ipython3",
   "version": "3.8.8"
  }
 },
 "nbformat": 4,
 "nbformat_minor": 5
}
